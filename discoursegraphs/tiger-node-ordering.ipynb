{
 "cells": [
  {
   "cell_type": "markdown",
   "metadata": {},
   "source": [
    "# Problem: Node IDs in TigerXML aren't DFS ordered\n",
    "\n",
    "- in addition: crossing edges require different drawing strategy  \n",
    "  than regular trees\n",
    "  \n",
    "## TODO: create proper dot representation of a TigerSentenceGraph"
   ]
  },
  {
   "cell_type": "code",
   "execution_count": 1,
   "metadata": {
    "collapsed": true
   },
   "outputs": [],
   "source": [
    "maz_13125_s389_str = \"\"\"\n",
    "<s xmlns:xsi=\"http://www.w3.org/2001/XMLSchema-instance\" id=\"s389\" art_id=\"13125\" orig_id=\"ID_maz-13125\">\n",
    "<graph root=\"s389_503\">\n",
    "<terminals>\n",
    "<t id=\"s389_1\" word=\"Was\" lemma=\"--\" pos=\"PWS\" morph=\"--\"/>\n",
    "<t id=\"s389_2\" word=\"man\" lemma=\"--\" pos=\"PIS\" morph=\"--\"/>\n",
    "<t id=\"s389_3\" word=\"nicht\" lemma=\"--\" pos=\"PTKNEG\" morph=\"--\"/>\n",
    "<t id=\"s389_4\" word=\"durch\" lemma=\"--\" pos=\"APPR\" morph=\"--\"/>\n",
    "<t id=\"s389_5\" word=\"Augenschein\" lemma=\"--\" pos=\"NN\" morph=\"--\"/>\n",
    "<t id=\"s389_6\" word=\"nachprüfen\" lemma=\"--\" pos=\"VVINF\" morph=\"--\"/>\n",
    "<t id=\"s389_7\" word=\"kann\" lemma=\"--\" pos=\"VMFIN\" morph=\"--\"/>\n",
    "<t id=\"s389_8\" word=\",\" lemma=\"--\" pos=\"$,\" morph=\"--\"/>\n",
    "<t id=\"s389_9\" word=\"ist\" lemma=\"--\" pos=\"VAFIN\" morph=\"--\"/>\n",
    "<t id=\"s389_10\" word=\"manipulierbar\" lemma=\"--\" pos=\"ADJD\" morph=\"--\"/>\n",
    "<t id=\"s389_11\" word=\".\" lemma=\"--\" pos=\"$.\" morph=\"--\"/>\n",
    "</terminals>\n",
    "<nonterminals>\n",
    "<nt id=\"s389_500\" cat=\"PP\">\n",
    "<edge label=\"AC\" idref=\"s389_4\"/>\n",
    "<edge label=\"NK\" idref=\"s389_5\"/>\n",
    " </nt>\n",
    "<nt id=\"s389_501\" cat=\"VP\">\n",
    "<edge label=\"OA\" idref=\"s389_1\"/>\n",
    "<edge label=\"HD\" idref=\"s389_6\"/>\n",
    "<edge label=\"MO\" idref=\"s389_500\"/>\n",
    " </nt>\n",
    "<nt id=\"s389_502\" cat=\"S\">\n",
    "<edge label=\"SB\" idref=\"s389_2\"/>\n",
    "<edge label=\"NG\" idref=\"s389_3\"/>\n",
    "<edge label=\"HD\" idref=\"s389_7\"/>\n",
    "<edge label=\"OC\" idref=\"s389_501\"/>\n",
    " </nt>\n",
    "<nt id=\"s389_503\" cat=\"S\">\n",
    "<edge label=\"HD\" idref=\"s389_9\"/>\n",
    "<edge label=\"PD\" idref=\"s389_10\"/>\n",
    "<edge label=\"SB\" idref=\"s389_502\"/>\n",
    " </nt>\n",
    "</nonterminals>\n",
    "</graph>\n",
    "</s>\n",
    "\"\"\""
   ]
  },
  {
   "cell_type": "code",
   "execution_count": 2,
   "metadata": {},
   "outputs": [],
   "source": [
    "from lxml import etree\n",
    "import discoursegraphs as dg\n",
    "\n",
    "maz_13125_s389 = etree.fromstring(maz_13125_s389_str)\n",
    "tsg = dg.readwrite.tiger.TigerSentenceGraph(maz_13125_s389)"
   ]
  },
  {
   "cell_type": "code",
   "execution_count": 3,
   "metadata": {},
   "outputs": [
    {
     "name": "stdout",
     "output_type": "stream",
     "text": [
      "Couldn't import dot_parser, loading of dot files will not be possible.\n",
      "digraph \"\" {\n",
      "\"s389_1\" [label=\"Was\"];\n",
      "\"s389_501\" [label=\"VP\"];\n",
      "\"s389_10\" [label=\"manipulierbar\"];\n",
      "\"s389_2\" [label=\"man\"];\n",
      "\"discoursegraph:root_node\";\n",
      "\"s389_500\" [label=\"PP\"];\n",
      "\"s389_503\" [label=\"S\"];\n",
      "\"s389_502\" [label=\"S\"];\n",
      "\"s389_6\" [label=\"nachprüfen\"];\n",
      "\"s389_7\" [label=\"kann\"];\n",
      "\"s389_9\" [label=\"ist\"];\n",
      "\"s389_8\" [label=\",\"];\n",
      "\"s389_3\" [label=\"nicht\"];\n",
      "\"s389_5\" [label=\"Augenschein\"];\n",
      "\"s389_4\" [label=\"durch\"];\n",
      "\"s389_11\" [label=\".\"];\n",
      "\"s389_501\" -> \"s389_6\"  [key=0, label=\"HD\"];\n",
      "\"s389_501\" -> \"s389_1\"  [key=0, label=\"OA\"];\n",
      "\"s389_501\" -> \"s389_500\"  [key=0, label=\"MO\"];\n",
      "\"s389_500\" -> \"s389_5\"  [key=0, label=\"NK\"];\n",
      "\"s389_500\" -> \"s389_4\"  [key=0, label=\"AC\"];\n",
      "\"s389_503\" -> \"s389_10\"  [key=0, label=\"PD\"];\n",
      "\"s389_503\" -> \"s389_11\"  [key=0];\n",
      "\"s389_503\" -> \"s389_502\"  [key=0, label=\"SB\"];\n",
      "\"s389_503\" -> \"s389_9\"  [key=0, label=\"HD\"];\n",
      "\"s389_503\" -> \"s389_8\"  [key=0];\n",
      "\"s389_503\" -> \"discoursegraph:root_node\"  [key=0];\n",
      "\"s389_502\" -> \"s389_2\"  [key=0, label=\"SB\"];\n",
      "\"s389_502\" -> \"s389_3\"  [key=0, label=\"NG\"];\n",
      "\"s389_502\" -> \"s389_501\"  [key=0, label=\"OC\"];\n",
      "\"s389_502\" -> \"s389_7\"  [key=0, label=\"HD\"];\n",
      "}\n",
      "\n"
     ]
    }
   ],
   "source": [
    "print dg.print_dot(tsg)"
   ]
  },
  {
   "cell_type": "code",
   "execution_count": 4,
   "metadata": {
    "collapsed": true
   },
   "outputs": [],
   "source": [
    "# %load_ext gvmagic"
   ]
  },
  {
   "cell_type": "code",
   "execution_count": 5,
   "metadata": {},
   "outputs": [],
   "source": [
    "# %dotstr dg.print_dot(tsg)"
   ]
  },
  {
   "cell_type": "code",
   "execution_count": 6,
   "metadata": {},
   "outputs": [],
   "source": [
    "foo = u\"\"\"\n",
    "digraph \"\" {\n",
    "\n",
    "\"discoursegraph:root_node\";\n",
    "\"VROOT-s389\";\n",
    "\"s389_500\" [label=\"PP\"];\n",
    "\"s389_501\" [label=\"VP\"];\n",
    "\"s389_502\" [label=\"S\"];\n",
    "\"s389_503\" [label=\"S\"];\n",
    "\n",
    "\"s389_1\" [label=\"Was\"];\n",
    "\"s389_2\" [label=\"man\"];\n",
    "\"s389_3\" [label=\"nicht\"];\n",
    "\"s389_4\" [label=\"durch\"];\n",
    "\"s389_5\" [label=\"Augenschein\"];\n",
    "\"s389_6\" [label=\"nachprüfen\"];\n",
    "\"s389_7\" [label=\"kann\"];\n",
    "\"s389_8\" [label=\",\"];\n",
    "\"s389_9\" [label=\"ist\"];\n",
    "\"s389_10\" [label=\"manipulierbar\"];\n",
    "\"s389_11\" [label=\".\"];\n",
    "\n",
    "edge [style=\"invis\"];\n",
    "{rank=same; \"s389_1\" -> \"s389_2\" -> \"s389_3\" -> \"s389_4\" -> \"s389_5\" -> \"s389_6\" -> \"s389_7\" -> \"s389_8\" -> \"s389_9\" -> \"s389_10\" -> \"s389_11\";}\n",
    "edge [style=\"\"];\n",
    "\n",
    "\"discoursegraph:root_node\" -> \"VROOT-s389\" [key=0]; // changed direction\n",
    "\n",
    "\"s389_501\" -> \"s389_6\"  [key=0, label=\"HD\"];\n",
    "\"s389_501\" -> \"s389_1\"  [key=0, label=\"OA\"];\n",
    "\"s389_501\" -> \"s389_500\"  [key=0, label=\"MO\"];\n",
    "\"s389_500\" -> \"s389_5\"  [key=0, label=\"NK\"];\n",
    "\"s389_500\" -> \"s389_4\"  [key=0, label=\"AC\"];\n",
    "\"s389_503\" -> \"s389_9\"  [key=0, label=\"HD\"];\n",
    "\"s389_503\" -> \"s389_10\"  [key=0, label=\"PD\"];\n",
    "\"s389_503\" -> \"s389_502\"  [key=0, label=\"SB\"];\n",
    "\"s389_502\" -> \"s389_2\"  [key=0, label=\"SB\"];\n",
    "\"s389_502\" -> \"s389_3\"  [key=0, label=\"NG\"];\n",
    "\"s389_502\" -> \"s389_501\"  [key=0, label=\"OC\"];\n",
    "\"s389_502\" -> \"s389_7\"  [key=0, label=\"HD\"];\n",
    "\"VROOT-s389\" -> \"s389_503\"  [key=0];\n",
    "\n",
    "\"VROOT-s389\" -> \"s389_8\"  [key=0];\n",
    "\"VROOT-s389\" -> \"s389_11\"  [key=0];\n",
    "}\n",
    "\"\"\"\n",
    "\n",
    "# %dotstr foo"
   ]
  },
  {
   "cell_type": "code",
   "execution_count": 7,
   "metadata": {},
   "outputs": [],
   "source": [
    "minimally_changed = u\"\"\"\n",
    "digraph \"\" {\n",
    "\n",
    "graph [splines=ortho; nodesep=0.1]\n",
    "\n",
    "\"s389_1\" [label=\"Was\"];\n",
    "\"s389_501\" [label=\"VP\"];\n",
    "\"s389_10\" [label=\"manipulierbar\"];\n",
    "\"s389_2\" [label=\"man\"];\n",
    "\n",
    "\"s389_500\" [label=\"PP\"];\n",
    "\"s389_503\" [label=\"S\"];\n",
    "\"s389_502\" [label=\"S\"];\n",
    "\"s389_6\" [label=\"nachprüfen\"];\n",
    "\"VROOT-s389\";\n",
    "\"s389_7\" [label=\"kann\"];\n",
    "\"s389_9\" [label=\"ist\"];\n",
    "\"s389_8\" [label=\",\"];\n",
    "\"s389_3\" [label=\"nicht\"];\n",
    "\"s389_5\" [label=\"Augenschein\"];\n",
    "\"s389_4\" [label=\"durch\"];\n",
    "\"s389_11\" [label=\".\"];\n",
    "\"s389_501\" -> \"s389_6\"  [key=0, label=\"HD\"];\n",
    "\"s389_501\" -> \"s389_1\"  [key=0, label=\"OA\"];\n",
    "\"s389_501\" -> \"s389_500\"  [key=0, label=\"MO\"];\n",
    "\"s389_500\" -> \"s389_5\"  [key=0, label=\"NK\"];\n",
    "\"s389_500\" -> \"s389_4\"  [key=0, label=\"AC\"];\n",
    "\"s389_503\" -> \"s389_9\"  [key=0, label=\"HD\"];\n",
    "\"s389_503\" -> \"s389_10\"  [key=0, label=\"PD\"];\n",
    "\"s389_503\" -> \"s389_502\"  [key=0, label=\"SB\"];\n",
    "\"s389_502\" -> \"s389_2\"  [key=0, label=\"SB\"];\n",
    "\"s389_502\" -> \"s389_3\"  [key=0, label=\"NG\"];\n",
    "\"s389_502\" -> \"s389_501\"  [key=0, label=\"OC\"];\n",
    "\"s389_502\" -> \"s389_7\"  [key=0, label=\"HD\"];\n",
    "\"VROOT-s389\" -> \"s389_503\"  [key=0];\n",
    "\n",
    "\"VROOT-s389\" -> \"s389_8\"  [key=0];\n",
    "\"VROOT-s389\" -> \"s389_11\"  [key=0];\n",
    "    \n",
    "edge [style=\"invis\"];\n",
    "{rank=sink; \"s389_1\" -> \"s389_2\" -> \"s389_3\" -> \"s389_4\" -> \"s389_5\" -> \"s389_6\" -> \"s389_7\" -> \"s389_8\" -> \"s389_9\" -> \"s389_10\" -> \"s389_11\";}\n",
    "edge [style=\"\"];\n",
    "}\n",
    "\"\"\"\n",
    "\n",
    "# %dotstr minimally_changed"
   ]
  },
  {
   "cell_type": "markdown",
   "metadata": {},
   "source": [
    "# TODO: why is there an outedge from VROOT to dg:root?"
   ]
  },
  {
   "cell_type": "markdown",
   "metadata": {},
   "source": [
    "# TODO: what do those cat nodes cover?"
   ]
  },
  {
   "cell_type": "code",
   "execution_count": 8,
   "metadata": {},
   "outputs": [
    {
     "name": "stdout",
     "output_type": "stream",
     "text": [
      "s389_503 ['s389_1', 's389_2', 's389_3', 's389_4', 's389_5', 's389_6', 's389_7', 's389_8', 's389_9', 's389_10', 's389_11']\n",
      "s389_503 Was man nicht durch Augenschein nachprüfen kann , ist manipulierbar . \n",
      "\n",
      "discoursegraph:root_node []\n",
      "discoursegraph:root_node  \n",
      "\n",
      "s389_501 ['s389_1', 's389_4', 's389_5', 's389_6']\n",
      "s389_501 Was durch Augenschein nachprüfen \n",
      "\n",
      "s389_500 ['s389_4', 's389_5']\n",
      "s389_500 durch Augenschein \n",
      "\n",
      "s389_502 ['s389_1', 's389_2', 's389_3', 's389_4', 's389_5', 's389_6', 's389_7']\n",
      "s389_502 Was man nicht durch Augenschein nachprüfen kann \n",
      "\n"
     ]
    }
   ],
   "source": [
    "for node_id in tsg:\n",
    "    if not dg.istoken(tsg, node_id):\n",
    "        print node_id, dg.get_span(tsg, node_id)\n",
    "        print node_id, dg.get_text(tsg, node_id), '\\n'"
   ]
  },
  {
   "cell_type": "markdown",
   "metadata": {},
   "source": [
    "# TODO: implement is_discontinuous()"
   ]
  },
  {
   "cell_type": "code",
   "execution_count": 9,
   "metadata": {},
   "outputs": [
    {
     "name": "stdout",
     "output_type": "stream",
     "text": [
      "s389_503 ['s389_1', 's389_2', 's389_3', 's389_4', 's389_5', 's389_6', 's389_7', 's389_8', 's389_9', 's389_10', 's389_11']\n",
      "s389_503 Was man nicht durch Augenschein nachprüfen kann , ist manipulierbar . \n",
      "\n",
      "0 69\n",
      "[(0, 3), (4, 7), (8, 13), (14, 19), (20, 31), (32, 42), (43, 47), (48, 49), (50, 53), (54, 67), (68, 69)]\n",
      "discoursegraph:root_node []\n",
      "discoursegraph:root_node  \n",
      "\n",
      "s389_501 ['s389_1', 's389_4', 's389_5', 's389_6']\n",
      "s389_501 Was durch Augenschein nachprüfen \n",
      "\n",
      "0 42\n",
      "[(0, 3), (14, 19), (20, 31), (32, 42)]\n",
      "s389_500 ['s389_4', 's389_5']\n",
      "s389_500 durch Augenschein \n",
      "\n",
      "14 31\n",
      "[(14, 19), (20, 31)]\n",
      "s389_502 ['s389_1', 's389_2', 's389_3', 's389_4', 's389_5', 's389_6', 's389_7']\n",
      "s389_502 Was man nicht durch Augenschein nachprüfen kann \n",
      "\n",
      "0 47\n",
      "[(0, 3), (4, 7), (8, 13), (14, 19), (20, 31), (32, 42), (43, 47)]\n"
     ]
    }
   ],
   "source": [
    "for node_id in tsg:\n",
    "    try:\n",
    "        if not dg.istoken(tsg, node_id):\n",
    "            span_tokens = dg.get_span(tsg, node_id)\n",
    "            text = dg.get_text(tsg, node_id)\n",
    "            print node_id, span_tokens\n",
    "            print node_id, text, '\\n'\n",
    "\n",
    "            span_onset, span_offset = dg.get_span_offsets(tsg, node_id)\n",
    "            print span_onset, span_offset\n",
    "            print [tsg.get_offsets(token) for token in span_tokens]\n",
    "    except:\n",
    "        pass"
   ]
  },
  {
   "cell_type": "code",
   "execution_count": 28,
   "metadata": {},
   "outputs": [
    {
     "name": "stdout",
     "output_type": "stream",
     "text": [
      "0 42\n",
      "set([0, 1, 2, 3, 14, 15, 16, 17, 18, 19, 20, 21, 22, 23, 24, 25, 26, 27, 28, 29, 30, 31, 32, 33, 34, 35, 36, 37, 38, 39, 40, 41, 42])\n",
      "4 False\n"
     ]
    }
   ],
   "source": [
    "span_onset, span_offset = dg.get_span_offsets(tsg, 's389_501')\n",
    "print span_onset, span_offset\n",
    "span_range = xrange(span_onset, span_offset+1)\n",
    "\n",
    "token_offsets = (tsg.get_offsets(tok) for tok in dg.get_span(tsg, 's389_501'))\n",
    "char_positions = set(itertools.chain.from_iterable(xrange(on, off+1) for on, off in token_offsets))\n",
    "print char_positions\n",
    "for item in span_range:\n",
    "    if item not in char_positions:\n",
    "        print item, False\n",
    "        break\n",
    "    "
   ]
  },
  {
   "cell_type": "code",
   "execution_count": 37,
   "metadata": {
    "collapsed": true
   },
   "outputs": [],
   "source": [
    "def is_continuous(docgraph, dominating_node):\n",
    "    \"\"\"return True, if the tokens dominated by the given node are all adjacent\"\"\"\n",
    "    first_onset, last_offset = dg.get_span_offsets(docgraph, dominating_node)\n",
    "    span_range = xrange(first_onset, last_offset+1)\n",
    "\n",
    "    token_offsets = (docgraph.get_offsets(tok) for tok in dg.get_span(docgraph, dominating_node))\n",
    "    char_positions = set(itertools.chain.from_iterable(xrange(on, off+1) for on, off in token_offsets))\n",
    "    for item in span_range:\n",
    "        if item not in char_positions:\n",
    "            return False\n",
    "    return True"
   ]
  },
  {
   "cell_type": "code",
   "execution_count": 36,
   "metadata": {},
   "outputs": [
    {
     "ename": "KeyError",
     "evalue": "\"Node 's389_504' doesn't span any tokens.\"",
     "output_type": "error",
     "traceback": [
      "\u001b[1;31m---------------------------------------------------------------------------\u001b[0m",
      "\u001b[1;31mKeyError\u001b[0m                                  Traceback (most recent call last)",
      "\u001b[1;32m<ipython-input-36-f4dea28aae28>\u001b[0m in \u001b[0;36m<module>\u001b[1;34m()\u001b[0m\n\u001b[1;32m----> 1\u001b[1;33m \u001b[0mis_continuous\u001b[0m\u001b[1;33m(\u001b[0m\u001b[0mtsg\u001b[0m\u001b[1;33m,\u001b[0m \u001b[1;34m's389_504'\u001b[0m\u001b[1;33m)\u001b[0m\u001b[1;33m\u001b[0m\u001b[0m\n\u001b[0m",
      "\u001b[1;32m<ipython-input-32-060ee29c7b25>\u001b[0m in \u001b[0;36mis_continuous\u001b[1;34m(docgraph, dominating_node)\u001b[0m\n\u001b[0;32m      1\u001b[0m \u001b[1;32mdef\u001b[0m \u001b[0mis_continuous\u001b[0m\u001b[1;33m(\u001b[0m\u001b[0mdocgraph\u001b[0m\u001b[1;33m,\u001b[0m \u001b[0mdominating_node\u001b[0m\u001b[1;33m)\u001b[0m\u001b[1;33m:\u001b[0m\u001b[1;33m\u001b[0m\u001b[0m\n\u001b[1;32m----> 2\u001b[1;33m     \u001b[0mfirst_onset\u001b[0m\u001b[1;33m,\u001b[0m \u001b[0mlast_offset\u001b[0m \u001b[1;33m=\u001b[0m \u001b[0mdg\u001b[0m\u001b[1;33m.\u001b[0m\u001b[0mget_span_offsets\u001b[0m\u001b[1;33m(\u001b[0m\u001b[0mdocgraph\u001b[0m\u001b[1;33m,\u001b[0m \u001b[0mdominating_node\u001b[0m\u001b[1;33m)\u001b[0m\u001b[1;33m\u001b[0m\u001b[0m\n\u001b[0m\u001b[0;32m      3\u001b[0m     \u001b[0mspan_range\u001b[0m \u001b[1;33m=\u001b[0m \u001b[0mxrange\u001b[0m\u001b[1;33m(\u001b[0m\u001b[0mfirst_onset\u001b[0m\u001b[1;33m,\u001b[0m \u001b[0mlast_offset\u001b[0m\u001b[1;33m+\u001b[0m\u001b[1;36m1\u001b[0m\u001b[1;33m)\u001b[0m\u001b[1;33m\u001b[0m\u001b[0m\n\u001b[0;32m      4\u001b[0m \u001b[1;33m\u001b[0m\u001b[0m\n\u001b[0;32m      5\u001b[0m     \u001b[0mtoken_offsets\u001b[0m \u001b[1;33m=\u001b[0m \u001b[1;33m(\u001b[0m\u001b[0mdocgraph\u001b[0m\u001b[1;33m.\u001b[0m\u001b[0mget_offsets\u001b[0m\u001b[1;33m(\u001b[0m\u001b[0mtok\u001b[0m\u001b[1;33m)\u001b[0m \u001b[1;32mfor\u001b[0m \u001b[0mtok\u001b[0m \u001b[1;32min\u001b[0m \u001b[0mdg\u001b[0m\u001b[1;33m.\u001b[0m\u001b[0mget_span\u001b[0m\u001b[1;33m(\u001b[0m\u001b[0mdocgraph\u001b[0m\u001b[1;33m,\u001b[0m \u001b[0mdominating_node\u001b[0m\u001b[1;33m)\u001b[0m\u001b[1;33m)\u001b[0m\u001b[1;33m\u001b[0m\u001b[0m\n",
      "\u001b[1;32m/home/arne/.virtualenvs/notebook/local/lib/python2.7/site-packages/discoursegraphs-0.1.2-py2.7.egg/discoursegraphs/discoursegraph.pyc\u001b[0m in \u001b[0;36mget_span_offsets\u001b[1;34m(docgraph, node_id)\u001b[0m\n\u001b[0;32m    927\u001b[0m         \u001b[1;32mreturn\u001b[0m \u001b[1;33m(\u001b[0m\u001b[0mmin\u001b[0m\u001b[1;33m(\u001b[0m\u001b[0monsets\u001b[0m\u001b[1;33m)\u001b[0m\u001b[1;33m,\u001b[0m \u001b[0mmax\u001b[0m\u001b[1;33m(\u001b[0m\u001b[0moffsets\u001b[0m\u001b[1;33m)\u001b[0m\u001b[1;33m)\u001b[0m\u001b[1;33m\u001b[0m\u001b[0m\n\u001b[0;32m    928\u001b[0m     \u001b[1;32mexcept\u001b[0m \u001b[0mKeyError\u001b[0m \u001b[1;32mas\u001b[0m \u001b[0m_\u001b[0m\u001b[1;33m:\u001b[0m\u001b[1;33m\u001b[0m\u001b[0m\n\u001b[1;32m--> 929\u001b[1;33m         \u001b[1;32mraise\u001b[0m \u001b[0mKeyError\u001b[0m\u001b[1;33m(\u001b[0m\u001b[1;34m\"Node '{}' doesn't span any tokens.\"\u001b[0m\u001b[1;33m.\u001b[0m\u001b[0mformat\u001b[0m\u001b[1;33m(\u001b[0m\u001b[0mnode_id\u001b[0m\u001b[1;33m)\u001b[0m\u001b[1;33m)\u001b[0m\u001b[1;33m\u001b[0m\u001b[0m\n\u001b[0m\u001b[0;32m    930\u001b[0m \u001b[1;33m\u001b[0m\u001b[0m\n\u001b[0;32m    931\u001b[0m \u001b[1;33m\u001b[0m\u001b[0m\n",
      "\u001b[1;31mKeyError\u001b[0m: \"Node 's389_504' doesn't span any tokens.\""
     ]
    }
   ],
   "source": [
    "is_continuous(tsg, 's389_504')"
   ]
  },
  {
   "cell_type": "code",
   "execution_count": 20,
   "metadata": {},
   "outputs": [
    {
     "data": {
      "text/plain": [
       "[0, 3, 14, 19]"
      ]
     },
     "execution_count": 20,
     "metadata": {},
     "output_type": "execute_result"
    }
   ],
   "source": [
    "import itertools\n",
    "\n",
    "l = [(0,3), (14, 19)]\n",
    "list(itertools.chain.from_iterable(l))"
   ]
  },
  {
   "cell_type": "code",
   "execution_count": 24,
   "metadata": {},
   "outputs": [
    {
     "data": {
      "text/plain": [
       "{0, 1, 2, 3, 14, 15, 16, 17, 18, 19}"
      ]
     },
     "execution_count": 24,
     "metadata": {},
     "output_type": "execute_result"
    }
   ],
   "source": [
    "set(itertools.chain.from_iterable(xrange(on, off+1) for on, off in l))"
   ]
  },
  {
   "cell_type": "markdown",
   "metadata": {},
   "source": [
    "## Proposed solution\n",
    "\n",
    "### get rid of VROOT\n",
    "### attach all unconnected nodes to <graph root=\"s389_503\">\n",
    "\n",
    "### WRONG: make get_span(), get_text() more aggressive\n",
    "\n",
    "- current: s389_501: ['s389_1', 's389_4', 's389_5', 's389_6']\n",
    "- should: s389_501: ['s389_1', .. 's389_7']\n",
    "- **I was wrong**, the VP here is discontinuous. I hate Tiger!"
   ]
  },
  {
   "cell_type": "code",
   "execution_count": null,
   "metadata": {
    "collapsed": true
   },
   "outputs": [],
   "source": [
    "SENTENCE_WITH_SECEDGE = \"\"\"\n",
    "<s xmlns:xsi=\"http://www.w3.org/2001/XMLSchema-instance\" id=\"s367\" art_id=\"12976\" orig_id=\"ID_maz-12976\">\n",
    "<graph root=\"s367_508\">\n",
    "<terminals>\n",
    "<t id=\"s367_1\" word=\"Es\" lemma=\"--\" pos=\"PPER\" morph=\"--\"></t>\n",
    "<t id=\"s367_2\" word=\"kann\" lemma=\"--\" pos=\"VMFIN\" morph=\"--\"></t>\n",
    "<t id=\"s367_3\" word=\"nicht\" lemma=\"--\" pos=\"PTKNEG\" morph=\"--\"></t>\n",
    "<t id=\"s367_4\" word=\"sein\" lemma=\"--\" pos=\"VAINF\" morph=\"--\"></t>\n",
    "<t id=\"s367_5\" word=\",\" lemma=\"--\" pos=\"$,\" morph=\"--\"></t>\n",
    "<t id=\"s367_6\" word=\"dass\" lemma=\"--\" pos=\"KOUS\" morph=\"--\">\n",
    "<secedge label=\"CP\" idref=\"s367_505\"/></t>\n",
    "<t id=\"s367_7\" word=\"die\" lemma=\"--\" pos=\"ART\" morph=\"--\"></t>\n",
    "<t id=\"s367_8\" word=\"Basis\" lemma=\"--\" pos=\"NN\" morph=\"--\"></t>\n",
    "<t id=\"s367_9\" word=\"gewissermaßen\" lemma=\"--\" pos=\"ADV\" morph=\"--\"></t>\n",
    "<t id=\"s367_10\" word=\"die\" lemma=\"--\" pos=\"ART\" morph=\"--\"></t>\n",
    "<t id=\"s367_11\" word=\"Moral\" lemma=\"--\" pos=\"NN\" morph=\"--\"></t>\n",
    "<t id=\"s367_12\" word=\"pachtet\" lemma=\"--\" pos=\"VVFIN\" morph=\"--\"></t>\n",
    "<t id=\"s367_13\" word=\"und\" lemma=\"--\" pos=\"KON\" morph=\"--\"></t>\n",
    "<t id=\"s367_14\" word=\"ihn\" lemma=\"--\" pos=\"PPER\" morph=\"--\"></t>\n",
    "<t id=\"s367_15\" word=\"die\" lemma=\"--\" pos=\"ART\" morph=\"--\"></t>\n",
    "<t id=\"s367_16\" word=\"realpolitische\" lemma=\"--\" pos=\"ADJA\" morph=\"--\"></t>\n",
    "<t id=\"s367_17\" word=\"Schmutzarbeit\" lemma=\"--\" pos=\"NN\" morph=\"--\"></t>\n",
    "<t id=\"s367_18\" word=\"machen\" lemma=\"--\" pos=\"VVINF\" morph=\"--\"></t>\n",
    "<t id=\"s367_19\" word=\"lässt\" lemma=\"--\" pos=\"VVFIN\" morph=\"--\"></t>\n",
    "<t id=\"s367_20\" word=\".\" lemma=\"--\" pos=\"$.\" morph=\"--\"></t>\n",
    "</terminals>\n",
    "<nonterminals>\n",
    "<nt id=\"s367_500\" cat=\"NP\">\n",
    "<edge label=\"NK\" idref=\"s367_7\"/>\n",
    "<edge label=\"NK\" idref=\"s367_8\"/>\n",
    "<secedge label=\"SB\" idref=\"s367_505\"/>\n",
    " </nt>\n",
    "<nt id=\"s367_501\" cat=\"NP\">\n",
    "<edge label=\"NK\" idref=\"s367_10\"/>\n",
    "<edge label=\"NK\" idref=\"s367_11\"/>\n",
    " </nt>\n",
    "<nt id=\"s367_502\" cat=\"NP\">\n",
    "<edge label=\"NK\" idref=\"s367_15\"/>\n",
    "<edge label=\"NK\" idref=\"s367_16\"/>\n",
    "<edge label=\"NK\" idref=\"s367_17\"/>\n",
    " </nt>\n",
    "<nt id=\"s367_503\" cat=\"S\">\n",
    "<edge label=\"CP\" idref=\"s367_6\"/>\n",
    "<edge label=\"MO\" idref=\"s367_9\"/>\n",
    "<edge label=\"HD\" idref=\"s367_12\"/>\n",
    "<edge label=\"SB\" idref=\"s367_500\"/>\n",
    "<edge label=\"OA\" idref=\"s367_501\"/>\n",
    " </nt>\n",
    "<nt id=\"s367_504\" cat=\"VP\">\n",
    "<edge label=\"HD\" idref=\"s367_18\"/>\n",
    "<edge label=\"OA\" idref=\"s367_502\"/>\n",
    " </nt>\n",
    "<nt id=\"s367_505\" cat=\"S\">\n",
    "<edge label=\"OA\" idref=\"s367_14\"/>\n",
    "<edge label=\"HD\" idref=\"s367_19\"/>\n",
    "<edge label=\"OC\" idref=\"s367_504\"/>\n",
    " </nt>\n",
    "<nt id=\"s367_506\" cat=\"CS\">\n",
    "<edge label=\"CD\" idref=\"s367_13\"/>\n",
    "<edge label=\"CJ\" idref=\"s367_503\"/>\n",
    "<edge label=\"CJ\" idref=\"s367_505\"/>\n",
    " </nt>\n",
    "<nt id=\"s367_507\" cat=\"NP\">\n",
    "<edge label=\"PH\" idref=\"s367_1\"/>\n",
    "<edge label=\"RE\" idref=\"s367_506\"/>\n",
    " </nt>\n",
    "<nt id=\"s367_508\" cat=\"S\">\n",
    "<edge label=\"HD\" idref=\"s367_2\"/>\n",
    "<edge label=\"NG\" idref=\"s367_3\"/>\n",
    "<edge label=\"OC\" idref=\"s367_4\"/>\n",
    "<edge label=\"SB\" idref=\"s367_507\"/>\n",
    " </nt>\n",
    "</nonterminals>\n",
    "</graph>\n",
    "</s>\n",
    "\"\"\"\n"
   ]
  },
  {
   "cell_type": "code",
   "execution_count": null,
   "metadata": {
    "collapsed": true
   },
   "outputs": [],
   "source": [
    "secedge_etree = etree.fromstring(SENTENCE_WITH_SECEDGE)"
   ]
  },
  {
   "cell_type": "code",
   "execution_count": null,
   "metadata": {},
   "outputs": [],
   "source": [
    "tsg_secedge = dg.readwrite.tiger.TigerSentenceGraph(secedge_etree)"
   ]
  },
  {
   "cell_type": "code",
   "execution_count": null,
   "metadata": {},
   "outputs": [],
   "source": [
    "print dg.print_dot(tsg_secedge)"
   ]
  },
  {
   "cell_type": "code",
   "execution_count": null,
   "metadata": {},
   "outputs": [],
   "source": [
    "# naive plot\n",
    "# %dotstr dg.print_dot(tsg_secedge)"
   ]
  },
  {
   "cell_type": "code",
   "execution_count": null,
   "metadata": {},
   "outputs": [],
   "source": [
    "fixed = u\"\"\"\n",
    "\n",
    "digraph G {\n",
    "graph [splines=ortho; nodesep=0.1]\n",
    "\n",
    "// \"VROOT-s367\";\n",
    "\n",
    "\"s367_1\" [label=\"Es\"];\n",
    "\"s367_2\" [label=\"kann\"];\n",
    "\"s367_3\" [label=\"nicht\"];\n",
    "\"s367_4\" [label=\"sein\"];\n",
    "\"s367_5\" [label=\",\"];\n",
    "\"s367_6\" [label=\"dass\"];\n",
    "\"s367_7\" [label=\"die\"];\n",
    "\"s367_8\" [label=\"Basis\"];\n",
    "\"s367_9\" [label=\"gewissermaßen\"];\n",
    "\"s367_10\" [label=\"die\"];\n",
    "\"s367_11\" [label=\"Moral\"];\n",
    "\"s367_12\" [label=\"pachtet\"];\n",
    "\"s367_13\" [label=\"und\"];\n",
    "\"s367_14\" [label=\"ihn\"];\n",
    "\"s367_15\" [label=\"die\"];\n",
    "\"s367_16\" [label=\"realpolitische\"];\n",
    "\"s367_17\" [label=\"Schmutzarbeit\"];\n",
    "\"s367_18\" [label=\"machen\"];\n",
    "\"s367_19\" [label=\"lässt\"];\n",
    "\"s367_20\" [label=\".\"];\n",
    "\n",
    "\"s367_500\" [label=\"NP\"];\n",
    "\"s367_501\" [label=\"NP\"];\n",
    "\"s367_502\" [label=\"NP\"];\n",
    "\"s367_503\" [label=\"S\"];\n",
    "\"s367_504\" [label=\"VP\"];\n",
    "\"s367_505\" [label=\"S\"];\n",
    "\"s367_506\" [label=\"CS\"];\n",
    "\"s367_507\" [label=\"NP\"];\n",
    "\"s367_508\" [label=\"S\"];\n",
    "\n",
    "\"s367_508\" -> \"s367_507\"  [key=0, label=\"SB\"];\n",
    "\"s367_507\" -> \"s367_506\"  [key=0, label=\"RE\"];\n",
    "\"s367_506\" -> \"s367_503\"  [key=0, label=\"CJ\"];\n",
    "\"s367_506\" -> \"s367_505\"  [key=0, label=\"CJ\"];\n",
    "\"s367_505\" -> \"s367_504\"  [key=0, label=\"OC\"];\n",
    "\"s367_504\" -> \"s367_502\"  [key=0, label=\"OA\"];\n",
    "\"s367_503\" -> \"s367_501\"  [key=0, label=\"OA\"];\n",
    "\"s367_503\" -> \"s367_500\"  [key=0, label=\"SB\"];\n",
    "\n",
    "\n",
    "\"s367_508\" -> \"s367_2\"  [key=0, label=\"HD\"];\n",
    "\"s367_508\" -> \"s367_3\"  [key=0, label=\"NG\"];\n",
    "\"s367_508\" -> \"s367_4\"  [key=0, label=\"OC\"];\n",
    "\n",
    "\"s367_507\" -> \"s367_1\"  [key=0, label=\"PH\"];\n",
    "\n",
    "\"s367_506\" -> \"s367_13\"  [key=0, label=\"CD\"];\n",
    "\n",
    "\"s367_505\" -> \"s367_19\"  [key=0, label=\"HD\"];\n",
    "\"s367_505\" -> \"s367_14\"  [key=0, label=\"OA\"];\n",
    "\n",
    "\"s367_504\" -> \"s367_18\"  [key=0, label=\"HD\"];\n",
    "\n",
    "\"s367_503\" -> \"s367_6\"  [key=0, label=\"CP\"];\n",
    "\"s367_503\" -> \"s367_12\"  [key=0, label=\"HD\"];\n",
    "\"s367_503\" -> \"s367_9\"  [key=0, label=\"MO\"];\n",
    "\n",
    "\"s367_502\" -> \"s367_16\"  [key=0, label=\"NK\"];\n",
    "\"s367_502\" -> \"s367_17\"  [key=0, label=\"NK\"];\n",
    "\"s367_502\" -> \"s367_15\"  [key=0, label=\"NK\"];\n",
    "\n",
    "\"s367_501\" -> \"s367_11\"  [key=0, label=\"NK\"];\n",
    "\"s367_501\" -> \"s367_10\"  [key=0, label=\"NK\"];\n",
    "\n",
    "\"s367_500\" -> \"s367_7\"  [key=0, label=\"NK\"];\n",
    "\"s367_500\" -> \"s367_8\"  [key=0, label=\"NK\"];\n",
    "\n",
    "\n",
    "// \"VROOT-s367\" -> \"s367_5\"  [key=0];\n",
    "// \"VROOT-s367\" -> \"s367_508\"  [key=0];\n",
    "// \"VROOT-s367\" -> \"s367_20\"  [key=0];\n",
    "\n",
    "\n",
    "edge [style=\"invis\"];\n",
    "{rank=sink; s367_1 -> s367_2 -> s367_3 -> s367_4 -> s367_5 -> s367_6 -> s367_7 -> s367_8 -> s367_9 -> s367_10 -> s367_11 -> s367_12 -> s367_13 -> s367_14 -> s367_15 -> s367_16 -> s367_17 -> s367_18 -> s367_19 -> s367_20;}\n",
    "edge [style=\"\"];\n",
    "\n",
    "edge [style=\"invis\"];\n",
    "{rank=same; \"s367_503\"; \"s367_504\" ;}\n",
    "edge [style=\"\"];\n",
    "\n",
    "edge [style=\"invis\"];\n",
    "{rank=same; \"s367_500\"; \"s367_501\" ; \"s367_502\";}\n",
    "edge [style=\"\"];\n",
    "\n",
    "\n",
    "// \"s367_6\" -> \"s367_505\"  [key=0, style=dotted]; // SECEDGE\n",
    "// \"s367_500\" -> \"s367_505\"  [key=0, label=\"NK\", style=dotted]; // SECEDGE\n",
    "\n",
    "\n",
    "}\n",
    "\"\"\"\n",
    "\n",
    "# %dotstr fixed"
   ]
  },
  {
   "cell_type": "code",
   "execution_count": null,
   "metadata": {},
   "outputs": [],
   "source": [
    "for node_id in tsg_secedge:\n",
    "    if not dg.istoken(tsg_secedge, node_id):\n",
    "        span = dg.get_span(tsg_secedge, node_id)\n",
    "        text = dg.get_text(tsg_secedge, node_id)\n",
    "  \n",
    "        print(node_id, span)\n",
    "        print(node_id, text)\n"
   ]
  },
  {
   "cell_type": "markdown",
   "metadata": {},
   "source": [
    "# TODO: implement is_discontinuous()"
   ]
  },
  {
   "cell_type": "code",
   "execution_count": null,
   "metadata": {
    "collapsed": true
   },
   "outputs": [],
   "source": []
  }
 ],
 "metadata": {
  "kernelspec": {
   "display_name": "Python 2",
   "language": "python",
   "name": "python2"
  },
  "language_info": {
   "codemirror_mode": {
    "name": "ipython",
    "version": 2
   },
   "file_extension": ".py",
   "mimetype": "text/x-python",
   "name": "python",
   "nbconvert_exporter": "python",
   "pygments_lexer": "ipython2",
   "version": "2.7.12"
  }
 },
 "nbformat": 4,
 "nbformat_minor": 1
}
