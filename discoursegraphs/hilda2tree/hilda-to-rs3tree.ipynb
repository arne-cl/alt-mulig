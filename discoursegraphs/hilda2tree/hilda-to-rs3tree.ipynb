{
 "cells": [
  {
   "cell_type": "code",
   "execution_count": 3,
   "metadata": {},
   "outputs": [],
   "source": [
    "HILDA_SHORT = \"\"\"ParseTree('Contrast[S][N]', [\"Although they did n't like it ,\", 'they accepted the offer .'])\"\"\"\n",
    "HILDA_LONG = \"\"\"ParseTree('Elaboration[N][S]', [ParseTree('Joint[N][N]', [ParseTree('Elaboration[N][S]', ['Henryk Szeryng ( 22 September 1918 - 8 March 1988 )', 'was a violin virtuoso of Polish and Jewish heritage .']), ParseTree('Joint[N][N]', [ParseTree('Joint[N][N]', ['He was born in Zelazowa Wola , Poland .', ParseTree('Joint[N][N]', [ParseTree('Background[N][S]', ['Henryk started piano and harmony training with his mother', 'when he was 5 ,']), 'and at age 7 turned to the violin ,'])]), ParseTree('Joint[N][N]', [ParseTree('Elaboration[N][S]', ['receiving instruction from Maurice Frenkel .', ParseTree('Temporal[S][N]', [ParseTree('Elaboration[N][S]', ['After studies with Carl Flesch in Berlin', '( 1929-32 ) ,']), ParseTree('Elaboration[N][S]', ['he went to Paris to continue his training with Jacques Thibaud at the Conservatory ,', 'graduating with a premier prix in 1937 .'])])]), ParseTree('Joint[N][N]', [ParseTree('Elaboration[N][S]', ['He made his solo debut in 1933', 'playing the Brahms Violin Concerto .']), ParseTree('Joint[N][N]', ['From 1933 to 1939 he studied composition in Paris with Nadia Boulanger ,', ParseTree('Joint[N][N]', [ParseTree('Elaboration[N][S]', ['and during World War II he worked as an interpreter for the Polish government in exile', '( Szeryng was fluent in seven languages )']), ParseTree('Elaboration[N][S]', ['and gave concerts for Allied troops all over the world .', 'During one of these concerts in Mexico City he received an offer to take over the string department of the university there .'])])])])])])]), ParseTree('Elaboration[N][S]', [ParseTree('Elaboration[N][S]', [ParseTree('Joint[N][N]', [ParseTree('Attribution[N][S]', ['In 1946 ,', 'he became a naturalized citizen of Mexico .']), ParseTree('Elaboration[N][S]', ['Szeryng subsequently focused on teaching before resuming his concert career in 1954 .', ParseTree('Joint[N][N]', ['His debut in New York City brought him great acclaim ,', ParseTree('Elaboration[N][S]', ['and he toured widely for the rest of his life .', ParseTree('Attribution[S][N]', ['He died', 'in Kassel .'])])])])]), ParseTree('Elaboration[N][S]', [ParseTree('Elaboration[N][S]', [ParseTree('Elaboration[N][S]', ['Szeryng made a number of recordings ,', 'including two of the complete sonatas and partitas for violin by Johann Sebastian Bach , and several of sonatas of Beethoven and Brahms with the pianist Arthur Rubinstein .']), 'He also composed ;']), 'his works include a number of violin concertos and pieces of chamber music .'])]), ParseTree('Elaboration[N][S]', [\"He owned the Del Gesu `` Le Duc '' , the Stradivarius `` King David '' as well as the Messiah Strad copy by Jean-Baptiste Vuillaume\", ParseTree('Attribution[S][N]', ['which he gave to Prince Rainier III of Monaco .', ParseTree('Elaboration[N][S]', [\"The `` Le Duc '' was the instrument\", ParseTree('Contrast[N][N]', ['on which he performed and recorded mostly ,', ParseTree('Elaboration[N][S]', [ParseTree('same-unit[N][N]', [ParseTree('Elaboration[N][S]', ['while the latter', \"( `` King David ''\"]), 'Strad )']), 'was donated to the State of Israel .'])])])])])])])\"\"\""
   ]
  },
  {
   "cell_type": "code",
   "execution_count": 8,
   "metadata": {},
   "outputs": [],
   "source": [
    "import discoursegraphs as dg\n",
    "from discoursegraphs.readwrite import RS3FileWriter\n",
    "from discoursegraphs.readwrite.tree import t"
   ]
  },
  {
   "cell_type": "code",
   "execution_count": 9,
   "metadata": {},
   "outputs": [
    {
     "data": {
      "image/png": "[encoded data removed]",
      "text/plain": [
       "<discoursegraphs.readwrite.rst.hilda.HILDARSTTree at 0x7f6a5a34be50>"
      ]
     },
     "execution_count": 9,
     "metadata": {},
     "output_type": "execute_result"
    }
   ],
   "source": [
    "hdt = dg.read_hilda('short.hilda')\n",
    "hdt"
   ]
  },
  {
   "cell_type": "code",
   "execution_count": 14,
   "metadata": {},
   "outputs": [
    {
     "data": {
      "image/png": "[encoded data removed]",
      "text/plain": [
       "DGParentedTree('Contrast', [DGParentedTree('S', [\"Although they did n't like it ,\"]), DGParentedTree('N', ['they accepted the offer .'])])"
      ]
     },
     "execution_count": 14,
     "metadata": {},
     "output_type": "execute_result"
    }
   ],
   "source": [
    "tdt = t('Contrast', [\n",
    "    ('S', [\"Although they did n't like it ,\"]),\n",
    "    ('N', [\"they accepted the offer .\"])\n",
    "])\n",
    "tdt"
   ]
  },
  {
   "cell_type": "code",
   "execution_count": 19,
   "metadata": {},
   "outputs": [
    {
     "name": "stdout",
     "output_type": "stream",
     "text": [
      "                  Contrast               \n",
      "         ____________|___________         \n",
      "        S                        N       \n",
      "        |                        |        \n",
      "  Although they            they accepted \n",
      "did n't like it ,           the offer .  \n",
      "\n"
     ]
    }
   ],
   "source": [
    "hdt.pretty_print()"
   ]
  },
  {
   "cell_type": "code",
   "execution_count": 21,
   "metadata": {},
   "outputs": [
    {
     "data": {
      "text/plain": [
       "'DGParentedTree(\\'Contrast\\', [DGParentedTree(\\'S\\', [\"Although they did n\\'t like it ,\"]), DGParentedTree(\\'N\\', [\\'they accepted the offer .\\'])])'"
      ]
     },
     "execution_count": 21,
     "metadata": {},
     "output_type": "execute_result"
    }
   ],
   "source": [
    "hdt.tree.__repr__()"
   ]
  },
  {
   "cell_type": "code",
   "execution_count": 18,
   "metadata": {},
   "outputs": [
    {
     "data": {
      "text/plain": [
       "'DGParentedTree(\\'Contrast\\', [DGParentedTree(\\'S\\', [\"Although they did n\\'t like it ,\"]), DGParentedTree(\\'N\\', [\\'they accepted the offer .\\'])])'"
      ]
     },
     "execution_count": 18,
     "metadata": {},
     "output_type": "execute_result"
    }
   ],
   "source": [
    "tdt.__repr__()"
   ]
  },
  {
   "cell_type": "code",
   "execution_count": 7,
   "metadata": {},
   "outputs": [
    {
     "name": "stdout",
     "output_type": "stream",
     "text": [
      "<?xml version='1.0' encoding='UTF-8'?>\r\n",
      "<rst>\r\n",
      "  <header>\r\n",
      "    <relations>\r\n",
      "      <rel name=\"Contrast\" type=\"rst\"/>\r\n",
      "    </relations>\r\n",
      "  </header>\r\n",
      "  <body>\r\n",
      "    <segment id=\"3\" parent=\"5\" relname=\"Contrast\">Although they did n't like it ,</segment>\r\n",
      "    <segment id=\"5\" parent=\"1\" relname=\"span\">they accepted the offer .</segment>\r\n",
      "    <group id=\"1\" type=\"span\"/>\r\n",
      "  </body>\r\n",
      "</rst>\r\n"
     ]
    }
   ],
   "source": [
    "dg.write_rs3(hdt, 'short.rs3')\n",
    "%cat short.rs3"
   ]
  },
  {
   "cell_type": "code",
   "execution_count": 23,
   "metadata": {},
   "outputs": [
    {
     "name": "stdout",
     "output_type": "stream",
     "text": [
      "<?xml version='1.0' encoding='UTF-8'?>\r\n",
      "<rst>\r\n",
      "  <header>\r\n",
      "    <relations>\r\n",
      "      <rel name=\"Contrast\" type=\"rst\"/>\r\n",
      "    </relations>\r\n",
      "  </header>\r\n",
      "  <body>\r\n",
      "    <segment id=\"3\" parent=\"5\" relname=\"Contrast\">Although they did n't like it ,</segment>\r\n",
      "    <segment id=\"5\" parent=\"1\" relname=\"span\">they accepted the offer .</segment>\r\n",
      "    <group id=\"1\" type=\"span\"/>\r\n",
      "  </body>\r\n",
      "</rst>\r\n"
     ]
    }
   ],
   "source": [
    "dg.write_rs3(hdt.tree, 'shortdg.rs3')\n",
    "%cat shortdg.rs3"
   ]
  },
  {
   "cell_type": "code",
   "execution_count": 24,
   "metadata": {},
   "outputs": [
    {
     "name": "stdout",
     "output_type": "stream",
     "text": [
      "<?xml version='1.0' encoding='UTF-8'?>\r\n",
      "<rst>\r\n",
      "  <header>\r\n",
      "    <relations>\r\n",
      "      <rel name=\"Contrast\" type=\"rst\"/>\r\n",
      "    </relations>\r\n",
      "  </header>\r\n",
      "  <body>\r\n",
      "    <segment id=\"3\" parent=\"5\" relname=\"Contrast\">Although they did n't like it ,</segment>\r\n",
      "    <segment id=\"5\" parent=\"1\" relname=\"span\">they accepted the offer .</segment>\r\n",
      "    <group id=\"1\" type=\"span\"/>\r\n",
      "  </body>\r\n",
      "</rst>\r\n"
     ]
    }
   ],
   "source": [
    "dg.write_rs3(tdt, 'shortt.rs3')\n",
    "%cat shortt.rs3"
   ]
  },
  {
   "cell_type": "code",
   "execution_count": 26,
   "metadata": {},
   "outputs": [
    {
     "name": "stdout",
     "output_type": "stream",
     "text": [
      "<rst>\n",
      "  <header>\n",
      "    <relations>\n",
      "      <rel name=\"circumstance\" type=\"rst\"/>\n",
      "    </relations>\n",
      "  </header>\n",
      "  <body>\n",
      "    <segment id=\"3\" parent=\"5\" relname=\"circumstance\">foo</segment>\n",
      "    <segment id=\"5\" parent=\"1\" relname=\"span\">bar</segment>\n",
      "    <group id=\"1\" type=\"span\"/>\n",
      "  </body>\n",
      "</rst>\n",
      "\n"
     ]
    },
    {
     "data": {
      "text/plain": [
       "<discoursegraphs.readwrite.rst.rs3.rs3filewriter.RS3FileWriter at 0x7f6a59c72c10>"
      ]
     },
     "execution_count": 26,
     "metadata": {},
     "output_type": "execute_result"
    }
   ],
   "source": [
    "input_tree = t(\"circumstance\", [\n",
    "    (\"S\", [\"foo\"]),\n",
    "    (\"N\", [\"bar\"])])\n",
    "RS3FileWriter(input_tree)"
   ]
  },
  {
   "cell_type": "code",
   "execution_count": 29,
   "metadata": {},
   "outputs": [],
   "source": [
    "longdt = dg.read_hilda('long.hilda')\n",
    "dg.write_rs3(longdt, 'long.rs3')"
   ]
  },
  {
   "cell_type": "code",
   "execution_count": null,
   "metadata": {},
   "outputs": [],
   "source": [
    "from rstviewer import embed_rs3_image\n",
    "\n",
    "embed_rs3_image('short.rs3')"
   ]
  },
  {
   "cell_type": "code",
   "execution_count": null,
   "metadata": {},
   "outputs": [],
   "source": []
  },
  {
   "cell_type": "markdown",
   "metadata": {},
   "source": [
    "# TODO: compare with CODRA\n",
    "\n",
    "## reading .dis into a document graph"
   ]
  },
  {
   "cell_type": "code",
   "execution_count": null,
   "metadata": {},
   "outputs": [],
   "source": [
    "disdg1 = dg.read_dis(os.path.join(dg.DATA_ROOT_DIR, 'rst-example1.dis'))\n",
    "type(disdg1)"
   ]
  },
  {
   "cell_type": "code",
   "execution_count": null,
   "metadata": {},
   "outputs": [],
   "source": [
    "# %load_ext gvmagic # load this once"
   ]
  },
  {
   "cell_type": "code",
   "execution_count": null,
   "metadata": {},
   "outputs": [],
   "source": [
    "# %dotstr dg.print_dot(disdg1)"
   ]
  },
  {
   "cell_type": "code",
   "execution_count": null,
   "metadata": {},
   "outputs": [],
   "source": [
    "codra_disfile = 'codra-output-test.txt'\n",
    "# disdg_codra = dg.read_dis(codra_disfile)"
   ]
  },
  {
   "cell_type": "code",
   "execution_count": null,
   "metadata": {},
   "outputs": [],
   "source": [
    "#children[0]\n",
    "ParentedTree('Satellite', [ParentedTree('span', ['36', '37']), ParentedTree('rel2par', ['Manner-Means']), ParentedTree('Nucleus', [ParentedTree('leaf', ['36']), ParentedTree('rel2par', ['span']), ParentedTree('text', ['_!by', 'Jean-Baptiste', 'Vuillaume_!'])]), ParentedTree('Satellite', [ParentedTree('leaf', ['37']), ParentedTree('rel2par', ['Elaboration']), ParentedTree('text', ['_!which', 'he', 'gave', 'to', 'Prince', 'Rainier', 'III', 'of', 'Monaco', '._!'])])])\n"
   ]
  },
  {
   "cell_type": "code",
   "execution_count": null,
   "metadata": {},
   "outputs": [],
   "source": [
    "from discoursegraphs.readwrite.rst.dis.common import DisFile\n",
    "codra_disfiletree = DisFile(codra_disfile)"
   ]
  },
  {
   "cell_type": "code",
   "execution_count": null,
   "metadata": {},
   "outputs": [],
   "source": [
    "codra_disfiletree.tree"
   ]
  },
  {
   "cell_type": "code",
   "execution_count": null,
   "metadata": {},
   "outputs": [],
   "source": [
    "ct = codra_disfiletree.tree"
   ]
  },
  {
   "cell_type": "code",
   "execution_count": null,
   "metadata": {},
   "outputs": [],
   "source": [
    "EXAMPLE2_FILE = os.path.join(dg.DATA_ROOT_DIR, 'rst-example2.dis')\n",
    "test_disfiletree = DisFile(EXAMPLE2_FILE)"
   ]
  },
  {
   "cell_type": "code",
   "execution_count": null,
   "metadata": {},
   "outputs": [],
   "source": [
    "test_disfiletree.tree"
   ]
  },
  {
   "cell_type": "code",
   "execution_count": null,
   "metadata": {},
   "outputs": [],
   "source": [
    "from discoursegraphs.readwrite.rst.dis.distree import DisRSTTree\n",
    "\n",
    "DisRSTTree(EXAMPLE2_FILE)"
   ]
  },
  {
   "cell_type": "code",
   "execution_count": null,
   "metadata": {},
   "outputs": [],
   "source": [
    "\n",
    "# DisFile(codra_disfile, filter_strings=False).tree"
   ]
  },
  {
   "cell_type": "code",
   "execution_count": null,
   "metadata": {},
   "outputs": [],
   "source": [
    "codra_disrsttree = DisRSTTree(codra_disfile)"
   ]
  },
  {
   "cell_type": "code",
   "execution_count": null,
   "metadata": {},
   "outputs": [],
   "source": [
    "codra_disrsttree.tree.leaves()[0] = u'Henryk Szeryng'"
   ]
  },
  {
   "cell_type": "code",
   "execution_count": null,
   "metadata": {},
   "outputs": [],
   "source": [
    "codra_disrsttree.tree.leaves()"
   ]
  },
  {
   "cell_type": "code",
   "execution_count": null,
   "metadata": {},
   "outputs": [],
   "source": [
    "crt = codra_disrsttree.tree\n",
    "\n"
   ]
  },
  {
   "cell_type": "code",
   "execution_count": null,
   "metadata": {},
   "outputs": [],
   "source": [
    "import re"
   ]
  },
  {
   "cell_type": "code",
   "execution_count": null,
   "metadata": {},
   "outputs": [],
   "source": [
    "EDU_START_RE = re.compile(\"^_!\")\n",
    "EDU_END_RE = re.compile(\"_!$\")\n",
    "TRIPLE_ESCAPE_RE = re.compile(r'\\\\\\\\\\\\\"') # string contains a \" char"
   ]
  },
  {
   "cell_type": "code",
   "execution_count": null,
   "metadata": {},
   "outputs": [],
   "source": [
    "\n",
    "ct"
   ]
  },
  {
   "cell_type": "code",
   "execution_count": null,
   "metadata": {},
   "outputs": [],
   "source": [
    "cleanup_codra_edus(crt)"
   ]
  },
  {
   "cell_type": "code",
   "execution_count": null,
   "metadata": {},
   "outputs": [],
   "source": [
    "class CodraRSTTree(DisRSTTree):\n",
    "    def __init__(self, dis_filepath, word_wrap=0, debug=False):\n",
    "        super(CodraRSTTree, self).__init__(dis_filepath, word_wrap=word_wrap, debug=debug)\n",
    "        self.cleanup_codra_edus()\n",
    "    \n",
    "    def cleanup_codra_edus(self):\n",
    "        \"\"\"Remove leading/trailing '_!' from CODRA EDUs and unescape its double quotes.\"\"\"\n",
    "        for leafpos in self.tree.treepositions('leaves'):\n",
    "            edu_str = self.tree[leafpos]\n",
    "\n",
    "            edu_str = EDU_START_RE.sub(\"\", edu_str)    \n",
    "            edu_str = TRIPLE_ESCAPE_RE.sub('\"', edu_str)\n",
    "            edu_str = EDU_END_RE.sub(\"\", edu_str)\n",
    "\n",
    "            self.tree[leafpos] = edu_str"
   ]
  },
  {
   "cell_type": "code",
   "execution_count": null,
   "metadata": {},
   "outputs": [],
   "source": [
    "CodraRSTTree(codra_disfile)"
   ]
  },
  {
   "cell_type": "code",
   "execution_count": null,
   "metadata": {},
   "outputs": [],
   "source": [
    "dg.readwrite.rst.rs3.RS3FileWriter(CodraRSTTree(codra_disfile))"
   ]
  },
  {
   "cell_type": "code",
   "execution_count": null,
   "metadata": {},
   "outputs": [],
   "source": []
  }
 ],
 "metadata": {
  "kernelspec": {
   "display_name": "Python 3",
   "language": "python",
   "name": "python3"
  },
  "language_info": {
   "codemirror_mode": {
    "name": "ipython",
    "version": 2
   },
   "file_extension": ".py",
   "mimetype": "text/x-python",
   "name": "python",
   "nbconvert_exporter": "python",
   "pygments_lexer": "ipython2",
   "version": "2.7.15"
  }
 },
 "nbformat": 4,
 "nbformat_minor": 2
}
