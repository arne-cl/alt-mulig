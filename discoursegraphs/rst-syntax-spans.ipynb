{
 "cells": [
  {
   "cell_type": "markdown",
   "metadata": {},
   "source": [
    "# Task: match syntax spans with RST spans"
   ]
  },
  {
   "cell_type": "markdown",
   "metadata": {},
   "source": [
    "## Subtask 1: get all syntax spans (with string/token offsets)"
   ]
  },
  {
   "cell_type": "code",
   "execution_count": 1,
   "metadata": {
    "collapsed": true
   },
   "outputs": [],
   "source": [
    "import os\n",
    "import discoursegraphs as dg"
   ]
  },
  {
   "cell_type": "code",
   "execution_count": 2,
   "metadata": {
    "collapsed": false
   },
   "outputs": [],
   "source": [
    "ddg = dg.corpora.pcc.get_document('maz-6728')"
   ]
  },
  {
   "cell_type": "code",
   "execution_count": 3,
   "metadata": {
    "collapsed": false
   },
   "outputs": [
    {
     "data": {
      "text/plain": [
       "'/home/arne/repos/discoursegraphs/src/discoursegraphs/data'"
      ]
     },
     "execution_count": 3,
     "metadata": {},
     "output_type": "execute_result"
    }
   ],
   "source": [
    "dg.DATA_ROOT_DIR"
   ]
  },
  {
   "cell_type": "code",
   "execution_count": 4,
   "metadata": {
    "collapsed": false
   },
   "outputs": [],
   "source": [
    "# dg.corpora.pcc.get_files_by_layer('syntax')\n",
    "tdg = dg.read_tiger(os.path.join(\n",
    "        dg.DATA_ROOT_DIR,\n",
    "        'potsdam-commentary-corpus-2.0.0/syntax/maz-11766.xml'))"
   ]
  },
  {
   "cell_type": "code",
   "execution_count": 5,
   "metadata": {
    "collapsed": false
   },
   "outputs": [],
   "source": [
    "# dg.info(tdg)"
   ]
  },
  {
   "cell_type": "code",
   "execution_count": 6,
   "metadata": {
    "collapsed": false
   },
   "outputs": [],
   "source": [
    "# %load_ext gvmagic"
   ]
  },
  {
   "cell_type": "code",
   "execution_count": 7,
   "metadata": {
    "collapsed": false
   },
   "outputs": [],
   "source": [
    "# %dotstr dg.print_dot(tdg)"
   ]
  },
  {
   "cell_type": "code",
   "execution_count": 8,
   "metadata": {
    "collapsed": false
   },
   "outputs": [],
   "source": [
    "syntax_nodes = set(dg.select_nodes_by_layer(ddg, 'tiger:syntax'))"
   ]
  },
  {
   "cell_type": "code",
   "execution_count": 9,
   "metadata": {
    "collapsed": true
   },
   "outputs": [],
   "source": [
    "cat_nodes = set(dg.select_nodes_by_attribute(ddg, 'tiger:cat'))"
   ]
  },
  {
   "cell_type": "code",
   "execution_count": 10,
   "metadata": {
    "collapsed": false
   },
   "outputs": [],
   "source": [
    "# token_map = dg.util.TokenMapper(ddg)"
   ]
  },
  {
   "cell_type": "code",
   "execution_count": 11,
   "metadata": {
    "collapsed": false
   },
   "outputs": [],
   "source": [
    "# token_map.id2index['rst:rst:9_0']"
   ]
  },
  {
   "cell_type": "code",
   "execution_count": 25,
   "metadata": {
    "collapsed": false
   },
   "outputs": [],
   "source": [
    "token_map = dg.util.TokenMapper(ddg)\n",
    "\n",
    "cat_spans = {}\n",
    "for cat_node in cat_nodes:\n",
    "#     print ddg.node[cat_node]['tiger:cat'], dg.get_span_offsets(ddg, cat_node)\n",
    "    first_token_index = token_map.id2index[dg.get_span(ddg, cat_node)[0]]\n",
    "    last_token_index = token_map.id2index[dg.get_span(ddg, cat_node)[-1]]\n",
    "    \n",
    "#     print ddg.node[cat_node]['tiger:cat'], token_map.id2index[first_token_id], token_map.id2index[last_token_id]\n",
    "    cat_spans[(first_token_index, last_token_index)] = {\n",
    "        'node': cat_node, 'cat': ddg.node[cat_node]['tiger:cat']}\n"
   ]
  },
  {
   "cell_type": "code",
   "execution_count": 26,
   "metadata": {
    "collapsed": true
   },
   "outputs": [],
   "source": [
    "def get_syntax_spans(docgraph):\n",
    "    token_map = dg.util.TokenMapper(docgraph)\n",
    "    cat_nodes = set(dg.select_nodes_by_attribute(docgraph, 'tiger:cat'))\n",
    "\n",
    "    syntax_spans = {}\n",
    "    for cat_node in cat_nodes:\n",
    "        first_token_index = token_map.id2index[dg.get_span(docgraph, cat_node)[0]]\n",
    "        last_token_index = token_map.id2index[dg.get_span(docgraph, cat_node)[-1]]\n",
    "\n",
    "        syntax_spans[(first_token_index, last_token_index)] = {\n",
    "            'node': cat_node, 'cat': docgraph.node[cat_node]['tiger:cat']}\n",
    "\n",
    "    return syntax_spans"
   ]
  },
  {
   "cell_type": "code",
   "execution_count": 19,
   "metadata": {
    "collapsed": false
   },
   "outputs": [],
   "source": [
    "# cat_spans"
   ]
  },
  {
   "cell_type": "code",
   "execution_count": 34,
   "metadata": {
    "collapsed": false
   },
   "outputs": [],
   "source": [
    "def get_rst_span_map(docgraph):\n",
    "    rst_spans = {}\n",
    "    for rel_id, span_type, rel_type, tok_onset, tok_offset in dg.readwrite.rst.rs3.get_rst_spans(docgraph):\n",
    "        rst_spans[(tok_onset, tok_offset)] = {\n",
    "            'rel_id': rel_id, 'span_type': span_type, 'rel_type': rel_type}\n",
    "    \n",
    "    return rst_spans"
   ]
  },
  {
   "cell_type": "markdown",
   "metadata": {},
   "source": [
    "# There are only very few RST spans that match to non-S/CS nodes"
   ]
  },
  {
   "cell_type": "code",
   "execution_count": 35,
   "metadata": {
    "collapsed": false
   },
   "outputs": [
    {
     "name": "stdout",
     "output_type": "stream",
     "text": [
      "maz-11507 (103, 111) VP\n",
      "maz-12473 (31, 41) PP\n",
      "maz-13915 (148, 161) VP\n",
      "maz-16360 (31, 41) NP\n",
      "maz-16590 (82, 89) PP\n",
      "maz-18377 (124, 147) CVP\n",
      "maz-19436 (162, 167) NP\n",
      "maz-3073 (72, 89) VP\n",
      "maz-5709 (162, 167) PP\n"
     ]
    }
   ],
   "source": [
    "for doc_id in dg.corpora.pcc.document_ids:\n",
    "    ddg = dg.corpora.pcc.get_document(doc_id)\n",
    "    syntax_spans = get_syntax_spans(ddg)\n",
    "    \n",
    "    for syntax_span in syntax_spans:\n",
    "        if syntax_spans[syntax_span]['cat'] not in ('S', 'CS'):\n",
    "            if syntax_span in rst_spans:\n",
    "                print doc_id, syntax_span, syntax_spans[syntax_span]['cat']"
   ]
  },
  {
   "cell_type": "code",
   "execution_count": 42,
   "metadata": {
    "collapsed": true
   },
   "outputs": [],
   "source": [
    "from collections import Counter\n",
    "\n",
    "cat_counter = Counter()\n",
    "subord_counter = Counter()\n",
    "\n",
    "for doc_id in dg.corpora.pcc.document_ids:\n",
    "    ddg = dg.corpora.pcc.get_document(doc_id)\n",
    "    syntax_spans = get_syntax_spans(ddg)\n",
    "    \n",
    "    subord_nodes = get_subordinate_clauses(ddg)\n",
    "    \n",
    "    for syntax_span in syntax_spans:\n",
    "        if syntax_span in rst_spans:\n",
    "#             print doc_id, syntax_span, syntax_spans[syntax_span]['cat']\n",
    "            cat = syntax_spans[syntax_span]['cat']\n",
    "            cat_counter[cat] += 1\n",
    "        \n",
    "            if syntax_spans[syntax_span]['node'] in subord_nodes:\n",
    "                subord_counter[cat] += 1"
   ]
  },
  {
   "cell_type": "code",
   "execution_count": 44,
   "metadata": {
    "collapsed": false
   },
   "outputs": [
    {
     "data": {
      "text/plain": [
       "[('S', 17), ('PP', 3), ('VP', 3), ('CS', 2), ('NP', 2), ('CVP', 1)]"
      ]
     },
     "execution_count": 44,
     "metadata": {},
     "output_type": "execute_result"
    }
   ],
   "source": [
    "cat_counter.most_common()"
   ]
  },
  {
   "cell_type": "code",
   "execution_count": 45,
   "metadata": {
    "collapsed": false
   },
   "outputs": [
    {
     "data": {
      "text/plain": [
       "Counter({'PP': 2, 'S': 1})"
      ]
     },
     "execution_count": 45,
     "metadata": {},
     "output_type": "execute_result"
    }
   ],
   "source": [
    "subord_counter"
   ]
  },
  {
   "cell_type": "markdown",
   "metadata": {},
   "source": [
    "# Are there any 'S'/'CS' that are not sentence root nodes?\n",
    "\n",
    "- subordinate clauses etc."
   ]
  },
  {
   "cell_type": "code",
   "execution_count": 36,
   "metadata": {
    "collapsed": true
   },
   "outputs": [],
   "source": [
    "def get_subordinate_clauses(tiger_docgraph):\n",
    "    \"\"\"\n",
    "    given a document graph of a TIGER syntax tree, return all\n",
    "    node IDs of nodes representing subordinate clause constituents.\n",
    "\n",
    "    Parameters\n",
    "    ----------\n",
    "    tiger_docgraph : dg.DiscourseDocumentGraph\n",
    "        document graph from which subordinate clauses will be extracted\n",
    "    \n",
    "    Returns\n",
    "    -------\n",
    "    subord_clause_nodes : list(str)\n",
    "        list of node IDs of nodes directly dominating subordinate clauses\n",
    "    \"\"\"\n",
    "    subord_clause_rels = \\\n",
    "        dg.select_edges_by_attribute(\n",
    "            tiger_docgraph, attribute='tiger:label',\n",
    "            value=['MO', 'RC', 'SB'])\n",
    "    \n",
    "    subord_clause_nodes = []\n",
    "    for src_id, target_id in subord_clause_rels:\n",
    "        src_cat = tiger_docgraph.node[src_id].get('tiger:cat')\n",
    "        if src_cat == 'S' and not dg.istoken(tiger_docgraph, target_id):\n",
    "            subord_clause_nodes.append(target_id)\n",
    "    return subord_clause_nodes"
   ]
  },
  {
   "cell_type": "code",
   "execution_count": 39,
   "metadata": {
    "collapsed": false
   },
   "outputs": [
    {
     "name": "stdout",
     "output_type": "stream",
     "text": [
      "s2158_509 {'layers': set(['tiger:syntax', 'tiger']), 'tiger:cat': 'S', 'tiger:id': 's2158_509', 'label': 'S'}\n",
      "s2158_501 {'layers': set(['tiger:syntax', 'tiger']), 'tiger:cat': 'AP', 'tiger:id': 's2158_501', 'label': 'AP'}\n",
      "s2159_507 {'layers': set(['tiger:syntax', 'tiger']), 'tiger:cat': 'PP', 'tiger:id': 's2159_507', 'label': 'PP'}\n",
      "s2162_501 {'layers': set(['tiger:syntax', 'tiger']), 'tiger:cat': 'PP', 'tiger:id': 's2162_501', 'label': 'PP'}\n",
      "s2152_500 {'layers': set(['tiger:syntax', 'tiger']), 'tiger:cat': 'NP', 'tiger:id': 's2152_500', 'label': 'NP'}\n",
      "s2153_500 {'layers': set(['tiger:syntax', 'tiger']), 'tiger:cat': 'NP', 'tiger:id': 's2153_500', 'label': 'NP'}\n",
      "s2154_502 {'layers': set(['tiger:syntax', 'tiger']), 'tiger:cat': 'NP', 'tiger:id': 's2154_502', 'label': 'NP'}\n",
      "s2156_502 {'layers': set(['tiger:syntax', 'tiger']), 'tiger:cat': 'NP', 'tiger:id': 's2156_502', 'label': 'NP'}\n",
      "s2158_500 {'layers': set(['tiger:syntax', 'tiger']), 'tiger:cat': 'NP', 'tiger:id': 's2158_500', 'label': 'NP'}\n",
      "s2159_503 {'layers': set(['tiger:syntax', 'tiger']), 'tiger:cat': 'NP', 'tiger:id': 's2159_503', 'label': 'NP'}\n",
      "s2159_500 {'layers': set(['tiger:syntax', 'tiger']), 'tiger:cat': 'NP', 'tiger:id': 's2159_500', 'label': 'NP'}\n",
      "s2160_502 {'layers': set(['tiger:syntax', 'tiger']), 'tiger:cat': 'S', 'tiger:id': 's2160_502', 'label': 'S'}\n",
      "s2160_500 {'layers': set(['tiger:syntax', 'tiger']), 'tiger:cat': 'NP', 'tiger:id': 's2160_500', 'label': 'NP'}\n",
      "s2161_500 {'layers': set(['tiger:syntax', 'tiger']), 'tiger:cat': 'NP', 'tiger:id': 's2161_500', 'label': 'NP'}\n",
      "s2162_504 {'layers': set(['tiger:syntax', 'tiger']), 'tiger:cat': 'NP', 'tiger:id': 's2162_504', 'label': 'NP'}\n",
      "s2162_502 {'layers': set(['tiger:syntax', 'tiger']), 'tiger:cat': 'CNP', 'tiger:id': 's2162_502', 'label': 'CNP'}\n",
      "s2163_500 {'layers': set(['tiger:syntax', 'tiger']), 'tiger:cat': 'NP', 'tiger:id': 's2163_500', 'label': 'NP'}\n"
     ]
    }
   ],
   "source": [
    "for node_id in get_subordinate_clauses(ddg):\n",
    "    print node_id, ddg.node[node_id]"
   ]
  },
  {
   "cell_type": "code",
   "execution_count": null,
   "metadata": {
    "collapsed": true
   },
   "outputs": [],
   "source": []
  },
  {
   "cell_type": "code",
   "execution_count": 18,
   "metadata": {
    "collapsed": false
   },
   "outputs": [],
   "source": [
    "# rst_spans"
   ]
  },
  {
   "cell_type": "code",
   "execution_count": 24,
   "metadata": {
    "collapsed": false
   },
   "outputs": [
    {
     "name": "stdout",
     "output_type": "stream",
     "text": [
      "(51, 71) S ['N', 'reason']\n",
      "(103, 123) S ['S', 'elaboration']\n",
      "(72, 89) S ['S', 'reason']\n",
      "(162, 178) CS ['S', 'summary']\n",
      "(10, 50) S ['S', 'cause']\n",
      "(1, 9) S ['N', 'cause']\n",
      "(148, 161) S ['S', 'reason']\n",
      "(90, 102) S ['N', 'elaboration']\n",
      "(124, 147) S ['N', 'reason']\n"
     ]
    }
   ],
   "source": [
    "for cat_span in cat_spans:\n",
    "    if cat_span in rst_spans:\n",
    "        print cat_span, cat_spans[cat_span][1], rst_spans[cat_span][1:]"
   ]
  },
  {
   "cell_type": "code",
   "execution_count": null,
   "metadata": {
    "collapsed": true
   },
   "outputs": [],
   "source": []
  }
 ],
 "metadata": {
  "kernelspec": {
   "display_name": "Python 2",
   "language": "python",
   "name": "python2"
  },
  "language_info": {
   "codemirror_mode": {
    "name": "ipython",
    "version": 2
   },
   "file_extension": ".py",
   "mimetype": "text/x-python",
   "name": "python",
   "nbconvert_exporter": "python",
   "pygments_lexer": "ipython2",
   "version": "2.7.6"
  }
 },
 "nbformat": 4,
 "nbformat_minor": 0
}
