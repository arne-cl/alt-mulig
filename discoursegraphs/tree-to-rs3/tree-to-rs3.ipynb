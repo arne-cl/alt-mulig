{
 "cells": [
  {
   "cell_type": "code",
   "execution_count": 1,
   "metadata": {},
   "outputs": [],
   "source": [
    "import os\n",
    "from tempfile import NamedTemporaryFile\n",
    "\n",
    "from lxml import etree\n",
    "from lxml.builder import ElementMaker\n",
    "\n",
    "import discoursegraphs as dg\n",
    "from discoursegraphs.readwrite.rst.rs3 import extract_relationtypes, RSTTree"
   ]
  },
  {
   "cell_type": "code",
   "execution_count": 2,
   "metadata": {},
   "outputs": [],
   "source": [
    "RS3TREE_DIR = os.path.join(dg.DATA_ROOT_DIR, 'rs3tree')\n",
    "PCC_RS3_DIR = os.path.join(dg.DATA_ROOT_DIR,\n",
    "                           'potsdam-commentary-corpus-2.0.0', 'rst')\n",
    "\n",
    "def example2tree(rs3tree_example_filename, rs3tree_dir=RS3TREE_DIR, word_wrap=0, debug=False):\n",
    "    \"\"\"Given the filename of an rs3 file and its directory, return an RSTTree instance of it.\"\"\"\n",
    "    filepath = os.path.join(rs3tree_dir, rs3tree_example_filename)\n",
    "    return RSTTree(filepath, word_wrap=word_wrap, debug=debug)\n",
    "\n",
    "def printrs3(rs3tree_example_filename, rs3tree_dir=RS3TREE_DIR):\n",
    "    filepath = os.path.join(rs3tree_dir, rs3tree_example_filename)\n",
    "    with open(filepath) as rs3file:\n",
    "        print(rs3file.read())"
   ]
  },
  {
   "cell_type": "code",
   "execution_count": 3,
   "metadata": {},
   "outputs": [
    {
     "data": {
      "text/plain": [
       "['eins-zwei-drei-(joint-eins-and-zwei-and-drei).rs3',\n",
       " 'n-s-s-schema-eins-zwei-(joint-drei-vier)-plus-top-span.rs3',\n",
       " 'only-one-segment.rs3',\n",
       " 'eins-zwei-drei-(circ-(circ-eins-to-zwei)-from-drei).rs3',\n",
       " 'foo-bar-only-segments.rs3',\n",
       " 'foo-bar-circ-foo-to-bar.rs3',\n",
       " 'foo-bar-circ-foo-to-bar-plus-top-span.rs3',\n",
       " 'eins-zwei-drei-(circ-(joint-eins-and-zwei)-to-drei).rs3',\n",
       " 'eins-zwei-drei-(elab-eins-from-(joint-zwei-and-drei).rs3',\n",
       " 'maz-10207-excerpt.rs3',\n",
       " 'maz-14654-excerpt.rs3',\n",
       " 'schema-elab-elab.rs3',\n",
       " 'maz-14813-excerpt.rs3',\n",
       " 'foo-bar-foo-conj-bar.rs3',\n",
       " 'maz-11279-excerpt.rs3',\n",
       " 'eins-zwei-drei-(circ-eins-from-(joint-zwei-and-drei).rs3',\n",
       " 'eins-zwei-drei-only-segments.rs3',\n",
       " 'maz-6918-excerpt.rs3',\n",
       " 'foo-bar-foo-joint-bar-plus-top-span.rs3',\n",
       " '.empty.rs3.swp',\n",
       " 'eins-zwei-drei-(circ-(circ-eins-to-zwei)-to-drei.rs3',\n",
       " 'n-s-s-schema-eins-zwei-(joint-drei-vier).rs3',\n",
       " 'eins-zwei-drei-(circ-(joint-eins-and-zwei)-from-drei).rs3',\n",
       " 'schema-elab-elab-plus-top-span.rs3',\n",
       " 'eins-zwei-drei-(circ-eins-to-(joint-zwei-and-drei).rs3',\n",
       " 'maz-10575-excerpt.rs3',\n",
       " 'n-s-s-schema-eins-zwei-drei-plus-top-span.rs3',\n",
       " 'foo-bar-elab-foo-to-bar.rs3',\n",
       " 'foo-bar-circ-bar-to-foo.rs3',\n",
       " 'empty.rs3',\n",
       " 'foo-bar-foo-joint-bar.rs3',\n",
       " 'maz-4472-excerpt.rs3',\n",
       " 'foo-bar-elab-bar-to-foo.rs3',\n",
       " 'maz-12666-excerpt.rs3',\n",
       " 'maz-00001-excerpt.rs3',\n",
       " 'n-s-s-schema-eins-zwei-drei.rs3',\n",
       " 'eins-zwei-drei-(circ-(circ-eins-from-zwei)-from-drei).rs3',\n",
       " 'maz-3367-excerpt.rs3',\n",
       " 'eins-zwei-drei-(circ-(circ-eins-from-zwei)-to-drei).rs3',\n",
       " 'multinuc-plus-two-satellites.rs3',\n",
       " 'one-edu-span.rs3']"
      ]
     },
     "execution_count": 3,
     "metadata": {},
     "output_type": "execute_result"
    }
   ],
   "source": [
    "os.listdir(RS3TREE_DIR)"
   ]
  },
  {
   "cell_type": "markdown",
   "metadata": {},
   "source": [
    "# Task 1: create an empty rs3 file"
   ]
  },
  {
   "cell_type": "code",
   "execution_count": 4,
   "metadata": {},
   "outputs": [
    {
     "data": {
      "image/png": "[encoded data removed]",
      "text/plain": [
       "<discoursegraphs.readwrite.rst.rs3.rs3tree.RSTTree at 0x7faf6380f0d0>"
      ]
     },
     "execution_count": 4,
     "metadata": {},
     "output_type": "execute_result"
    }
   ],
   "source": [
    "dgtree = example2tree('empty.rs3')\n",
    "dgtree"
   ]
  },
  {
   "cell_type": "code",
   "execution_count": 5,
   "metadata": {},
   "outputs": [
    {
     "name": "stdout",
     "output_type": "stream",
     "text": [
      "<rst>\n",
      "  <header>\n",
      "    <relations>\n",
      "    </relations>\n",
      "  </header>\n",
      "  <body>\n",
      "  </body>\n",
      "</rst>\n",
      "\n"
     ]
    }
   ],
   "source": [
    "printrs3('empty.rs3')"
   ]
  },
  {
   "cell_type": "code",
   "execution_count": 6,
   "metadata": {},
   "outputs": [],
   "source": [
    "E = ElementMaker()\n",
    "\n",
    "def tree2rs3(dgtree, element_maker=E, debug=True):\n",
    "    # create rs3 file skeleton\n",
    "    tree = E('rst')\n",
    "\n",
    "    header = E('header')\n",
    "    relations = E('relations')\n",
    "    add_relations(dgtree, relations)\n",
    "    header.append(relations)\n",
    "\n",
    "    body = add_body(dgtree)\n",
    "    \n",
    "    tree.append(header)\n",
    "    tree.append(body)\n",
    "    if debug is True:\n",
    "        print(etree.tostring(tree, pretty_print=True))\n",
    "    return tree"
   ]
  },
  {
   "cell_type": "code",
   "execution_count": 7,
   "metadata": {},
   "outputs": [],
   "source": [
    "def add_relations(dgtree, relations_elem):\n",
    "    for relname in sorted(dgtree.reltypes):\n",
    "        # <rel name=\"circumstance\" type=\"rst\" />\n",
    "        relations_elem.append(E('rel', name=relname, type=dgtree.reltypes[relname]))"
   ]
  },
  {
   "cell_type": "code",
   "execution_count": 8,
   "metadata": {},
   "outputs": [],
   "source": [
    "def etree2file(rst_etree):\n",
    "    \"\"\"Returns file name of file containing lxml.etree._Element instance into a temporary file\"\"\"\n",
    "    out_str = etree.tostring(rst_etree, pretty_print=True, encoding=\"UTF-8\")\n",
    "    temp_file = NamedTemporaryFile(delete=False)\n",
    "    with open(temp_file.name, 'w') as outfile:\n",
    "        outfile.write(out_str)\n",
    "    return temp_file.name"
   ]
  },
  {
   "cell_type": "code",
   "execution_count": 9,
   "metadata": {},
   "outputs": [],
   "source": [
    "def is_leaf(elem):\n",
    "    return isinstance(elem, str)\n",
    "\n",
    "def get_current_node_id(parent_id, node_ids):\n",
    "    if parent_id is not None:\n",
    "        node_id = parent_id + 1\n",
    "    else:\n",
    "        node_id = 1\n",
    "\n",
    "    while node_id in node_ids:\n",
    "        node_id += 1\n",
    "    node_ids.add(node_id)\n",
    "    return node_id\n",
    "\n",
    "def add_body(dgtree, body=None, element_maker=E, num_indent=0, node_ids=None, parent_id=None):    \n",
    "    if node_ids is None:\n",
    "        node_ids = set()\n",
    "    current_node_id = get_current_node_id(parent_id, node_ids)\n",
    "    \n",
    "    if body is None:\n",
    "        body = E('body')\n",
    "\n",
    "    if parent_id > 0:\n",
    "        print('{indent}parent id: {parent_id}'.format(\n",
    "            indent='\\t'*num_indent, parent_id=parent_id))\n",
    "        print('{0}parent label: {1}'.format(\n",
    "            '\\t'*num_indent, dgtree.parent().label()))\n",
    "\n",
    "    print('{0}node id: {1}'.format(\n",
    "        '\\t'*num_indent, current_node_id))\n",
    "    print('{0}node: {1}'.format(\n",
    "        '\\t'*num_indent, dgtree))\n",
    "    print('{0}node label: {1}'.format(\n",
    "        '\\t'*num_indent, dgtree.label()))\n",
    "\n",
    "    \n",
    "#     <segment id=\"1\">eins</segment>\n",
    "#     <segment id=\"2\" parent=\"4\" relname=\"joint\"> zwei</segment>\n",
    "#     <segment id=\"3\" parent=\"4\" relname=\"joint\"> drei</segment>\n",
    "#     <group id=\"4\" type=\"multinuc\" parent=\"1\" relname=\"elaboration\" />\n",
    "\n",
    "    for elem in dgtree:\n",
    "        print('{indent}child: {node}'.format(indent='\\t'*(num_indent+1), node=elem))\n",
    "        \n",
    "        if is_leaf(elem):\n",
    "            leaf_id = get_current_node_id(current_node_id, node_ids)\n",
    "            print('{0}child id: {1}'.format('\\t'*(num_indent+1), leaf_id))\n",
    "            if parent_id is None:\n",
    "                body.append(E('segment', elem, id=str(leaf_id)))\n",
    "            else:\n",
    "                body.append(E('segment', elem, id=str(leaf_id),\n",
    "                              parent=str(current_node_id), relname=dgtree.parent().label()))\n",
    "        else:\n",
    "            if parent_id is None:\n",
    "#                 body.append(E('group'))\n",
    "                pass\n",
    "            add_body(elem, body=body, num_indent=num_indent+2,\n",
    "                     node_ids=node_ids, parent_id=current_node_id)\n",
    "    return body"
   ]
  },
  {
   "cell_type": "code",
   "execution_count": 10,
   "metadata": {},
   "outputs": [
    {
     "data": {
      "image/png": "[encoded data removed]",
      "text/plain": [
       "<discoursegraphs.readwrite.rst.rs3.rs3tree.RSTTree at 0x7faf84443a90>"
      ]
     },
     "execution_count": 10,
     "metadata": {},
     "output_type": "execute_result"
    }
   ],
   "source": [
    "dgtree = example2tree('eins-zwei-drei-(elab-eins-from-(joint-zwei-and-drei).rs3')\n",
    "dgtree"
   ]
  },
  {
   "cell_type": "code",
   "execution_count": 11,
   "metadata": {},
   "outputs": [
    {
     "name": "stdout",
     "output_type": "stream",
     "text": [
      "node id: 1\n",
      "node: (elaboration (N eins) (S (joint (N zwei) (N drei))))\n",
      "node label: elaboration\n",
      "\tchild: (N eins)\n",
      "\t\tparent id: 1\n",
      "\t\tparent label: elaboration\n",
      "\t\tnode id: 2\n",
      "\t\tnode: (N eins)\n",
      "\t\tnode label: N\n",
      "\t\t\tchild: eins\n",
      "\t\t\tchild id: 3\n",
      "\tchild: (S (joint (N zwei) (N drei)))\n",
      "\t\tparent id: 1\n",
      "\t\tparent label: elaboration\n",
      "\t\tnode id: 4\n",
      "\t\tnode: (S (joint (N zwei) (N drei)))\n",
      "\t\tnode label: S\n",
      "\t\t\tchild: (joint (N zwei) (N drei))\n",
      "\t\t\t\tparent id: 4\n",
      "\t\t\t\tparent label: S\n",
      "\t\t\t\tnode id: 5\n",
      "\t\t\t\tnode: (joint (N zwei) (N drei))\n",
      "\t\t\t\tnode label: joint\n",
      "\t\t\t\t\tchild: (N zwei)\n",
      "\t\t\t\t\t\tparent id: 5\n",
      "\t\t\t\t\t\tparent label: joint\n",
      "\t\t\t\t\t\tnode id: 6\n",
      "\t\t\t\t\t\tnode: (N zwei)\n",
      "\t\t\t\t\t\tnode label: N\n",
      "\t\t\t\t\t\t\tchild: zwei\n",
      "\t\t\t\t\t\t\tchild id: 7\n",
      "\t\t\t\t\tchild: (N drei)\n",
      "\t\t\t\t\t\tparent id: 5\n",
      "\t\t\t\t\t\tparent label: joint\n",
      "\t\t\t\t\t\tnode id: 8\n",
      "\t\t\t\t\t\tnode: (N drei)\n",
      "\t\t\t\t\t\tnode label: N\n",
      "\t\t\t\t\t\t\tchild: drei\n",
      "\t\t\t\t\t\t\tchild id: 9\n",
      "<rst>\n",
      "  <header>\n",
      "    <relations>\n",
      "      <rel type=\"rst\" name=\"elaboration\"/>\n",
      "      <rel type=\"multinuc\" name=\"joint\"/>\n",
      "      <rel type=\"multinuc\" name=\"virtual-root\"/>\n",
      "    </relations>\n",
      "  </header>\n",
      "  <body>\n",
      "    <segment relname=\"elaboration\" id=\"3\" parent=\"2\">eins</segment>\n",
      "    <segment relname=\"joint\" id=\"7\" parent=\"6\">zwei</segment>\n",
      "    <segment relname=\"joint\" id=\"9\" parent=\"8\">drei</segment>\n",
      "  </body>\n",
      "</rst>\n",
      "\n"
     ]
    },
    {
     "data": {
      "text/plain": [
       "<Element rst at 0x7faf629d4050>"
      ]
     },
     "execution_count": 11,
     "metadata": {},
     "output_type": "execute_result"
    }
   ],
   "source": [
    "tree2rs3(dgtree)"
   ]
  },
  {
   "cell_type": "code",
   "execution_count": 12,
   "metadata": {},
   "outputs": [
    {
     "name": "stdout",
     "output_type": "stream",
     "text": [
      "node id: 1\n",
      "node: (elaboration (N eins) (S (joint (N zwei) (N drei))))\n",
      "node label: elaboration\n",
      "\tchild: (N eins)\n",
      "\t\tparent id: 1\n",
      "\t\tparent label: elaboration\n",
      "\t\tnode id: 2\n",
      "\t\tnode: (N eins)\n",
      "\t\tnode label: N\n",
      "\t\t\tchild: eins\n",
      "\t\t\tchild id: 3\n",
      "\tchild: (S (joint (N zwei) (N drei)))\n",
      "\t\tparent id: 1\n",
      "\t\tparent label: elaboration\n",
      "\t\tnode id: 4\n",
      "\t\tnode: (S (joint (N zwei) (N drei)))\n",
      "\t\tnode label: S\n",
      "\t\t\tchild: (joint (N zwei) (N drei))\n",
      "\t\t\t\tparent id: 4\n",
      "\t\t\t\tparent label: S\n",
      "\t\t\t\tnode id: 5\n",
      "\t\t\t\tnode: (joint (N zwei) (N drei))\n",
      "\t\t\t\tnode label: joint\n",
      "\t\t\t\t\tchild: (N zwei)\n",
      "\t\t\t\t\t\tparent id: 5\n",
      "\t\t\t\t\t\tparent label: joint\n",
      "\t\t\t\t\t\tnode id: 6\n",
      "\t\t\t\t\t\tnode: (N zwei)\n",
      "\t\t\t\t\t\tnode label: N\n",
      "\t\t\t\t\t\t\tchild: zwei\n",
      "\t\t\t\t\t\t\tchild id: 7\n",
      "\t\t\t\t\tchild: (N drei)\n",
      "\t\t\t\t\t\tparent id: 5\n",
      "\t\t\t\t\t\tparent label: joint\n",
      "\t\t\t\t\t\tnode id: 8\n",
      "\t\t\t\t\t\tnode: (N drei)\n",
      "\t\t\t\t\t\tnode label: N\n",
      "\t\t\t\t\t\t\tchild: drei\n",
      "\t\t\t\t\t\t\tchild id: 9\n",
      "<rst>\n",
      "  <header>\n",
      "    <relations>\n",
      "      <rel type=\"rst\" name=\"elaboration\"/>\n",
      "      <rel type=\"multinuc\" name=\"joint\"/>\n",
      "      <rel type=\"multinuc\" name=\"virtual-root\"/>\n",
      "    </relations>\n",
      "  </header>\n",
      "  <body>\n",
      "    <segment relname=\"elaboration\" id=\"3\" parent=\"2\">eins</segment>\n",
      "    <segment relname=\"joint\" id=\"7\" parent=\"6\">zwei</segment>\n",
      "    <segment relname=\"joint\" id=\"9\" parent=\"8\">drei</segment>\n",
      "  </body>\n",
      "</rst>\n",
      "\n"
     ]
    }
   ],
   "source": [
    "res = tree2rs3(dgtree)"
   ]
  },
  {
   "cell_type": "code",
   "execution_count": 13,
   "metadata": {},
   "outputs": [
    {
     "name": "stdout",
     "output_type": "stream",
     "text": [
      "node id: 1\n",
      "node: ( )\n",
      "node label: \n"
     ]
    },
    {
     "data": {
      "image/png": "[encoded data removed]",
      "text/plain": [
       "<discoursegraphs.readwrite.rst.rs3.rs3tree.RSTTree at 0x7faf63840110>"
      ]
     },
     "execution_count": 13,
     "metadata": {},
     "output_type": "execute_result"
    }
   ],
   "source": [
    "example2tree(etree2file(tree2rs3(example2tree('empty.rs3'), debug=False)))"
   ]
  },
  {
   "cell_type": "markdown",
   "metadata": {},
   "source": [
    "# Task 2: create rs3 file with one segment"
   ]
  },
  {
   "cell_type": "code",
   "execution_count": 14,
   "metadata": {},
   "outputs": [
    {
     "data": {
      "image/png": "[encoded data removed]",
      "text/plain": [
       "<discoursegraphs.readwrite.rst.rs3.rs3tree.RSTTree at 0x7faf6380fc50>"
      ]
     },
     "execution_count": 14,
     "metadata": {},
     "output_type": "execute_result"
    }
   ],
   "source": [
    "example2tree('only-one-segment.rs3')"
   ]
  },
  {
   "cell_type": "code",
   "execution_count": 15,
   "metadata": {},
   "outputs": [
    {
     "name": "stdout",
     "output_type": "stream",
     "text": [
      "node id: 1\n",
      "node: (N foo)\n",
      "node label: N\n",
      "\tchild: foo\n",
      "\tchild id: 2\n"
     ]
    },
    {
     "data": {
      "image/png": "[encoded data removed]",
      "text/plain": [
       "<discoursegraphs.readwrite.rst.rs3.rs3tree.RSTTree at 0x7faf638406d0>"
      ]
     },
     "execution_count": 15,
     "metadata": {},
     "output_type": "execute_result"
    }
   ],
   "source": [
    "example2tree(etree2file(tree2rs3(example2tree('only-one-segment.rs3'), debug=False)))"
   ]
  },
  {
   "cell_type": "code",
   "execution_count": 16,
   "metadata": {},
   "outputs": [
    {
     "name": "stdout",
     "output_type": "stream",
     "text": [
      "<rst>\n",
      "  <header>\n",
      "    <relations>\n",
      "    </relations>\n",
      "  </header>\n",
      "  <body>\n",
      "    <segment id=\"1\">foo</segment>\n",
      "  </body>\n",
      "</rst>\n",
      "\n"
     ]
    }
   ],
   "source": [
    "printrs3('only-one-segment.rs3')"
   ]
  },
  {
   "cell_type": "markdown",
   "metadata": {},
   "source": [
    "# Task 3: create rs3 file with one relation"
   ]
  },
  {
   "cell_type": "code",
   "execution_count": 17,
   "metadata": {},
   "outputs": [
    {
     "data": {
      "image/png": "[encoded data removed]",
      "text/plain": [
       "<discoursegraphs.readwrite.rst.rs3.rs3tree.RSTTree at 0x7faf629e1590>"
      ]
     },
     "execution_count": 17,
     "metadata": {},
     "output_type": "execute_result"
    }
   ],
   "source": [
    "example2tree(\"foo-bar-circ-foo-to-bar.rs3\")"
   ]
  },
  {
   "cell_type": "code",
   "execution_count": 18,
   "metadata": {},
   "outputs": [
    {
     "name": "stdout",
     "output_type": "stream",
     "text": [
      "node id: 1\n",
      "node: (circumstance (S foo) (N bar))\n",
      "node label: circumstance\n",
      "\tchild: (S foo)\n",
      "\t\tparent id: 1\n",
      "\t\tparent label: circumstance\n",
      "\t\tnode id: 2\n",
      "\t\tnode: (S foo)\n",
      "\t\tnode label: S\n",
      "\t\t\tchild: foo\n",
      "\t\t\tchild id: 3\n",
      "\tchild: (N bar)\n",
      "\t\tparent id: 1\n",
      "\t\tparent label: circumstance\n",
      "\t\tnode id: 4\n",
      "\t\tnode: (N bar)\n",
      "\t\tnode label: N\n",
      "\t\t\tchild: bar\n",
      "\t\t\tchild id: 5\n"
     ]
    },
    {
     "data": {
      "image/png": "[encoded data removed]",
      "text/plain": [
       "<discoursegraphs.readwrite.rst.rs3.rs3tree.RSTTree at 0x7faf63840250>"
      ]
     },
     "execution_count": 18,
     "metadata": {},
     "output_type": "execute_result"
    }
   ],
   "source": [
    "example2tree(etree2file(tree2rs3(example2tree(\"foo-bar-circ-foo-to-bar.rs3\"), debug=False)))"
   ]
  },
  {
   "cell_type": "code",
   "execution_count": 19,
   "metadata": {},
   "outputs": [
    {
     "name": "stdout",
     "output_type": "stream",
     "text": [
      "node id: 1\n",
      "node: (circumstance (S foo) (N bar))\n",
      "node label: circumstance\n",
      "\tchild: (S foo)\n",
      "\t\tparent id: 1\n",
      "\t\tparent label: circumstance\n",
      "\t\tnode id: 2\n",
      "\t\tnode: (S foo)\n",
      "\t\tnode label: S\n",
      "\t\t\tchild: foo\n",
      "\t\t\tchild id: 3\n",
      "\tchild: (N bar)\n",
      "\t\tparent id: 1\n",
      "\t\tparent label: circumstance\n",
      "\t\tnode id: 4\n",
      "\t\tnode: (N bar)\n",
      "\t\tnode label: N\n",
      "\t\t\tchild: bar\n",
      "\t\t\tchild id: 5\n",
      "<rst>\n",
      "  <header>\n",
      "    <relations>\n",
      "      <rel type=\"rst\" name=\"circumstance\"/>\n",
      "      <rel type=\"multinuc\" name=\"conjunction\"/>\n",
      "      <rel type=\"multinuc\" name=\"virtual-root\"/>\n",
      "    </relations>\n",
      "  </header>\n",
      "  <body>\n",
      "    <segment relname=\"circumstance\" id=\"3\" parent=\"2\">foo</segment>\n",
      "    <segment relname=\"circumstance\" id=\"5\" parent=\"4\">bar</segment>\n",
      "  </body>\n",
      "</rst>\n",
      "\n"
     ]
    },
    {
     "data": {
      "text/plain": [
       "<Element rst at 0x7faf62a09758>"
      ]
     },
     "execution_count": 19,
     "metadata": {},
     "output_type": "execute_result"
    }
   ],
   "source": [
    "tree2rs3(example2tree(\"foo-bar-circ-foo-to-bar.rs3\"))"
   ]
  },
  {
   "cell_type": "code",
   "execution_count": 20,
   "metadata": {},
   "outputs": [
    {
     "name": "stdout",
     "output_type": "stream",
     "text": [
      "<rst>\n",
      "  <header>\n",
      "    <relations>\n",
      "      <rel name=\"circumstance\" type=\"rst\" />\n",
      "      <rel name=\"conjunction\" type=\"multinuc\" />\n",
      "    </relations>\n",
      "  </header>\n",
      "  <body>\n",
      "    <segment id=\"1\" parent=\"2\" relname=\"circumstance\">foo</segment>\n",
      "    <segment id=\"2\"> bar</segment>\n",
      "  </body>\n",
      "</rst>\n",
      "\n"
     ]
    }
   ],
   "source": [
    "printrs3(\"foo-bar-circ-foo-to-bar.rs3\")"
   ]
  },
  {
   "cell_type": "markdown",
   "metadata": {},
   "source": [
    "# Task 4: create rs3 file w/ nested tree"
   ]
  },
  {
   "cell_type": "code",
   "execution_count": 21,
   "metadata": {},
   "outputs": [
    {
     "data": {
      "image/png": "[encoded data removed]",
      "text/plain": [
       "<discoursegraphs.readwrite.rst.rs3.rs3tree.RSTTree at 0x7faf62a01690>"
      ]
     },
     "execution_count": 21,
     "metadata": {},
     "output_type": "execute_result"
    }
   ],
   "source": [
    "dgtree = example2tree('eins-zwei-drei-(elab-eins-from-(joint-zwei-and-drei).rs3')\n",
    "dgtree"
   ]
  },
  {
   "cell_type": "code",
   "execution_count": 22,
   "metadata": {},
   "outputs": [
    {
     "name": "stdout",
     "output_type": "stream",
     "text": [
      "<rst>\n",
      "  <header>\n",
      "    <relations>\n",
      "      <rel name=\"elaboration\" type=\"rst\" />\n",
      "      <rel name=\"joint\" type=\"multinuc\" />\n",
      "    </relations>\n",
      "  </header>\n",
      "  <body>\n",
      "    <segment id=\"1\">eins</segment>\n",
      "    <segment id=\"2\" parent=\"4\" relname=\"joint\"> zwei</segment>\n",
      "    <segment id=\"3\" parent=\"4\" relname=\"joint\"> drei</segment>\n",
      "    <group id=\"4\" type=\"multinuc\" parent=\"1\" relname=\"elaboration\" />\n",
      "  </body>\n",
      "</rst>\n",
      "\n"
     ]
    }
   ],
   "source": [
    "printrs3('eins-zwei-drei-(elab-eins-from-(joint-zwei-and-drei).rs3')"
   ]
  },
  {
   "cell_type": "code",
   "execution_count": null,
   "metadata": {},
   "outputs": [],
   "source": []
  }
 ],
 "metadata": {
  "kernelspec": {
   "display_name": "Python 2",
   "language": "python",
   "name": "python2"
  },
  "language_info": {
   "codemirror_mode": {
    "name": "ipython",
    "version": 2
   },
   "file_extension": ".py",
   "mimetype": "text/x-python",
   "name": "python",
   "nbconvert_exporter": "python",
   "pygments_lexer": "ipython2",
   "version": "2.7.12"
  }
 },
 "nbformat": 4,
 "nbformat_minor": 2
}
