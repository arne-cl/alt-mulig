{
 "cells": [
  {
   "cell_type": "code",
   "execution_count": 1,
   "metadata": {
    "collapsed": true,
    "deletable": true,
    "editable": true
   },
   "outputs": [],
   "source": [
    "from nltk.tree import ParentedTree\n",
    "from rstviewer import embed_rs3_image"
   ]
  },
  {
   "cell_type": "code",
   "execution_count": 2,
   "metadata": {
    "collapsed": true
   },
   "outputs": [],
   "source": [
    "def t(root, children=None):\n",
    "    \"Create nltk.tree.ParentedTree from a root (str) and a list of (str, list) tuples.\"\n",
    "    assert isinstance(root, basestring)\n",
    "\n",
    "    if isinstance(children, list):\n",
    "        child_trees = [t(child, grandchildren)\n",
    "                       for (child, grandchildren) in children]\n",
    "    elif isinstance(children, basestring):\n",
    "        # this tree does only have one child, a leaf node\n",
    "        child_trees = [children]\n",
    "    else:  #children == None\n",
    "        # this tree only consists of one leaf node\n",
    "        child_trees = []\n",
    "    return ParentedTree(root, child_trees)"
   ]
  },
  {
   "cell_type": "code",
   "execution_count": 3,
   "metadata": {
    "collapsed": false,
    "deletable": true,
    "editable": true
   },
   "outputs": [
    {
     "name": "stdout",
     "output_type": "stream",
     "text": [
      "eins-zwei-drei-(circ-(circ-eins-from-zwei)-from-drei).rs3\r\n",
      "eins-zwei-drei-(circ-(circ-eins-from-zwei)-to-drei).rs3\r\n",
      "eins-zwei-drei-(circ-(circ-eins-to-zwei)-from-drei).rs3\r\n",
      "eins-zwei-drei-(circ-(circ-eins-to-zwei)-to-drei.rs3\r\n",
      "eins-zwei-drei-(circ-eins-from-(joint-zwei-and-drei).rs3\r\n",
      "eins-zwei-drei-(circ-eins-to-(joint-zwei-and-drei).rs3\r\n",
      "eins-zwei-drei-(circ-(joint-eins-and-zwei)-from-drei).rs3\r\n",
      "eins-zwei-drei-(circ-(joint-eins-and-zwei)-to-drei).rs3\r\n",
      "eins-zwei-drei-(elab-eins-from-(joint-zwei-and-drei).rs3\r\n",
      "eins-zwei-drei-(joint-eins-and-zwei-and-drei).rs3\r\n",
      "eins-zwei-drei-only-segments.rs3\r\n",
      "foo-bar-circ-bar-to-foo.rs3\r\n",
      "foo-bar-circ-foo-to-bar.rs3\r\n",
      "foo-bar-elab-bar-to-foo.rs3\r\n",
      "foo-bar-elab-foo-to-bar.rs3\r\n",
      "foo-bar-foo-conj-bar.rs3\r\n",
      "foo-bar-foo-joint-bar.rs3\r\n",
      "foo-bar-only-segments.rs3\r\n"
     ]
    }
   ],
   "source": [
    "!ls *.rs3"
   ]
  },
  {
   "cell_type": "code",
   "execution_count": 4,
   "metadata": {
    "collapsed": false,
    "deletable": true,
    "editable": true
   },
   "outputs": [
    {
     "data": {
      "image/png": "[encoded data removed]",
      "text/plain": [
       "<IPython.core.display.Image object>"
      ]
     },
     "metadata": {},
     "output_type": "display_data"
    }
   ],
   "source": [
    "embed_rs3_image(\"foo-bar-only-segments.rs3\")"
   ]
  },
  {
   "cell_type": "code",
   "execution_count": 5,
   "metadata": {
    "collapsed": false,
    "deletable": true,
    "editable": true
   },
   "outputs": [
    {
     "data": {
      "image/png": "[encoded data removed]",
      "text/plain": [
       "ParentedTree('linear-sequence', [ParentedTree('N', ['foo']), ParentedTree('N', ['bar'])])"
      ]
     },
     "execution_count": 5,
     "metadata": {},
     "output_type": "execute_result"
    }
   ],
   "source": [
    "# as the leaves are unconnected, we need to add a root node and edges\n",
    "# maybe we should always connect unconnected nodes into a linear-sequence multinuc\n",
    "t(\"linear-sequence\", [\n",
    "    (\"N\", \"foo\"),\n",
    "    (\"N\", \"bar\")])"
   ]
  },
  {
   "cell_type": "code",
   "execution_count": 6,
   "metadata": {
    "collapsed": false,
    "deletable": true,
    "editable": true
   },
   "outputs": [
    {
     "data": {
      "image/png": "[encoded data removed]",
      "text/plain": [
       "<IPython.core.display.Image object>"
      ]
     },
     "metadata": {},
     "output_type": "display_data"
    }
   ],
   "source": [
    "embed_rs3_image(\"foo-bar-circ-foo-to-bar.rs3\")"
   ]
  },
  {
   "cell_type": "code",
   "execution_count": 7,
   "metadata": {
    "collapsed": false
   },
   "outputs": [
    {
     "data": {
      "image/png": "[encoded data removed]",
      "text/plain": [
       "ParentedTree('circumstance', [ParentedTree('S', ['foo']), ParentedTree('N', ['bar'])])"
      ]
     },
     "execution_count": 7,
     "metadata": {},
     "output_type": "execute_result"
    }
   ],
   "source": [
    "t(\"circumstance\", [\n",
    "    (\"S\", \"foo\"),\n",
    "    (\"N\", \"bar\")])"
   ]
  },
  {
   "cell_type": "code",
   "execution_count": 8,
   "metadata": {
    "collapsed": false,
    "deletable": true,
    "editable": true
   },
   "outputs": [
    {
     "data": {
      "image/png": "[encoded data removed]",
      "text/plain": [
       "<IPython.core.display.Image object>"
      ]
     },
     "metadata": {},
     "output_type": "display_data"
    }
   ],
   "source": [
    "embed_rs3_image(\"foo-bar-elab-foo-to-bar.rs3\")"
   ]
  },
  {
   "cell_type": "code",
   "execution_count": 9,
   "metadata": {
    "collapsed": false,
    "deletable": true,
    "editable": true
   },
   "outputs": [
    {
     "data": {
      "image/png": "[encoded data removed]",
      "text/plain": [
       "ParentedTree('elaboration', [ParentedTree('S', ['foo']), ParentedTree('N', ['bar'])])"
      ]
     },
     "execution_count": 9,
     "metadata": {},
     "output_type": "execute_result"
    }
   ],
   "source": [
    "t(\"elaboration\", [\n",
    "    (\"S\", \"foo\"),\n",
    "    (\"N\", \"bar\")])"
   ]
  },
  {
   "cell_type": "code",
   "execution_count": 10,
   "metadata": {
    "collapsed": false,
    "deletable": true,
    "editable": true
   },
   "outputs": [
    {
     "data": {
      "image/png": "[encoded data removed]",
      "text/plain": [
       "<IPython.core.display.Image object>"
      ]
     },
     "metadata": {},
     "output_type": "display_data"
    }
   ],
   "source": [
    "embed_rs3_image(\"foo-bar-circ-bar-to-foo.rs3\")"
   ]
  },
  {
   "cell_type": "code",
   "execution_count": 11,
   "metadata": {
    "collapsed": false,
    "deletable": true,
    "editable": true
   },
   "outputs": [
    {
     "data": {
      "image/png": "[encoded data removed]",
      "text/plain": [
       "ParentedTree('circumstance', [ParentedTree('N', ['foo']), ParentedTree('S', ['bar'])])"
      ]
     },
     "execution_count": 11,
     "metadata": {},
     "output_type": "execute_result"
    }
   ],
   "source": [
    "t(\"circumstance\", [\n",
    "    (\"N\", \"foo\"),\n",
    "    (\"S\", \"bar\")])"
   ]
  },
  {
   "cell_type": "code",
   "execution_count": 12,
   "metadata": {
    "collapsed": false,
    "deletable": true,
    "editable": true
   },
   "outputs": [
    {
     "data": {
      "image/png": "[encoded data removed]",
      "text/plain": [
       "<IPython.core.display.Image object>"
      ]
     },
     "metadata": {},
     "output_type": "display_data"
    }
   ],
   "source": [
    "embed_rs3_image(\"foo-bar-elab-bar-to-foo.rs3\")"
   ]
  },
  {
   "cell_type": "code",
   "execution_count": 13,
   "metadata": {
    "collapsed": false,
    "deletable": true,
    "editable": true
   },
   "outputs": [
    {
     "data": {
      "image/png": "[encoded data removed]",
      "text/plain": [
       "ParentedTree('elaboration', [ParentedTree('N', ['foo']), ParentedTree('S', ['bar'])])"
      ]
     },
     "execution_count": 13,
     "metadata": {},
     "output_type": "execute_result"
    }
   ],
   "source": [
    "t(\"elaboration\", [\n",
    "    (\"N\", \"foo\"),\n",
    "    (\"S\", \"bar\")])"
   ]
  },
  {
   "cell_type": "code",
   "execution_count": 14,
   "metadata": {
    "collapsed": false,
    "deletable": true,
    "editable": true
   },
   "outputs": [
    {
     "data": {
      "image/png": "[encoded data removed]",
      "text/plain": [
       "<IPython.core.display.Image object>"
      ]
     },
     "metadata": {},
     "output_type": "display_data"
    }
   ],
   "source": [
    "embed_rs3_image(\"foo-bar-foo-conj-bar.rs3\")"
   ]
  },
  {
   "cell_type": "code",
   "execution_count": 15,
   "metadata": {
    "collapsed": false,
    "deletable": true,
    "editable": true
   },
   "outputs": [
    {
     "data": {
      "image/png": "[encoded data removed]",
      "text/plain": [
       "ParentedTree('conjunction', [ParentedTree('N', ['foo']), ParentedTree('N', ['bar'])])"
      ]
     },
     "execution_count": 15,
     "metadata": {},
     "output_type": "execute_result"
    }
   ],
   "source": [
    "t(\"conjunction\", [\n",
    "    (\"N\", \"foo\"),\n",
    "    (\"N\", \"bar\")])"
   ]
  },
  {
   "cell_type": "code",
   "execution_count": 16,
   "metadata": {
    "collapsed": false,
    "deletable": true,
    "editable": true
   },
   "outputs": [
    {
     "data": {
      "image/png": "[encoded data removed]",
      "text/plain": [
       "<IPython.core.display.Image object>"
      ]
     },
     "metadata": {},
     "output_type": "display_data"
    }
   ],
   "source": [
    "embed_rs3_image(\"foo-bar-foo-joint-bar.rs3\")"
   ]
  },
  {
   "cell_type": "code",
   "execution_count": 17,
   "metadata": {
    "collapsed": false,
    "deletable": true,
    "editable": true
   },
   "outputs": [
    {
     "data": {
      "image/png": "[encoded data removed]",
      "text/plain": [
       "ParentedTree('joint', [ParentedTree('N', ['foo']), ParentedTree('N', ['bar'])])"
      ]
     },
     "execution_count": 17,
     "metadata": {},
     "output_type": "execute_result"
    }
   ],
   "source": [
    "t(\"joint\", [\n",
    "    (\"N\", \"foo\"),\n",
    "    (\"N\", \"bar\")])"
   ]
  },
  {
   "cell_type": "code",
   "execution_count": 18,
   "metadata": {
    "collapsed": false,
    "deletable": true,
    "editable": true
   },
   "outputs": [
    {
     "name": "stdout",
     "output_type": "stream",
     "text": [
      "embed_rs3_image('eins-zwei-drei-(circ-(circ-eins-from-zwei)-from-drei).rs3')\n",
      "embed_rs3_image('eins-zwei-drei-(circ-(circ-eins-from-zwei)-to-drei).rs3')\n",
      "embed_rs3_image('eins-zwei-drei-(circ-(circ-eins-to-zwei)-from-drei).rs3')\n",
      "embed_rs3_image('eins-zwei-drei-(circ-(circ-eins-to-zwei)-to-drei.rs3')\n",
      "embed_rs3_image('eins-zwei-drei-(circ-eins-from-(joint-zwei-and-drei).rs3')\n",
      "embed_rs3_image('eins-zwei-drei-(circ-eins-to-(joint-zwei-and-drei).rs3')\n",
      "embed_rs3_image('eins-zwei-drei-(circ-(joint-eins-and-zwei)-from-drei).rs3')\n",
      "embed_rs3_image('eins-zwei-drei-(circ-(joint-eins-and-zwei)-to-drei).rs3')\n",
      "embed_rs3_image('eins-zwei-drei-(elab-eins-from-(joint-zwei-and-drei).rs3')\n",
      "embed_rs3_image('eins-zwei-drei-(joint-eins-and-zwei-and-drei).rs3')\n",
      "embed_rs3_image('eins-zwei-drei-only-segments.rs3')\n"
     ]
    }
   ],
   "source": [
    "trees_with_three_elems = !ls eins*.rs3\n",
    "for rs3_file in trees_with_three_elems:\n",
    "    print \"embed_rs3_image('{}')\".format(rs3_file)"
   ]
  },
  {
   "cell_type": "code",
   "execution_count": 19,
   "metadata": {
    "collapsed": false,
    "deletable": true,
    "editable": true
   },
   "outputs": [
    {
     "data": {
      "image/png": "[encoded data removed]",
      "text/plain": [
       "<IPython.core.display.Image object>"
      ]
     },
     "metadata": {},
     "output_type": "display_data"
    }
   ],
   "source": [
    "embed_rs3_image('eins-zwei-drei-only-segments.rs3')"
   ]
  },
  {
   "cell_type": "code",
   "execution_count": 20,
   "metadata": {
    "collapsed": false,
    "deletable": true,
    "editable": true
   },
   "outputs": [
    {
     "data": {
      "image/png": "[encoded data removed]",
      "text/plain": [
       "ParentedTree('linear-sequence', [ParentedTree('N', ['eins']), ParentedTree('N', ['zwei']), ParentedTree('N', ['drei'])])"
      ]
     },
     "execution_count": 20,
     "metadata": {},
     "output_type": "execute_result"
    }
   ],
   "source": [
    "# as the leaves are unconnected, we need to add a root node and edges\n",
    "# maybe we should always connect unconnected nodes into a linear-sequence multinuc\n",
    "t(\"linear-sequence\", [(\"N\", \"eins\"), (\"N\", \"zwei\"), (\"N\", \"drei\")])"
   ]
  },
  {
   "cell_type": "code",
   "execution_count": 21,
   "metadata": {
    "collapsed": false,
    "deletable": true,
    "editable": true
   },
   "outputs": [
    {
     "data": {
      "image/png": "[encoded data removed]",
      "text/plain": [
       "<IPython.core.display.Image object>"
      ]
     },
     "metadata": {},
     "output_type": "display_data"
    }
   ],
   "source": [
    "embed_rs3_image('eins-zwei-drei-(circ-(circ-eins-from-zwei)-to-drei).rs3')"
   ]
  },
  {
   "cell_type": "code",
   "execution_count": 22,
   "metadata": {
    "collapsed": false
   },
   "outputs": [
    {
     "data": {
      "image/png": "[encoded data removed]",
      "text/plain": [
       "ParentedTree('circumstance', [ParentedTree('S', [ParentedTree('circumstance', [ParentedTree('N', ['eins']), ParentedTree('S', ['zwei'])])]), ParentedTree('N', ['drei'])])"
      ]
     },
     "execution_count": 22,
     "metadata": {},
     "output_type": "execute_result"
    }
   ],
   "source": [
    "t(\"circumstance\", [\n",
    "    (\"S\", [\n",
    "        (\"circumstance\", [\n",
    "            (\"N\", \"eins\"),\n",
    "            (\"S\", \"zwei\")])]),\n",
    "    (\"N\", \"drei\")])"
   ]
  },
  {
   "cell_type": "code",
   "execution_count": 23,
   "metadata": {
    "collapsed": false,
    "deletable": true,
    "editable": true
   },
   "outputs": [
    {
     "data": {
      "image/png": "[encoded data removed]",
      "text/plain": [
       "<IPython.core.display.Image object>"
      ]
     },
     "metadata": {},
     "output_type": "display_data"
    }
   ],
   "source": [
    "embed_rs3_image('eins-zwei-drei-(circ-(circ-eins-from-zwei)-from-drei).rs3')"
   ]
  },
  {
   "cell_type": "code",
   "execution_count": 24,
   "metadata": {
    "collapsed": false
   },
   "outputs": [
    {
     "data": {
      "image/png": "[encoded data removed]",
      "text/plain": [
       "ParentedTree('circumstance', [ParentedTree('N', [ParentedTree('circumstance', [ParentedTree('N', ['eins']), ParentedTree('S', ['zwei'])])]), ParentedTree('S', ['drei'])])"
      ]
     },
     "execution_count": 24,
     "metadata": {},
     "output_type": "execute_result"
    }
   ],
   "source": [
    "t(\"circumstance\", [\n",
    "    (\"N\", [\n",
    "        (\"circumstance\", [\n",
    "            (\"N\", \"eins\"),\n",
    "            (\"S\", \"zwei\")])]),\n",
    "    (\"S\", \"drei\")])"
   ]
  },
  {
   "cell_type": "code",
   "execution_count": 25,
   "metadata": {
    "collapsed": false,
    "deletable": true,
    "editable": true
   },
   "outputs": [
    {
     "data": {
      "image/png": "[encoded data removed]",
      "text/plain": [
       "<IPython.core.display.Image object>"
      ]
     },
     "metadata": {},
     "output_type": "display_data"
    }
   ],
   "source": [
    "embed_rs3_image('eins-zwei-drei-(circ-(circ-eins-to-zwei)-to-drei.rs3')"
   ]
  },
  {
   "cell_type": "code",
   "execution_count": 26,
   "metadata": {
    "collapsed": false
   },
   "outputs": [
    {
     "data": {
      "image/png": "[encoded data removed]",
      "text/plain": [
       "ParentedTree('circumstance', [ParentedTree('S', [ParentedTree('circumstance', [ParentedTree('S', ['eins']), ParentedTree('N', ['zwei'])])]), ParentedTree('N', ['drei'])])"
      ]
     },
     "execution_count": 26,
     "metadata": {},
     "output_type": "execute_result"
    }
   ],
   "source": [
    "t(\"circumstance\", [\n",
    "    (\"S\", [\n",
    "        (\"circumstance\", [\n",
    "            (\"S\", \"eins\"),\n",
    "            (\"N\", \"zwei\")])]),\n",
    "    (\"N\", \"drei\")])"
   ]
  },
  {
   "cell_type": "code",
   "execution_count": 27,
   "metadata": {
    "collapsed": false,
    "deletable": true,
    "editable": true
   },
   "outputs": [
    {
     "data": {
      "image/png": "[encoded data removed]",
      "text/plain": [
       "<IPython.core.display.Image object>"
      ]
     },
     "metadata": {},
     "output_type": "display_data"
    }
   ],
   "source": [
    "embed_rs3_image('eins-zwei-drei-(circ-(circ-eins-to-zwei)-from-drei).rs3')"
   ]
  },
  {
   "cell_type": "code",
   "execution_count": 28,
   "metadata": {
    "collapsed": false
   },
   "outputs": [
    {
     "data": {
      "image/png": "[encoded data removed]",
      "text/plain": [
       "ParentedTree('circumstance', [ParentedTree('N', [ParentedTree('circumstance', [ParentedTree('S', ['eins']), ParentedTree('N', ['zwei'])])]), ParentedTree('S', ['drei'])])"
      ]
     },
     "execution_count": 28,
     "metadata": {},
     "output_type": "execute_result"
    }
   ],
   "source": [
    "t(\"circumstance\", [\n",
    "    (\"N\", [\n",
    "        (\"circumstance\", [\n",
    "            (\"S\", \"eins\"),\n",
    "            (\"N\", \"zwei\")])]),\n",
    "    (\"S\", \"drei\")])"
   ]
  },
  {
   "cell_type": "code",
   "execution_count": 29,
   "metadata": {
    "collapsed": false,
    "deletable": true,
    "editable": true
   },
   "outputs": [
    {
     "data": {
      "image/png": "[encoded data removed]",
      "text/plain": [
       "<IPython.core.display.Image object>"
      ]
     },
     "metadata": {},
     "output_type": "display_data"
    }
   ],
   "source": [
    "embed_rs3_image('eins-zwei-drei-(circ-eins-to-(joint-zwei-and-drei).rs3')"
   ]
  },
  {
   "cell_type": "code",
   "execution_count": 30,
   "metadata": {
    "collapsed": false
   },
   "outputs": [
    {
     "data": {
      "image/png": "[encoded data removed]",
      "text/plain": [
       "ParentedTree('circumstance', [ParentedTree('S', ['eins']), ParentedTree('N', [ParentedTree('joint', [ParentedTree('N', ['zwei']), ParentedTree('N', ['drei'])])])])"
      ]
     },
     "execution_count": 30,
     "metadata": {},
     "output_type": "execute_result"
    }
   ],
   "source": [
    "t(\"circumstance\", [\n",
    "    (\"S\", \"eins\"),\n",
    "    (\"N\", [\n",
    "        (\"joint\", [\n",
    "            (\"N\", \"zwei\"),\n",
    "            (\"N\", \"drei\")])])])"
   ]
  },
  {
   "cell_type": "code",
   "execution_count": 31,
   "metadata": {
    "collapsed": false,
    "deletable": true,
    "editable": true
   },
   "outputs": [
    {
     "data": {
      "image/png": "[encoded data removed]",
      "text/plain": [
       "<IPython.core.display.Image object>"
      ]
     },
     "metadata": {},
     "output_type": "display_data"
    }
   ],
   "source": [
    "embed_rs3_image('eins-zwei-drei-(circ-eins-from-(joint-zwei-and-drei).rs3')"
   ]
  },
  {
   "cell_type": "code",
   "execution_count": 32,
   "metadata": {
    "collapsed": false
   },
   "outputs": [
    {
     "data": {
      "image/png": "[encoded data removed]",
      "text/plain": [
       "ParentedTree('circumstance', [ParentedTree('N', ['eins']), ParentedTree('S', [ParentedTree('joint', [ParentedTree('N', ['zwei']), ParentedTree('N', ['drei'])])])])"
      ]
     },
     "execution_count": 32,
     "metadata": {},
     "output_type": "execute_result"
    }
   ],
   "source": [
    "t(\"circumstance\", [\n",
    "    (\"N\", \"eins\"),\n",
    "    (\"S\", [\n",
    "        (\"joint\", [\n",
    "            (\"N\", \"zwei\"),\n",
    "            (\"N\", \"drei\")])])])"
   ]
  },
  {
   "cell_type": "code",
   "execution_count": 33,
   "metadata": {
    "collapsed": false,
    "deletable": true,
    "editable": true
   },
   "outputs": [
    {
     "data": {
      "image/png": "[encoded data removed]",
      "text/plain": [
       "<IPython.core.display.Image object>"
      ]
     },
     "metadata": {},
     "output_type": "display_data"
    }
   ],
   "source": [
    "embed_rs3_image('eins-zwei-drei-(circ-(joint-eins-and-zwei)-to-drei).rs3')"
   ]
  },
  {
   "cell_type": "code",
   "execution_count": 34,
   "metadata": {
    "collapsed": false
   },
   "outputs": [
    {
     "data": {
      "image/png": "[encoded data removed]",
      "text/plain": [
       "ParentedTree('circumstance', [ParentedTree('S', [ParentedTree('joint', [ParentedTree('N', ['eins']), ParentedTree('N', ['zwei'])])]), ParentedTree('N', ['drei'])])"
      ]
     },
     "execution_count": 34,
     "metadata": {},
     "output_type": "execute_result"
    }
   ],
   "source": [
    "t(\"circumstance\", [\n",
    "    (\"S\", [\n",
    "        (\"joint\", [\n",
    "            (\"N\", \"eins\"),\n",
    "            (\"N\", \"zwei\")\n",
    "        ])\n",
    "    ]),\n",
    "    (\"N\", \"drei\")\n",
    "])"
   ]
  },
  {
   "cell_type": "code",
   "execution_count": 35,
   "metadata": {
    "collapsed": false,
    "deletable": true,
    "editable": true
   },
   "outputs": [
    {
     "data": {
      "image/png": "[encoded data removed]",
      "text/plain": [
       "<IPython.core.display.Image object>"
      ]
     },
     "metadata": {},
     "output_type": "display_data"
    }
   ],
   "source": [
    "embed_rs3_image('eins-zwei-drei-(circ-(joint-eins-and-zwei)-from-drei).rs3')"
   ]
  },
  {
   "cell_type": "code",
   "execution_count": 36,
   "metadata": {
    "collapsed": false
   },
   "outputs": [
    {
     "data": {
      "image/png": "[encoded data removed]",
      "text/plain": [
       "ParentedTree('circumstance', [ParentedTree('N', [ParentedTree('joint', [ParentedTree('N', ['eins']), ParentedTree('N', ['zwei'])])]), ParentedTree('S', ['drei'])])"
      ]
     },
     "execution_count": 36,
     "metadata": {},
     "output_type": "execute_result"
    }
   ],
   "source": [
    "t(\"circumstance\", [\n",
    "    (\"N\", [\n",
    "        (\"joint\", [\n",
    "            (\"N\", \"eins\"),\n",
    "            (\"N\", \"zwei\")\n",
    "        ])\n",
    "    ]),\n",
    "    (\"S\", \"drei\")\n",
    "])"
   ]
  },
  {
   "cell_type": "code",
   "execution_count": 37,
   "metadata": {
    "collapsed": false,
    "deletable": true,
    "editable": true
   },
   "outputs": [
    {
     "data": {
      "image/png": "[encoded data removed]",
      "text/plain": [
       "<IPython.core.display.Image object>"
      ]
     },
     "metadata": {},
     "output_type": "display_data"
    }
   ],
   "source": [
    "embed_rs3_image('eins-zwei-drei-(elab-eins-from-(joint-zwei-and-drei).rs3')"
   ]
  },
  {
   "cell_type": "code",
   "execution_count": 38,
   "metadata": {
    "collapsed": false
   },
   "outputs": [
    {
     "data": {
      "image/png": "[encoded data removed]",
      "text/plain": [
       "ParentedTree('elaboration', [ParentedTree('N', [ParentedTree('joint', [ParentedTree('N', ['eins']), ParentedTree('N', ['zwei'])])]), ParentedTree('S', ['drei'])])"
      ]
     },
     "execution_count": 38,
     "metadata": {},
     "output_type": "execute_result"
    }
   ],
   "source": [
    "t(\"elaboration\", [\n",
    "    (\"N\", [\n",
    "        (\"joint\", [\n",
    "            (\"N\", \"eins\"),\n",
    "            (\"N\", \"zwei\")\n",
    "        ])\n",
    "    ]),\n",
    "    (\"S\", \"drei\")\n",
    "])"
   ]
  },
  {
   "cell_type": "code",
   "execution_count": 39,
   "metadata": {
    "collapsed": false,
    "deletable": true,
    "editable": true
   },
   "outputs": [
    {
     "data": {
      "image/png": "[encoded data removed]",
      "text/plain": [
       "<IPython.core.display.Image object>"
      ]
     },
     "metadata": {},
     "output_type": "display_data"
    }
   ],
   "source": [
    "embed_rs3_image('eins-zwei-drei-(joint-eins-and-zwei-and-drei).rs3')"
   ]
  },
  {
   "cell_type": "code",
   "execution_count": 40,
   "metadata": {
    "collapsed": false,
    "deletable": true,
    "editable": true
   },
   "outputs": [
    {
     "data": {
      "image/png": "[encoded data removed]",
      "text/plain": [
       "ParentedTree('joint', [ParentedTree('N', ['eins']), ParentedTree('N', ['zwei']), ParentedTree('N', ['drei'])])"
      ]
     },
     "execution_count": 40,
     "metadata": {},
     "output_type": "execute_result"
    }
   ],
   "source": [
    "t(\"joint\", [(\"N\", \"eins\"), (\"N\", \"zwei\"), (\"N\", \"drei\")])"
   ]
  },
  {
   "cell_type": "code",
   "execution_count": null,
   "metadata": {
    "collapsed": true
   },
   "outputs": [],
   "source": []
  },
  {
   "cell_type": "code",
   "execution_count": 41,
   "metadata": {
    "collapsed": true
   },
   "outputs": [],
   "source": [
    "example_tree = t(\"elaboration\", [\n",
    "    (\"N\", [\n",
    "        (\"joint\", [\n",
    "            (\"N\", \"eins\"),\n",
    "            (\"N\", \"zwei\")\n",
    "        ])\n",
    "    ]),\n",
    "    (\"S\", \"drei\")\n",
    "])"
   ]
  },
  {
   "cell_type": "code",
   "execution_count": 42,
   "metadata": {
    "collapsed": false
   },
   "outputs": [
    {
     "data": {
      "text/plain": [
       "['eins', 'zwei', 'drei']"
      ]
     },
     "execution_count": 42,
     "metadata": {},
     "output_type": "execute_result"
    }
   ],
   "source": [
    "example_tree.leaves()"
   ]
  },
  {
   "cell_type": "code",
   "execution_count": 43,
   "metadata": {
    "collapsed": false
   },
   "outputs": [
    {
     "name": "stdout",
     "output_type": "stream",
     "text": [
      "           elaboration     \n",
      "        ________|_______    \n",
      "       N                |  \n",
      "       |                |   \n",
      "     joint              |  \n",
      "  _____|________        |   \n",
      " N              N       S  \n",
      " |              |       |   \n",
      "eins           zwei    drei\n",
      "\n"
     ]
    }
   ],
   "source": [
    "example_tree.pretty_print()"
   ]
  },
  {
   "cell_type": "markdown",
   "metadata": {},
   "source": [
    "# TODO: does dg.readwrite.tree work with RSTGraph?"
   ]
  },
  {
   "cell_type": "code",
   "execution_count": 44,
   "metadata": {
    "collapsed": true
   },
   "outputs": [],
   "source": [
    "import discoursegraphs as dg"
   ]
  },
  {
   "cell_type": "code",
   "execution_count": 45,
   "metadata": {
    "collapsed": true
   },
   "outputs": [],
   "source": [
    "example_rs3 = 'eins-zwei-drei-(elab-eins-from-(joint-zwei-and-drei).rs3'"
   ]
  },
  {
   "cell_type": "code",
   "execution_count": 46,
   "metadata": {
    "collapsed": false
   },
   "outputs": [
    {
     "data": {
      "image/png": "[encoded data removed]",
      "text/plain": [
       "<IPython.core.display.Image object>"
      ]
     },
     "metadata": {},
     "output_type": "display_data"
    }
   ],
   "source": [
    "embed_rs3_image(example_rs3)"
   ]
  },
  {
   "cell_type": "code",
   "execution_count": 47,
   "metadata": {
    "collapsed": false
   },
   "outputs": [
    {
     "data": {
      "image/png": "[encoded data removed]",
      "text/plain": [
       "ParentedTree('elaboration', [ParentedTree('N', [ParentedTree('joint', [ParentedTree('N', ['eins']), ParentedTree('N', ['zwei'])])]), ParentedTree('S', ['drei'])])"
      ]
     },
     "execution_count": 47,
     "metadata": {},
     "output_type": "execute_result"
    }
   ],
   "source": [
    "t(\"elaboration\", [\n",
    "    (\"N\", [\n",
    "        (\"joint\", [\n",
    "            (\"N\", \"eins\"),\n",
    "            (\"N\", \"zwei\")\n",
    "        ])\n",
    "    ]),\n",
    "    (\"S\", \"drei\")\n",
    "])"
   ]
  },
  {
   "cell_type": "code",
   "execution_count": 48,
   "metadata": {
    "collapsed": false
   },
   "outputs": [],
   "source": [
    "rdg = dg.read_rs3(example_rs3)"
   ]
  },
  {
   "cell_type": "code",
   "execution_count": 49,
   "metadata": {
    "collapsed": true
   },
   "outputs": [],
   "source": [
    "%load_ext gvmagic"
   ]
  },
  {
   "cell_type": "code",
   "execution_count": 50,
   "metadata": {
    "collapsed": false
   },
   "outputs": [
    {
     "data": {
      "image/svg+xml": [
       "<?xml version=\"1.0\" encoding=\"UTF-8\" standalone=\"no\"?>\n",
       "<!DOCTYPE svg PUBLIC \"-//W3C//DTD SVG 1.1//EN\"\n",
       " \"http://www.w3.org/Graphics/SVG/1.1/DTD/svg11.dtd\">\n",
       "<!-- Generated by graphviz version 2.38.0 (20140413.2041)\n",
       " -->\n",
       "<!-- Title: eins&#45;zwei&#45;drei&#45;(elab&#45;eins&#45;from&#45;(joint&#45;zwei&#45;and&#45;drei).rs3 Pages: 1 -->\n",
       "<svg width=\"394pt\" height=\"291pt\"\n",
       " viewBox=\"0.00 0.00 394.39 291.00\" xmlns=\"http://www.w3.org/2000/svg\" xmlns:xlink=\"http://www.w3.org/1999/xlink\">\n",
       "<g id=\"graph0\" class=\"graph\" transform=\"scale(1 1) rotate(0) translate(4 287)\">\n",
       "<title>eins&#45;zwei&#45;drei&#45;(elab&#45;eins&#45;from&#45;(joint&#45;zwei&#45;and&#45;drei).rs3</title>\n",
       "<polygon fill=\"white\" stroke=\"none\" points=\"-4,4 -4,-287 390.39,-287 390.39,4 -4,4\"/>\n",
       "<!-- rst:root_node -->\n",
       "<g id=\"node1\" class=\"node\"><title>rst:root_node</title>\n",
       "<ellipse fill=\"none\" stroke=\"black\" cx=\"57.8449\" cy=\"-265\" rx=\"57.6901\" ry=\"18\"/>\n",
       "<text text-anchor=\"middle\" x=\"57.8449\" y=\"-261.3\" font-family=\"Times,serif\" font-size=\"14.00\">rst:root_node</text>\n",
       "</g>\n",
       "<!-- rst:1 -->\n",
       "<g id=\"node2\" class=\"node\"><title>rst:1</title>\n",
       "<ellipse fill=\"none\" stroke=\"black\" cx=\"185.845\" cy=\"-265\" rx=\"51.9908\" ry=\"18\"/>\n",
       "<text text-anchor=\"middle\" x=\"185.845\" y=\"-261.3\" font-family=\"Times,serif\" font-size=\"14.00\">[i]:1: eins...</text>\n",
       "</g>\n",
       "<!-- rst:rst:1_0 -->\n",
       "<g id=\"node5\" class=\"node\"><title>rst:rst:1_0</title>\n",
       "<ellipse fill=\"none\" stroke=\"black\" cx=\"145.845\" cy=\"-178\" rx=\"27\" ry=\"18\"/>\n",
       "<text text-anchor=\"middle\" x=\"145.845\" y=\"-174.3\" font-family=\"Times,serif\" font-size=\"14.00\">eins</text>\n",
       "</g>\n",
       "<!-- rst:1&#45;&gt;rst:rst:1_0 -->\n",
       "<g id=\"edge2\" class=\"edge\"><title>rst:1&#45;&gt;rst:rst:1_0</title>\n",
       "<path fill=\"none\" stroke=\"black\" d=\"M177.942,-247.207C172.263,-235.138 164.498,-218.638 158.029,-204.891\"/>\n",
       "<polygon fill=\"black\" stroke=\"black\" points=\"161.02,-203.027 153.595,-195.469 154.686,-206.008 161.02,-203.027\"/>\n",
       "</g>\n",
       "<!-- rst:4 -->\n",
       "<g id=\"node6\" class=\"node\"><title>rst:4</title>\n",
       "<ellipse fill=\"none\" stroke=\"black\" cx=\"273.845\" cy=\"-178\" rx=\"83.3857\" ry=\"18\"/>\n",
       "<text text-anchor=\"middle\" x=\"273.845\" y=\"-174.3\" font-family=\"Times,serif\" font-size=\"14.00\">rst:group:multinuc:4</text>\n",
       "</g>\n",
       "<!-- rst:1&#45;&gt;rst:4 -->\n",
       "<g id=\"edge1\" class=\"edge\"><title>rst:1&#45;&gt;rst:4</title>\n",
       "<path fill=\"none\" stroke=\"black\" d=\"M202.812,-247.611C215.997,-234.876 234.469,-217.034 249.271,-202.736\"/>\n",
       "<polygon fill=\"black\" stroke=\"black\" points=\"251.868,-205.093 256.629,-195.629 247.005,-200.059 251.868,-205.093\"/>\n",
       "<text text-anchor=\"middle\" x=\"274.345\" y=\"-217.8\" font-family=\"Times,serif\" font-size=\"14.00\">rst:elaboration</text>\n",
       "</g>\n",
       "<!-- rst:3 -->\n",
       "<g id=\"node3\" class=\"node\"><title>rst:3</title>\n",
       "<ellipse fill=\"none\" stroke=\"black\" cx=\"201.845\" cy=\"-91\" rx=\"53.8905\" ry=\"18\"/>\n",
       "<text text-anchor=\"middle\" x=\"201.845\" y=\"-87.3\" font-family=\"Times,serif\" font-size=\"14.00\">[n]:3: drei...</text>\n",
       "</g>\n",
       "<!-- rst:rst:3_0 -->\n",
       "<g id=\"node7\" class=\"node\"><title>rst:rst:3_0</title>\n",
       "<ellipse fill=\"none\" stroke=\"black\" cx=\"201.845\" cy=\"-18\" rx=\"27\" ry=\"18\"/>\n",
       "<text text-anchor=\"middle\" x=\"201.845\" y=\"-14.3\" font-family=\"Times,serif\" font-size=\"14.00\">drei</text>\n",
       "</g>\n",
       "<!-- rst:3&#45;&gt;rst:rst:3_0 -->\n",
       "<g id=\"edge3\" class=\"edge\"><title>rst:3&#45;&gt;rst:rst:3_0</title>\n",
       "<path fill=\"none\" stroke=\"black\" d=\"M201.845,-72.8129C201.845,-64.7895 201.845,-55.0475 201.845,-46.0691\"/>\n",
       "<polygon fill=\"black\" stroke=\"black\" points=\"205.345,-46.0288 201.845,-36.0288 198.345,-46.0289 205.345,-46.0288\"/>\n",
       "</g>\n",
       "<!-- rst:2 -->\n",
       "<g id=\"node4\" class=\"node\"><title>rst:2</title>\n",
       "<ellipse fill=\"none\" stroke=\"black\" cx=\"329.845\" cy=\"-91\" rx=\"56.59\" ry=\"18\"/>\n",
       "<text text-anchor=\"middle\" x=\"329.845\" y=\"-87.3\" font-family=\"Times,serif\" font-size=\"14.00\">[n]:2: zwei...</text>\n",
       "</g>\n",
       "<!-- rst:rst:2_0 -->\n",
       "<g id=\"node8\" class=\"node\"><title>rst:rst:2_0</title>\n",
       "<ellipse fill=\"none\" stroke=\"black\" cx=\"329.845\" cy=\"-18\" rx=\"27.0966\" ry=\"18\"/>\n",
       "<text text-anchor=\"middle\" x=\"329.845\" y=\"-14.3\" font-family=\"Times,serif\" font-size=\"14.00\">zwei</text>\n",
       "</g>\n",
       "<!-- rst:2&#45;&gt;rst:rst:2_0 -->\n",
       "<g id=\"edge4\" class=\"edge\"><title>rst:2&#45;&gt;rst:rst:2_0</title>\n",
       "<path fill=\"none\" stroke=\"black\" d=\"M329.845,-72.8129C329.845,-64.7895 329.845,-55.0475 329.845,-46.0691\"/>\n",
       "<polygon fill=\"black\" stroke=\"black\" points=\"333.345,-46.0288 329.845,-36.0288 326.345,-46.0289 333.345,-46.0288\"/>\n",
       "</g>\n",
       "<!-- rst:4&#45;&gt;rst:3 -->\n",
       "<g id=\"edge5\" class=\"edge\"><title>rst:4&#45;&gt;rst:3</title>\n",
       "<path fill=\"none\" stroke=\"black\" d=\"M259.62,-160.207C249,-147.669 234.33,-130.35 222.43,-116.302\"/>\n",
       "<polygon fill=\"black\" stroke=\"black\" points=\"224.929,-113.837 215.795,-108.469 219.588,-118.362 224.929,-113.837\"/>\n",
       "<text text-anchor=\"middle\" x=\"263.345\" y=\"-130.8\" font-family=\"Times,serif\" font-size=\"14.00\">rst:joint</text>\n",
       "</g>\n",
       "<!-- rst:4&#45;&gt;rst:2 -->\n",
       "<g id=\"edge6\" class=\"edge\"><title>rst:4&#45;&gt;rst:2</title>\n",
       "<path fill=\"none\" stroke=\"black\" d=\"M285.177,-159.799C293.2,-147.622 304.092,-131.089 313.112,-117.398\"/>\n",
       "<polygon fill=\"black\" stroke=\"black\" points=\"316.141,-119.162 318.72,-108.885 310.296,-115.31 316.141,-119.162\"/>\n",
       "<text text-anchor=\"middle\" x=\"326.345\" y=\"-130.8\" font-family=\"Times,serif\" font-size=\"14.00\">rst:joint</text>\n",
       "</g>\n",
       "</g>\n",
       "</svg>\n"
      ]
     },
     "metadata": {},
     "output_type": "display_data"
    }
   ],
   "source": [
    "%dotstr dg.print_dot(rdg)"
   ]
  },
  {
   "cell_type": "markdown",
   "metadata": {},
   "source": [
    "# TODO: why is root node not connected?"
   ]
  },
  {
   "cell_type": "markdown",
   "metadata": {},
   "source": [
    "because the root node is a <segment> and not a <group>.\n",
    "\n",
    "```xml\n",
    "<body>\n",
    "    <segment id=\"1\">eins</segment>\n",
    "    <segment id=\"2\" parent=\"4\" relname=\"joint\"> zwei</segment>\n",
    "    <segment id=\"3\" parent=\"4\" relname=\"joint\"> drei</segment>\n",
    "    <group id=\"4\" type=\"multinuc\" parent=\"1\" relname=\"elaboration\" />\n",
    "</body>\n",
    "```"
   ]
  },
  {
   "cell_type": "code",
   "execution_count": 51,
   "metadata": {
    "collapsed": false
   },
   "outputs": [],
   "source": [
    "# rdg_maz00001 = dg.corpora.pcc.get_document('maz-00001')"
   ]
  },
  {
   "cell_type": "code",
   "execution_count": 52,
   "metadata": {
    "collapsed": false
   },
   "outputs": [],
   "source": [
    "# dg.corpora.pcc.get_files_by_document_id('maz-00001')"
   ]
  },
  {
   "cell_type": "code",
   "execution_count": 53,
   "metadata": {
    "collapsed": false
   },
   "outputs": [],
   "source": [
    "maz00001_rs3 = \"/usr/local/lib/python2.7/dist-packages/discoursegraphs-0.3.2-py2.7.egg/discoursegraphs/data/potsdam-commentary-corpus-2.0.0/rst/maz-00001.rs3\"\n",
    "rdg_maz00001 = dg.read_rs3(maz00001_rs3, tokenize=False)"
   ]
  },
  {
   "cell_type": "code",
   "execution_count": 54,
   "metadata": {
    "collapsed": false
   },
   "outputs": [
    {
     "data": {
      "image/svg+xml": [
       "<?xml version=\"1.0\" encoding=\"UTF-8\" standalone=\"no\"?>\n",
       "<!DOCTYPE svg PUBLIC \"-//W3C//DTD SVG 1.1//EN\"\n",
       " \"http://www.w3.org/Graphics/SVG/1.1/DTD/svg11.dtd\">\n",
       "<!-- Generated by graphviz version 2.38.0 (20140413.2041)\n",
       " -->\n",
       "<!-- Title: maz&#45;00001.rs3 Pages: 1 -->\n",
       "<svg width=\"1793pt\" height=\"914pt\"\n",
       " viewBox=\"0.00 0.00 1792.78 914.00\" xmlns=\"http://www.w3.org/2000/svg\" xmlns:xlink=\"http://www.w3.org/1999/xlink\">\n",
       "<g id=\"graph0\" class=\"graph\" transform=\"scale(1 1) rotate(0) translate(4 910)\">\n",
       "<title>maz&#45;00001.rs3</title>\n",
       "<polygon fill=\"white\" stroke=\"none\" points=\"-4,4 -4,-910 1788.78,-910 1788.78,4 -4,4\"/>\n",
       "<!-- rst:12 -->\n",
       "<g id=\"node1\" class=\"node\"><title>rst:12</title>\n",
       "<ellipse fill=\"none\" stroke=\"black\" cx=\"120.239\" cy=\"-279\" rx=\"120.479\" ry=\"18\"/>\n",
       "<text text-anchor=\"middle\" x=\"120.239\" y=\"-275.3\" font-family=\"Times,serif\" font-size=\"14.00\">[s]:12: Der große Einbruch d...</text>\n",
       "</g>\n",
       "<!-- rst:2 -->\n",
       "<g id=\"node2\" class=\"node\"><title>rst:2</title>\n",
       "<ellipse fill=\"none\" stroke=\"black\" cx=\"550.239\" cy=\"-279\" rx=\"118.079\" ry=\"18\"/>\n",
       "<text text-anchor=\"middle\" x=\"550.239\" y=\"-275.3\" font-family=\"Times,serif\" font-size=\"14.00\">[s]:2: Auf Grund der dramat...</text>\n",
       "</g>\n",
       "<!-- rst:6 -->\n",
       "<g id=\"node3\" class=\"node\"><title>rst:6</title>\n",
       "<ellipse fill=\"none\" stroke=\"black\" cx=\"1463.24\" cy=\"-453\" rx=\"113.18\" ry=\"18\"/>\n",
       "<text text-anchor=\"middle\" x=\"1463.24\" y=\"-449.3\" font-family=\"Times,serif\" font-size=\"14.00\">[s]:6: Reiches Ministerkoll...</text>\n",
       "</g>\n",
       "<!-- rst:33 -->\n",
       "<g id=\"node5\" class=\"node\"><title>rst:33</title>\n",
       "<ellipse fill=\"none\" stroke=\"black\" cx=\"1558.24\" cy=\"-366\" rx=\"72.2875\" ry=\"18\"/>\n",
       "<text text-anchor=\"middle\" x=\"1558.24\" y=\"-362.3\" font-family=\"Times,serif\" font-size=\"14.00\">rst:group:span:33</text>\n",
       "</g>\n",
       "<!-- rst:6&#45;&gt;rst:33 -->\n",
       "<g id=\"edge1\" class=\"edge\"><title>rst:6&#45;&gt;rst:33</title>\n",
       "<path fill=\"none\" stroke=\"black\" d=\"M1482.01,-435.207C1496.28,-422.435 1516.1,-404.701 1531.96,-390.518\"/>\n",
       "<polygon fill=\"black\" stroke=\"black\" points=\"1534.71,-392.745 1539.83,-383.469 1530.05,-387.529 1534.71,-392.745\"/>\n",
       "<text text-anchor=\"middle\" x=\"1543.74\" y=\"-405.8\" font-family=\"Times,serif\" font-size=\"14.00\">rst:reason</text>\n",
       "</g>\n",
       "<!-- rst:4 -->\n",
       "<g id=\"node4\" class=\"node\"><title>rst:4</title>\n",
       "<ellipse fill=\"none\" stroke=\"black\" cx=\"1144.24\" cy=\"-627\" rx=\"115.88\" ry=\"18\"/>\n",
       "<text text-anchor=\"middle\" x=\"1144.24\" y=\"-623.3\" font-family=\"Times,serif\" font-size=\"14.00\">[s]:4: Der Rückzieher der F...</text>\n",
       "</g>\n",
       "<!-- rst:23 -->\n",
       "<g id=\"node10\" class=\"node\"><title>rst:23</title>\n",
       "<ellipse fill=\"none\" stroke=\"black\" cx=\"1144.24\" cy=\"-540\" rx=\"72.2875\" ry=\"18\"/>\n",
       "<text text-anchor=\"middle\" x=\"1144.24\" y=\"-536.3\" font-family=\"Times,serif\" font-size=\"14.00\">rst:group:span:23</text>\n",
       "</g>\n",
       "<!-- rst:4&#45;&gt;rst:23 -->\n",
       "<g id=\"edge2\" class=\"edge\"><title>rst:4&#45;&gt;rst:23</title>\n",
       "<path fill=\"none\" stroke=\"black\" d=\"M1144.24,-608.799C1144.24,-597.163 1144.24,-581.548 1144.24,-568.237\"/>\n",
       "<polygon fill=\"black\" stroke=\"black\" points=\"1147.74,-568.175 1144.24,-558.175 1140.74,-568.175 1147.74,-568.175\"/>\n",
       "<text text-anchor=\"middle\" x=\"1186.74\" y=\"-579.8\" font-family=\"Times,serif\" font-size=\"14.00\">rst:evaluation&#45;n</text>\n",
       "</g>\n",
       "<!-- rst:7 -->\n",
       "<g id=\"node22\" class=\"node\"><title>rst:7</title>\n",
       "<ellipse fill=\"none\" stroke=\"black\" cx=\"1558.24\" cy=\"-279\" rx=\"107.781\" ry=\"18\"/>\n",
       "<text text-anchor=\"middle\" x=\"1558.24\" y=\"-275.3\" font-family=\"Times,serif\" font-size=\"14.00\">[s]:7: Tatsächlich gibt es ...</text>\n",
       "</g>\n",
       "<!-- rst:33&#45;&gt;rst:7 -->\n",
       "<g id=\"edge3\" class=\"edge\"><title>rst:33&#45;&gt;rst:7</title>\n",
       "<path fill=\"none\" stroke=\"black\" d=\"M1558.24,-347.799C1558.24,-336.163 1558.24,-320.548 1558.24,-307.237\"/>\n",
       "<polygon fill=\"black\" stroke=\"black\" points=\"1561.74,-307.175 1558.24,-297.175 1554.74,-307.175 1561.74,-307.175\"/>\n",
       "<text text-anchor=\"middle\" x=\"1579.74\" y=\"-318.8\" font-family=\"Times,serif\" font-size=\"14.00\">rst:span</text>\n",
       "</g>\n",
       "<!-- rst:35 -->\n",
       "<g id=\"node6\" class=\"node\"><title>rst:35</title>\n",
       "<ellipse fill=\"none\" stroke=\"black\" cx=\"1389.24\" cy=\"-627\" rx=\"87.9851\" ry=\"18\"/>\n",
       "<text text-anchor=\"middle\" x=\"1389.24\" y=\"-623.3\" font-family=\"Times,serif\" font-size=\"14.00\">rst:group:multinuc:35</text>\n",
       "</g>\n",
       "<!-- rst:34 -->\n",
       "<g id=\"node25\" class=\"node\"><title>rst:34</title>\n",
       "<ellipse fill=\"none\" stroke=\"black\" cx=\"1389.24\" cy=\"-540\" rx=\"72.2875\" ry=\"18\"/>\n",
       "<text text-anchor=\"middle\" x=\"1389.24\" y=\"-536.3\" font-family=\"Times,serif\" font-size=\"14.00\">rst:group:span:34</text>\n",
       "</g>\n",
       "<!-- rst:35&#45;&gt;rst:34 -->\n",
       "<g id=\"edge4\" class=\"edge\"><title>rst:35&#45;&gt;rst:34</title>\n",
       "<path fill=\"none\" stroke=\"black\" d=\"M1389.24,-608.799C1389.24,-597.163 1389.24,-581.548 1389.24,-568.237\"/>\n",
       "<polygon fill=\"black\" stroke=\"black\" points=\"1392.74,-568.175 1389.24,-558.175 1385.74,-568.175 1392.74,-568.175\"/>\n",
       "<text text-anchor=\"middle\" x=\"1406.24\" y=\"-579.8\" font-family=\"Times,serif\" font-size=\"14.00\">rst:list</text>\n",
       "</g>\n",
       "<!-- rst:5 -->\n",
       "<g id=\"node26\" class=\"node\"><title>rst:5</title>\n",
       "<ellipse fill=\"none\" stroke=\"black\" cx=\"1588.24\" cy=\"-540\" rx=\"108.581\" ry=\"18\"/>\n",
       "<text text-anchor=\"middle\" x=\"1588.24\" y=\"-536.3\" font-family=\"Times,serif\" font-size=\"14.00\">[n]:5: Es dürfte derzeit sc...</text>\n",
       "</g>\n",
       "<!-- rst:35&#45;&gt;rst:5 -->\n",
       "<g id=\"edge5\" class=\"edge\"><title>rst:35&#45;&gt;rst:5</title>\n",
       "<path fill=\"none\" stroke=\"black\" d=\"M1425.74,-610.41C1458.25,-596.522 1506.01,-576.123 1541.34,-561.03\"/>\n",
       "<polygon fill=\"black\" stroke=\"black\" points=\"1543.14,-564.071 1550.96,-556.924 1540.39,-557.633 1543.14,-564.071\"/>\n",
       "<text text-anchor=\"middle\" x=\"1518.24\" y=\"-579.8\" font-family=\"Times,serif\" font-size=\"14.00\">rst:list</text>\n",
       "</g>\n",
       "<!-- rst:27 -->\n",
       "<g id=\"node7\" class=\"node\"><title>rst:27</title>\n",
       "<ellipse fill=\"none\" stroke=\"black\" cx=\"120.239\" cy=\"-453\" rx=\"72.2875\" ry=\"18\"/>\n",
       "<text text-anchor=\"middle\" x=\"120.239\" y=\"-449.3\" font-family=\"Times,serif\" font-size=\"14.00\">rst:group:span:27</text>\n",
       "</g>\n",
       "<!-- rst:11 -->\n",
       "<g id=\"node36\" class=\"node\"><title>rst:11</title>\n",
       "<ellipse fill=\"none\" stroke=\"black\" cx=\"120.239\" cy=\"-366\" rx=\"115.88\" ry=\"18\"/>\n",
       "<text text-anchor=\"middle\" x=\"120.239\" y=\"-362.3\" font-family=\"Times,serif\" font-size=\"14.00\">[s]:11: Und die Zeit drängt ...</text>\n",
       "</g>\n",
       "<!-- rst:27&#45;&gt;rst:11 -->\n",
       "<g id=\"edge6\" class=\"edge\"><title>rst:27&#45;&gt;rst:11</title>\n",
       "<path fill=\"none\" stroke=\"black\" d=\"M120.239,-434.799C120.239,-423.163 120.239,-407.548 120.239,-394.237\"/>\n",
       "<polygon fill=\"black\" stroke=\"black\" points=\"123.739,-394.175 120.239,-384.175 116.739,-394.175 123.739,-394.175\"/>\n",
       "<text text-anchor=\"middle\" x=\"141.739\" y=\"-405.8\" font-family=\"Times,serif\" font-size=\"14.00\">rst:span</text>\n",
       "</g>\n",
       "<!-- rst:31 -->\n",
       "<g id=\"node8\" class=\"node\"><title>rst:31</title>\n",
       "<ellipse fill=\"none\" stroke=\"black\" cx=\"557.239\" cy=\"-714\" rx=\"72.2875\" ry=\"18\"/>\n",
       "<text text-anchor=\"middle\" x=\"557.239\" y=\"-710.3\" font-family=\"Times,serif\" font-size=\"14.00\">rst:group:span:31</text>\n",
       "</g>\n",
       "<!-- rst:9 -->\n",
       "<g id=\"node29\" class=\"node\"><title>rst:9</title>\n",
       "<ellipse fill=\"none\" stroke=\"black\" cx=\"444.239\" cy=\"-627\" rx=\"115.88\" ry=\"18\"/>\n",
       "<text text-anchor=\"middle\" x=\"444.239\" y=\"-623.3\" font-family=\"Times,serif\" font-size=\"14.00\">[s]:9: Dennoch gibt es zu R...</text>\n",
       "</g>\n",
       "<!-- rst:31&#45;&gt;rst:9 -->\n",
       "<g id=\"edge7\" class=\"edge\"><title>rst:31&#45;&gt;rst:9</title>\n",
       "<path fill=\"none\" stroke=\"black\" d=\"M535.719,-696.812C518.427,-683.805 493.928,-665.377 474.635,-650.864\"/>\n",
       "<polygon fill=\"black\" stroke=\"black\" points=\"476.547,-647.923 466.452,-644.708 472.339,-653.517 476.547,-647.923\"/>\n",
       "<text text-anchor=\"middle\" x=\"529.739\" y=\"-666.8\" font-family=\"Times,serif\" font-size=\"14.00\">rst:span</text>\n",
       "</g>\n",
       "<!-- rst:17 -->\n",
       "<g id=\"node9\" class=\"node\"><title>rst:17</title>\n",
       "<ellipse fill=\"none\" stroke=\"black\" cx=\"805.239\" cy=\"-279\" rx=\"118.079\" ry=\"18\"/>\n",
       "<text text-anchor=\"middle\" x=\"805.239\" y=\"-275.3\" font-family=\"Times,serif\" font-size=\"14.00\">[n]:17: und vorgeschlagen , ...</text>\n",
       "</g>\n",
       "<!-- rst:22 -->\n",
       "<g id=\"node27\" class=\"node\"><title>rst:22</title>\n",
       "<ellipse fill=\"none\" stroke=\"black\" cx=\"1144.24\" cy=\"-453\" rx=\"72.2875\" ry=\"18\"/>\n",
       "<text text-anchor=\"middle\" x=\"1144.24\" y=\"-449.3\" font-family=\"Times,serif\" font-size=\"14.00\">rst:group:span:22</text>\n",
       "</g>\n",
       "<!-- rst:23&#45;&gt;rst:22 -->\n",
       "<g id=\"edge8\" class=\"edge\"><title>rst:23&#45;&gt;rst:22</title>\n",
       "<path fill=\"none\" stroke=\"black\" d=\"M1144.24,-521.799C1144.24,-510.163 1144.24,-494.548 1144.24,-481.237\"/>\n",
       "<polygon fill=\"black\" stroke=\"black\" points=\"1147.74,-481.175 1144.24,-471.175 1140.74,-481.175 1147.74,-481.175\"/>\n",
       "<text text-anchor=\"middle\" x=\"1165.74\" y=\"-492.8\" font-family=\"Times,serif\" font-size=\"14.00\">rst:span</text>\n",
       "</g>\n",
       "<!-- rst:37 -->\n",
       "<g id=\"node11\" class=\"node\"><title>rst:37</title>\n",
       "<ellipse fill=\"none\" stroke=\"black\" cx=\"884.239\" cy=\"-888\" rx=\"87.9851\" ry=\"18\"/>\n",
       "<text text-anchor=\"middle\" x=\"884.239\" y=\"-884.3\" font-family=\"Times,serif\" font-size=\"14.00\">rst:group:multinuc:37</text>\n",
       "</g>\n",
       "<!-- rst:30 -->\n",
       "<g id=\"node13\" class=\"node\"><title>rst:30</title>\n",
       "<ellipse fill=\"none\" stroke=\"black\" cx=\"756.239\" cy=\"-801\" rx=\"72.2875\" ry=\"18\"/>\n",
       "<text text-anchor=\"middle\" x=\"756.239\" y=\"-797.3\" font-family=\"Times,serif\" font-size=\"14.00\">rst:group:span:30</text>\n",
       "</g>\n",
       "<!-- rst:37&#45;&gt;rst:30 -->\n",
       "<g id=\"edge10\" class=\"edge\"><title>rst:37&#45;&gt;rst:30</title>\n",
       "<path fill=\"none\" stroke=\"black\" d=\"M859.56,-870.611C839.422,-857.238 810.804,-838.234 788.791,-823.616\"/>\n",
       "<polygon fill=\"black\" stroke=\"black\" points=\"790.676,-820.667 780.409,-818.05 786.803,-826.498 790.676,-820.667\"/>\n",
       "<text text-anchor=\"middle\" x=\"849.739\" y=\"-840.8\" font-family=\"Times,serif\" font-size=\"14.00\">rst:joint</text>\n",
       "</g>\n",
       "<!-- rst:36 -->\n",
       "<g id=\"node37\" class=\"node\"><title>rst:36</title>\n",
       "<ellipse fill=\"none\" stroke=\"black\" cx=\"974.239\" cy=\"-801\" rx=\"72.2875\" ry=\"18\"/>\n",
       "<text text-anchor=\"middle\" x=\"974.239\" y=\"-797.3\" font-family=\"Times,serif\" font-size=\"14.00\">rst:group:span:36</text>\n",
       "</g>\n",
       "<!-- rst:37&#45;&gt;rst:36 -->\n",
       "<g id=\"edge9\" class=\"edge\"><title>rst:37&#45;&gt;rst:36</title>\n",
       "<path fill=\"none\" stroke=\"black\" d=\"M902.02,-870.207C915.544,-857.435 934.321,-839.701 949.338,-825.518\"/>\n",
       "<polygon fill=\"black\" stroke=\"black\" points=\"951.934,-827.88 956.801,-818.469 947.128,-822.791 951.934,-827.88\"/>\n",
       "<text text-anchor=\"middle\" x=\"956.739\" y=\"-840.8\" font-family=\"Times,serif\" font-size=\"14.00\">rst:joint</text>\n",
       "</g>\n",
       "<!-- rst:21 -->\n",
       "<g id=\"node12\" class=\"node\"><title>rst:21</title>\n",
       "<ellipse fill=\"none\" stroke=\"black\" cx=\"966.239\" cy=\"-366\" rx=\"87.9851\" ry=\"18\"/>\n",
       "<text text-anchor=\"middle\" x=\"966.239\" y=\"-362.3\" font-family=\"Times,serif\" font-size=\"14.00\">rst:group:multinuc:21</text>\n",
       "</g>\n",
       "<!-- rst:21&#45;&gt;rst:2 -->\n",
       "<g id=\"edge13\" class=\"edge\"><title>rst:21&#45;&gt;rst:2</title>\n",
       "<path fill=\"none\" stroke=\"black\" d=\"M906.194,-352.731C832.829,-337.741 708.549,-312.347 627.955,-295.879\"/>\n",
       "<polygon fill=\"black\" stroke=\"black\" points=\"628.36,-292.39 617.861,-293.817 626.958,-299.248 628.36,-292.39\"/>\n",
       "<text text-anchor=\"middle\" x=\"807.239\" y=\"-318.8\" font-family=\"Times,serif\" font-size=\"14.00\">rst:cause</text>\n",
       "</g>\n",
       "<!-- rst:21&#45;&gt;rst:17 -->\n",
       "<g id=\"edge11\" class=\"edge\"><title>rst:21&#45;&gt;rst:17</title>\n",
       "<path fill=\"none\" stroke=\"black\" d=\"M935.956,-349.012C910.423,-335.532 873.667,-316.126 845.63,-301.324\"/>\n",
       "<polygon fill=\"black\" stroke=\"black\" points=\"846.962,-298.07 836.485,-296.496 843.694,-304.26 846.962,-298.07\"/>\n",
       "<text text-anchor=\"middle\" x=\"937.239\" y=\"-318.8\" font-family=\"Times,serif\" font-size=\"14.00\">rst:conjunction</text>\n",
       "</g>\n",
       "<!-- rst:16 -->\n",
       "<g id=\"node28\" class=\"node\"><title>rst:16</title>\n",
       "<ellipse fill=\"none\" stroke=\"black\" cx=\"1049.24\" cy=\"-279\" rx=\"107.781\" ry=\"18\"/>\n",
       "<text text-anchor=\"middle\" x=\"1049.24\" y=\"-275.3\" font-family=\"Times,serif\" font-size=\"14.00\">[n]:16: hat sie jetzt eine s...</text>\n",
       "</g>\n",
       "<!-- rst:21&#45;&gt;rst:16 -->\n",
       "<g id=\"edge12\" class=\"edge\"><title>rst:21&#45;&gt;rst:16</title>\n",
       "<path fill=\"none\" stroke=\"black\" d=\"M982.637,-348.207C994.835,-335.715 1011.67,-318.477 1025.36,-304.457\"/>\n",
       "<polygon fill=\"black\" stroke=\"black\" points=\"1028.11,-306.649 1032.59,-297.049 1023.1,-301.759 1028.11,-306.649\"/>\n",
       "<text text-anchor=\"middle\" x=\"1054.24\" y=\"-318.8\" font-family=\"Times,serif\" font-size=\"14.00\">rst:conjunction</text>\n",
       "</g>\n",
       "<!-- rst:30&#45;&gt;rst:31 -->\n",
       "<g id=\"edge14\" class=\"edge\"><title>rst:30&#45;&gt;rst:31</title>\n",
       "<path fill=\"none\" stroke=\"black\" d=\"M721.576,-785.194C688.252,-770.96 637.741,-749.385 601.519,-733.913\"/>\n",
       "<polygon fill=\"black\" stroke=\"black\" points=\"602.744,-730.631 592.173,-729.921 599.994,-737.068 602.744,-730.631\"/>\n",
       "<text text-anchor=\"middle\" x=\"690.739\" y=\"-753.8\" font-family=\"Times,serif\" font-size=\"14.00\">rst:span</text>\n",
       "</g>\n",
       "<!-- rst:28 -->\n",
       "<g id=\"node19\" class=\"node\"><title>rst:28</title>\n",
       "<ellipse fill=\"none\" stroke=\"black\" cx=\"756.239\" cy=\"-714\" rx=\"72.2875\" ry=\"18\"/>\n",
       "<text text-anchor=\"middle\" x=\"756.239\" y=\"-710.3\" font-family=\"Times,serif\" font-size=\"14.00\">rst:group:span:28</text>\n",
       "</g>\n",
       "<!-- rst:30&#45;&gt;rst:28 -->\n",
       "<g id=\"edge15\" class=\"edge\"><title>rst:30&#45;&gt;rst:28</title>\n",
       "<path fill=\"none\" stroke=\"black\" d=\"M756.239,-782.799C756.239,-771.163 756.239,-755.548 756.239,-742.237\"/>\n",
       "<polygon fill=\"black\" stroke=\"black\" points=\"759.739,-742.175 756.239,-732.175 752.739,-742.175 759.739,-742.175\"/>\n",
       "<text text-anchor=\"middle\" x=\"780.239\" y=\"-753.8\" font-family=\"Times,serif\" font-size=\"14.00\">rst:result</text>\n",
       "</g>\n",
       "<!-- rst:38 -->\n",
       "<g id=\"node14\" class=\"node\"><title>rst:38</title>\n",
       "<ellipse fill=\"none\" stroke=\"black\" cx=\"1268.24\" cy=\"-192\" rx=\"117.779\" ry=\"18\"/>\n",
       "<text text-anchor=\"middle\" x=\"1268.24\" y=\"-188.3\" font-family=\"Times,serif\" font-size=\"14.00\">[s]:38: weil das Finanz&#45; und...</text>\n",
       "</g>\n",
       "<!-- rst:10 -->\n",
       "<g id=\"node15\" class=\"node\"><title>rst:10</title>\n",
       "<ellipse fill=\"none\" stroke=\"black\" cx=\"330.239\" cy=\"-453\" rx=\"119.679\" ry=\"18\"/>\n",
       "<text text-anchor=\"middle\" x=\"330.239\" y=\"-449.3\" font-family=\"Times,serif\" font-size=\"14.00\">[n]:10: Das Land hat künftig...</text>\n",
       "</g>\n",
       "<!-- rst:14 -->\n",
       "<g id=\"node16\" class=\"node\"><title>rst:14</title>\n",
       "<ellipse fill=\"none\" stroke=\"black\" cx=\"505.239\" cy=\"-540\" rx=\"122.379\" ry=\"18\"/>\n",
       "<text text-anchor=\"middle\" x=\"505.239\" y=\"-536.3\" font-family=\"Times,serif\" font-size=\"14.00\">[n]:14: Entweder sparen um j...</text>\n",
       "</g>\n",
       "<!-- rst:24 -->\n",
       "<g id=\"node17\" class=\"node\"><title>rst:24</title>\n",
       "<ellipse fill=\"none\" stroke=\"black\" cx=\"1144.24\" cy=\"-714\" rx=\"72.2875\" ry=\"18\"/>\n",
       "<text text-anchor=\"middle\" x=\"1144.24\" y=\"-710.3\" font-family=\"Times,serif\" font-size=\"14.00\">rst:group:span:24</text>\n",
       "</g>\n",
       "<!-- rst:24&#45;&gt;rst:4 -->\n",
       "<g id=\"edge16\" class=\"edge\"><title>rst:24&#45;&gt;rst:4</title>\n",
       "<path fill=\"none\" stroke=\"black\" d=\"M1144.24,-695.799C1144.24,-684.163 1144.24,-668.548 1144.24,-655.237\"/>\n",
       "<polygon fill=\"black\" stroke=\"black\" points=\"1147.74,-655.175 1144.24,-645.175 1140.74,-655.175 1147.74,-655.175\"/>\n",
       "<text text-anchor=\"middle\" x=\"1165.74\" y=\"-666.8\" font-family=\"Times,serif\" font-size=\"14.00\">rst:span</text>\n",
       "</g>\n",
       "<!-- rst:24&#45;&gt;rst:35 -->\n",
       "<g id=\"edge17\" class=\"edge\"><title>rst:24&#45;&gt;rst:35</title>\n",
       "<path fill=\"none\" stroke=\"black\" d=\"M1184.7,-698.964C1226.35,-684.511 1291.44,-661.93 1336.97,-646.133\"/>\n",
       "<polygon fill=\"black\" stroke=\"black\" points=\"1338.36,-649.355 1346.66,-642.771 1336.07,-642.742 1338.36,-649.355\"/>\n",
       "<text text-anchor=\"middle\" x=\"1308.74\" y=\"-666.8\" font-family=\"Times,serif\" font-size=\"14.00\">rst:reason</text>\n",
       "</g>\n",
       "<!-- rst:18 -->\n",
       "<g id=\"node18\" class=\"node\"><title>rst:18</title>\n",
       "<ellipse fill=\"none\" stroke=\"black\" cx=\"1439.24\" cy=\"-105\" rx=\"110.48\" ry=\"18\"/>\n",
       "<text text-anchor=\"middle\" x=\"1439.24\" y=\"-101.3\" font-family=\"Times,serif\" font-size=\"14.00\">[n]:18: oder was passiert ,...</text>\n",
       "</g>\n",
       "<!-- rst:40 -->\n",
       "<g id=\"node34\" class=\"node\"><title>rst:40</title>\n",
       "<ellipse fill=\"none\" stroke=\"black\" cx=\"1439.24\" cy=\"-18\" rx=\"122.678\" ry=\"18\"/>\n",
       "<text text-anchor=\"middle\" x=\"1439.24\" y=\"-14.3\" font-family=\"Times,serif\" font-size=\"14.00\">[s]:40: wenn zu wenig Lehrer...</text>\n",
       "</g>\n",
       "<!-- rst:18&#45;&gt;rst:40 -->\n",
       "<g id=\"edge18\" class=\"edge\"><title>rst:18&#45;&gt;rst:40</title>\n",
       "<path fill=\"none\" stroke=\"black\" d=\"M1439.24,-86.799C1439.24,-75.1626 1439.24,-59.5479 1439.24,-46.2368\"/>\n",
       "<polygon fill=\"black\" stroke=\"black\" points=\"1442.74,-46.1754 1439.24,-36.1754 1435.74,-46.1755 1442.74,-46.1754\"/>\n",
       "<text text-anchor=\"middle\" x=\"1473.74\" y=\"-57.8\" font-family=\"Times,serif\" font-size=\"14.00\">rst:condition</text>\n",
       "</g>\n",
       "<!-- rst:25 -->\n",
       "<g id=\"node35\" class=\"node\"><title>rst:25</title>\n",
       "<ellipse fill=\"none\" stroke=\"black\" cx=\"756.239\" cy=\"-627\" rx=\"87.9851\" ry=\"18\"/>\n",
       "<text text-anchor=\"middle\" x=\"756.239\" y=\"-623.3\" font-family=\"Times,serif\" font-size=\"14.00\">rst:group:multinuc:25</text>\n",
       "</g>\n",
       "<!-- rst:28&#45;&gt;rst:25 -->\n",
       "<g id=\"edge19\" class=\"edge\"><title>rst:28&#45;&gt;rst:25</title>\n",
       "<path fill=\"none\" stroke=\"black\" d=\"M756.239,-695.799C756.239,-684.163 756.239,-668.548 756.239,-655.237\"/>\n",
       "<polygon fill=\"black\" stroke=\"black\" points=\"759.739,-655.175 756.239,-645.175 752.739,-655.175 759.739,-655.175\"/>\n",
       "<text text-anchor=\"middle\" x=\"777.739\" y=\"-666.8\" font-family=\"Times,serif\" font-size=\"14.00\">rst:span</text>\n",
       "</g>\n",
       "<!-- rst:1 -->\n",
       "<g id=\"node20\" class=\"node\"><title>rst:1</title>\n",
       "<ellipse fill=\"none\" stroke=\"black\" cx=\"1079.24\" cy=\"-888\" rx=\"89.0842\" ry=\"18\"/>\n",
       "<text text-anchor=\"middle\" x=\"1079.24\" y=\"-884.3\" font-family=\"Times,serif\" font-size=\"14.00\">[i]:1: Auf Eis gelegt...</text>\n",
       "</g>\n",
       "<!-- rst:3 -->\n",
       "<g id=\"node21\" class=\"node\"><title>rst:3</title>\n",
       "<ellipse fill=\"none\" stroke=\"black\" cx=\"1268.24\" cy=\"-279\" rx=\"92.8835\" ry=\"18\"/>\n",
       "<text text-anchor=\"middle\" x=\"1268.24\" y=\"-275.3\" font-family=\"Times,serif\" font-size=\"14.00\">[s]:3: Überraschend ,...</text>\n",
       "</g>\n",
       "<!-- rst:3&#45;&gt;rst:38 -->\n",
       "<g id=\"edge20\" class=\"edge\"><title>rst:3&#45;&gt;rst:38</title>\n",
       "<path fill=\"none\" stroke=\"black\" d=\"M1268.24,-260.799C1268.24,-249.163 1268.24,-233.548 1268.24,-220.237\"/>\n",
       "<polygon fill=\"black\" stroke=\"black\" points=\"1271.74,-220.175 1268.24,-210.175 1264.74,-220.175 1271.74,-220.175\"/>\n",
       "<text text-anchor=\"middle\" x=\"1292.24\" y=\"-231.8\" font-family=\"Times,serif\" font-size=\"14.00\">rst:cause</text>\n",
       "</g>\n",
       "<!-- rst:32 -->\n",
       "<g id=\"node30\" class=\"node\"><title>rst:32</title>\n",
       "<ellipse fill=\"none\" stroke=\"black\" cx=\"1558.24\" cy=\"-192\" rx=\"87.9851\" ry=\"18\"/>\n",
       "<text text-anchor=\"middle\" x=\"1558.24\" y=\"-188.3\" font-family=\"Times,serif\" font-size=\"14.00\">rst:group:multinuc:32</text>\n",
       "</g>\n",
       "<!-- rst:7&#45;&gt;rst:32 -->\n",
       "<g id=\"edge21\" class=\"edge\"><title>rst:7&#45;&gt;rst:32</title>\n",
       "<path fill=\"none\" stroke=\"black\" d=\"M1558.24,-260.799C1558.24,-249.163 1558.24,-233.548 1558.24,-220.237\"/>\n",
       "<polygon fill=\"black\" stroke=\"black\" points=\"1561.74,-220.175 1558.24,-210.175 1554.74,-220.175 1561.74,-220.175\"/>\n",
       "<text text-anchor=\"middle\" x=\"1591.24\" y=\"-231.8\" font-family=\"Times,serif\" font-size=\"14.00\">rst:evidence</text>\n",
       "</g>\n",
       "<!-- rst:20 -->\n",
       "<g id=\"node23\" class=\"node\"><title>rst:20</title>\n",
       "<ellipse fill=\"none\" stroke=\"black\" cx=\"756.239\" cy=\"-540\" rx=\"110.48\" ry=\"18\"/>\n",
       "<text text-anchor=\"middle\" x=\"756.239\" y=\"-536.3\" font-family=\"Times,serif\" font-size=\"14.00\">[n]:20: oder Priorität für d...</text>\n",
       "</g>\n",
       "<!-- rst:26 -->\n",
       "<g id=\"node24\" class=\"node\"><title>rst:26</title>\n",
       "<ellipse fill=\"none\" stroke=\"black\" cx=\"957.239\" cy=\"-540\" rx=\"72.2875\" ry=\"18\"/>\n",
       "<text text-anchor=\"middle\" x=\"957.239\" y=\"-536.3\" font-family=\"Times,serif\" font-size=\"14.00\">rst:group:span:26</text>\n",
       "</g>\n",
       "<!-- rst:13 -->\n",
       "<g id=\"node40\" class=\"node\"><title>rst:13</title>\n",
       "<ellipse fill=\"none\" stroke=\"black\" cx=\"842.239\" cy=\"-453\" rx=\"122.379\" ry=\"18\"/>\n",
       "<text text-anchor=\"middle\" x=\"842.239\" y=\"-449.3\" font-family=\"Times,serif\" font-size=\"14.00\">[s]:13: Die Regierung muss s...</text>\n",
       "</g>\n",
       "<!-- rst:26&#45;&gt;rst:13 -->\n",
       "<g id=\"edge22\" class=\"edge\"><title>rst:26&#45;&gt;rst:13</title>\n",
       "<path fill=\"none\" stroke=\"black\" d=\"M935.338,-522.812C917.661,-509.747 892.584,-491.211 872.909,-476.669\"/>\n",
       "<polygon fill=\"black\" stroke=\"black\" points=\"874.967,-473.838 864.845,-470.708 870.806,-479.467 874.967,-473.838\"/>\n",
       "<text text-anchor=\"middle\" x=\"928.739\" y=\"-492.8\" font-family=\"Times,serif\" font-size=\"14.00\">rst:span</text>\n",
       "</g>\n",
       "<!-- rst:34&#45;&gt;rst:6 -->\n",
       "<g id=\"edge23\" class=\"edge\"><title>rst:34&#45;&gt;rst:6</title>\n",
       "<path fill=\"none\" stroke=\"black\" d=\"M1403.86,-522.207C1414.63,-509.831 1429.46,-492.796 1441.61,-478.847\"/>\n",
       "<polygon fill=\"black\" stroke=\"black\" points=\"1444.47,-480.89 1448.4,-471.049 1439.19,-476.293 1444.47,-480.89\"/>\n",
       "<text text-anchor=\"middle\" x=\"1452.74\" y=\"-492.8\" font-family=\"Times,serif\" font-size=\"14.00\">rst:span</text>\n",
       "</g>\n",
       "<!-- rst:22&#45;&gt;rst:21 -->\n",
       "<g id=\"edge26\" class=\"edge\"><title>rst:22&#45;&gt;rst:21</title>\n",
       "<path fill=\"none\" stroke=\"black\" d=\"M1112.42,-436.804C1083.38,-422.939 1040.27,-402.352 1008.38,-387.126\"/>\n",
       "<polygon fill=\"black\" stroke=\"black\" points=\"1009.83,-383.936 999.294,-382.785 1006.81,-390.252 1009.83,-383.936\"/>\n",
       "<text text-anchor=\"middle\" x=\"1087.74\" y=\"-405.8\" font-family=\"Times,serif\" font-size=\"14.00\">rst:span</text>\n",
       "</g>\n",
       "<!-- rst:39 -->\n",
       "<g id=\"node32\" class=\"node\"><title>rst:39</title>\n",
       "<ellipse fill=\"none\" stroke=\"black\" cx=\"1144.24\" cy=\"-366\" rx=\"72.2875\" ry=\"18\"/>\n",
       "<text text-anchor=\"middle\" x=\"1144.24\" y=\"-362.3\" font-family=\"Times,serif\" font-size=\"14.00\">rst:group:span:39</text>\n",
       "</g>\n",
       "<!-- rst:22&#45;&gt;rst:39 -->\n",
       "<g id=\"edge24\" class=\"edge\"><title>rst:22&#45;&gt;rst:39</title>\n",
       "<path fill=\"none\" stroke=\"black\" d=\"M1144.24,-434.799C1144.24,-423.163 1144.24,-407.548 1144.24,-394.237\"/>\n",
       "<polygon fill=\"black\" stroke=\"black\" points=\"1147.74,-394.175 1144.24,-384.175 1140.74,-394.175 1147.74,-394.175\"/>\n",
       "<text text-anchor=\"middle\" x=\"1189.74\" y=\"-405.8\" font-family=\"Times,serif\" font-size=\"14.00\">rst:interpretation</text>\n",
       "</g>\n",
       "<!-- rst:15 -->\n",
       "<g id=\"node38\" class=\"node\"><title>rst:15</title>\n",
       "<ellipse fill=\"none\" stroke=\"black\" cx=\"1351.24\" cy=\"-366\" rx=\"116.979\" ry=\"18\"/>\n",
       "<text text-anchor=\"middle\" x=\"1351.24\" y=\"-362.3\" font-family=\"Times,serif\" font-size=\"14.00\">[s]:15: Dagmar Ziegler sitzt...</text>\n",
       "</g>\n",
       "<!-- rst:22&#45;&gt;rst:15 -->\n",
       "<g id=\"edge25\" class=\"edge\"><title>rst:22&#45;&gt;rst:15</title>\n",
       "<path fill=\"none\" stroke=\"black\" d=\"M1184.22,-437.943C1201.27,-431.774 1221.33,-424.287 1239.24,-417 1261.72,-407.855 1286.37,-396.944 1306.82,-387.652\"/>\n",
       "<polygon fill=\"black\" stroke=\"black\" points=\"1308.55,-390.71 1316.19,-383.372 1305.64,-384.343 1308.55,-390.71\"/>\n",
       "<text text-anchor=\"middle\" x=\"1319.74\" y=\"-405.8\" font-family=\"Times,serif\" font-size=\"14.00\">rst:interpretation</text>\n",
       "</g>\n",
       "<!-- rst:29 -->\n",
       "<g id=\"node31\" class=\"node\"><title>rst:29</title>\n",
       "<ellipse fill=\"none\" stroke=\"black\" cx=\"277.239\" cy=\"-540\" rx=\"87.9851\" ry=\"18\"/>\n",
       "<text text-anchor=\"middle\" x=\"277.239\" y=\"-536.3\" font-family=\"Times,serif\" font-size=\"14.00\">rst:group:multinuc:29</text>\n",
       "</g>\n",
       "<!-- rst:9&#45;&gt;rst:29 -->\n",
       "<g id=\"edge27\" class=\"edge\"><title>rst:9&#45;&gt;rst:29</title>\n",
       "<path fill=\"none\" stroke=\"black\" d=\"M412.04,-609.611C385.099,-595.899 346.526,-576.266 317.539,-561.512\"/>\n",
       "<polygon fill=\"black\" stroke=\"black\" points=\"318.991,-558.324 308.492,-556.907 315.816,-564.562 318.991,-558.324\"/>\n",
       "<text text-anchor=\"middle\" x=\"397.739\" y=\"-579.8\" font-family=\"Times,serif\" font-size=\"14.00\">rst:reason</text>\n",
       "</g>\n",
       "<!-- rst:32&#45;&gt;rst:18 -->\n",
       "<g id=\"edge28\" class=\"edge\"><title>rst:32&#45;&gt;rst:18</title>\n",
       "<path fill=\"none\" stroke=\"black\" d=\"M1535.29,-174.611C1516.97,-161.525 1491.11,-143.048 1470.83,-128.564\"/>\n",
       "<polygon fill=\"black\" stroke=\"black\" points=\"1472.69,-125.593 1462.52,-122.629 1468.62,-131.289 1472.69,-125.593\"/>\n",
       "<text text-anchor=\"middle\" x=\"1547.24\" y=\"-144.8\" font-family=\"Times,serif\" font-size=\"14.00\">rst:conjunction</text>\n",
       "</g>\n",
       "<!-- rst:8 -->\n",
       "<g id=\"node33\" class=\"node\"><title>rst:8</title>\n",
       "<ellipse fill=\"none\" stroke=\"black\" cx=\"1676.24\" cy=\"-105\" rx=\"108.581\" ry=\"18\"/>\n",
       "<text text-anchor=\"middle\" x=\"1676.24\" y=\"-101.3\" font-family=\"Times,serif\" font-size=\"14.00\">[n]:8: So ist etwa unklar ,...</text>\n",
       "</g>\n",
       "<!-- rst:32&#45;&gt;rst:8 -->\n",
       "<g id=\"edge29\" class=\"edge\"><title>rst:32&#45;&gt;rst:8</title>\n",
       "<path fill=\"none\" stroke=\"black\" d=\"M1580.99,-174.611C1599.16,-161.525 1624.81,-143.048 1644.92,-128.564\"/>\n",
       "<polygon fill=\"black\" stroke=\"black\" points=\"1647.09,-131.313 1653.15,-122.629 1643,-125.634 1647.09,-131.313\"/>\n",
       "<text text-anchor=\"middle\" x=\"1665.24\" y=\"-144.8\" font-family=\"Times,serif\" font-size=\"14.00\">rst:conjunction</text>\n",
       "</g>\n",
       "<!-- rst:29&#45;&gt;rst:27 -->\n",
       "<g id=\"edge31\" class=\"edge\"><title>rst:29&#45;&gt;rst:27</title>\n",
       "<path fill=\"none\" stroke=\"black\" d=\"M247.709,-523.012C222.331,-509.272 185.584,-489.378 158.058,-474.475\"/>\n",
       "<polygon fill=\"black\" stroke=\"black\" points=\"159.567,-471.312 149.107,-469.629 156.235,-477.468 159.567,-471.312\"/>\n",
       "<text text-anchor=\"middle\" x=\"249.239\" y=\"-492.8\" font-family=\"Times,serif\" font-size=\"14.00\">rst:conjunction</text>\n",
       "</g>\n",
       "<!-- rst:29&#45;&gt;rst:10 -->\n",
       "<g id=\"edge30\" class=\"edge\"><title>rst:29&#45;&gt;rst:10</title>\n",
       "<path fill=\"none\" stroke=\"black\" d=\"M287.965,-521.799C295.508,-509.702 305.732,-493.305 314.236,-479.667\"/>\n",
       "<polygon fill=\"black\" stroke=\"black\" points=\"317.209,-481.513 319.53,-471.175 311.269,-477.809 317.209,-481.513\"/>\n",
       "<text text-anchor=\"middle\" x=\"348.239\" y=\"-492.8\" font-family=\"Times,serif\" font-size=\"14.00\">rst:conjunction</text>\n",
       "</g>\n",
       "<!-- rst:39&#45;&gt;rst:3 -->\n",
       "<g id=\"edge32\" class=\"edge\"><title>rst:39&#45;&gt;rst:3</title>\n",
       "<path fill=\"none\" stroke=\"black\" d=\"M1167.85,-348.812C1187.12,-335.604 1214.55,-316.805 1235.86,-302.193\"/>\n",
       "<polygon fill=\"black\" stroke=\"black\" points=\"1238.02,-304.958 1244.29,-296.417 1234.06,-299.184 1238.02,-304.958\"/>\n",
       "<text text-anchor=\"middle\" x=\"1235.74\" y=\"-318.8\" font-family=\"Times,serif\" font-size=\"14.00\">rst:span</text>\n",
       "</g>\n",
       "<!-- rst:25&#45;&gt;rst:14 -->\n",
       "<g id=\"edge34\" class=\"edge\"><title>rst:25&#45;&gt;rst:14</title>\n",
       "<path fill=\"none\" stroke=\"black\" d=\"M712.805,-611.291C670.756,-597.051 606.819,-575.4 561.024,-559.891\"/>\n",
       "<polygon fill=\"black\" stroke=\"black\" points=\"562.135,-556.572 551.541,-556.68 559.89,-563.203 562.135,-556.572\"/>\n",
       "<text text-anchor=\"middle\" x=\"685.239\" y=\"-579.8\" font-family=\"Times,serif\" font-size=\"14.00\">rst:disjunction</text>\n",
       "</g>\n",
       "<!-- rst:25&#45;&gt;rst:20 -->\n",
       "<g id=\"edge33\" class=\"edge\"><title>rst:25&#45;&gt;rst:20</title>\n",
       "<path fill=\"none\" stroke=\"black\" d=\"M756.239,-608.799C756.239,-597.163 756.239,-581.548 756.239,-568.237\"/>\n",
       "<polygon fill=\"black\" stroke=\"black\" points=\"759.739,-568.175 756.239,-558.175 752.739,-568.175 759.739,-568.175\"/>\n",
       "<text text-anchor=\"middle\" x=\"795.239\" y=\"-579.8\" font-family=\"Times,serif\" font-size=\"14.00\">rst:disjunction</text>\n",
       "</g>\n",
       "<!-- rst:25&#45;&gt;rst:26 -->\n",
       "<g id=\"edge35\" class=\"edge\"><title>rst:25&#45;&gt;rst:26</title>\n",
       "<path fill=\"none\" stroke=\"black\" d=\"M792.639,-610.607C826.39,-596.334 876.695,-575.061 912.803,-559.791\"/>\n",
       "<polygon fill=\"black\" stroke=\"black\" points=\"914.274,-562.97 922.121,-555.851 911.547,-556.522 914.274,-562.97\"/>\n",
       "<text text-anchor=\"middle\" x=\"914.739\" y=\"-579.8\" font-family=\"Times,serif\" font-size=\"14.00\">rst:interpretation</text>\n",
       "</g>\n",
       "<!-- rst:11&#45;&gt;rst:12 -->\n",
       "<g id=\"edge36\" class=\"edge\"><title>rst:11&#45;&gt;rst:12</title>\n",
       "<path fill=\"none\" stroke=\"black\" d=\"M120.239,-347.799C120.239,-336.163 120.239,-320.548 120.239,-307.237\"/>\n",
       "<polygon fill=\"black\" stroke=\"black\" points=\"123.739,-307.175 120.239,-297.175 116.739,-307.175 123.739,-307.175\"/>\n",
       "<text text-anchor=\"middle\" x=\"146.739\" y=\"-318.8\" font-family=\"Times,serif\" font-size=\"14.00\">rst:reason</text>\n",
       "</g>\n",
       "<!-- rst:36&#45;&gt;rst:24 -->\n",
       "<g id=\"edge37\" class=\"edge\"><title>rst:36&#45;&gt;rst:24</title>\n",
       "<path fill=\"none\" stroke=\"black\" d=\"M1005.03,-784.607C1032.86,-770.69 1074.01,-750.117 1104.35,-734.944\"/>\n",
       "<polygon fill=\"black\" stroke=\"black\" points=\"1106.02,-738.024 1113.4,-730.422 1102.89,-731.763 1106.02,-738.024\"/>\n",
       "<text text-anchor=\"middle\" x=\"1091.74\" y=\"-753.8\" font-family=\"Times,serif\" font-size=\"14.00\">rst:span</text>\n",
       "</g>\n",
       "<!-- rst:19 -->\n",
       "<g id=\"node39\" class=\"node\"><title>rst:19</title>\n",
       "<ellipse fill=\"none\" stroke=\"black\" cx=\"752.239\" cy=\"-366\" rx=\"108.581\" ry=\"18\"/>\n",
       "<text text-anchor=\"middle\" x=\"752.239\" y=\"-362.3\" font-family=\"Times,serif\" font-size=\"14.00\">[s]:19: und zwar schnell ....</text>\n",
       "</g>\n",
       "<!-- rst:13&#45;&gt;rst:19 -->\n",
       "<g id=\"edge38\" class=\"edge\"><title>rst:13&#45;&gt;rst:19</title>\n",
       "<path fill=\"none\" stroke=\"black\" d=\"M824.026,-434.799C810.642,-422.158 792.287,-404.823 777.488,-390.846\"/>\n",
       "<polygon fill=\"black\" stroke=\"black\" points=\"779.791,-388.207 770.118,-383.885 774.985,-393.296 779.791,-388.207\"/>\n",
       "<text text-anchor=\"middle\" x=\"842.739\" y=\"-405.8\" font-family=\"Times,serif\" font-size=\"14.00\">rst:elaboration</text>\n",
       "</g>\n",
       "</g>\n",
       "</svg>\n"
      ]
     },
     "metadata": {},
     "output_type": "display_data"
    }
   ],
   "source": [
    "%dotstr dg.print_dot(rdg_maz00001)"
   ]
  },
  {
   "cell_type": "code",
   "execution_count": null,
   "metadata": {
    "collapsed": true
   },
   "outputs": [],
   "source": []
  }
 ],
 "metadata": {
  "kernelspec": {
   "display_name": "Python 2",
   "language": "python",
   "name": "python2"
  },
  "language_info": {
   "codemirror_mode": {
    "name": "ipython",
    "version": 2
   },
   "file_extension": ".py",
   "mimetype": "text/x-python",
   "name": "python",
   "nbconvert_exporter": "python",
   "pygments_lexer": "ipython2",
   "version": "2.7.12"
  }
 },
 "nbformat": 4,
 "nbformat_minor": 2
}
