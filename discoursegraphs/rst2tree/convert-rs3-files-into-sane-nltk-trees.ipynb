{
 "cells": [
  {
   "cell_type": "code",
   "execution_count": 1,
   "metadata": {
    "collapsed": false,
    "deletable": true,
    "editable": true
   },
   "outputs": [],
   "source": [
    "import os\n",
    "from lxml import etree\n",
    "from nltk.tree import ParentedTree\n",
    "from rstviewer import embed_rs3_image, embed_rs3str_image\n",
    "import discoursegraphs as dg\n",
    "from discoursegraphs.readwrite.rst.rs3 import extract_relationtypes\n",
    "from discoursegraphs import t"
   ]
  },
  {
   "cell_type": "code",
   "execution_count": 2,
   "metadata": {
    "collapsed": false,
    "deletable": true,
    "editable": true
   },
   "outputs": [],
   "source": [
    "# !ls *.rs3"
   ]
  },
  {
   "cell_type": "code",
   "execution_count": 3,
   "metadata": {
    "collapsed": false,
    "deletable": true,
    "editable": true
   },
   "outputs": [],
   "source": [
    "# embed_rs3_image(\"foo-bar-only-segments.rs3\")"
   ]
  },
  {
   "cell_type": "code",
   "execution_count": 4,
   "metadata": {
    "collapsed": false,
    "deletable": true,
    "editable": true
   },
   "outputs": [
    {
     "data": {
      "image/png": "[encoded data removed]",
      "text/plain": [
       "ParentedTree('linear-sequence', [ParentedTree('N', ['foo']), ParentedTree('N', ['bar'])])"
      ]
     },
     "execution_count": 4,
     "metadata": {},
     "output_type": "execute_result"
    }
   ],
   "source": [
    "# as the leaves are unconnected, we need to add a root node and edges\n",
    "# maybe we should always connect unconnected nodes into a linear-sequence multinuc\n",
    "t(\"linear-sequence\", [\n",
    "    (\"N\", \"foo\"),\n",
    "    (\"N\", \"bar\")])"
   ]
  },
  {
   "cell_type": "code",
   "execution_count": 5,
   "metadata": {
    "collapsed": false,
    "deletable": true,
    "editable": true
   },
   "outputs": [],
   "source": [
    "# embed_rs3_image(\"foo-bar-circ-foo-to-bar.rs3\")"
   ]
  },
  {
   "cell_type": "code",
   "execution_count": 6,
   "metadata": {
    "collapsed": false,
    "deletable": true,
    "editable": true
   },
   "outputs": [
    {
     "data": {
      "image/png": "[encoded data removed]",
      "text/plain": [
       "ParentedTree('circumstance', [ParentedTree('S', ['foo']), ParentedTree('N', ['bar'])])"
      ]
     },
     "execution_count": 6,
     "metadata": {},
     "output_type": "execute_result"
    }
   ],
   "source": [
    "t(\"circumstance\", [\n",
    "    (\"S\", \"foo\"),\n",
    "    (\"N\", \"bar\")])"
   ]
  },
  {
   "cell_type": "code",
   "execution_count": 7,
   "metadata": {
    "collapsed": false,
    "deletable": true,
    "editable": true
   },
   "outputs": [],
   "source": [
    "# embed_rs3_image(\"foo-bar-elab-foo-to-bar.rs3\")"
   ]
  },
  {
   "cell_type": "code",
   "execution_count": 8,
   "metadata": {
    "collapsed": false,
    "deletable": true,
    "editable": true
   },
   "outputs": [
    {
     "data": {
      "image/png": "[encoded data removed]",
      "text/plain": [
       "ParentedTree('elaboration', [ParentedTree('S', ['foo']), ParentedTree('N', ['bar'])])"
      ]
     },
     "execution_count": 8,
     "metadata": {},
     "output_type": "execute_result"
    }
   ],
   "source": [
    "t(\"elaboration\", [\n",
    "    (\"S\", \"foo\"),\n",
    "    (\"N\", \"bar\")])"
   ]
  },
  {
   "cell_type": "code",
   "execution_count": 9,
   "metadata": {
    "collapsed": false,
    "deletable": true,
    "editable": true
   },
   "outputs": [],
   "source": [
    "# embed_rs3_image(\"foo-bar-circ-bar-to-foo.rs3\")"
   ]
  },
  {
   "cell_type": "code",
   "execution_count": 10,
   "metadata": {
    "collapsed": false,
    "deletable": true,
    "editable": true
   },
   "outputs": [
    {
     "data": {
      "image/png": "[encoded data removed]",
      "text/plain": [
       "ParentedTree('circumstance', [ParentedTree('N', ['foo']), ParentedTree('S', ['bar'])])"
      ]
     },
     "execution_count": 10,
     "metadata": {},
     "output_type": "execute_result"
    }
   ],
   "source": [
    "t(\"circumstance\", [\n",
    "    (\"N\", \"foo\"),\n",
    "    (\"S\", \"bar\")])"
   ]
  },
  {
   "cell_type": "code",
   "execution_count": 11,
   "metadata": {
    "collapsed": false,
    "deletable": true,
    "editable": true
   },
   "outputs": [],
   "source": [
    "# embed_rs3_image(\"foo-bar-elab-bar-to-foo.rs3\")"
   ]
  },
  {
   "cell_type": "code",
   "execution_count": 12,
   "metadata": {
    "collapsed": false,
    "deletable": true,
    "editable": true
   },
   "outputs": [
    {
     "data": {
      "image/png": "[encoded data removed]",
      "text/plain": [
       "ParentedTree('elaboration', [ParentedTree('N', ['foo']), ParentedTree('S', ['bar'])])"
      ]
     },
     "execution_count": 12,
     "metadata": {},
     "output_type": "execute_result"
    }
   ],
   "source": [
    "t(\"elaboration\", [\n",
    "    (\"N\", \"foo\"),\n",
    "    (\"S\", \"bar\")])"
   ]
  },
  {
   "cell_type": "code",
   "execution_count": 13,
   "metadata": {
    "collapsed": false,
    "deletable": true,
    "editable": true
   },
   "outputs": [],
   "source": [
    "# embed_rs3_image(\"foo-bar-foo-conj-bar.rs3\")"
   ]
  },
  {
   "cell_type": "code",
   "execution_count": 14,
   "metadata": {
    "collapsed": false,
    "deletable": true,
    "editable": true
   },
   "outputs": [
    {
     "data": {
      "image/png": "[encoded data removed]",
      "text/plain": [
       "ParentedTree('conjunction', [ParentedTree('N', ['foo']), ParentedTree('N', ['bar'])])"
      ]
     },
     "execution_count": 14,
     "metadata": {},
     "output_type": "execute_result"
    }
   ],
   "source": [
    "t(\"conjunction\", [\n",
    "    (\"N\", \"foo\"),\n",
    "    (\"N\", \"bar\")])"
   ]
  },
  {
   "cell_type": "code",
   "execution_count": 15,
   "metadata": {
    "collapsed": false,
    "deletable": true,
    "editable": true
   },
   "outputs": [],
   "source": [
    "# embed_rs3_image(\"foo-bar-foo-joint-bar.rs3\")"
   ]
  },
  {
   "cell_type": "code",
   "execution_count": 16,
   "metadata": {
    "collapsed": false,
    "deletable": true,
    "editable": true
   },
   "outputs": [
    {
     "data": {
      "image/png": "[encoded data removed]",
      "text/plain": [
       "ParentedTree('joint', [ParentedTree('N', ['foo']), ParentedTree('N', ['bar'])])"
      ]
     },
     "execution_count": 16,
     "metadata": {},
     "output_type": "execute_result"
    }
   ],
   "source": [
    "t(\"joint\", [\n",
    "    (\"N\", \"foo\"),\n",
    "    (\"N\", \"bar\")])"
   ]
  },
  {
   "cell_type": "code",
   "execution_count": 17,
   "metadata": {
    "collapsed": false,
    "deletable": true,
    "editable": true
   },
   "outputs": [],
   "source": [
    "# trees_with_three_elems = !ls eins*.rs3\n",
    "# for rs3_file in trees_with_three_elems:\n",
    "#     print \"embed_rs3_image('{}')\".format(rs3_file)"
   ]
  },
  {
   "cell_type": "code",
   "execution_count": 18,
   "metadata": {
    "collapsed": false,
    "deletable": true,
    "editable": true
   },
   "outputs": [],
   "source": [
    "# embed_rs3_image('eins-zwei-drei-only-segments.rs3')"
   ]
  },
  {
   "cell_type": "code",
   "execution_count": 19,
   "metadata": {
    "collapsed": false,
    "deletable": true,
    "editable": true
   },
   "outputs": [
    {
     "data": {
      "image/png": "[encoded data removed]",
      "text/plain": [
       "ParentedTree('linear-sequence', [ParentedTree('N', ['eins']), ParentedTree('N', ['zwei']), ParentedTree('N', ['drei'])])"
      ]
     },
     "execution_count": 19,
     "metadata": {},
     "output_type": "execute_result"
    }
   ],
   "source": [
    "# as the leaves are unconnected, we need to add a root node and edges\n",
    "# maybe we should always connect unconnected nodes into a linear-sequence multinuc\n",
    "t(\"linear-sequence\", [(\"N\", \"eins\"), (\"N\", \"zwei\"), (\"N\", \"drei\")])"
   ]
  },
  {
   "cell_type": "code",
   "execution_count": 20,
   "metadata": {
    "collapsed": false,
    "deletable": true,
    "editable": true
   },
   "outputs": [],
   "source": [
    "# embed_rs3_image('eins-zwei-drei-(circ-(circ-eins-from-zwei)-to-drei).rs3')"
   ]
  },
  {
   "cell_type": "code",
   "execution_count": 21,
   "metadata": {
    "collapsed": false,
    "deletable": true,
    "editable": true
   },
   "outputs": [
    {
     "data": {
      "image/png": "[encoded data removed]",
      "text/plain": [
       "ParentedTree('circumstance', [ParentedTree('S', [ParentedTree('circumstance', [ParentedTree('N', ['eins']), ParentedTree('S', ['zwei'])])]), ParentedTree('N', ['drei'])])"
      ]
     },
     "execution_count": 21,
     "metadata": {},
     "output_type": "execute_result"
    }
   ],
   "source": [
    "t(\"circumstance\", [\n",
    "    (\"S\", [\n",
    "        (\"circumstance\", [\n",
    "            (\"N\", \"eins\"),\n",
    "            (\"S\", \"zwei\")])]),\n",
    "    (\"N\", \"drei\")])"
   ]
  },
  {
   "cell_type": "code",
   "execution_count": 22,
   "metadata": {
    "collapsed": false,
    "deletable": true,
    "editable": true
   },
   "outputs": [],
   "source": [
    "# embed_rs3_image('eins-zwei-drei-(circ-(circ-eins-from-zwei)-from-drei).rs3')"
   ]
  },
  {
   "cell_type": "code",
   "execution_count": 23,
   "metadata": {
    "collapsed": false,
    "deletable": true,
    "editable": true
   },
   "outputs": [
    {
     "data": {
      "image/png": "[encoded data removed]",
      "text/plain": [
       "ParentedTree('circumstance', [ParentedTree('N', [ParentedTree('circumstance', [ParentedTree('N', ['eins']), ParentedTree('S', ['zwei'])])]), ParentedTree('S', ['drei'])])"
      ]
     },
     "execution_count": 23,
     "metadata": {},
     "output_type": "execute_result"
    }
   ],
   "source": [
    "t(\"circumstance\", [\n",
    "    (\"N\", [\n",
    "        (\"circumstance\", [\n",
    "            (\"N\", \"eins\"),\n",
    "            (\"S\", \"zwei\")])]),\n",
    "    (\"S\", \"drei\")])"
   ]
  },
  {
   "cell_type": "code",
   "execution_count": 24,
   "metadata": {
    "collapsed": false,
    "deletable": true,
    "editable": true
   },
   "outputs": [],
   "source": [
    "# embed_rs3_image('eins-zwei-drei-(circ-(circ-eins-to-zwei)-to-drei.rs3')"
   ]
  },
  {
   "cell_type": "code",
   "execution_count": 25,
   "metadata": {
    "collapsed": false,
    "deletable": true,
    "editable": true
   },
   "outputs": [
    {
     "data": {
      "image/png": "[encoded data removed]",
      "text/plain": [
       "ParentedTree('circumstance', [ParentedTree('S', [ParentedTree('circumstance', [ParentedTree('S', ['eins']), ParentedTree('N', ['zwei'])])]), ParentedTree('N', ['drei'])])"
      ]
     },
     "execution_count": 25,
     "metadata": {},
     "output_type": "execute_result"
    }
   ],
   "source": [
    "t(\"circumstance\", [\n",
    "    (\"S\", [\n",
    "        (\"circumstance\", [\n",
    "            (\"S\", \"eins\"),\n",
    "            (\"N\", \"zwei\")])]),\n",
    "    (\"N\", \"drei\")])"
   ]
  },
  {
   "cell_type": "code",
   "execution_count": 26,
   "metadata": {
    "collapsed": false,
    "deletable": true,
    "editable": true
   },
   "outputs": [],
   "source": [
    "# embed_rs3_image('eins-zwei-drei-(circ-(circ-eins-to-zwei)-from-drei).rs3')"
   ]
  },
  {
   "cell_type": "code",
   "execution_count": 27,
   "metadata": {
    "collapsed": false,
    "deletable": true,
    "editable": true
   },
   "outputs": [
    {
     "data": {
      "image/png": "[encoded data removed]",
      "text/plain": [
       "ParentedTree('circumstance', [ParentedTree('N', [ParentedTree('circumstance', [ParentedTree('S', ['eins']), ParentedTree('N', ['zwei'])])]), ParentedTree('S', ['drei'])])"
      ]
     },
     "execution_count": 27,
     "metadata": {},
     "output_type": "execute_result"
    }
   ],
   "source": [
    "t(\"circumstance\", [\n",
    "    (\"N\", [\n",
    "        (\"circumstance\", [\n",
    "            (\"S\", \"eins\"),\n",
    "            (\"N\", \"zwei\")])]),\n",
    "    (\"S\", \"drei\")])"
   ]
  },
  {
   "cell_type": "code",
   "execution_count": 28,
   "metadata": {
    "collapsed": false,
    "deletable": true,
    "editable": true
   },
   "outputs": [],
   "source": [
    "# embed_rs3_image('eins-zwei-drei-(circ-eins-to-(joint-zwei-and-drei).rs3')"
   ]
  },
  {
   "cell_type": "code",
   "execution_count": 29,
   "metadata": {
    "collapsed": false,
    "deletable": true,
    "editable": true
   },
   "outputs": [
    {
     "data": {
      "image/png": "[encoded data removed]",
      "text/plain": [
       "ParentedTree('circumstance', [ParentedTree('S', ['eins']), ParentedTree('N', [ParentedTree('joint', [ParentedTree('N', ['zwei']), ParentedTree('N', ['drei'])])])])"
      ]
     },
     "execution_count": 29,
     "metadata": {},
     "output_type": "execute_result"
    }
   ],
   "source": [
    "t(\"circumstance\", [\n",
    "    (\"S\", \"eins\"),\n",
    "    (\"N\", [\n",
    "        (\"joint\", [\n",
    "            (\"N\", \"zwei\"),\n",
    "            (\"N\", \"drei\")])])])"
   ]
  },
  {
   "cell_type": "code",
   "execution_count": 30,
   "metadata": {
    "collapsed": false,
    "deletable": true,
    "editable": true
   },
   "outputs": [],
   "source": [
    "# embed_rs3_image('eins-zwei-drei-(circ-eins-from-(joint-zwei-and-drei).rs3')"
   ]
  },
  {
   "cell_type": "code",
   "execution_count": 31,
   "metadata": {
    "collapsed": false,
    "deletable": true,
    "editable": true
   },
   "outputs": [
    {
     "data": {
      "image/png": "[encoded data removed]",
      "text/plain": [
       "ParentedTree('circumstance', [ParentedTree('N', ['eins']), ParentedTree('S', [ParentedTree('joint', [ParentedTree('N', ['zwei']), ParentedTree('N', ['drei'])])])])"
      ]
     },
     "execution_count": 31,
     "metadata": {},
     "output_type": "execute_result"
    }
   ],
   "source": [
    "t(\"circumstance\", [\n",
    "    (\"N\", \"eins\"),\n",
    "    (\"S\", [\n",
    "        (\"joint\", [\n",
    "            (\"N\", \"zwei\"),\n",
    "            (\"N\", \"drei\")])])])"
   ]
  },
  {
   "cell_type": "code",
   "execution_count": 32,
   "metadata": {
    "collapsed": false,
    "deletable": true,
    "editable": true
   },
   "outputs": [],
   "source": [
    "# embed_rs3_image('eins-zwei-drei-(circ-(joint-eins-and-zwei)-to-drei).rs3')"
   ]
  },
  {
   "cell_type": "code",
   "execution_count": 33,
   "metadata": {
    "collapsed": false,
    "deletable": true,
    "editable": true
   },
   "outputs": [
    {
     "data": {
      "image/png": "[encoded data removed]",
      "text/plain": [
       "ParentedTree('circumstance', [ParentedTree('S', [ParentedTree('joint', [ParentedTree('N', ['eins']), ParentedTree('N', ['zwei'])])]), ParentedTree('N', ['drei'])])"
      ]
     },
     "execution_count": 33,
     "metadata": {},
     "output_type": "execute_result"
    }
   ],
   "source": [
    "t(\"circumstance\", [\n",
    "    (\"S\", [\n",
    "        (\"joint\", [\n",
    "            (\"N\", \"eins\"),\n",
    "            (\"N\", \"zwei\")\n",
    "        ])\n",
    "    ]),\n",
    "    (\"N\", \"drei\")\n",
    "])"
   ]
  },
  {
   "cell_type": "code",
   "execution_count": 34,
   "metadata": {
    "collapsed": false,
    "deletable": true,
    "editable": true
   },
   "outputs": [],
   "source": [
    "# embed_rs3_image('eins-zwei-drei-(circ-(joint-eins-and-zwei)-from-drei).rs3')"
   ]
  },
  {
   "cell_type": "code",
   "execution_count": 35,
   "metadata": {
    "collapsed": false,
    "deletable": true,
    "editable": true
   },
   "outputs": [
    {
     "data": {
      "image/png": "[encoded data removed]",
      "text/plain": [
       "ParentedTree('circumstance', [ParentedTree('N', [ParentedTree('joint', [ParentedTree('N', ['eins']), ParentedTree('N', ['zwei'])])]), ParentedTree('S', ['drei'])])"
      ]
     },
     "execution_count": 35,
     "metadata": {},
     "output_type": "execute_result"
    }
   ],
   "source": [
    "t(\"circumstance\", [\n",
    "    (\"N\", [\n",
    "        (\"joint\", [\n",
    "            (\"N\", \"eins\"),\n",
    "            (\"N\", \"zwei\")\n",
    "        ])\n",
    "    ]),\n",
    "    (\"S\", \"drei\")\n",
    "])"
   ]
  },
  {
   "cell_type": "code",
   "execution_count": 36,
   "metadata": {
    "collapsed": false,
    "deletable": true,
    "editable": true
   },
   "outputs": [],
   "source": [
    "# embed_rs3_image('eins-zwei-drei-(elab-eins-from-(joint-zwei-and-drei).rs3')"
   ]
  },
  {
   "cell_type": "code",
   "execution_count": 37,
   "metadata": {
    "collapsed": false,
    "deletable": true,
    "editable": true
   },
   "outputs": [
    {
     "data": {
      "image/png": "[encoded data removed]",
      "text/plain": [
       "ParentedTree('elaboration', [ParentedTree('N', [ParentedTree('joint', [ParentedTree('N', ['eins']), ParentedTree('N', ['zwei'])])]), ParentedTree('S', ['drei'])])"
      ]
     },
     "execution_count": 37,
     "metadata": {},
     "output_type": "execute_result"
    }
   ],
   "source": [
    "t(\"elaboration\", [\n",
    "    (\"N\", [\n",
    "        (\"joint\", [\n",
    "            (\"N\", \"eins\"),\n",
    "            (\"N\", \"zwei\")\n",
    "        ])\n",
    "    ]),\n",
    "    (\"S\", \"drei\")\n",
    "])"
   ]
  },
  {
   "cell_type": "code",
   "execution_count": 38,
   "metadata": {
    "collapsed": false,
    "deletable": true,
    "editable": true
   },
   "outputs": [],
   "source": [
    "# embed_rs3_image('eins-zwei-drei-(joint-eins-and-zwei-and-drei).rs3')"
   ]
  },
  {
   "cell_type": "code",
   "execution_count": 39,
   "metadata": {
    "collapsed": false,
    "deletable": true,
    "editable": true
   },
   "outputs": [
    {
     "data": {
      "image/png": "[encoded data removed]",
      "text/plain": [
       "ParentedTree('joint', [ParentedTree('N', ['eins']), ParentedTree('N', ['zwei']), ParentedTree('N', ['drei'])])"
      ]
     },
     "execution_count": 39,
     "metadata": {},
     "output_type": "execute_result"
    }
   ],
   "source": [
    "t(\"joint\", [(\"N\", \"eins\"), (\"N\", \"zwei\"), (\"N\", \"drei\")])"
   ]
  },
  {
   "cell_type": "code",
   "execution_count": null,
   "metadata": {
    "collapsed": true,
    "deletable": true,
    "editable": true
   },
   "outputs": [],
   "source": []
  },
  {
   "cell_type": "code",
   "execution_count": 40,
   "metadata": {
    "collapsed": true,
    "deletable": true,
    "editable": true
   },
   "outputs": [],
   "source": [
    "example_tree = t(\"elaboration\", [\n",
    "    (\"N\", [\n",
    "        (\"joint\", [\n",
    "            (\"N\", \"eins\"),\n",
    "            (\"N\", \"zwei\")\n",
    "        ])\n",
    "    ]),\n",
    "    (\"S\", \"drei\")\n",
    "])"
   ]
  },
  {
   "cell_type": "code",
   "execution_count": 41,
   "metadata": {
    "collapsed": false,
    "deletable": true,
    "editable": true
   },
   "outputs": [
    {
     "data": {
      "text/plain": [
       "['eins', 'zwei', 'drei']"
      ]
     },
     "execution_count": 41,
     "metadata": {},
     "output_type": "execute_result"
    }
   ],
   "source": [
    "example_tree.leaves()"
   ]
  },
  {
   "cell_type": "code",
   "execution_count": 42,
   "metadata": {
    "collapsed": false,
    "deletable": true,
    "editable": true
   },
   "outputs": [
    {
     "name": "stdout",
     "output_type": "stream",
     "text": [
      "           elaboration     \n",
      "        ________|_______    \n",
      "       N                |  \n",
      "       |                |   \n",
      "     joint              |  \n",
      "  _____|________        |   \n",
      " N              N       S  \n",
      " |              |       |   \n",
      "eins           zwei    drei\n",
      "\n"
     ]
    }
   ],
   "source": [
    "example_tree.pretty_print()"
   ]
  },
  {
   "cell_type": "markdown",
   "metadata": {
    "deletable": true,
    "editable": true
   },
   "source": [
    "# TODO: does dg.readwrite.tree work with RSTGraph?"
   ]
  },
  {
   "cell_type": "code",
   "execution_count": 43,
   "metadata": {
    "collapsed": true,
    "deletable": true,
    "editable": true
   },
   "outputs": [],
   "source": [
    "example_rs3 = 'eins-zwei-drei-(elab-eins-from-(joint-zwei-and-drei).rs3'"
   ]
  },
  {
   "cell_type": "code",
   "execution_count": 44,
   "metadata": {
    "collapsed": false,
    "deletable": true,
    "editable": true
   },
   "outputs": [],
   "source": [
    "# embed_rs3_image(example_rs3)"
   ]
  },
  {
   "cell_type": "code",
   "execution_count": 45,
   "metadata": {
    "collapsed": false,
    "deletable": true,
    "editable": true
   },
   "outputs": [
    {
     "data": {
      "image/png": "[encoded data removed]",
      "text/plain": [
       "ParentedTree('elaboration', [ParentedTree('N', [ParentedTree('joint', [ParentedTree('N', ['eins']), ParentedTree('N', ['zwei'])])]), ParentedTree('S', ['drei'])])"
      ]
     },
     "execution_count": 45,
     "metadata": {},
     "output_type": "execute_result"
    }
   ],
   "source": [
    "t(\"elaboration\", [\n",
    "    (\"N\", [\n",
    "        (\"joint\", [\n",
    "            (\"N\", \"eins\"),\n",
    "            (\"N\", \"zwei\")\n",
    "        ])\n",
    "    ]),\n",
    "    (\"S\", \"drei\")\n",
    "])"
   ]
  },
  {
   "cell_type": "code",
   "execution_count": 46,
   "metadata": {
    "collapsed": false,
    "deletable": true,
    "editable": true
   },
   "outputs": [],
   "source": [
    "rdg = dg.read_rs3(example_rs3)"
   ]
  },
  {
   "cell_type": "code",
   "execution_count": 47,
   "metadata": {
    "collapsed": true,
    "deletable": true,
    "editable": true
   },
   "outputs": [],
   "source": [
    "# %load_ext gvmagic"
   ]
  },
  {
   "cell_type": "code",
   "execution_count": 48,
   "metadata": {
    "collapsed": false,
    "deletable": true,
    "editable": true
   },
   "outputs": [],
   "source": [
    "# %dotstr dg.print_dot(rdg)"
   ]
  },
  {
   "cell_type": "markdown",
   "metadata": {
    "deletable": true,
    "editable": true
   },
   "source": [
    "# TODO: why is root node not connected?"
   ]
  },
  {
   "cell_type": "markdown",
   "metadata": {
    "deletable": true,
    "editable": true
   },
   "source": [
    "because the root node is a `<segment>` and not a `<group>`.\n",
    "\n",
    "```xml\n",
    "<body>\n",
    "    <segment id=\"1\">eins</segment>\n",
    "    <segment id=\"2\" parent=\"4\" relname=\"joint\"> zwei</segment>\n",
    "    <segment id=\"3\" parent=\"4\" relname=\"joint\"> drei</segment>\n",
    "    <group id=\"4\" type=\"multinuc\" parent=\"1\" relname=\"elaboration\" />\n",
    "</body>\n",
    "```"
   ]
  },
  {
   "cell_type": "code",
   "execution_count": 49,
   "metadata": {
    "collapsed": false,
    "deletable": true,
    "editable": true
   },
   "outputs": [],
   "source": [
    "# rdg_maz00001 = dg.corpora.pcc.get_document('maz-00001')"
   ]
  },
  {
   "cell_type": "code",
   "execution_count": 50,
   "metadata": {
    "collapsed": false,
    "deletable": true,
    "editable": true
   },
   "outputs": [],
   "source": [
    "# dg.corpora.pcc.get_files_by_document_id('maz-00001')"
   ]
  },
  {
   "cell_type": "code",
   "execution_count": 51,
   "metadata": {
    "collapsed": false,
    "deletable": true,
    "editable": true
   },
   "outputs": [],
   "source": [
    "# maz00001_rs3 = \"/usr/local/lib/python2.7/dist-packages/discoursegraphs-0.3.2-py2.7.egg/discoursegraphs/data/potsdam-commentary-corpus-2.0.0/rst/maz-00001.rs3\"\n",
    "# rdg_maz00001 = dg.read_rs3(maz00001_rs3, tokenize=False)"
   ]
  },
  {
   "cell_type": "code",
   "execution_count": 52,
   "metadata": {
    "collapsed": false,
    "deletable": true,
    "editable": true
   },
   "outputs": [],
   "source": [
    "# %dotstr dg.print_dot(rdg_maz00001)"
   ]
  },
  {
   "cell_type": "code",
   "execution_count": 53,
   "metadata": {
    "collapsed": false,
    "deletable": true,
    "editable": true
   },
   "outputs": [],
   "source": [
    "# 'eins-zwei-drei-(elab-eins-from-(joint-zwei-and-drei).rs3'\n",
    "\n",
    "rs3str1 = \"\"\"<rst>\n",
    "  <header>\n",
    "    <relations>\n",
    "      <rel name=\"elaboration\" type=\"rst\" />\n",
    "      <rel name=\"joint\" type=\"multinuc\" />\n",
    "    </relations>\n",
    "  </header>\n",
    "  <body>\n",
    "    <segment id=\"1\">eins</segment>\n",
    "    <segment id=\"2\" parent=\"4\" relname=\"joint\"> zwei</segment>\n",
    "    <segment id=\"3\" parent=\"4\" relname=\"joint\"> drei</segment>\n",
    "    <group id=\"4\" type=\"multinuc\" parent=\"1\" relname=\"elaboration\" />\n",
    "  </body>\n",
    "</rst>\"\"\""
   ]
  },
  {
   "cell_type": "code",
   "execution_count": 54,
   "metadata": {
    "collapsed": false,
    "deletable": true,
    "editable": true
   },
   "outputs": [],
   "source": [
    "# embed_rs3str_image(rs3str1)"
   ]
  },
  {
   "cell_type": "code",
   "execution_count": 55,
   "metadata": {
    "collapsed": false,
    "deletable": true,
    "editable": true
   },
   "outputs": [
    {
     "data": {
      "text/plain": [
       "{'elaboration': 'rst', 'joint': 'multinuc'}"
      ]
     },
     "execution_count": 55,
     "metadata": {},
     "output_type": "execute_result"
    }
   ],
   "source": [
    "rs3etree1 = etree.fromstring(rs3str1)\n",
    "extract_relationtypes(rs3etree1)"
   ]
  },
  {
   "cell_type": "code",
   "execution_count": 56,
   "metadata": {
    "collapsed": false,
    "deletable": true,
    "editable": true
   },
   "outputs": [],
   "source": [
    "from collections import defaultdict\n",
    "\n",
    "def rs3_to_dicts(rs3_file):\n",
    "    rs3_etree = etree.parse(rs3_file)\n",
    "    reltypes = extract_relationtypes(rs3_etree)\n",
    "    elements = defaultdict(lambda : defaultdict(str))\n",
    "    children = defaultdict(list)\n",
    "\n",
    "    for elem in rs3_etree.iter('segment'):\n",
    "        segment_id = elem.attrib['id']\n",
    "        parent_id = elem.attrib.get('parent')\n",
    "        elements[segment_id]['parent'] = parent_id\n",
    "        \n",
    "        relname = elem.attrib.get('relname')\n",
    "        elements[segment_id]['relname'] = relname\n",
    "        if relname == None:\n",
    "            elements[segment_id]['segment_type'] = 'isolate'\n",
    "        elif relname == 'span':\n",
    "            elements[segment_id]['segment_type'] = 'nucleus'\n",
    "        else:\n",
    "            if reltypes[relname] == 'rst':\n",
    "                elements[segment_id]['segment_type'] = 'satellite'\n",
    "            else:  #reltypes[relname] == 'multinuc'\n",
    "                elements[segment_id]['segment_type'] = 'multinuc'\n",
    "                    \n",
    "        elements[segment_id]['text'] = elem.text\n",
    "        elements[segment_id]['element_type'] = 'segment'\n",
    "        children[parent_id].append(segment_id)\n",
    "\n",
    "    for elem in rs3_etree.iter('group'):\n",
    "        group_id = elem.attrib['id']\n",
    "        parent_id = elem.attrib.get('parent')\n",
    "        elements[group_id]['parent'] = parent_id\n",
    "        elements[group_id]['relname'] = elem.attrib.get('relname')\n",
    "        elements[group_id]['group_type'] = elem.attrib.get('type')\n",
    "        elements[group_id]['element_type'] = 'group'\n",
    "        children[parent_id].append(group_id)\n",
    "    \n",
    "    return children, elements"
   ]
  },
  {
   "cell_type": "code",
   "execution_count": 57,
   "metadata": {
    "collapsed": true,
    "deletable": true,
    "editable": true
   },
   "outputs": [],
   "source": [
    "def children_dict2tree(child_dict, elements_dict, start_node=None):\n",
    "    children = child_dict[start_node]\n",
    "\n",
    "    if len(children) == 0:\n",
    "        edu_text = elements_dict[start_node]['text']\n",
    "        formatted_edu_text = '\\n'.join(edu_text.split())\n",
    "        return t(start_node, formatted_edu_text)\n",
    "    if len(children) == 1:\n",
    "        child = children[0]\n",
    "        return t(child, children_dict2tree(child_dict, elements_dict, start_node=child))\n",
    "    else:\n",
    "        child_trees = [children_dict2tree(child_dict, elements_dict, start_node=child)\n",
    "                       for child in children]\n",
    "        if start_node is None:\n",
    "            return t(\"root\", child_trees)\n",
    "        else:\n",
    "            return child_trees"
   ]
  },
  {
   "cell_type": "code",
   "execution_count": 58,
   "metadata": {
    "collapsed": false,
    "deletable": true,
    "editable": true
   },
   "outputs": [],
   "source": [
    "# children_dict2tree(children, elements)"
   ]
  },
  {
   "cell_type": "markdown",
   "metadata": {
    "deletable": true,
    "editable": true
   },
   "source": [
    "# TODO: study the smallest PCC RS3 file that has these errors"
   ]
  },
  {
   "cell_type": "code",
   "execution_count": 59,
   "metadata": {
    "collapsed": false,
    "deletable": true,
    "editable": true
   },
   "outputs": [],
   "source": [
    "smallest_pcc_rs3_file = sorted((os.path.getsize(rs3_file), rs3_file)\n",
    "                               for rs3_file in dg.corpora.pcc.get_files_by_layer('rst'))[0][1]"
   ]
  },
  {
   "cell_type": "code",
   "execution_count": 60,
   "metadata": {
    "collapsed": false,
    "deletable": true,
    "editable": true
   },
   "outputs": [
    {
     "data": {
      "image/png": "[encoded data removed]",
      "text/plain": [
       "ParentedTree('root', [ParentedTree('1', ['Naive\\nPDS']), ParentedTree('19', [ParentedTree('14', [ParentedTree('11', ['Die\\ninnenpolitische\\nSituation\\nin\\nDeutschland\\nhat\\nsich\\nseit\\nden\\nTerroranschl\\xe4gen\\nin\\nden\\nUSA\\ngrundlegend\\ngewandelt\\n:']), ParentedTree('2', ['Wohl\\nniemand\\nh\\xe4tte\\nsich\\nvor\\ndem\\n11.\\nSeptember\\nvorstellen\\nk\\xf6nnen\\n,\\ndass\\ndie\\nin\\nden\\n70er\\nJahren\\ngegen\\ndie\\nRAF\\nerprobte\\nund\\nbew\\xe4hrte\\nRasterfahndung\\ninnerhalb\\nk\\xfcrzester\\nZeit\\nwieder\\neingef\\xfchrt\\nw\\xfcrde\\n-']), ParentedTree('3', [ParentedTree('12', [ParentedTree('5', [ParentedTree('4', [ParentedTree('4', ['Auch\\nwenn\\ndie\\nBasis\\nmurrt\\n,'])])])])])]), ParentedTree('17', [ParentedTree('16', [ParentedTree('7', ['Wer\\nin\\neinem\\nParteitagsantrag\\nfeststellt\\n,\\ndass\\nder\\ninternational\\noperierende\\nTerrorismus\\nallein\\nmit\\n\"\\ninnerem\\nFrieden\\nund\\ngesellschaftlichem\\nAusgleich\\n\"\\nbek\\xe4mpft\\nwerden\\nkann\\n,']), ParentedTree('8', ['ist\\nentweder\\ngrenzenlos\\nnaiv']), ParentedTree('10', ['oder\\nnimmt\\nsich\\nselbst\\nnicht\\nernst\\n.'])])]), ParentedTree('9', ['Es\\nbleibt\\nabzuwarten\\n,\\nob\\ndas\\nrealit\\xe4tsferne\\nHerumlavieren\\nder\\nPartei\\nbereits\\nbei\\nder\\nBerlin-Wahl\\nam\\n21.\\nOktober\\nFolgen\\nhaben\\nwird\\n.'])])])"
      ]
     },
     "execution_count": 60,
     "metadata": {},
     "output_type": "execute_result"
    }
   ],
   "source": [
    "child_dict, elements_dict = rs3_to_dicts(smallest_pcc_rs3_file)\n",
    "children_dict2tree(child_dict, elements_dict)"
   ]
  },
  {
   "cell_type": "code",
   "execution_count": 61,
   "metadata": {
    "collapsed": false,
    "deletable": true,
    "editable": true
   },
   "outputs": [
    {
     "data": {
      "image/png": "[encoded data removed]",
      "text/plain": [
       "<IPython.core.display.Image object>"
      ]
     },
     "metadata": {},
     "output_type": "display_data"
    }
   ],
   "source": [
    "embed_rs3_image(smallest_pcc_rs3_file)"
   ]
  },
  {
   "cell_type": "code",
   "execution_count": null,
   "metadata": {
    "collapsed": true,
    "deletable": true,
    "editable": true
   },
   "outputs": [],
   "source": []
  },
  {
   "cell_type": "code",
   "execution_count": 62,
   "metadata": {
    "collapsed": false,
    "deletable": true,
    "editable": true
   },
   "outputs": [],
   "source": [
    "# smallest_pcc_rs3_file"
   ]
  },
  {
   "cell_type": "code",
   "execution_count": 63,
   "metadata": {
    "collapsed": false,
    "deletable": true,
    "editable": true
   },
   "outputs": [
    {
     "data": {
      "text/plain": [
       "defaultdict(list,\n",
       "            {None: ['1', '20'],\n",
       "             '1': [],\n",
       "             '10': [],\n",
       "             '11': [],\n",
       "             '12': ['5'],\n",
       "             '13': ['3'],\n",
       "             '14': ['11', '2', '13'],\n",
       "             '15': ['14'],\n",
       "             '16': ['7', '8', '10'],\n",
       "             '17': ['16'],\n",
       "             '18': ['6', '9'],\n",
       "             '19': ['15', '18'],\n",
       "             '2': [],\n",
       "             '20': ['19'],\n",
       "             '3': ['12'],\n",
       "             '4': [],\n",
       "             '5': ['4'],\n",
       "             '6': ['17'],\n",
       "             '7': [],\n",
       "             '8': [],\n",
       "             '9': []})"
      ]
     },
     "execution_count": 63,
     "metadata": {},
     "output_type": "execute_result"
    }
   ],
   "source": [
    "child_dict"
   ]
  },
  {
   "cell_type": "code",
   "execution_count": 64,
   "metadata": {
    "collapsed": false,
    "deletable": true,
    "editable": true
   },
   "outputs": [
    {
     "data": {
      "text/plain": [
       "defaultdict(str,\n",
       "            {'element_type': 'segment',\n",
       "             'parent': None,\n",
       "             'relname': None,\n",
       "             'segment_type': 'isolate',\n",
       "             'text': '\\n\\nNaive PDS'})"
      ]
     },
     "execution_count": 64,
     "metadata": {},
     "output_type": "execute_result"
    }
   ],
   "source": [
    "elements_dict['1'] # is a segment -> no children"
   ]
  },
  {
   "cell_type": "code",
   "execution_count": 65,
   "metadata": {
    "collapsed": false,
    "deletable": true,
    "editable": true
   },
   "outputs": [
    {
     "data": {
      "text/plain": [
       "defaultdict(str,\n",
       "            {'element_type': 'group',\n",
       "             'group_type': 'span',\n",
       "             'parent': None,\n",
       "             'relname': None})"
      ]
     },
     "execution_count": 65,
     "metadata": {},
     "output_type": "execute_result"
    }
   ],
   "source": [
    "elements_dict['20'] # is a span"
   ]
  },
  {
   "cell_type": "code",
   "execution_count": 66,
   "metadata": {
    "collapsed": false,
    "deletable": true,
    "editable": true
   },
   "outputs": [
    {
     "data": {
      "text/plain": [
       "['19']"
      ]
     },
     "execution_count": 66,
     "metadata": {},
     "output_type": "execute_result"
    }
   ],
   "source": [
    "child_dict['20']"
   ]
  },
  {
   "cell_type": "code",
   "execution_count": 67,
   "metadata": {
    "collapsed": false,
    "deletable": true,
    "editable": true
   },
   "outputs": [
    {
     "data": {
      "text/plain": [
       "defaultdict(str,\n",
       "            {'element_type': 'group',\n",
       "             'group_type': 'span',\n",
       "             'parent': '20',\n",
       "             'relname': 'span'})"
      ]
     },
     "execution_count": 67,
     "metadata": {},
     "output_type": "execute_result"
    }
   ],
   "source": [
    "elements_dict['19'] # is a span"
   ]
  },
  {
   "cell_type": "code",
   "execution_count": 68,
   "metadata": {
    "collapsed": false,
    "deletable": true,
    "editable": true
   },
   "outputs": [
    {
     "data": {
      "text/plain": [
       "['15', '18']"
      ]
     },
     "execution_count": 68,
     "metadata": {},
     "output_type": "execute_result"
    }
   ],
   "source": [
    "child_dict['19'] # has two children"
   ]
  },
  {
   "cell_type": "code",
   "execution_count": 69,
   "metadata": {
    "collapsed": false,
    "deletable": true,
    "editable": true
   },
   "outputs": [
    {
     "name": "stdout",
     "output_type": "stream",
     "text": [
      "15\n",
      "defaultdict(<type 'str'>, {'relname': 'antithesis', 'group_type': 'span', 'parent': '19', 'element_type': 'group'}) \n",
      "\n",
      "(antithesis (15 ) (19 ))\n",
      "18\n",
      "defaultdict(<type 'str'>, {'relname': 'span', 'group_type': 'span', 'parent': '19', 'element_type': 'group'}) \n",
      "\n"
     ]
    }
   ],
   "source": [
    "# work directly on children that are not spans. look at span's children (recursion?)\n",
    "for child in child_dict['19']:\n",
    "    print child\n",
    "    print elements_dict[child], \"\\n\"\n",
    "    \n",
    "    child_relation = elements_dict[child]['relname']\n",
    "    if child_relation != 'span':\n",
    "        print t(child_relation, [(child, []), ('19', [])])"
   ]
  },
  {
   "cell_type": "code",
   "execution_count": 70,
   "metadata": {
    "collapsed": false,
    "deletable": true,
    "editable": true
   },
   "outputs": [
    {
     "data": {
      "image/png": "[encoded data removed]",
      "text/plain": [
       "ParentedTree('antithesis', [ParentedTree('15', []), ParentedTree('19', [])])"
      ]
     },
     "execution_count": 70,
     "metadata": {},
     "output_type": "execute_result"
    }
   ],
   "source": [
    "t('antithesis', [\n",
    "    ('15', []),\n",
    "    ('19', [])\n",
    "])"
   ]
  },
  {
   "cell_type": "code",
   "execution_count": 71,
   "metadata": {
    "collapsed": false,
    "deletable": true,
    "editable": true
   },
   "outputs": [
    {
     "data": {
      "text/plain": [
       "['6', '9']"
      ]
     },
     "execution_count": 71,
     "metadata": {},
     "output_type": "execute_result"
    }
   ],
   "source": [
    "child_dict['18'] # 18 is a span, so we have to look at its children"
   ]
  },
  {
   "cell_type": "code",
   "execution_count": 72,
   "metadata": {
    "collapsed": false,
    "deletable": true,
    "editable": true
   },
   "outputs": [
    {
     "data": {
      "text/plain": [
       "defaultdict(str,\n",
       "            {'element_type': 'segment',\n",
       "             'parent': '18',\n",
       "             'relname': 'span',\n",
       "             'segment_type': 'nucleus',\n",
       "             'text': '  Die PDS stellt in diesen Tagen hingegen erneut unter Beweis , dass sie noch immer nicht im vereinten Deutschland angekommen ist .'})"
      ]
     },
     "execution_count": 72,
     "metadata": {},
     "output_type": "execute_result"
    }
   ],
   "source": [
    "elements_dict['6'] # is a segment (-> no children);"
   ]
  },
  {
   "cell_type": "code",
   "execution_count": 73,
   "metadata": {
    "collapsed": false,
    "deletable": true,
    "editable": true
   },
   "outputs": [
    {
     "data": {
      "text/plain": [
       "defaultdict(str,\n",
       "            {'element_type': 'segment',\n",
       "             'parent': '18',\n",
       "             'relname': 'evaluation-s',\n",
       "             'segment_type': 'satellite',\n",
       "             'text': u'  Es bleibt abzuwarten , ob das realit\\xe4tsferne Herumlavieren der Partei bereits bei der Berlin-Wahl am 21. Oktober Folgen haben wird .'})"
      ]
     },
     "execution_count": 73,
     "metadata": {},
     "output_type": "execute_result"
    }
   ],
   "source": [
    "elements_dict['9'] # is a segment (-> no children);"
   ]
  },
  {
   "cell_type": "code",
   "execution_count": null,
   "metadata": {
    "collapsed": true,
    "deletable": true,
    "editable": true
   },
   "outputs": [],
   "source": []
  },
  {
   "cell_type": "code",
   "execution_count": 74,
   "metadata": {
    "collapsed": false,
    "deletable": true,
    "editable": true
   },
   "outputs": [
    {
     "data": {
      "image/png": "[encoded data removed]",
      "text/plain": [
       "ParentedTree('root', [ParentedTree('N (1)', ['Naive PDS']), ParentedTree('N (20)', [ParentedTree('antithesis', [ParentedTree('S (15)', [ParentedTree('preparation', [ParentedTree('S (11)', ['Situation']), ParentedTree('N (14)', [ParentedTree('joint', [ParentedTree('N (2)', ['niemand']), ParentedTree('N (13)', [ParentedTree('elaboration', [ParentedTree('N (3)', ['Ma\\xc3\\x9fnahme']), ParentedTree('S (12)', [ParentedTree('concession', [ParentedTree('S (4)', ['Basis']), ParentedTree('N (5)', ['Ernst'])])])])])])])])]), ParentedTree('N (19)', [ParentedTree('evaluation-s', [ParentedTree('N (18)', [ParentedTree('evidence', [ParentedTree('N (6)', ['Tagen']), ParentedTree('S (17)', [ParentedTree('condition', [ParentedTree('S (7)', ['P-Antrag']), ParentedTree('N (16)', [ParentedTree('disjunction', [ParentedTree('N (8)', ['grenzenlos']), ParentedTree('N (10)', ['oder nimmt'])])])])])])]), ParentedTree('S (9)', ['abzuwarten'])])])])])])"
      ]
     },
     "execution_count": 74,
     "metadata": {},
     "output_type": "execute_result"
    }
   ],
   "source": [
    "t(\"root\", [\n",
    "    (\"N (1)\", \"Naive PDS\"),\n",
    "    (\"N (20)\", [\n",
    "        (\"antithesis\", [\n",
    "            (\"S (15)\", [\n",
    "                (\"preparation\", [\n",
    "                    (\"S (11)\", \"Situation\"),\n",
    "                    (\"N (14)\", [\n",
    "                        (\"joint\", [\n",
    "                            (\"N (2)\", \"niemand\"),\n",
    "                            (\"N (13)\", [\n",
    "                                (\"elaboration\", [\n",
    "                                    (\"N (3)\", \"Maßnahme\"),\n",
    "                                    (\"S (12)\", [\n",
    "                                        (\"concession\", [\n",
    "                                            (\"S (4)\", \"Basis\"),\n",
    "                                            (\"N (5)\", \"Ernst\")\n",
    "                                        ])\n",
    "                                    ])\n",
    "                                ])\n",
    "                            ])\n",
    "                        ])\n",
    "                    ])\n",
    "                ])\n",
    "            ]),\n",
    "            (\"N (19)\", [\n",
    "                (\"evaluation-s\", [\n",
    "                    (\"N (18)\", [\n",
    "                        (\"evidence\", [\n",
    "                            (\"N (6)\", \"Tagen\"),\n",
    "                            (\"S (17)\", [\n",
    "                                (\"condition\", [\n",
    "                                    (\"S (7)\", \"P-Antrag\"),\n",
    "                                    (\"N (16)\", [\n",
    "                                        (\"disjunction\", [\n",
    "                                            (\"N (8)\", \"grenzenlos\"),\n",
    "                                            (\"N (10)\", \"oder nimmt\")\n",
    "                                        ])\n",
    "                                    ])\n",
    "                                ])\n",
    "                            ])\n",
    "                        ])\n",
    "                    ]),\n",
    "                    (\"S (9)\", \"abzuwarten\")\n",
    "                ])\n",
    "            ])\n",
    "        ])\n",
    "    ])\n",
    "])"
   ]
  },
  {
   "cell_type": "code",
   "execution_count": 75,
   "metadata": {
    "collapsed": false,
    "deletable": true,
    "editable": true
   },
   "outputs": [
    {
     "data": {
      "text/plain": [
       "defaultdict(str,\n",
       "            {'element_type': 'segment',\n",
       "             'parent': '16',\n",
       "             'relname': 'disjunction',\n",
       "             'segment_type': 'multinuc',\n",
       "             'text': ' oder nimmt sich selbst nicht ernst .'})"
      ]
     },
     "execution_count": 75,
     "metadata": {},
     "output_type": "execute_result"
    }
   ],
   "source": [
    "elements_dict['10']"
   ]
  },
  {
   "cell_type": "code",
   "execution_count": 76,
   "metadata": {
    "collapsed": false,
    "deletable": true,
    "editable": true
   },
   "outputs": [
    {
     "data": {
      "text/plain": [
       "defaultdict(str,\n",
       "            {'element_type': 'group',\n",
       "             'group_type': 'multinuc',\n",
       "             'parent': '17',\n",
       "             'relname': 'span'})"
      ]
     },
     "execution_count": 76,
     "metadata": {},
     "output_type": "execute_result"
    }
   ],
   "source": [
    "elements_dict['16']"
   ]
  },
  {
   "cell_type": "code",
   "execution_count": 77,
   "metadata": {
    "collapsed": false,
    "deletable": true,
    "editable": true
   },
   "outputs": [
    {
     "data": {
      "text/plain": [
       "['7', '8', '10']"
      ]
     },
     "execution_count": 77,
     "metadata": {},
     "output_type": "execute_result"
    }
   ],
   "source": [
    "child_dict['16']"
   ]
  },
  {
   "cell_type": "code",
   "execution_count": 82,
   "metadata": {
    "collapsed": false,
    "deletable": true,
    "editable": true
   },
   "outputs": [],
   "source": [
    "def get_edu_label(element):\n",
    "    assert element['element_type'] == 'segment'\n",
    "    if element['segment_type'] in ('nucleus', 'multinuc'):\n",
    "        return 'N'\n",
    "    else:\n",
    "        return 'S'    \n",
    "\n",
    "def rt(rs3_file, start_node=None):\n",
    "    child_dict, elements_dict = rs3_to_dicts(rs3_file)\n",
    "    \n",
    "    element = elements_dict[start_node]\n",
    "    children = child_dict[start_node]\n",
    "    if len(children) == 0:\n",
    "        node_label = get_edu_label(element)\n",
    "        return t(node_label, element['text'])\n",
    "    else:  #len(children) > 0\n",
    "        assert element['element_type'] == 'group'\n",
    "        if element['group_type'] == 'multinuc':\n",
    "            multinuc_children = [c for c in child_dict[start_node] if elements_dict[c].get('segment_type') == 'multinuc']\n",
    "            multinuc_subtree = [(\"N\", elements_dict[c]['text']) for c in multinuc_children]\n",
    "            return t('multinuc', multinuc_subtree)\n",
    "\n",
    "        else:  #element['group_type'] == 'span'\n",
    "            raise NotImplementedError(\"element: {}\".format(element))\n",
    "    "
   ]
  },
  {
   "cell_type": "code",
   "execution_count": 83,
   "metadata": {
    "collapsed": false,
    "deletable": true,
    "editable": true
   },
   "outputs": [
    {
     "data": {
      "image/png": "[encoded data removed]",
      "text/plain": [
       "ParentedTree('multinuc', [ParentedTree('N', [' ist entweder grenzenlos naiv']), ParentedTree('N', [' oder nimmt sich selbst nicht ernst .'])])"
      ]
     },
     "execution_count": 83,
     "metadata": {},
     "output_type": "execute_result"
    }
   ],
   "source": [
    "rt(smallest_pcc_rs3_file, start_node='16')"
   ]
  },
  {
   "cell_type": "code",
   "execution_count": 80,
   "metadata": {
    "collapsed": false,
    "deletable": true,
    "editable": true
   },
   "outputs": [
    {
     "data": {
      "text/plain": [
       "[]"
      ]
     },
     "execution_count": 80,
     "metadata": {},
     "output_type": "execute_result"
    }
   ],
   "source": [
    "child_dict['10']"
   ]
  },
  {
   "cell_type": "code",
   "execution_count": 81,
   "metadata": {
    "collapsed": false,
    "deletable": true,
    "editable": true
   },
   "outputs": [
    {
     "data": {
      "text/plain": [
       "defaultdict(str,\n",
       "            {'element_type': 'group',\n",
       "             'group_type': 'multinuc',\n",
       "             'parent': '17',\n",
       "             'relname': 'span'})"
      ]
     },
     "execution_count": 81,
     "metadata": {},
     "output_type": "execute_result"
    }
   ],
   "source": [
    "elements_dict['16']"
   ]
  },
  {
   "cell_type": "code",
   "execution_count": null,
   "metadata": {
    "collapsed": false,
    "deletable": true,
    "editable": true
   },
   "outputs": [],
   "source": [
    "child_dict['16']"
   ]
  },
  {
   "cell_type": "code",
   "execution_count": null,
   "metadata": {
    "collapsed": false,
    "deletable": true,
    "editable": true
   },
   "outputs": [],
   "source": [
    "elements_dict['7']"
   ]
  },
  {
   "cell_type": "code",
   "execution_count": null,
   "metadata": {
    "collapsed": false,
    "deletable": true,
    "editable": true
   },
   "outputs": [],
   "source": [
    "elements_dict['8']"
   ]
  },
  {
   "cell_type": "code",
   "execution_count": null,
   "metadata": {
    "collapsed": false,
    "deletable": true,
    "editable": true
   },
   "outputs": [],
   "source": [
    "elements_dict['10']"
   ]
  },
  {
   "cell_type": "code",
   "execution_count": null,
   "metadata": {
    "collapsed": false,
    "deletable": true,
    "editable": true
   },
   "outputs": [],
   "source": [
    "e = '16'\n",
    "\n",
    "[c for c in child_dict[e] if elements_dict[c].get('segment_type') == 'multinuc']"
   ]
  },
  {
   "cell_type": "code",
   "execution_count": null,
   "metadata": {
    "collapsed": false,
    "deletable": true,
    "editable": true
   },
   "outputs": [],
   "source": [
    "z = t(\"foo\", \"bar\")"
   ]
  },
  {
   "cell_type": "code",
   "execution_count": null,
   "metadata": {
    "collapsed": false
   },
   "outputs": [],
   "source": [
    "z.__repr__()"
   ]
  },
  {
   "cell_type": "code",
   "execution_count": null,
   "metadata": {
    "collapsed": false
   },
   "outputs": [],
   "source": [
    "z.pretty_print()"
   ]
  },
  {
   "cell_type": "code",
   "execution_count": null,
   "metadata": {
    "collapsed": false
   },
   "outputs": [],
   "source": [
    "def print_segments(rs3_file):\n",
    "    rs3_etree = etree.parse(rs3_file)\n",
    "    reltypes = extract_relationtypes(rs3_etree)\n",
    "\n",
    "    for elem in rs3_etree.iter('segment'):\n",
    "        segment_id = elem.attrib['id']\n",
    "        print \"Segment ID: \", segment_id\n",
    "        parent_id = elem.attrib.get('parent')        \n",
    "        relname = elem.attrib.get('relname')\n",
    "        edu_text = elem.text.strip()\n",
    "\n",
    "        if parent_id is None:\n",
    "            segment_tree = t(\"N\", edu_text)\n",
    "            IPython.core.display.display(segment_tree)\n",
    "        else:\n",
    "            reltype = reltypes.get(relname, 'span')\n",
    "            if reltype == 'rst':\n",
    "                segment_tree = t(relname, [\n",
    "                    ('S', edu_text),\n",
    "                    ('N', \"... cf. {}\".format(parent_id))])\n",
    "                IPython.core.display.display(segment_tree)\n",
    "            elif reltype == 'multinuc':\n",
    "                segment_tree = t(relname, [\n",
    "                    ('S', edu_text),\n",
    "                    ('N', \"... cf. {}\".format(parent_id))])\n",
    "                IPython.core.display.display(segment_tree)\n",
    "            else:  #reltype == 'span'\n",
    "                # segment is a nucleus\n",
    "                pass  #raise NotImplementedError"
   ]
  },
  {
   "cell_type": "code",
   "execution_count": null,
   "metadata": {
    "collapsed": false
   },
   "outputs": [],
   "source": [
    "print_segments(smallest_pcc_rs3_file)"
   ]
  },
  {
   "cell_type": "code",
   "execution_count": null,
   "metadata": {
    "collapsed": true
   },
   "outputs": [],
   "source": [
    "from IPython.display import display"
   ]
  },
  {
   "cell_type": "code",
   "execution_count": null,
   "metadata": {
    "collapsed": false
   },
   "outputs": [],
   "source": [
    "display(t(\"foo\"))"
   ]
  },
  {
   "cell_type": "code",
   "execution_count": null,
   "metadata": {
    "collapsed": true
   },
   "outputs": [],
   "source": [
    "from nltk.draw.tree import TreeView"
   ]
  },
  {
   "cell_type": "code",
   "execution_count": null,
   "metadata": {
    "collapsed": false
   },
   "outputs": [],
   "source": [
    "print TreeView(t(\"foo\"))"
   ]
  },
  {
   "cell_type": "code",
   "execution_count": null,
   "metadata": {
    "collapsed": false
   },
   "outputs": [],
   "source": [
    "for x in ('a','b','c'):\n",
    "    IPython.core.display.display(t(x))"
   ]
  },
  {
   "cell_type": "code",
   "execution_count": 84,
   "metadata": {
    "collapsed": false
   },
   "outputs": [
    {
     "data": {
      "text/plain": [
       "'/usr/local/lib/python2.7/dist-packages/discoursegraphs-0.3.2-py2.7.egg/discoursegraphs/data/potsdam-commentary-corpus-2.0.0/rst/maz-1818.rs3'"
      ]
     },
     "execution_count": 84,
     "metadata": {},
     "output_type": "execute_result"
    }
   ],
   "source": [
    "smallest_pcc_rs3_file"
   ]
  },
  {
   "cell_type": "code",
   "execution_count": null,
   "metadata": {
    "collapsed": true
   },
   "outputs": [],
   "source": []
  }
 ],
 "metadata": {
  "kernelspec": {
   "display_name": "Python 2",
   "language": "python",
   "name": "python2"
  },
  "language_info": {
   "codemirror_mode": {
    "name": "ipython",
    "version": 2
   },
   "file_extension": ".py",
   "mimetype": "text/x-python",
   "name": "python",
   "nbconvert_exporter": "python",
   "pygments_lexer": "ipython2",
   "version": "2.7.12"
  }
 },
 "nbformat": 4,
 "nbformat_minor": 2
}
