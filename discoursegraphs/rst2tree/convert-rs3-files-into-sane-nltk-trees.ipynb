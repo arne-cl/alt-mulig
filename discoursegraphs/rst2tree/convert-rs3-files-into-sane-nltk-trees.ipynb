{
 "cells": [
  {
   "cell_type": "code",
   "execution_count": 1,
   "metadata": {
    "collapsed": false,
    "deletable": true,
    "editable": true
   },
   "outputs": [],
   "source": [
    "from lxml import etree\n",
    "from nltk.tree import ParentedTree\n",
    "from rstviewer import embed_rs3_image, embed_rs3str_image\n",
    "import discoursegraphs as dg\n",
    "from discoursegraphs.readwrite.rst.rs3 import extract_relationtypes"
   ]
  },
  {
   "cell_type": "code",
   "execution_count": 2,
   "metadata": {
    "collapsed": true
   },
   "outputs": [],
   "source": [
    "def t(root, children=None):\n",
    "    \"Create nltk.tree.ParentedTree from a root (str) and a list of (str, list) tuples.\"\n",
    "    assert isinstance(root, basestring)\n",
    "\n",
    "    # Beware: a ParentedTree is also a list!\n",
    "    if isinstance(children, ParentedTree):\n",
    "        child_trees = [children]\n",
    "\n",
    "    elif isinstance(children, list):\n",
    "        child_trees = []\n",
    "        for child in children:\n",
    "            if isinstance(child, ParentedTree):\n",
    "                child_trees.append(child)\n",
    "            else:  #isinstance(child, tuple)\n",
    "                child_trees.append(t(*child))\n",
    "    elif isinstance(children, basestring):\n",
    "        # this tree does only have one child, a leaf node\n",
    "        child_trees = [children]\n",
    "    else:  #children == None\n",
    "        # this tree only consists of one leaf node\n",
    "        child_trees = []\n",
    "    return ParentedTree(root, child_trees)"
   ]
  },
  {
   "cell_type": "code",
   "execution_count": 3,
   "metadata": {
    "collapsed": false,
    "deletable": true,
    "editable": true
   },
   "outputs": [],
   "source": [
    "# !ls *.rs3"
   ]
  },
  {
   "cell_type": "code",
   "execution_count": 4,
   "metadata": {
    "collapsed": false,
    "deletable": true,
    "editable": true
   },
   "outputs": [],
   "source": [
    "# embed_rs3_image(\"foo-bar-only-segments.rs3\")"
   ]
  },
  {
   "cell_type": "code",
   "execution_count": 5,
   "metadata": {
    "collapsed": false,
    "deletable": true,
    "editable": true
   },
   "outputs": [
    {
     "data": {
      "image/png": "[encoded data removed]",
      "text/plain": [
       "ParentedTree('linear-sequence', [ParentedTree('N', ['foo']), ParentedTree('N', ['bar'])])"
      ]
     },
     "execution_count": 5,
     "metadata": {},
     "output_type": "execute_result"
    }
   ],
   "source": [
    "# as the leaves are unconnected, we need to add a root node and edges\n",
    "# maybe we should always connect unconnected nodes into a linear-sequence multinuc\n",
    "t(\"linear-sequence\", [\n",
    "    (\"N\", \"foo\"),\n",
    "    (\"N\", \"bar\")])"
   ]
  },
  {
   "cell_type": "code",
   "execution_count": 6,
   "metadata": {
    "collapsed": false,
    "deletable": true,
    "editable": true
   },
   "outputs": [],
   "source": [
    "# embed_rs3_image(\"foo-bar-circ-foo-to-bar.rs3\")"
   ]
  },
  {
   "cell_type": "code",
   "execution_count": 7,
   "metadata": {
    "collapsed": false
   },
   "outputs": [
    {
     "data": {
      "image/png": "[encoded data removed]",
      "text/plain": [
       "ParentedTree('circumstance', [ParentedTree('S', ['foo']), ParentedTree('N', ['bar'])])"
      ]
     },
     "execution_count": 7,
     "metadata": {},
     "output_type": "execute_result"
    }
   ],
   "source": [
    "t(\"circumstance\", [\n",
    "    (\"S\", \"foo\"),\n",
    "    (\"N\", \"bar\")])"
   ]
  },
  {
   "cell_type": "code",
   "execution_count": 8,
   "metadata": {
    "collapsed": false,
    "deletable": true,
    "editable": true
   },
   "outputs": [],
   "source": [
    "# embed_rs3_image(\"foo-bar-elab-foo-to-bar.rs3\")"
   ]
  },
  {
   "cell_type": "code",
   "execution_count": 9,
   "metadata": {
    "collapsed": false,
    "deletable": true,
    "editable": true
   },
   "outputs": [
    {
     "data": {
      "image/png": "[encoded data removed]",
      "text/plain": [
       "ParentedTree('elaboration', [ParentedTree('S', ['foo']), ParentedTree('N', ['bar'])])"
      ]
     },
     "execution_count": 9,
     "metadata": {},
     "output_type": "execute_result"
    }
   ],
   "source": [
    "t(\"elaboration\", [\n",
    "    (\"S\", \"foo\"),\n",
    "    (\"N\", \"bar\")])"
   ]
  },
  {
   "cell_type": "code",
   "execution_count": 10,
   "metadata": {
    "collapsed": false,
    "deletable": true,
    "editable": true
   },
   "outputs": [],
   "source": [
    "# embed_rs3_image(\"foo-bar-circ-bar-to-foo.rs3\")"
   ]
  },
  {
   "cell_type": "code",
   "execution_count": 11,
   "metadata": {
    "collapsed": false,
    "deletable": true,
    "editable": true
   },
   "outputs": [
    {
     "data": {
      "image/png": "[encoded data removed]",
      "text/plain": [
       "ParentedTree('circumstance', [ParentedTree('N', ['foo']), ParentedTree('S', ['bar'])])"
      ]
     },
     "execution_count": 11,
     "metadata": {},
     "output_type": "execute_result"
    }
   ],
   "source": [
    "t(\"circumstance\", [\n",
    "    (\"N\", \"foo\"),\n",
    "    (\"S\", \"bar\")])"
   ]
  },
  {
   "cell_type": "code",
   "execution_count": 12,
   "metadata": {
    "collapsed": false,
    "deletable": true,
    "editable": true
   },
   "outputs": [],
   "source": [
    "# embed_rs3_image(\"foo-bar-elab-bar-to-foo.rs3\")"
   ]
  },
  {
   "cell_type": "code",
   "execution_count": 13,
   "metadata": {
    "collapsed": false,
    "deletable": true,
    "editable": true
   },
   "outputs": [
    {
     "data": {
      "image/png": "[encoded data removed]",
      "text/plain": [
       "ParentedTree('elaboration', [ParentedTree('N', ['foo']), ParentedTree('S', ['bar'])])"
      ]
     },
     "execution_count": 13,
     "metadata": {},
     "output_type": "execute_result"
    }
   ],
   "source": [
    "t(\"elaboration\", [\n",
    "    (\"N\", \"foo\"),\n",
    "    (\"S\", \"bar\")])"
   ]
  },
  {
   "cell_type": "code",
   "execution_count": 14,
   "metadata": {
    "collapsed": false,
    "deletable": true,
    "editable": true
   },
   "outputs": [],
   "source": [
    "# embed_rs3_image(\"foo-bar-foo-conj-bar.rs3\")"
   ]
  },
  {
   "cell_type": "code",
   "execution_count": 15,
   "metadata": {
    "collapsed": false,
    "deletable": true,
    "editable": true
   },
   "outputs": [
    {
     "data": {
      "image/png": "[encoded data removed]",
      "text/plain": [
       "ParentedTree('conjunction', [ParentedTree('N', ['foo']), ParentedTree('N', ['bar'])])"
      ]
     },
     "execution_count": 15,
     "metadata": {},
     "output_type": "execute_result"
    }
   ],
   "source": [
    "t(\"conjunction\", [\n",
    "    (\"N\", \"foo\"),\n",
    "    (\"N\", \"bar\")])"
   ]
  },
  {
   "cell_type": "code",
   "execution_count": 16,
   "metadata": {
    "collapsed": false,
    "deletable": true,
    "editable": true
   },
   "outputs": [],
   "source": [
    "# embed_rs3_image(\"foo-bar-foo-joint-bar.rs3\")"
   ]
  },
  {
   "cell_type": "code",
   "execution_count": 17,
   "metadata": {
    "collapsed": false,
    "deletable": true,
    "editable": true
   },
   "outputs": [
    {
     "data": {
      "image/png": "[encoded data removed]",
      "text/plain": [
       "ParentedTree('joint', [ParentedTree('N', ['foo']), ParentedTree('N', ['bar'])])"
      ]
     },
     "execution_count": 17,
     "metadata": {},
     "output_type": "execute_result"
    }
   ],
   "source": [
    "t(\"joint\", [\n",
    "    (\"N\", \"foo\"),\n",
    "    (\"N\", \"bar\")])"
   ]
  },
  {
   "cell_type": "code",
   "execution_count": 18,
   "metadata": {
    "collapsed": false,
    "deletable": true,
    "editable": true
   },
   "outputs": [],
   "source": [
    "# trees_with_three_elems = !ls eins*.rs3\n",
    "# for rs3_file in trees_with_three_elems:\n",
    "#     print \"embed_rs3_image('{}')\".format(rs3_file)"
   ]
  },
  {
   "cell_type": "code",
   "execution_count": 19,
   "metadata": {
    "collapsed": false,
    "deletable": true,
    "editable": true
   },
   "outputs": [],
   "source": [
    "# embed_rs3_image('eins-zwei-drei-only-segments.rs3')"
   ]
  },
  {
   "cell_type": "code",
   "execution_count": 20,
   "metadata": {
    "collapsed": false,
    "deletable": true,
    "editable": true
   },
   "outputs": [
    {
     "data": {
      "image/png": "[encoded data removed]",
      "text/plain": [
       "ParentedTree('linear-sequence', [ParentedTree('N', ['eins']), ParentedTree('N', ['zwei']), ParentedTree('N', ['drei'])])"
      ]
     },
     "execution_count": 20,
     "metadata": {},
     "output_type": "execute_result"
    }
   ],
   "source": [
    "# as the leaves are unconnected, we need to add a root node and edges\n",
    "# maybe we should always connect unconnected nodes into a linear-sequence multinuc\n",
    "t(\"linear-sequence\", [(\"N\", \"eins\"), (\"N\", \"zwei\"), (\"N\", \"drei\")])"
   ]
  },
  {
   "cell_type": "code",
   "execution_count": 21,
   "metadata": {
    "collapsed": false,
    "deletable": true,
    "editable": true
   },
   "outputs": [],
   "source": [
    "# embed_rs3_image('eins-zwei-drei-(circ-(circ-eins-from-zwei)-to-drei).rs3')"
   ]
  },
  {
   "cell_type": "code",
   "execution_count": 22,
   "metadata": {
    "collapsed": false
   },
   "outputs": [
    {
     "data": {
      "image/png": "[encoded data removed]",
      "text/plain": [
       "ParentedTree('circumstance', [ParentedTree('S', [ParentedTree('circumstance', [ParentedTree('N', ['eins']), ParentedTree('S', ['zwei'])])]), ParentedTree('N', ['drei'])])"
      ]
     },
     "execution_count": 22,
     "metadata": {},
     "output_type": "execute_result"
    }
   ],
   "source": [
    "t(\"circumstance\", [\n",
    "    (\"S\", [\n",
    "        (\"circumstance\", [\n",
    "            (\"N\", \"eins\"),\n",
    "            (\"S\", \"zwei\")])]),\n",
    "    (\"N\", \"drei\")])"
   ]
  },
  {
   "cell_type": "code",
   "execution_count": 23,
   "metadata": {
    "collapsed": false,
    "deletable": true,
    "editable": true
   },
   "outputs": [],
   "source": [
    "# embed_rs3_image('eins-zwei-drei-(circ-(circ-eins-from-zwei)-from-drei).rs3')"
   ]
  },
  {
   "cell_type": "code",
   "execution_count": 24,
   "metadata": {
    "collapsed": false
   },
   "outputs": [
    {
     "data": {
      "image/png": "[encoded data removed]",
      "text/plain": [
       "ParentedTree('circumstance', [ParentedTree('N', [ParentedTree('circumstance', [ParentedTree('N', ['eins']), ParentedTree('S', ['zwei'])])]), ParentedTree('S', ['drei'])])"
      ]
     },
     "execution_count": 24,
     "metadata": {},
     "output_type": "execute_result"
    }
   ],
   "source": [
    "t(\"circumstance\", [\n",
    "    (\"N\", [\n",
    "        (\"circumstance\", [\n",
    "            (\"N\", \"eins\"),\n",
    "            (\"S\", \"zwei\")])]),\n",
    "    (\"S\", \"drei\")])"
   ]
  },
  {
   "cell_type": "code",
   "execution_count": 25,
   "metadata": {
    "collapsed": false,
    "deletable": true,
    "editable": true
   },
   "outputs": [],
   "source": [
    "# embed_rs3_image('eins-zwei-drei-(circ-(circ-eins-to-zwei)-to-drei.rs3')"
   ]
  },
  {
   "cell_type": "code",
   "execution_count": 26,
   "metadata": {
    "collapsed": false
   },
   "outputs": [
    {
     "data": {
      "image/png": "[encoded data removed]",
      "text/plain": [
       "ParentedTree('circumstance', [ParentedTree('S', [ParentedTree('circumstance', [ParentedTree('S', ['eins']), ParentedTree('N', ['zwei'])])]), ParentedTree('N', ['drei'])])"
      ]
     },
     "execution_count": 26,
     "metadata": {},
     "output_type": "execute_result"
    }
   ],
   "source": [
    "t(\"circumstance\", [\n",
    "    (\"S\", [\n",
    "        (\"circumstance\", [\n",
    "            (\"S\", \"eins\"),\n",
    "            (\"N\", \"zwei\")])]),\n",
    "    (\"N\", \"drei\")])"
   ]
  },
  {
   "cell_type": "code",
   "execution_count": 27,
   "metadata": {
    "collapsed": false,
    "deletable": true,
    "editable": true
   },
   "outputs": [],
   "source": [
    "# embed_rs3_image('eins-zwei-drei-(circ-(circ-eins-to-zwei)-from-drei).rs3')"
   ]
  },
  {
   "cell_type": "code",
   "execution_count": 28,
   "metadata": {
    "collapsed": false
   },
   "outputs": [
    {
     "data": {
      "image/png": "[encoded data removed]",
      "text/plain": [
       "ParentedTree('circumstance', [ParentedTree('N', [ParentedTree('circumstance', [ParentedTree('S', ['eins']), ParentedTree('N', ['zwei'])])]), ParentedTree('S', ['drei'])])"
      ]
     },
     "execution_count": 28,
     "metadata": {},
     "output_type": "execute_result"
    }
   ],
   "source": [
    "t(\"circumstance\", [\n",
    "    (\"N\", [\n",
    "        (\"circumstance\", [\n",
    "            (\"S\", \"eins\"),\n",
    "            (\"N\", \"zwei\")])]),\n",
    "    (\"S\", \"drei\")])"
   ]
  },
  {
   "cell_type": "code",
   "execution_count": 29,
   "metadata": {
    "collapsed": false,
    "deletable": true,
    "editable": true
   },
   "outputs": [],
   "source": [
    "# embed_rs3_image('eins-zwei-drei-(circ-eins-to-(joint-zwei-and-drei).rs3')"
   ]
  },
  {
   "cell_type": "code",
   "execution_count": 30,
   "metadata": {
    "collapsed": false
   },
   "outputs": [
    {
     "data": {
      "image/png": "[encoded data removed]",
      "text/plain": [
       "ParentedTree('circumstance', [ParentedTree('S', ['eins']), ParentedTree('N', [ParentedTree('joint', [ParentedTree('N', ['zwei']), ParentedTree('N', ['drei'])])])])"
      ]
     },
     "execution_count": 30,
     "metadata": {},
     "output_type": "execute_result"
    }
   ],
   "source": [
    "t(\"circumstance\", [\n",
    "    (\"S\", \"eins\"),\n",
    "    (\"N\", [\n",
    "        (\"joint\", [\n",
    "            (\"N\", \"zwei\"),\n",
    "            (\"N\", \"drei\")])])])"
   ]
  },
  {
   "cell_type": "code",
   "execution_count": 31,
   "metadata": {
    "collapsed": false,
    "deletable": true,
    "editable": true
   },
   "outputs": [],
   "source": [
    "# embed_rs3_image('eins-zwei-drei-(circ-eins-from-(joint-zwei-and-drei).rs3')"
   ]
  },
  {
   "cell_type": "code",
   "execution_count": 32,
   "metadata": {
    "collapsed": false
   },
   "outputs": [
    {
     "data": {
      "image/png": "[encoded data removed]",
      "text/plain": [
       "ParentedTree('circumstance', [ParentedTree('N', ['eins']), ParentedTree('S', [ParentedTree('joint', [ParentedTree('N', ['zwei']), ParentedTree('N', ['drei'])])])])"
      ]
     },
     "execution_count": 32,
     "metadata": {},
     "output_type": "execute_result"
    }
   ],
   "source": [
    "t(\"circumstance\", [\n",
    "    (\"N\", \"eins\"),\n",
    "    (\"S\", [\n",
    "        (\"joint\", [\n",
    "            (\"N\", \"zwei\"),\n",
    "            (\"N\", \"drei\")])])])"
   ]
  },
  {
   "cell_type": "code",
   "execution_count": 33,
   "metadata": {
    "collapsed": false,
    "deletable": true,
    "editable": true
   },
   "outputs": [],
   "source": [
    "# embed_rs3_image('eins-zwei-drei-(circ-(joint-eins-and-zwei)-to-drei).rs3')"
   ]
  },
  {
   "cell_type": "code",
   "execution_count": 34,
   "metadata": {
    "collapsed": false
   },
   "outputs": [
    {
     "data": {
      "image/png": "[encoded data removed]",
      "text/plain": [
       "ParentedTree('circumstance', [ParentedTree('S', [ParentedTree('joint', [ParentedTree('N', ['eins']), ParentedTree('N', ['zwei'])])]), ParentedTree('N', ['drei'])])"
      ]
     },
     "execution_count": 34,
     "metadata": {},
     "output_type": "execute_result"
    }
   ],
   "source": [
    "t(\"circumstance\", [\n",
    "    (\"S\", [\n",
    "        (\"joint\", [\n",
    "            (\"N\", \"eins\"),\n",
    "            (\"N\", \"zwei\")\n",
    "        ])\n",
    "    ]),\n",
    "    (\"N\", \"drei\")\n",
    "])"
   ]
  },
  {
   "cell_type": "code",
   "execution_count": 35,
   "metadata": {
    "collapsed": false,
    "deletable": true,
    "editable": true
   },
   "outputs": [],
   "source": [
    "# embed_rs3_image('eins-zwei-drei-(circ-(joint-eins-and-zwei)-from-drei).rs3')"
   ]
  },
  {
   "cell_type": "code",
   "execution_count": 36,
   "metadata": {
    "collapsed": false
   },
   "outputs": [
    {
     "data": {
      "image/png": "[encoded data removed]",
      "text/plain": [
       "ParentedTree('circumstance', [ParentedTree('N', [ParentedTree('joint', [ParentedTree('N', ['eins']), ParentedTree('N', ['zwei'])])]), ParentedTree('S', ['drei'])])"
      ]
     },
     "execution_count": 36,
     "metadata": {},
     "output_type": "execute_result"
    }
   ],
   "source": [
    "t(\"circumstance\", [\n",
    "    (\"N\", [\n",
    "        (\"joint\", [\n",
    "            (\"N\", \"eins\"),\n",
    "            (\"N\", \"zwei\")\n",
    "        ])\n",
    "    ]),\n",
    "    (\"S\", \"drei\")\n",
    "])"
   ]
  },
  {
   "cell_type": "code",
   "execution_count": 37,
   "metadata": {
    "collapsed": false,
    "deletable": true,
    "editable": true
   },
   "outputs": [],
   "source": [
    "# embed_rs3_image('eins-zwei-drei-(elab-eins-from-(joint-zwei-and-drei).rs3')"
   ]
  },
  {
   "cell_type": "code",
   "execution_count": 38,
   "metadata": {
    "collapsed": false
   },
   "outputs": [
    {
     "data": {
      "image/png": "[encoded data removed]",
      "text/plain": [
       "ParentedTree('elaboration', [ParentedTree('N', [ParentedTree('joint', [ParentedTree('N', ['eins']), ParentedTree('N', ['zwei'])])]), ParentedTree('S', ['drei'])])"
      ]
     },
     "execution_count": 38,
     "metadata": {},
     "output_type": "execute_result"
    }
   ],
   "source": [
    "t(\"elaboration\", [\n",
    "    (\"N\", [\n",
    "        (\"joint\", [\n",
    "            (\"N\", \"eins\"),\n",
    "            (\"N\", \"zwei\")\n",
    "        ])\n",
    "    ]),\n",
    "    (\"S\", \"drei\")\n",
    "])"
   ]
  },
  {
   "cell_type": "code",
   "execution_count": 39,
   "metadata": {
    "collapsed": false,
    "deletable": true,
    "editable": true
   },
   "outputs": [],
   "source": [
    "# embed_rs3_image('eins-zwei-drei-(joint-eins-and-zwei-and-drei).rs3')"
   ]
  },
  {
   "cell_type": "code",
   "execution_count": 40,
   "metadata": {
    "collapsed": false,
    "deletable": true,
    "editable": true
   },
   "outputs": [
    {
     "data": {
      "image/png": "[encoded data removed]",
      "text/plain": [
       "ParentedTree('joint', [ParentedTree('N', ['eins']), ParentedTree('N', ['zwei']), ParentedTree('N', ['drei'])])"
      ]
     },
     "execution_count": 40,
     "metadata": {},
     "output_type": "execute_result"
    }
   ],
   "source": [
    "t(\"joint\", [(\"N\", \"eins\"), (\"N\", \"zwei\"), (\"N\", \"drei\")])"
   ]
  },
  {
   "cell_type": "code",
   "execution_count": null,
   "metadata": {
    "collapsed": true
   },
   "outputs": [],
   "source": []
  },
  {
   "cell_type": "code",
   "execution_count": 41,
   "metadata": {
    "collapsed": true
   },
   "outputs": [],
   "source": [
    "example_tree = t(\"elaboration\", [\n",
    "    (\"N\", [\n",
    "        (\"joint\", [\n",
    "            (\"N\", \"eins\"),\n",
    "            (\"N\", \"zwei\")\n",
    "        ])\n",
    "    ]),\n",
    "    (\"S\", \"drei\")\n",
    "])"
   ]
  },
  {
   "cell_type": "code",
   "execution_count": 42,
   "metadata": {
    "collapsed": false
   },
   "outputs": [
    {
     "data": {
      "text/plain": [
       "['eins', 'zwei', 'drei']"
      ]
     },
     "execution_count": 42,
     "metadata": {},
     "output_type": "execute_result"
    }
   ],
   "source": [
    "example_tree.leaves()"
   ]
  },
  {
   "cell_type": "code",
   "execution_count": 43,
   "metadata": {
    "collapsed": false
   },
   "outputs": [
    {
     "name": "stdout",
     "output_type": "stream",
     "text": [
      "           elaboration     \n",
      "        ________|_______    \n",
      "       N                |  \n",
      "       |                |   \n",
      "     joint              |  \n",
      "  _____|________        |   \n",
      " N              N       S  \n",
      " |              |       |   \n",
      "eins           zwei    drei\n",
      "\n"
     ]
    }
   ],
   "source": [
    "example_tree.pretty_print()"
   ]
  },
  {
   "cell_type": "markdown",
   "metadata": {},
   "source": [
    "# TODO: does dg.readwrite.tree work with RSTGraph?"
   ]
  },
  {
   "cell_type": "code",
   "execution_count": 44,
   "metadata": {
    "collapsed": true
   },
   "outputs": [],
   "source": [
    "example_rs3 = 'eins-zwei-drei-(elab-eins-from-(joint-zwei-and-drei).rs3'"
   ]
  },
  {
   "cell_type": "code",
   "execution_count": 45,
   "metadata": {
    "collapsed": false
   },
   "outputs": [],
   "source": [
    "# embed_rs3_image(example_rs3)"
   ]
  },
  {
   "cell_type": "code",
   "execution_count": 46,
   "metadata": {
    "collapsed": false
   },
   "outputs": [
    {
     "data": {
      "image/png": "[encoded data removed]",
      "text/plain": [
       "ParentedTree('elaboration', [ParentedTree('N', [ParentedTree('joint', [ParentedTree('N', ['eins']), ParentedTree('N', ['zwei'])])]), ParentedTree('S', ['drei'])])"
      ]
     },
     "execution_count": 46,
     "metadata": {},
     "output_type": "execute_result"
    }
   ],
   "source": [
    "t(\"elaboration\", [\n",
    "    (\"N\", [\n",
    "        (\"joint\", [\n",
    "            (\"N\", \"eins\"),\n",
    "            (\"N\", \"zwei\")\n",
    "        ])\n",
    "    ]),\n",
    "    (\"S\", \"drei\")\n",
    "])"
   ]
  },
  {
   "cell_type": "code",
   "execution_count": 47,
   "metadata": {
    "collapsed": false
   },
   "outputs": [],
   "source": [
    "rdg = dg.read_rs3(example_rs3)"
   ]
  },
  {
   "cell_type": "code",
   "execution_count": 48,
   "metadata": {
    "collapsed": true
   },
   "outputs": [],
   "source": [
    "# %load_ext gvmagic"
   ]
  },
  {
   "cell_type": "code",
   "execution_count": 49,
   "metadata": {
    "collapsed": false
   },
   "outputs": [],
   "source": [
    "# %dotstr dg.print_dot(rdg)"
   ]
  },
  {
   "cell_type": "markdown",
   "metadata": {},
   "source": [
    "# TODO: why is root node not connected?"
   ]
  },
  {
   "cell_type": "markdown",
   "metadata": {},
   "source": [
    "because the root node is a `<segment>` and not a `<group>`.\n",
    "\n",
    "```xml\n",
    "<body>\n",
    "    <segment id=\"1\">eins</segment>\n",
    "    <segment id=\"2\" parent=\"4\" relname=\"joint\"> zwei</segment>\n",
    "    <segment id=\"3\" parent=\"4\" relname=\"joint\"> drei</segment>\n",
    "    <group id=\"4\" type=\"multinuc\" parent=\"1\" relname=\"elaboration\" />\n",
    "</body>\n",
    "```"
   ]
  },
  {
   "cell_type": "code",
   "execution_count": 50,
   "metadata": {
    "collapsed": false
   },
   "outputs": [],
   "source": [
    "# rdg_maz00001 = dg.corpora.pcc.get_document('maz-00001')"
   ]
  },
  {
   "cell_type": "code",
   "execution_count": 51,
   "metadata": {
    "collapsed": false
   },
   "outputs": [],
   "source": [
    "# dg.corpora.pcc.get_files_by_document_id('maz-00001')"
   ]
  },
  {
   "cell_type": "code",
   "execution_count": 52,
   "metadata": {
    "collapsed": false
   },
   "outputs": [],
   "source": [
    "# maz00001_rs3 = \"/usr/local/lib/python2.7/dist-packages/discoursegraphs-0.3.2-py2.7.egg/discoursegraphs/data/potsdam-commentary-corpus-2.0.0/rst/maz-00001.rs3\"\n",
    "# rdg_maz00001 = dg.read_rs3(maz00001_rs3, tokenize=False)"
   ]
  },
  {
   "cell_type": "code",
   "execution_count": 53,
   "metadata": {
    "collapsed": false
   },
   "outputs": [],
   "source": [
    "# %dotstr dg.print_dot(rdg_maz00001)"
   ]
  },
  {
   "cell_type": "code",
   "execution_count": 54,
   "metadata": {
    "collapsed": false
   },
   "outputs": [],
   "source": [
    "# 'eins-zwei-drei-(elab-eins-from-(joint-zwei-and-drei).rs3'\n",
    "\n",
    "rs3str1 = \"\"\"<rst>\n",
    "  <header>\n",
    "    <relations>\n",
    "      <rel name=\"elaboration\" type=\"rst\" />\n",
    "      <rel name=\"joint\" type=\"multinuc\" />\n",
    "    </relations>\n",
    "  </header>\n",
    "  <body>\n",
    "    <segment id=\"1\">eins</segment>\n",
    "    <segment id=\"2\" parent=\"4\" relname=\"joint\"> zwei</segment>\n",
    "    <segment id=\"3\" parent=\"4\" relname=\"joint\"> drei</segment>\n",
    "    <group id=\"4\" type=\"multinuc\" parent=\"1\" relname=\"elaboration\" />\n",
    "  </body>\n",
    "</rst>\"\"\""
   ]
  },
  {
   "cell_type": "code",
   "execution_count": 55,
   "metadata": {
    "collapsed": false
   },
   "outputs": [],
   "source": [
    "# embed_rs3str_image(rs3str1)"
   ]
  },
  {
   "cell_type": "code",
   "execution_count": 56,
   "metadata": {
    "collapsed": false
   },
   "outputs": [
    {
     "data": {
      "text/plain": [
       "{'elaboration': 'rst', 'joint': 'multinuc'}"
      ]
     },
     "execution_count": 56,
     "metadata": {},
     "output_type": "execute_result"
    }
   ],
   "source": [
    "rs3etree1 = etree.fromstring(rs3str1)\n",
    "extract_relationtypes(rs3etree1)"
   ]
  },
  {
   "cell_type": "code",
   "execution_count": 57,
   "metadata": {
    "collapsed": false
   },
   "outputs": [],
   "source": [
    "from collections import defaultdict\n",
    "\n",
    "root_elem = None\n",
    "elements = defaultdict(lambda : defaultdict(str))\n",
    "children = defaultdict(list)\n",
    "\n",
    "for elem in rs3etree1.iter('segment'):\n",
    "    segment_id = elem.attrib['id']\n",
    "    parent_id = elem.attrib.get('parent')\n",
    "    elements[segment_id]['parent'] = parent_id\n",
    "    elements[segment_id]['relname'] = elem.attrib.get('relname')\n",
    "    elements[segment_id]['text'] = elem.text\n",
    "    elements[segment_id]['element_type'] = 'segment'\n",
    "    children[parent_id].append(segment_id)"
   ]
  },
  {
   "cell_type": "code",
   "execution_count": 58,
   "metadata": {
    "collapsed": false
   },
   "outputs": [],
   "source": [
    "for elem in rs3etree1.iter('group'):\n",
    "    group_id = elem.attrib['id']\n",
    "    parent_id = elem.attrib.get('parent')\n",
    "    elements[group_id]['parent'] = parent_id\n",
    "    elements[group_id]['relname'] = elem.attrib.get('relname')\n",
    "    elements[segment_id]['element_type'] = 'group'\n",
    "    children[parent_id].append(group_id)"
   ]
  },
  {
   "cell_type": "code",
   "execution_count": 59,
   "metadata": {
    "collapsed": false
   },
   "outputs": [
    {
     "data": {
      "text/plain": [
       "defaultdict(list, {None: ['1'], '1': ['4'], '4': ['2', '3']})"
      ]
     },
     "execution_count": 59,
     "metadata": {},
     "output_type": "execute_result"
    }
   ],
   "source": [
    "children"
   ]
  },
  {
   "cell_type": "code",
   "execution_count": 60,
   "metadata": {
    "collapsed": false
   },
   "outputs": [
    {
     "data": {
      "text/plain": [
       "defaultdict(<function __main__.<lambda>>,\n",
       "            {'1': defaultdict(str,\n",
       "                         {'element_type': 'segment',\n",
       "                          'parent': None,\n",
       "                          'relname': None,\n",
       "                          'text': 'eins'}),\n",
       "             '2': defaultdict(str,\n",
       "                         {'element_type': 'segment',\n",
       "                          'parent': '4',\n",
       "                          'relname': 'joint',\n",
       "                          'text': ' zwei'}),\n",
       "             '3': defaultdict(str,\n",
       "                         {'element_type': 'group',\n",
       "                          'parent': '4',\n",
       "                          'relname': 'joint',\n",
       "                          'text': ' drei'}),\n",
       "             '4': defaultdict(str, {'parent': '1', 'relname': 'elaboration'})})"
      ]
     },
     "execution_count": 60,
     "metadata": {},
     "output_type": "execute_result"
    }
   ],
   "source": [
    "elements"
   ]
  },
  {
   "cell_type": "code",
   "execution_count": 78,
   "metadata": {
    "collapsed": true
   },
   "outputs": [],
   "source": [
    "def children_dict2tree(child_dict, start_node=None):\n",
    "    children = child_dict[start_node]\n",
    "\n",
    "    if len(children) == 0:\n",
    "        return t(start_node)\n",
    "    if len(children) == 1:\n",
    "        child = children[0]\n",
    "        try:\n",
    "            return t(child, children_dict2tree(child_dict, start_node=child))\n",
    "        except:\n",
    "            print(\"children: \", children)\n",
    "            raise Exception(\"Can't handle len(children) == 1\")\n",
    "    else:\n",
    "        child_trees = [children_dict2tree(child_dict, start_node=child) for child in children]\n",
    "        if start_node is None:\n",
    "            return t(\"root\", child_trees)\n",
    "        else:\n",
    "            return child_trees"
   ]
  },
  {
   "cell_type": "code",
   "execution_count": 79,
   "metadata": {
    "collapsed": false
   },
   "outputs": [
    {
     "data": {
      "image/png": "[encoded data removed]",
      "text/plain": [
       "ParentedTree('1', [ParentedTree('4', [ParentedTree('2', []), ParentedTree('3', [])])])"
      ]
     },
     "execution_count": 79,
     "metadata": {},
     "output_type": "execute_result"
    }
   ],
   "source": [
    "children_dict2tree(children)"
   ]
  },
  {
   "cell_type": "code",
   "execution_count": null,
   "metadata": {
    "collapsed": true
   },
   "outputs": [],
   "source": []
  }
 ],
 "metadata": {
  "kernelspec": {
   "display_name": "Python 2",
   "language": "python",
   "name": "python2"
  },
  "language_info": {
   "codemirror_mode": {
    "name": "ipython",
    "version": 2
   },
   "file_extension": ".py",
   "mimetype": "text/x-python",
   "name": "python",
   "nbconvert_exporter": "python",
   "pygments_lexer": "ipython2",
   "version": "2.7.12"
  }
 },
 "nbformat": 4,
 "nbformat_minor": 2
}
