{
 "cells": [
  {
   "cell_type": "code",
   "execution_count": 1,
   "metadata": {
    "collapsed": true
   },
   "outputs": [],
   "source": [
    "from collections import defaultdict\n",
    "from lxml import etree\n",
    "from discoursegraphs import t\n",
    "from discoursegraphs.readwrite.rst.rs3 import extract_relationtypes"
   ]
  },
  {
   "cell_type": "code",
   "execution_count": 2,
   "metadata": {
    "collapsed": true
   },
   "outputs": [],
   "source": [
    "RS3_EXAMPLE_FILE = '/usr/local/lib/python2.7/dist-packages/discoursegraphs-0.3.2-py2.7.egg/discoursegraphs/data/potsdam-commentary-corpus-2.0.0/rst/maz-1818.rs3'"
   ]
  },
  {
   "cell_type": "code",
   "execution_count": 3,
   "metadata": {
    "collapsed": false
   },
   "outputs": [],
   "source": [
    "def get_rs3_data(rs3_file):\n",
    "    rs3_etree = etree.parse(rs3_file)\n",
    "    reltypes = extract_relationtypes(rs3_etree)\n",
    "    elements = defaultdict(lambda : defaultdict(str))\n",
    "    children = defaultdict(list)\n",
    "\n",
    "    for elem in rs3_etree.iter('segment', 'group'):\n",
    "        elem_id = elem.attrib['id']\n",
    "        parent_id = elem.attrib.get('parent')\n",
    "        elements[elem_id]['parent'] = parent_id\n",
    "        children[parent_id].append(elem_id)\n",
    "        \n",
    "        relname = elem.attrib.get('relname')\n",
    "        elements[elem_id]['relname'] = relname\n",
    "        if relname == None:\n",
    "            # nodes without a parent have no relname attribute\n",
    "            elements[elem_id]['nuclearity'] = 'root'\n",
    "        else:\n",
    "            reltype = reltypes.get(relname, 'span')\n",
    "            elements[elem_id]['reltype'] = reltype\n",
    "            if reltype == 'rst':\n",
    "                # this elem is the S of an N-S relation, its parent is the N\n",
    "                elements[elem_id]['nuclearity'] = 'satellite'\n",
    "            elif reltype == 'multinuc':\n",
    "                # this elem is one of several Ns of a multinuc relation.\n",
    "                # its parent is the multinuc relation node.\n",
    "                elements[elem_id]['nuclearity'] = 'nucleus'\n",
    "            elif reltype == 'span':\n",
    "                # this elem is the N of an N-S relation, its parent is a span\n",
    "                elements[elem_id]['nuclearity'] = 'nucleus'\n",
    "            else:\n",
    "                raise NotImplementedError(\"Unknown reltype: {}\".format(reltypes[relname]))\n",
    "        \n",
    "        elem_type = elem.tag\n",
    "        elements[elem_id]['element_type'] = elem_type\n",
    "        \n",
    "        if elem_type == 'segment':\n",
    "            elements[elem_id]['text'] = elem.text\n",
    "        else:  # elem_type == 'group':\n",
    "            elements[elem_id]['group_type'] = elem.attrib.get('type')\n",
    "    return children, elements"
   ]
  },
  {
   "cell_type": "code",
   "execution_count": 4,
   "metadata": {
    "collapsed": false
   },
   "outputs": [],
   "source": [
    "cdict, edict = get_rs3_data(RS3_EXAMPLE_FILE)"
   ]
  },
  {
   "cell_type": "code",
   "execution_count": 5,
   "metadata": {
    "collapsed": false
   },
   "outputs": [],
   "source": [
    "def dt(child_dict, elem_dict, start_node=None):\n",
    "    elem_id = start_node\n",
    "    if elem_id not in elem_dict:\n",
    "        return []\n",
    "    \n",
    "    elem = elem_dict[elem_id]\n",
    "    elem_type = elem['element_type']\n",
    "    \n",
    "    if elem_type == 'segment':\n",
    "        if elem['nuclearity'] == 'root':\n",
    "            return t('elem_id', elem['text'])\n",
    "        \n",
    "        if elem['reltype'] == 'rst':\n",
    "            parent = elem['parent']\n",
    "            nuc_subtree = dt(child_dict, elem_dict, start_node=parent)\n",
    "            return t(elem['relname'], [\n",
    "                ('S ({})'.format(elem_id), elem['text']),\n",
    "                ('N ({})'.format(parent), nuc_subtree)\n",
    "            ])\n",
    "        elif elem['reltype'] == 'multinuc':\n",
    "            return dt(child_dict, elem_dict, start_node=elem['parent'])\n",
    "        else:  # elem['reltype'] == 'span'\n",
    "            assert len(child_dict[elem_id]) == 1\n",
    "            child_node = child_dict[elem_id][0]\n",
    "            return dt(child_dict, elem_dict, start_node=child_node)\n",
    "\n",
    "\n",
    "    else:  # elem_type == 'group':\n",
    "        if elem['reltype'] == 'rst':\n",
    "            # --- copied from 'segment' section ---\n",
    "            parent = elem['parent']\n",
    "            nuc_subtree = dt(child_dict, elem_dict, start_node=parent)\n",
    "            return t(elem['relname'], [\n",
    "                ('S ({})'.format(elem_id), elem['text']),\n",
    "                ('N ({})'.format(parent), nuc_subtree)\n",
    "            ])\n",
    "            # --- copied from 'segment' section ---\n",
    "        else: # elem_type == 'group' and elem['reltype'] != 'rst'\n",
    "            raise NotImplementedError"
   ]
  },
  {
   "cell_type": "code",
   "execution_count": 6,
   "metadata": {
    "collapsed": false
   },
   "outputs": [
    {
     "ename": "RuntimeError",
     "evalue": "maximum recursion depth exceeded in cmp",
     "output_type": "error",
     "traceback": [
      "\u001b[0;31m---------------------------------------------------------------------------\u001b[0m",
      "\u001b[0;31mRuntimeError\u001b[0m                              Traceback (most recent call last)",
      "\u001b[0;32m<ipython-input-6-0604a1297f93>\u001b[0m in \u001b[0;36m<module>\u001b[0;34m()\u001b[0m\n\u001b[0;32m----> 1\u001b[0;31m \u001b[0mdt\u001b[0m\u001b[0;34m(\u001b[0m\u001b[0mcdict\u001b[0m\u001b[0;34m,\u001b[0m \u001b[0medict\u001b[0m\u001b[0;34m,\u001b[0m \u001b[0mstart_node\u001b[0m\u001b[0;34m=\u001b[0m\u001b[0;34m'5'\u001b[0m\u001b[0;34m)\u001b[0m\u001b[0;34m\u001b[0m\u001b[0m\n\u001b[0m",
      "\u001b[0;32m<ipython-input-5-c9a32d22df2e>\u001b[0m in \u001b[0;36mdt\u001b[0;34m(child_dict, elem_dict, start_node)\u001b[0m\n\u001b[1;32m     23\u001b[0m             \u001b[0;32massert\u001b[0m \u001b[0mlen\u001b[0m\u001b[0;34m(\u001b[0m\u001b[0mchild_dict\u001b[0m\u001b[0;34m[\u001b[0m\u001b[0melem_id\u001b[0m\u001b[0;34m]\u001b[0m\u001b[0;34m)\u001b[0m \u001b[0;34m==\u001b[0m \u001b[0;36m1\u001b[0m\u001b[0;34m\u001b[0m\u001b[0m\n\u001b[1;32m     24\u001b[0m             \u001b[0mchild_node\u001b[0m \u001b[0;34m=\u001b[0m \u001b[0mchild_dict\u001b[0m\u001b[0;34m[\u001b[0m\u001b[0melem_id\u001b[0m\u001b[0;34m]\u001b[0m\u001b[0;34m[\u001b[0m\u001b[0;36m0\u001b[0m\u001b[0;34m]\u001b[0m\u001b[0;34m\u001b[0m\u001b[0m\n\u001b[0;32m---> 25\u001b[0;31m             \u001b[0;32mreturn\u001b[0m \u001b[0mdt\u001b[0m\u001b[0;34m(\u001b[0m\u001b[0mchild_dict\u001b[0m\u001b[0;34m,\u001b[0m \u001b[0melem_dict\u001b[0m\u001b[0;34m,\u001b[0m \u001b[0mstart_node\u001b[0m\u001b[0;34m=\u001b[0m\u001b[0mchild_node\u001b[0m\u001b[0;34m)\u001b[0m\u001b[0;34m\u001b[0m\u001b[0m\n\u001b[0m\u001b[1;32m     26\u001b[0m \u001b[0;34m\u001b[0m\u001b[0m\n\u001b[1;32m     27\u001b[0m \u001b[0;34m\u001b[0m\u001b[0m\n",
      "\u001b[0;32m<ipython-input-5-c9a32d22df2e>\u001b[0m in \u001b[0;36mdt\u001b[0;34m(child_dict, elem_dict, start_node)\u001b[0m\n\u001b[1;32m     13\u001b[0m         \u001b[0;32mif\u001b[0m \u001b[0melem\u001b[0m\u001b[0;34m[\u001b[0m\u001b[0;34m'reltype'\u001b[0m\u001b[0;34m]\u001b[0m \u001b[0;34m==\u001b[0m \u001b[0;34m'rst'\u001b[0m\u001b[0;34m:\u001b[0m\u001b[0;34m\u001b[0m\u001b[0m\n\u001b[1;32m     14\u001b[0m             \u001b[0mparent\u001b[0m \u001b[0;34m=\u001b[0m \u001b[0melem\u001b[0m\u001b[0;34m[\u001b[0m\u001b[0;34m'parent'\u001b[0m\u001b[0;34m]\u001b[0m\u001b[0;34m\u001b[0m\u001b[0m\n\u001b[0;32m---> 15\u001b[0;31m             \u001b[0mnuc_subtree\u001b[0m \u001b[0;34m=\u001b[0m \u001b[0mdt\u001b[0m\u001b[0;34m(\u001b[0m\u001b[0mchild_dict\u001b[0m\u001b[0;34m,\u001b[0m \u001b[0melem_dict\u001b[0m\u001b[0;34m,\u001b[0m \u001b[0mstart_node\u001b[0m\u001b[0;34m=\u001b[0m\u001b[0mparent\u001b[0m\u001b[0;34m)\u001b[0m\u001b[0;34m\u001b[0m\u001b[0m\n\u001b[0m\u001b[1;32m     16\u001b[0m             return t(elem['relname'], [\n\u001b[1;32m     17\u001b[0m                 \u001b[0;34m(\u001b[0m\u001b[0;34m'S ({})'\u001b[0m\u001b[0;34m.\u001b[0m\u001b[0mformat\u001b[0m\u001b[0;34m(\u001b[0m\u001b[0melem_id\u001b[0m\u001b[0;34m)\u001b[0m\u001b[0;34m,\u001b[0m \u001b[0melem\u001b[0m\u001b[0;34m[\u001b[0m\u001b[0;34m'text'\u001b[0m\u001b[0;34m]\u001b[0m\u001b[0;34m)\u001b[0m\u001b[0;34m,\u001b[0m\u001b[0;34m\u001b[0m\u001b[0m\n",
      "... last 2 frames repeated, from the frame below ...\n",
      "\u001b[0;32m<ipython-input-5-c9a32d22df2e>\u001b[0m in \u001b[0;36mdt\u001b[0;34m(child_dict, elem_dict, start_node)\u001b[0m\n\u001b[1;32m     23\u001b[0m             \u001b[0;32massert\u001b[0m \u001b[0mlen\u001b[0m\u001b[0;34m(\u001b[0m\u001b[0mchild_dict\u001b[0m\u001b[0;34m[\u001b[0m\u001b[0melem_id\u001b[0m\u001b[0;34m]\u001b[0m\u001b[0;34m)\u001b[0m \u001b[0;34m==\u001b[0m \u001b[0;36m1\u001b[0m\u001b[0;34m\u001b[0m\u001b[0m\n\u001b[1;32m     24\u001b[0m             \u001b[0mchild_node\u001b[0m \u001b[0;34m=\u001b[0m \u001b[0mchild_dict\u001b[0m\u001b[0;34m[\u001b[0m\u001b[0melem_id\u001b[0m\u001b[0;34m]\u001b[0m\u001b[0;34m[\u001b[0m\u001b[0;36m0\u001b[0m\u001b[0;34m]\u001b[0m\u001b[0;34m\u001b[0m\u001b[0m\n\u001b[0;32m---> 25\u001b[0;31m             \u001b[0;32mreturn\u001b[0m \u001b[0mdt\u001b[0m\u001b[0;34m(\u001b[0m\u001b[0mchild_dict\u001b[0m\u001b[0;34m,\u001b[0m \u001b[0melem_dict\u001b[0m\u001b[0;34m,\u001b[0m \u001b[0mstart_node\u001b[0m\u001b[0;34m=\u001b[0m\u001b[0mchild_node\u001b[0m\u001b[0;34m)\u001b[0m\u001b[0;34m\u001b[0m\u001b[0m\n\u001b[0m\u001b[1;32m     26\u001b[0m \u001b[0;34m\u001b[0m\u001b[0m\n\u001b[1;32m     27\u001b[0m \u001b[0;34m\u001b[0m\u001b[0m\n",
      "\u001b[0;31mRuntimeError\u001b[0m: maximum recursion depth exceeded in cmp"
     ]
    }
   ],
   "source": [
    "dt(cdict, edict, start_node='5')"
   ]
  },
  {
   "cell_type": "code",
   "execution_count": null,
   "metadata": {
    "collapsed": false
   },
   "outputs": [],
   "source": [
    "dt(cdict, edict, start_node='3')"
   ]
  },
  {
   "cell_type": "code",
   "execution_count": null,
   "metadata": {
    "collapsed": false
   },
   "outputs": [],
   "source": [
    "# import IPython\n",
    "\n",
    "# for child in cdict:\n",
    "#     print(child)\n",
    "#     try:\n",
    "#         IPython.core.display.display(dt(cdict, edict, start_node=child))\n",
    "#     except NotImplementedError as e:\n",
    "#         print(e.args, e.message)"
   ]
  },
  {
   "cell_type": "code",
   "execution_count": null,
   "metadata": {
    "collapsed": true
   },
   "outputs": [],
   "source": []
  }
 ],
 "metadata": {
  "kernelspec": {
   "display_name": "Python 2",
   "language": "python",
   "name": "python2"
  },
  "language_info": {
   "codemirror_mode": {
    "name": "ipython",
    "version": 2
   },
   "file_extension": ".py",
   "mimetype": "text/x-python",
   "name": "python",
   "nbconvert_exporter": "python",
   "pygments_lexer": "ipython2",
   "version": "2.7.12"
  }
 },
 "nbformat": 4,
 "nbformat_minor": 2
}
