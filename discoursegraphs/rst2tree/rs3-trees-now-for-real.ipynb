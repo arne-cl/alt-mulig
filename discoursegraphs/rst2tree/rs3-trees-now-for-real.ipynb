{
 "cells": [
  {
   "cell_type": "code",
   "execution_count": 1,
   "metadata": {
    "collapsed": true
   },
   "outputs": [],
   "source": [
    "from collections import defaultdict\n",
    "from lxml import etree\n",
    "from discoursegraphs import t\n",
    "from discoursegraphs.readwrite.rst.rs3 import extract_relationtypes"
   ]
  },
  {
   "cell_type": "code",
   "execution_count": 2,
   "metadata": {
    "collapsed": true
   },
   "outputs": [],
   "source": [
    "RS3_EXAMPLE_FILE = '/usr/local/lib/python2.7/dist-packages/discoursegraphs-0.3.2-py2.7.egg/discoursegraphs/data/potsdam-commentary-corpus-2.0.0/rst/maz-1818.rs3'"
   ]
  },
  {
   "cell_type": "code",
   "execution_count": 3,
   "metadata": {
    "collapsed": false
   },
   "outputs": [],
   "source": [
    "def get_rs3_data(rs3_file):\n",
    "    rs3_etree = etree.parse(rs3_file)\n",
    "    reltypes = extract_relationtypes(rs3_etree)\n",
    "    elements = defaultdict(lambda : defaultdict(str))\n",
    "    children = defaultdict(list)\n",
    "\n",
    "    for elem in rs3_etree.iter('segment', 'group'):\n",
    "        elem_id = elem.attrib['id']\n",
    "        parent_id = elem.attrib.get('parent')\n",
    "        elements[elem_id]['parent'] = parent_id\n",
    "        children[parent_id].append(elem_id)\n",
    "        \n",
    "        relname = elem.attrib.get('relname')\n",
    "        elements[elem_id]['relname'] = relname\n",
    "        if relname == None:\n",
    "            # nodes without a parent have no relname attribute\n",
    "            elements[elem_id]['nuclearity'] = 'root'\n",
    "        else:\n",
    "            reltype = reltypes.get(relname, 'span')\n",
    "            elements[elem_id]['reltype'] = reltype\n",
    "            if reltype == 'rst':\n",
    "                # this elem is the S of an N-S relation, its parent is the N\n",
    "                elements[elem_id]['nuclearity'] = 'satellite'\n",
    "            elif reltype == 'multinuc':\n",
    "                # this elem is one of several Ns of a multinuc relation.\n",
    "                # its parent is the multinuc relation node.\n",
    "                elements[elem_id]['nuclearity'] = 'nucleus'\n",
    "            elif reltype == 'span':\n",
    "                # this elem is the N of an N-S relation, its parent is a span\n",
    "                elements[elem_id]['nuclearity'] = 'nucleus'\n",
    "            else:\n",
    "                raise NotImplementedError(\"Unknown reltype: {}\".format(reltypes[relname]))\n",
    "        \n",
    "        elem_type = elem.tag\n",
    "        elements[elem_id]['element_type'] = elem_type\n",
    "        \n",
    "        if elem_type == 'segment':\n",
    "            elements[elem_id]['text'] = elem.text\n",
    "        else:  # elem_type == 'group':\n",
    "            elements[elem_id]['group_type'] = elem.attrib.get('type')\n",
    "    return children, elements"
   ]
  },
  {
   "cell_type": "code",
   "execution_count": 4,
   "metadata": {
    "collapsed": false
   },
   "outputs": [],
   "source": [
    "cdict, edict = get_rs3_data(RS3_EXAMPLE_FILE)"
   ]
  },
  {
   "cell_type": "code",
   "execution_count": 5,
   "metadata": {
    "collapsed": false
   },
   "outputs": [
    {
     "name": "stdout",
     "output_type": "stream",
     "text": [
      "defaultdict(<type 'str'>, {'nuclearity': 'nucleus', 'parent': '12', 'element_type': 'segment', 'text': ' haben sie den Ernst der Lage erkannt .', 'reltype': 'span', 'relname': 'span'})\n",
      "\n",
      "defaultdict(<type 'str'>, {'nuclearity': 'satellite', 'parent': '5', 'element_type': 'segment', 'text': '  Auch wenn die Basis murrt ,', 'reltype': 'rst', 'relname': 'concession'})\n"
     ]
    }
   ],
   "source": [
    "print edict['5']\n",
    "print\n",
    "print edict['4']"
   ]
  },
  {
   "cell_type": "code",
   "execution_count": 93,
   "metadata": {
    "collapsed": false
   },
   "outputs": [],
   "source": [
    "def dt(child_dict, elem_dict, start_node=None):\n",
    "    elem_id = start_node\n",
    "    if elem_id not in elem_dict:\n",
    "        return []\n",
    "    \n",
    "    elem = elem_dict[elem_id]\n",
    "    elem_type = elem['element_type']\n",
    "    \n",
    "    if elem_type == 'segment':\n",
    "        if elem['nuclearity'] == 'root':\n",
    "            return t('N ({})'.format(elem_id), elem['text'])\n",
    "        \n",
    "        if elem['reltype'] == 'rst':\n",
    "            # this elem is the S in an N-S relation\n",
    "            assert elem_id not in child_dict\n",
    "            return t('S ({})'.format(elem_id), elem['text'])\n",
    "\n",
    "        elif elem['reltype'] == 'multinuc':\n",
    "            # this elem is one of several Ns in a multinuc relation\n",
    "            assert elem_id not in child_dict\n",
    "            return t('N ({})'.format(elem_id), elem['text'])\n",
    "            \n",
    "        else:  # elem['reltype'] == 'span'\n",
    "            # this elem is the N in an N-S relation\n",
    "            assert len(child_dict[elem_id]) == 1\n",
    "            satellite_id = child_dict[elem_id][0]\n",
    "            satellite_elem = elem_dict[satellite_id]\n",
    "            sat_subtree = dt(child_dict, elem_dict, start_node=satellite_id)\n",
    "            relname = satellite_elem['relname']\n",
    "            return t(relname, [\n",
    "                ('N ({})'.format(elem_id), elem['text']),\n",
    "                sat_subtree\n",
    "            ])\n",
    "\n",
    "    else:  # elem_type == 'group':\n",
    "        if elem['reltype'] == 'rst':\n",
    "            # this elem is the S in an N-S relation\n",
    "            assert len(child_dict[elem_id]) == 1\n",
    "            child_id = child_dict[elem_id][0]\n",
    "            subtree = dt(child_dict, elem_dict, start_node=child_id)\n",
    "            return t('S ({})'.format(elem_id), subtree)\n",
    "\n",
    "        elif elem['reltype'] == 'multinuc':\n",
    "            # this elem is one of several Ns in a multinuc relation\n",
    "            assert len(child_dict[elem_id]) == 1\n",
    "            child_id = child_dict[elem_id][0]\n",
    "            subtree = dt(child_dict, elem_dict, start_node=child_id)\n",
    "            return t('n ({})'.format(elem_id), subtree)\n",
    "\n",
    "        else: # elem_type == 'group' and elem['reltype'] == 'span'\n",
    "            raise NotImplementedError"
   ]
  },
  {
   "cell_type": "code",
   "execution_count": 94,
   "metadata": {
    "collapsed": false
   },
   "outputs": [
    {
     "data": {
      "image/png": "[encoded data removed]",
      "text/plain": [
       "ParentedTree('N (1)', ['\\n\\nNaive PDS'])"
      ]
     },
     "execution_count": 94,
     "metadata": {},
     "output_type": "execute_result"
    }
   ],
   "source": [
    "dt(cdict, edict, start_node='1') # OK"
   ]
  },
  {
   "cell_type": "code",
   "execution_count": 95,
   "metadata": {
    "collapsed": false
   },
   "outputs": [
    {
     "data": {
      "image/png": "[encoded data removed]",
      "text/plain": [
       "ParentedTree('S (11)', ['\\n\\nDie innenpolitische Situation in Deutschland hat sich seit den Terroranschl\\xe4gen in den USA grundlegend gewandelt :'])"
      ]
     },
     "execution_count": 95,
     "metadata": {},
     "output_type": "execute_result"
    }
   ],
   "source": [
    "dt(cdict, edict, start_node='11') # OK"
   ]
  },
  {
   "cell_type": "code",
   "execution_count": 96,
   "metadata": {
    "collapsed": false
   },
   "outputs": [
    {
     "data": {
      "image/png": "[encoded data removed]",
      "text/plain": [
       "ParentedTree('N (2)', ['  Wohl niemand h\\xe4tte sich vor dem 11. September vorstellen k\\xf6nnen , dass die in den 70er Jahren gegen die RAF erprobte und bew\\xe4hrte Rasterfahndung innerhalb k\\xfcrzester Zeit wieder eingef\\xfchrt w\\xfcrde -'])"
      ]
     },
     "execution_count": 96,
     "metadata": {},
     "output_type": "execute_result"
    }
   ],
   "source": [
    "dt(cdict, edict, start_node='2') # OK"
   ]
  },
  {
   "cell_type": "code",
   "execution_count": 97,
   "metadata": {
    "collapsed": false
   },
   "outputs": [
    {
     "data": {
      "image/png": "[encoded data removed]",
      "text/plain": [
       "ParentedTree('elaboration', [ParentedTree('N (3)', [' und dass diese Ma\\xdfnahme sogar selbst von den Gr\\xfcnen begr\\xfc\\xdft wird .']), ParentedTree('S (12)', [ParentedTree('concession', [ParentedTree('N (5)', [' haben sie den Ernst der Lage erkannt .']), ParentedTree('S (4)', ['  Auch wenn die Basis murrt ,'])])])])"
      ]
     },
     "execution_count": 97,
     "metadata": {},
     "output_type": "execute_result"
    }
   ],
   "source": [
    "dt(cdict, edict, start_node='3') # OK, but wrong subtree order"
   ]
  },
  {
   "cell_type": "code",
   "execution_count": 98,
   "metadata": {
    "collapsed": false
   },
   "outputs": [
    {
     "data": {
      "image/png": "[encoded data removed]",
      "text/plain": [
       "ParentedTree('S (4)', ['  Auch wenn die Basis murrt ,'])"
      ]
     },
     "execution_count": 98,
     "metadata": {},
     "output_type": "execute_result"
    }
   ],
   "source": [
    "dt(cdict, edict, start_node='4') # OK"
   ]
  },
  {
   "cell_type": "code",
   "execution_count": 99,
   "metadata": {
    "collapsed": false
   },
   "outputs": [
    {
     "data": {
      "image/png": "[encoded data removed]",
      "text/plain": [
       "ParentedTree('concession', [ParentedTree('N (5)', [' haben sie den Ernst der Lage erkannt .']), ParentedTree('S (4)', ['  Auch wenn die Basis murrt ,'])])"
      ]
     },
     "execution_count": 99,
     "metadata": {},
     "output_type": "execute_result"
    }
   ],
   "source": [
    "dt(cdict, edict, start_node='5') # OK, but wrong subtree order"
   ]
  },
  {
   "cell_type": "code",
   "execution_count": 100,
   "metadata": {
    "collapsed": false
   },
   "outputs": [
    {
     "ename": "NotImplementedError",
     "evalue": "",
     "output_type": "error",
     "traceback": [
      "\u001b[0;31m---------------------------------------------------------------------------\u001b[0m",
      "\u001b[0;31mNotImplementedError\u001b[0m                       Traceback (most recent call last)",
      "\u001b[0;32m<ipython-input-100-f1dbf86f59b8>\u001b[0m in \u001b[0;36m<module>\u001b[0;34m()\u001b[0m\n\u001b[0;32m----> 1\u001b[0;31m \u001b[0mdt\u001b[0m\u001b[0;34m(\u001b[0m\u001b[0mcdict\u001b[0m\u001b[0;34m,\u001b[0m \u001b[0medict\u001b[0m\u001b[0;34m,\u001b[0m \u001b[0mstart_node\u001b[0m\u001b[0;34m=\u001b[0m\u001b[0;34m'6'\u001b[0m\u001b[0;34m)\u001b[0m \u001b[0;31m# FAIL\u001b[0m\u001b[0;34m\u001b[0m\u001b[0m\n\u001b[0m",
      "\u001b[0;32m<ipython-input-93-028b0931de2f>\u001b[0m in \u001b[0;36mdt\u001b[0;34m(child_dict, elem_dict, start_node)\u001b[0m\n\u001b[1;32m     26\u001b[0m             \u001b[0msatellite_id\u001b[0m \u001b[0;34m=\u001b[0m \u001b[0mchild_dict\u001b[0m\u001b[0;34m[\u001b[0m\u001b[0melem_id\u001b[0m\u001b[0;34m]\u001b[0m\u001b[0;34m[\u001b[0m\u001b[0;36m0\u001b[0m\u001b[0;34m]\u001b[0m\u001b[0;34m\u001b[0m\u001b[0m\n\u001b[1;32m     27\u001b[0m             \u001b[0msatellite_elem\u001b[0m \u001b[0;34m=\u001b[0m \u001b[0melem_dict\u001b[0m\u001b[0;34m[\u001b[0m\u001b[0msatellite_id\u001b[0m\u001b[0;34m]\u001b[0m\u001b[0;34m\u001b[0m\u001b[0m\n\u001b[0;32m---> 28\u001b[0;31m             \u001b[0msat_subtree\u001b[0m \u001b[0;34m=\u001b[0m \u001b[0mdt\u001b[0m\u001b[0;34m(\u001b[0m\u001b[0mchild_dict\u001b[0m\u001b[0;34m,\u001b[0m \u001b[0melem_dict\u001b[0m\u001b[0;34m,\u001b[0m \u001b[0mstart_node\u001b[0m\u001b[0;34m=\u001b[0m\u001b[0msatellite_id\u001b[0m\u001b[0;34m)\u001b[0m\u001b[0;34m\u001b[0m\u001b[0m\n\u001b[0m\u001b[1;32m     29\u001b[0m             \u001b[0mrelname\u001b[0m \u001b[0;34m=\u001b[0m \u001b[0msatellite_elem\u001b[0m\u001b[0;34m[\u001b[0m\u001b[0;34m'relname'\u001b[0m\u001b[0;34m]\u001b[0m\u001b[0;34m\u001b[0m\u001b[0m\n\u001b[1;32m     30\u001b[0m             return t(relname, [\n",
      "\u001b[0;32m<ipython-input-93-028b0931de2f>\u001b[0m in \u001b[0;36mdt\u001b[0;34m(child_dict, elem_dict, start_node)\u001b[0m\n\u001b[1;32m     38\u001b[0m             \u001b[0;32massert\u001b[0m \u001b[0mlen\u001b[0m\u001b[0;34m(\u001b[0m\u001b[0mchild_dict\u001b[0m\u001b[0;34m[\u001b[0m\u001b[0melem_id\u001b[0m\u001b[0;34m]\u001b[0m\u001b[0;34m)\u001b[0m \u001b[0;34m==\u001b[0m \u001b[0;36m1\u001b[0m\u001b[0;34m\u001b[0m\u001b[0m\n\u001b[1;32m     39\u001b[0m             \u001b[0mchild_id\u001b[0m \u001b[0;34m=\u001b[0m \u001b[0mchild_dict\u001b[0m\u001b[0;34m[\u001b[0m\u001b[0melem_id\u001b[0m\u001b[0;34m]\u001b[0m\u001b[0;34m[\u001b[0m\u001b[0;36m0\u001b[0m\u001b[0;34m]\u001b[0m\u001b[0;34m\u001b[0m\u001b[0m\n\u001b[0;32m---> 40\u001b[0;31m             \u001b[0msubtree\u001b[0m \u001b[0;34m=\u001b[0m \u001b[0mdt\u001b[0m\u001b[0;34m(\u001b[0m\u001b[0mchild_dict\u001b[0m\u001b[0;34m,\u001b[0m \u001b[0melem_dict\u001b[0m\u001b[0;34m,\u001b[0m \u001b[0mstart_node\u001b[0m\u001b[0;34m=\u001b[0m\u001b[0mchild_id\u001b[0m\u001b[0;34m)\u001b[0m\u001b[0;34m\u001b[0m\u001b[0m\n\u001b[0m\u001b[1;32m     41\u001b[0m             \u001b[0;32mreturn\u001b[0m \u001b[0mt\u001b[0m\u001b[0;34m(\u001b[0m\u001b[0;34m'S ({})'\u001b[0m\u001b[0;34m.\u001b[0m\u001b[0mformat\u001b[0m\u001b[0;34m(\u001b[0m\u001b[0melem_id\u001b[0m\u001b[0;34m)\u001b[0m\u001b[0;34m,\u001b[0m \u001b[0msubtree\u001b[0m\u001b[0;34m)\u001b[0m\u001b[0;34m\u001b[0m\u001b[0m\n\u001b[1;32m     42\u001b[0m \u001b[0;34m\u001b[0m\u001b[0m\n",
      "\u001b[0;32m<ipython-input-93-028b0931de2f>\u001b[0m in \u001b[0;36mdt\u001b[0;34m(child_dict, elem_dict, start_node)\u001b[0m\n\u001b[1;32m     49\u001b[0m \u001b[0;34m\u001b[0m\u001b[0m\n\u001b[1;32m     50\u001b[0m         \u001b[0;32melse\u001b[0m\u001b[0;34m:\u001b[0m \u001b[0;31m# elem_type == 'group' and elem['reltype'] == 'span'\u001b[0m\u001b[0;34m\u001b[0m\u001b[0m\n\u001b[0;32m---> 51\u001b[0;31m             \u001b[0;32mraise\u001b[0m \u001b[0mNotImplementedError\u001b[0m\u001b[0;34m\u001b[0m\u001b[0m\n\u001b[0m",
      "\u001b[0;31mNotImplementedError\u001b[0m: "
     ]
    }
   ],
   "source": [
    "dt(cdict, edict, start_node='6') # FAIL"
   ]
  },
  {
   "cell_type": "code",
   "execution_count": 101,
   "metadata": {
    "collapsed": false
   },
   "outputs": [
    {
     "data": {
      "image/png": "[encoded data removed]",
      "text/plain": [
       "ParentedTree('S (7)', ['  Wer in einem Parteitagsantrag feststellt , dass der international operierende Terrorismus allein mit \" innerem Frieden und gesellschaftlichem Ausgleich \" bek\\xe4mpft werden kann ,'])"
      ]
     },
     "execution_count": 101,
     "metadata": {},
     "output_type": "execute_result"
    }
   ],
   "source": [
    "dt(cdict, edict, start_node='7') # OK"
   ]
  },
  {
   "cell_type": "code",
   "execution_count": 102,
   "metadata": {
    "collapsed": false
   },
   "outputs": [
    {
     "data": {
      "image/png": "[encoded data removed]",
      "text/plain": [
       "ParentedTree('N (8)', [' ist entweder grenzenlos naiv'])"
      ]
     },
     "execution_count": 102,
     "metadata": {},
     "output_type": "execute_result"
    }
   ],
   "source": [
    "dt(cdict, edict, start_node='8') # OK"
   ]
  },
  {
   "cell_type": "code",
   "execution_count": 103,
   "metadata": {
    "collapsed": false
   },
   "outputs": [
    {
     "data": {
      "image/png": "[encoded data removed]",
      "text/plain": [
       "ParentedTree('S (9)', ['  Es bleibt abzuwarten , ob das realit\\xe4tsferne Herumlavieren der Partei bereits bei der Berlin-Wahl am 21. Oktober Folgen haben wird .'])"
      ]
     },
     "execution_count": 103,
     "metadata": {},
     "output_type": "execute_result"
    }
   ],
   "source": [
    "dt(cdict, edict, start_node='9') # OK"
   ]
  },
  {
   "cell_type": "code",
   "execution_count": 104,
   "metadata": {
    "collapsed": false
   },
   "outputs": [
    {
     "data": {
      "image/png": "[encoded data removed]",
      "text/plain": [
       "ParentedTree('N (10)', [' oder nimmt sich selbst nicht ernst .'])"
      ]
     },
     "execution_count": 104,
     "metadata": {},
     "output_type": "execute_result"
    }
   ],
   "source": [
    "dt(cdict, edict, start_node='10') # OK"
   ]
  },
  {
   "cell_type": "code",
   "execution_count": 105,
   "metadata": {
    "collapsed": false
   },
   "outputs": [
    {
     "data": {
      "image/png": "[encoded data removed]",
      "text/plain": [
       "ParentedTree('S (12)', [ParentedTree('concession', [ParentedTree('N (5)', [' haben sie den Ernst der Lage erkannt .']), ParentedTree('S (4)', ['  Auch wenn die Basis murrt ,'])])])"
      ]
     },
     "execution_count": 105,
     "metadata": {},
     "output_type": "execute_result"
    }
   ],
   "source": [
    "dt(cdict, edict, start_node='12') # OK, but wrong subtree order"
   ]
  },
  {
   "cell_type": "code",
   "execution_count": 106,
   "metadata": {
    "collapsed": false
   },
   "outputs": [
    {
     "data": {
      "image/png": "[encoded data removed]",
      "text/plain": [
       "ParentedTree('n (13)', [ParentedTree('elaboration', [ParentedTree('N (3)', [' und dass diese Ma\\xdfnahme sogar selbst von den Gr\\xfcnen begr\\xfc\\xdft wird .']), ParentedTree('S (12)', [ParentedTree('concession', [ParentedTree('N (5)', [' haben sie den Ernst der Lage erkannt .']), ParentedTree('S (4)', ['  Auch wenn die Basis murrt ,'])])])])])"
      ]
     },
     "execution_count": 106,
     "metadata": {},
     "output_type": "execute_result"
    }
   ],
   "source": [
    "dt(cdict, edict, start_node='13') # OK, but wrong subtree order"
   ]
  },
  {
   "cell_type": "code",
   "execution_count": 107,
   "metadata": {
    "collapsed": false
   },
   "outputs": [
    {
     "ename": "NotImplementedError",
     "evalue": "",
     "output_type": "error",
     "traceback": [
      "\u001b[0;31m---------------------------------------------------------------------------\u001b[0m",
      "\u001b[0;31mNotImplementedError\u001b[0m                       Traceback (most recent call last)",
      "\u001b[0;32m<ipython-input-107-805a9b236b78>\u001b[0m in \u001b[0;36m<module>\u001b[0;34m()\u001b[0m\n\u001b[0;32m----> 1\u001b[0;31m \u001b[0mdt\u001b[0m\u001b[0;34m(\u001b[0m\u001b[0mcdict\u001b[0m\u001b[0;34m,\u001b[0m \u001b[0medict\u001b[0m\u001b[0;34m,\u001b[0m \u001b[0mstart_node\u001b[0m\u001b[0;34m=\u001b[0m\u001b[0;34m'14'\u001b[0m\u001b[0;34m)\u001b[0m \u001b[0;31m# not implemented\u001b[0m\u001b[0;34m\u001b[0m\u001b[0m\n\u001b[0m",
      "\u001b[0;32m<ipython-input-93-028b0931de2f>\u001b[0m in \u001b[0;36mdt\u001b[0;34m(child_dict, elem_dict, start_node)\u001b[0m\n\u001b[1;32m     49\u001b[0m \u001b[0;34m\u001b[0m\u001b[0m\n\u001b[1;32m     50\u001b[0m         \u001b[0;32melse\u001b[0m\u001b[0;34m:\u001b[0m \u001b[0;31m# elem_type == 'group' and elem['reltype'] == 'span'\u001b[0m\u001b[0;34m\u001b[0m\u001b[0m\n\u001b[0;32m---> 51\u001b[0;31m             \u001b[0;32mraise\u001b[0m \u001b[0mNotImplementedError\u001b[0m\u001b[0;34m\u001b[0m\u001b[0m\n\u001b[0m",
      "\u001b[0;31mNotImplementedError\u001b[0m: "
     ]
    }
   ],
   "source": [
    "dt(cdict, edict, start_node='14') # not implemented"
   ]
  },
  {
   "cell_type": "code",
   "execution_count": 108,
   "metadata": {
    "collapsed": false
   },
   "outputs": [
    {
     "ename": "NotImplementedError",
     "evalue": "",
     "output_type": "error",
     "traceback": [
      "\u001b[0;31m---------------------------------------------------------------------------\u001b[0m",
      "\u001b[0;31mNotImplementedError\u001b[0m                       Traceback (most recent call last)",
      "\u001b[0;32m<ipython-input-108-6c4f588cab81>\u001b[0m in \u001b[0;36m<module>\u001b[0;34m()\u001b[0m\n\u001b[0;32m----> 1\u001b[0;31m \u001b[0mdt\u001b[0m\u001b[0;34m(\u001b[0m\u001b[0mcdict\u001b[0m\u001b[0;34m,\u001b[0m \u001b[0medict\u001b[0m\u001b[0;34m,\u001b[0m \u001b[0mstart_node\u001b[0m\u001b[0;34m=\u001b[0m\u001b[0;34m'15'\u001b[0m\u001b[0;34m)\u001b[0m \u001b[0;31m# not implemented\u001b[0m\u001b[0;34m\u001b[0m\u001b[0m\n\u001b[0m",
      "\u001b[0;32m<ipython-input-93-028b0931de2f>\u001b[0m in \u001b[0;36mdt\u001b[0;34m(child_dict, elem_dict, start_node)\u001b[0m\n\u001b[1;32m     38\u001b[0m             \u001b[0;32massert\u001b[0m \u001b[0mlen\u001b[0m\u001b[0;34m(\u001b[0m\u001b[0mchild_dict\u001b[0m\u001b[0;34m[\u001b[0m\u001b[0melem_id\u001b[0m\u001b[0;34m]\u001b[0m\u001b[0;34m)\u001b[0m \u001b[0;34m==\u001b[0m \u001b[0;36m1\u001b[0m\u001b[0;34m\u001b[0m\u001b[0m\n\u001b[1;32m     39\u001b[0m             \u001b[0mchild_id\u001b[0m \u001b[0;34m=\u001b[0m \u001b[0mchild_dict\u001b[0m\u001b[0;34m[\u001b[0m\u001b[0melem_id\u001b[0m\u001b[0;34m]\u001b[0m\u001b[0;34m[\u001b[0m\u001b[0;36m0\u001b[0m\u001b[0;34m]\u001b[0m\u001b[0;34m\u001b[0m\u001b[0m\n\u001b[0;32m---> 40\u001b[0;31m             \u001b[0msubtree\u001b[0m \u001b[0;34m=\u001b[0m \u001b[0mdt\u001b[0m\u001b[0;34m(\u001b[0m\u001b[0mchild_dict\u001b[0m\u001b[0;34m,\u001b[0m \u001b[0melem_dict\u001b[0m\u001b[0;34m,\u001b[0m \u001b[0mstart_node\u001b[0m\u001b[0;34m=\u001b[0m\u001b[0mchild_id\u001b[0m\u001b[0;34m)\u001b[0m\u001b[0;34m\u001b[0m\u001b[0m\n\u001b[0m\u001b[1;32m     41\u001b[0m             \u001b[0;32mreturn\u001b[0m \u001b[0mt\u001b[0m\u001b[0;34m(\u001b[0m\u001b[0;34m'S ({})'\u001b[0m\u001b[0;34m.\u001b[0m\u001b[0mformat\u001b[0m\u001b[0;34m(\u001b[0m\u001b[0melem_id\u001b[0m\u001b[0;34m)\u001b[0m\u001b[0;34m,\u001b[0m \u001b[0msubtree\u001b[0m\u001b[0;34m)\u001b[0m\u001b[0;34m\u001b[0m\u001b[0m\n\u001b[1;32m     42\u001b[0m \u001b[0;34m\u001b[0m\u001b[0m\n",
      "\u001b[0;32m<ipython-input-93-028b0931de2f>\u001b[0m in \u001b[0;36mdt\u001b[0;34m(child_dict, elem_dict, start_node)\u001b[0m\n\u001b[1;32m     49\u001b[0m \u001b[0;34m\u001b[0m\u001b[0m\n\u001b[1;32m     50\u001b[0m         \u001b[0;32melse\u001b[0m\u001b[0;34m:\u001b[0m \u001b[0;31m# elem_type == 'group' and elem['reltype'] == 'span'\u001b[0m\u001b[0;34m\u001b[0m\u001b[0m\n\u001b[0;32m---> 51\u001b[0;31m             \u001b[0;32mraise\u001b[0m \u001b[0mNotImplementedError\u001b[0m\u001b[0;34m\u001b[0m\u001b[0m\n\u001b[0m",
      "\u001b[0;31mNotImplementedError\u001b[0m: "
     ]
    }
   ],
   "source": [
    "dt(cdict, edict, start_node='15') # not implemented"
   ]
  },
  {
   "cell_type": "code",
   "execution_count": 109,
   "metadata": {
    "collapsed": false
   },
   "outputs": [
    {
     "ename": "NotImplementedError",
     "evalue": "",
     "output_type": "error",
     "traceback": [
      "\u001b[0;31m---------------------------------------------------------------------------\u001b[0m",
      "\u001b[0;31mNotImplementedError\u001b[0m                       Traceback (most recent call last)",
      "\u001b[0;32m<ipython-input-109-8295a134b534>\u001b[0m in \u001b[0;36m<module>\u001b[0;34m()\u001b[0m\n\u001b[0;32m----> 1\u001b[0;31m \u001b[0mdt\u001b[0m\u001b[0;34m(\u001b[0m\u001b[0mcdict\u001b[0m\u001b[0;34m,\u001b[0m \u001b[0medict\u001b[0m\u001b[0;34m,\u001b[0m \u001b[0mstart_node\u001b[0m\u001b[0;34m=\u001b[0m\u001b[0;34m'16'\u001b[0m\u001b[0;34m)\u001b[0m \u001b[0;31m# not implemented\u001b[0m\u001b[0;34m\u001b[0m\u001b[0m\n\u001b[0m",
      "\u001b[0;32m<ipython-input-93-028b0931de2f>\u001b[0m in \u001b[0;36mdt\u001b[0;34m(child_dict, elem_dict, start_node)\u001b[0m\n\u001b[1;32m     49\u001b[0m \u001b[0;34m\u001b[0m\u001b[0m\n\u001b[1;32m     50\u001b[0m         \u001b[0;32melse\u001b[0m\u001b[0;34m:\u001b[0m \u001b[0;31m# elem_type == 'group' and elem['reltype'] == 'span'\u001b[0m\u001b[0;34m\u001b[0m\u001b[0m\n\u001b[0;32m---> 51\u001b[0;31m             \u001b[0;32mraise\u001b[0m \u001b[0mNotImplementedError\u001b[0m\u001b[0;34m\u001b[0m\u001b[0m\n\u001b[0m",
      "\u001b[0;31mNotImplementedError\u001b[0m: "
     ]
    }
   ],
   "source": [
    "dt(cdict, edict, start_node='16') # not implemented"
   ]
  },
  {
   "cell_type": "code",
   "execution_count": 110,
   "metadata": {
    "collapsed": false
   },
   "outputs": [
    {
     "ename": "NotImplementedError",
     "evalue": "",
     "output_type": "error",
     "traceback": [
      "\u001b[0;31m---------------------------------------------------------------------------\u001b[0m",
      "\u001b[0;31mNotImplementedError\u001b[0m                       Traceback (most recent call last)",
      "\u001b[0;32m<ipython-input-110-371858b4382e>\u001b[0m in \u001b[0;36m<module>\u001b[0;34m()\u001b[0m\n\u001b[0;32m----> 1\u001b[0;31m \u001b[0mdt\u001b[0m\u001b[0;34m(\u001b[0m\u001b[0mcdict\u001b[0m\u001b[0;34m,\u001b[0m \u001b[0medict\u001b[0m\u001b[0;34m,\u001b[0m \u001b[0mstart_node\u001b[0m\u001b[0;34m=\u001b[0m\u001b[0;34m'17'\u001b[0m\u001b[0;34m)\u001b[0m \u001b[0;31m# FAIL\u001b[0m\u001b[0;34m\u001b[0m\u001b[0m\n\u001b[0m",
      "\u001b[0;32m<ipython-input-93-028b0931de2f>\u001b[0m in \u001b[0;36mdt\u001b[0;34m(child_dict, elem_dict, start_node)\u001b[0m\n\u001b[1;32m     38\u001b[0m             \u001b[0;32massert\u001b[0m \u001b[0mlen\u001b[0m\u001b[0;34m(\u001b[0m\u001b[0mchild_dict\u001b[0m\u001b[0;34m[\u001b[0m\u001b[0melem_id\u001b[0m\u001b[0;34m]\u001b[0m\u001b[0;34m)\u001b[0m \u001b[0;34m==\u001b[0m \u001b[0;36m1\u001b[0m\u001b[0;34m\u001b[0m\u001b[0m\n\u001b[1;32m     39\u001b[0m             \u001b[0mchild_id\u001b[0m \u001b[0;34m=\u001b[0m \u001b[0mchild_dict\u001b[0m\u001b[0;34m[\u001b[0m\u001b[0melem_id\u001b[0m\u001b[0;34m]\u001b[0m\u001b[0;34m[\u001b[0m\u001b[0;36m0\u001b[0m\u001b[0;34m]\u001b[0m\u001b[0;34m\u001b[0m\u001b[0m\n\u001b[0;32m---> 40\u001b[0;31m             \u001b[0msubtree\u001b[0m \u001b[0;34m=\u001b[0m \u001b[0mdt\u001b[0m\u001b[0;34m(\u001b[0m\u001b[0mchild_dict\u001b[0m\u001b[0;34m,\u001b[0m \u001b[0melem_dict\u001b[0m\u001b[0;34m,\u001b[0m \u001b[0mstart_node\u001b[0m\u001b[0;34m=\u001b[0m\u001b[0mchild_id\u001b[0m\u001b[0;34m)\u001b[0m\u001b[0;34m\u001b[0m\u001b[0m\n\u001b[0m\u001b[1;32m     41\u001b[0m             \u001b[0;32mreturn\u001b[0m \u001b[0mt\u001b[0m\u001b[0;34m(\u001b[0m\u001b[0;34m'S ({})'\u001b[0m\u001b[0;34m.\u001b[0m\u001b[0mformat\u001b[0m\u001b[0;34m(\u001b[0m\u001b[0melem_id\u001b[0m\u001b[0;34m)\u001b[0m\u001b[0;34m,\u001b[0m \u001b[0msubtree\u001b[0m\u001b[0;34m)\u001b[0m\u001b[0;34m\u001b[0m\u001b[0m\n\u001b[1;32m     42\u001b[0m \u001b[0;34m\u001b[0m\u001b[0m\n",
      "\u001b[0;32m<ipython-input-93-028b0931de2f>\u001b[0m in \u001b[0;36mdt\u001b[0;34m(child_dict, elem_dict, start_node)\u001b[0m\n\u001b[1;32m     49\u001b[0m \u001b[0;34m\u001b[0m\u001b[0m\n\u001b[1;32m     50\u001b[0m         \u001b[0;32melse\u001b[0m\u001b[0;34m:\u001b[0m \u001b[0;31m# elem_type == 'group' and elem['reltype'] == 'span'\u001b[0m\u001b[0;34m\u001b[0m\u001b[0m\n\u001b[0;32m---> 51\u001b[0;31m             \u001b[0;32mraise\u001b[0m \u001b[0mNotImplementedError\u001b[0m\u001b[0;34m\u001b[0m\u001b[0m\n\u001b[0m",
      "\u001b[0;31mNotImplementedError\u001b[0m: "
     ]
    }
   ],
   "source": [
    "dt(cdict, edict, start_node='17') # FAIL"
   ]
  },
  {
   "cell_type": "code",
   "execution_count": 111,
   "metadata": {
    "collapsed": false
   },
   "outputs": [
    {
     "ename": "NotImplementedError",
     "evalue": "",
     "output_type": "error",
     "traceback": [
      "\u001b[0;31m---------------------------------------------------------------------------\u001b[0m",
      "\u001b[0;31mNotImplementedError\u001b[0m                       Traceback (most recent call last)",
      "\u001b[0;32m<ipython-input-111-d098244f9c74>\u001b[0m in \u001b[0;36m<module>\u001b[0;34m()\u001b[0m\n\u001b[0;32m----> 1\u001b[0;31m \u001b[0mdt\u001b[0m\u001b[0;34m(\u001b[0m\u001b[0mcdict\u001b[0m\u001b[0;34m,\u001b[0m \u001b[0medict\u001b[0m\u001b[0;34m,\u001b[0m \u001b[0mstart_node\u001b[0m\u001b[0;34m=\u001b[0m\u001b[0;34m'18'\u001b[0m\u001b[0;34m)\u001b[0m \u001b[0;31m# not implemented\u001b[0m\u001b[0;34m\u001b[0m\u001b[0m\n\u001b[0m",
      "\u001b[0;32m<ipython-input-93-028b0931de2f>\u001b[0m in \u001b[0;36mdt\u001b[0;34m(child_dict, elem_dict, start_node)\u001b[0m\n\u001b[1;32m     49\u001b[0m \u001b[0;34m\u001b[0m\u001b[0m\n\u001b[1;32m     50\u001b[0m         \u001b[0;32melse\u001b[0m\u001b[0;34m:\u001b[0m \u001b[0;31m# elem_type == 'group' and elem['reltype'] == 'span'\u001b[0m\u001b[0;34m\u001b[0m\u001b[0m\n\u001b[0;32m---> 51\u001b[0;31m             \u001b[0;32mraise\u001b[0m \u001b[0mNotImplementedError\u001b[0m\u001b[0;34m\u001b[0m\u001b[0m\n\u001b[0m",
      "\u001b[0;31mNotImplementedError\u001b[0m: "
     ]
    }
   ],
   "source": [
    "dt(cdict, edict, start_node='18') # not implemented"
   ]
  },
  {
   "cell_type": "code",
   "execution_count": 112,
   "metadata": {
    "collapsed": false
   },
   "outputs": [
    {
     "ename": "NotImplementedError",
     "evalue": "",
     "output_type": "error",
     "traceback": [
      "\u001b[0;31m---------------------------------------------------------------------------\u001b[0m",
      "\u001b[0;31mNotImplementedError\u001b[0m                       Traceback (most recent call last)",
      "\u001b[0;32m<ipython-input-112-34c910d5d370>\u001b[0m in \u001b[0;36m<module>\u001b[0;34m()\u001b[0m\n\u001b[0;32m----> 1\u001b[0;31m \u001b[0mdt\u001b[0m\u001b[0;34m(\u001b[0m\u001b[0mcdict\u001b[0m\u001b[0;34m,\u001b[0m \u001b[0medict\u001b[0m\u001b[0;34m,\u001b[0m \u001b[0mstart_node\u001b[0m\u001b[0;34m=\u001b[0m\u001b[0;34m'19'\u001b[0m\u001b[0;34m)\u001b[0m \u001b[0;31m# not implemented\u001b[0m\u001b[0;34m\u001b[0m\u001b[0m\n\u001b[0m",
      "\u001b[0;32m<ipython-input-93-028b0931de2f>\u001b[0m in \u001b[0;36mdt\u001b[0;34m(child_dict, elem_dict, start_node)\u001b[0m\n\u001b[1;32m     49\u001b[0m \u001b[0;34m\u001b[0m\u001b[0m\n\u001b[1;32m     50\u001b[0m         \u001b[0;32melse\u001b[0m\u001b[0;34m:\u001b[0m \u001b[0;31m# elem_type == 'group' and elem['reltype'] == 'span'\u001b[0m\u001b[0;34m\u001b[0m\u001b[0m\n\u001b[0;32m---> 51\u001b[0;31m             \u001b[0;32mraise\u001b[0m \u001b[0mNotImplementedError\u001b[0m\u001b[0;34m\u001b[0m\u001b[0m\n\u001b[0m",
      "\u001b[0;31mNotImplementedError\u001b[0m: "
     ]
    }
   ],
   "source": [
    "dt(cdict, edict, start_node='19') # not implemented"
   ]
  },
  {
   "cell_type": "code",
   "execution_count": 113,
   "metadata": {
    "collapsed": false
   },
   "outputs": [
    {
     "ename": "NotImplementedError",
     "evalue": "",
     "output_type": "error",
     "traceback": [
      "\u001b[0;31m---------------------------------------------------------------------------\u001b[0m",
      "\u001b[0;31mNotImplementedError\u001b[0m                       Traceback (most recent call last)",
      "\u001b[0;32m<ipython-input-113-03133a024dfa>\u001b[0m in \u001b[0;36m<module>\u001b[0;34m()\u001b[0m\n\u001b[0;32m----> 1\u001b[0;31m \u001b[0mdt\u001b[0m\u001b[0;34m(\u001b[0m\u001b[0mcdict\u001b[0m\u001b[0;34m,\u001b[0m \u001b[0medict\u001b[0m\u001b[0;34m,\u001b[0m \u001b[0mstart_node\u001b[0m\u001b[0;34m=\u001b[0m\u001b[0;34m'20'\u001b[0m\u001b[0;34m)\u001b[0m \u001b[0;31m# not implemented\u001b[0m\u001b[0;34m\u001b[0m\u001b[0m\n\u001b[0m",
      "\u001b[0;32m<ipython-input-93-028b0931de2f>\u001b[0m in \u001b[0;36mdt\u001b[0;34m(child_dict, elem_dict, start_node)\u001b[0m\n\u001b[1;32m     49\u001b[0m \u001b[0;34m\u001b[0m\u001b[0m\n\u001b[1;32m     50\u001b[0m         \u001b[0;32melse\u001b[0m\u001b[0;34m:\u001b[0m \u001b[0;31m# elem_type == 'group' and elem['reltype'] == 'span'\u001b[0m\u001b[0;34m\u001b[0m\u001b[0m\n\u001b[0;32m---> 51\u001b[0;31m             \u001b[0;32mraise\u001b[0m \u001b[0mNotImplementedError\u001b[0m\u001b[0;34m\u001b[0m\u001b[0m\n\u001b[0m",
      "\u001b[0;31mNotImplementedError\u001b[0m: "
     ]
    }
   ],
   "source": [
    "dt(cdict, edict, start_node='20') # not implemented"
   ]
  },
  {
   "cell_type": "code",
   "execution_count": null,
   "metadata": {
    "collapsed": true
   },
   "outputs": [],
   "source": []
  }
 ],
 "metadata": {
  "kernelspec": {
   "display_name": "Python 2",
   "language": "python",
   "name": "python2"
  },
  "language_info": {
   "codemirror_mode": {
    "name": "ipython",
    "version": 2
   },
   "file_extension": ".py",
   "mimetype": "text/x-python",
   "name": "python",
   "nbconvert_exporter": "python",
   "pygments_lexer": "ipython2",
   "version": "2.7.12"
  }
 },
 "nbformat": 4,
 "nbformat_minor": 2
}
