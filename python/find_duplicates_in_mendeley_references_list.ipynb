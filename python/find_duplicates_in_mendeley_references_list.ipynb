{
 "cells": [
  {
   "cell_type": "code",
   "execution_count": 7,
   "id": "3d4ac0a8",
   "metadata": {},
   "outputs": [],
   "source": [
    "reftext = \"\"\"\n",
    "1. \tA. R. Fernie, H. Bauwe, Wasteful, essential, evolutionary stepping stone? The multiple personalities of the photorespiratory pathway. The Plant Journal 102, 666–677 (2020).\n",
    "2. \tX.-G. Zhu, S. P. Long, D. R. Ort, Improving Photosynthetic Efficiency for Greater Yield. Annu Rev Plant Biol 61, 235–261 (2010).\n",
    "3. \tH. Bauwe, M. Hagemann, A. R. Fernie, Photorespiration: players, partners and origin. Trends Plant Sci 15, 330–336 (2010).\n",
    "4. \tA. Florian, et al., Analysis of Short-Term Metabolic Alterations in Arabidopsis Following Changes in the Prevailing Environmental Conditions. Mol Plant 7, 893–911 (2014).\n",
    "5. \tT. D. Sharkey, Estimating the rate of photorespiration in leaves. Physiol Plant 73, 147–152 (1988).\n",
    "6. \tF. A. Busch, Current methods for estimating the rate of photorespiration in leaves. Plant Biol 15, 648–655 (2013).\n",
    "7. \tM. Szecowka, et al., Metabolic Fluxes in an Illuminated Arabidopsis Rosette. Plant Cell 25, 694–714 (2013).\n",
    "8. \tL. J. Sweetlove, et al., Mitochondrial uncoupling protein is required for efficient photosynthesis. Proceedings of the National Academy of Sciences 103, 19587–19592 (2006).\n",
    "9. \tC. Abadie, G. Tcherkez, 13C Isotope Labelling to Follow the Flux of Photorespiratory Intermediates. Plants 10, 427 (2021).\n",
    "10. \tA. Nunes-Nesi, et al., Enhanced Photosynthetic Performance and Growth as a Consequence of Decreasing Mitochondrial Malate Dehydrogenase Activity in Transgenic Tomato Plants. Plant Physiol 137, 611–622 (2005).\n",
    "11. \tM. R. Antoniewicz, A guide to 13C metabolic flux analysis for the cancer biologist. Exp Mol Med 50, 1–13 (2018).\n",
    "12. \tF. Ma, L. J. Jazmin, J. D. Young, D. K. Allen, Isotopically nonstationary 13 C flux analysis of changes in Arabidopsis thaliana leaf metabolism due to high light acclimation. Proceedings of the National Academy of Sciences 111, 16967–16972 (2014).\n",
    "13. \tX. Fu, L. M. Gregory, S. E. Weise, B. J. Walker, Integrated flux and pool size analysis in plant central metabolism reveals unique roles of glycine and serine during photorespiration. Nat Plants 9, 169–178 (2022).\n",
    "14. \tA. Arnold, Z. Nikoloski, A quantitative comparison of Calvin–Benson cycle models. Trends Plant Sci 16, 676–683 (2011).\n",
    "15. \tX.-G. Zhu, Y. Wang, D. R. Ort, S. P. Long, e -photosynthesis: a comprehensive dynamic mechanistic model of C3 photosynthesis: from light capture to sucrose synthesis. Plant Cell Environ 36, 1711–1727 (2013).\n",
    "16. \tJ. S. Hernandez, T. Nägele, The trade-off function of photorespiration in a changing environment. In Silico Plants 5 (2023).\n",
    "17. \tH. Tong, A. Küken, Z. Razaghi-Moghadam, Z. Nikoloski, Characterization of effects of genetic variants via genome-scale metabolic modelling. Cellular and Molecular Life Sciences 78, 5123–5138 (2021).\n",
    "18. \tC. G. de Oliveira Dal’Molin, L.-E. Quek, R. W. Palfreyman, S. M. Brumbley, L. K. Nielsen, AraGEM, a Genome-Scale Reconstruction of the Primary Metabolic Network in Arabidopsis  . Plant Physiol 152, 579–589 (2010).\n",
    "19. \tJ. D. Orth, I. Thiele, B. Ø. Palsson, What is flux balance analysis? Nat Biotechnol 28, 245–248 (2010).\n",
    "20. \tG. Basler, A. Küken, A. R. Fernie, Z. Nikoloski, Photorespiratory Bypasses Lead to Increased Growth in Arabidopsis thaliana: Are Predictions Consistent with Experimental Evidence? Front Bioeng Biotechnol 4 (2016).\n",
    "21. \tS. Shameer, K. Baghalian, C. Y. M. Cheung, R. G. Ratcliffe, L. J. Sweetlove, Computational analysis of the productivity potential of CAM. Nat Plants 4, 165–171 (2018).\n",
    "22. \tN. Töpfer, et al., Integration of Genome-Scale Modeling and Transcript Profiling Reveals Metabolic Pathways Underlying Light and Temperature Acclimation in Arabidopsis. Plant Cell 25, 1197–1211 (2013).\n",
    "23. \tM. Sajitz-Hermstein, N. Töpfer, S. Kleessen, A. R. Fernie, Z. Nikoloski, iReMet-flux: constraint-based approach for integrating relative metabolite levels into a stoichiometric metabolic models. Bioinformatics 32, i755–i762 (2016).\n",
    "24. \tM. Bulut, S. Alseekh, A. R. Fernie, Natural variation of respiration-related traits in plants. Plant Physiol (2022) https:/doi.org/10.1093/plphys/kiac593.\n",
    "25. \tN. J. Tomeo, D. M. Rosenthal, Photorespiration differs among Arabidopsis thaliana ecotypes and is correlated with photosynthesis. J Exp Bot 69, 5191–5204 (2018).\n",
    "26. \tJ. Luo, Metabolite-based genome-wide association studies in plants. Curr Opin Plant Biol 24, 31–38 (2015).\n",
    "27. \tN. Schauer, et al., Mode of Inheritance of Primary Metabolic Traits in Tomato  . Plant Cell 20, 509–523 (2008).\n",
    "28. \tP. K. Pandey, et al., Plasticity in metabolism underpins local responses to nitrogen in Arabidopsis thaliana populations. Plant Direct 3 (2019).\n",
    "29. \tG. T. Duarte, et al., Plasticity of rosette size in response to nitrogen availability is controlled by an RCC1‐family protein. Plant Cell Environ 44, 3398–3411 (2021).\n",
    "30. \tH. Tschoep, et al., Adjustment of growth and central metabolism to a mild but sustained nitrogen-limitation in Arabidopsis. Plant Cell Environ 32, 300–318 (2009).\n",
    "31. \tR. Sulpice, et al., Impact of the Carbon and Nitrogen Supply on Relationships and Connectivity between Metabolism and Biomass in a Broad Panel of Arabidopsis Accessions. Plant Physiol 162, 347–363 (2013).\n",
    "32. \tE. Urbanczyk-Wochniak, A. R. Fernie, Metabolic profiling reveals altered nitrogen nutrient regimes have diverse effects on the metabolism of hydroponically-grown tomato (Solanum lycopersicum) plants. J Exp Bot 56, 309–321 (2005).\n",
    "33. \tS. Ruffel, et al., Systemic Signaling of the Plant Nitrogen Status Triggers Specific Transcriptome Responses Depending on the Nitrogen Source in Medicago truncatula    . Plant Physiol 146, 2020–2035 (2008).\n",
    "34. \tJ. Lisec, N. Schauer, J. Kopka, L. Willmitzer, A. R. Fernie, Gas chromatography mass spectrometry–based metabolite profiling in plants. Nat Protoc 1, 387–396 (2006).\n",
    "35. \tS. Alseekh, et al., Mass spectrometry-based metabolomics: a guide for annotation, quantification and best reporting practices. Nat Methods 18, 747–756 (2021).\n",
    "36. \tS. Kleessen, et al., Structured patterns in geographic variability of metabolic phenotypes in Arabidopsis thaliana. Nat Commun 3, 1319 (2012).\n",
    "37. \tH. Tong, A. Küken, Z. Nikoloski, Integrating molecular markers into metabolic models improves genomic selection for Arabidopsis growth. Nat Commun 11, 2410 (2020).\n",
    "38. \tC. S. Henry, L. J. Broadbelt, V. Hatzimanikatis, Thermodynamics-Based Metabolic Flux Analysis. Biophys J 92, 1792–1805 (2007).\n",
    "39. \tV. S. Martínez, L.-E. Quek, L. K. Nielsen, Network Thermodynamic Curation of Human and Yeast Genome-Scale Metabolic Models. Biophys J 107, 493–503 (2014).\n",
    "40. \tP. Salvy, et al., pyTFA and matTFA: a Python package and a Matlab toolbox for Thermodynamics-based Flux Analysis. Bioinformatics 35, 167–169 (2019).\n",
    "41. \tB. Du, et al., Temperature-Dependent Estimation of Gibbs Energies Using an Updated Group-Contribution Method. Biophys J 114, 2691–2702 (2018).\n",
    "42. \tI. Domenzain, et al., Reconstruction of a catalogue of genome\n",
    "\"\"\""
   ]
  },
  {
   "cell_type": "code",
   "execution_count": 13,
   "id": "42e2db87",
   "metadata": {},
   "outputs": [
    {
     "name": "stdout",
     "output_type": "stream",
     "text": [
      "A. R. Fernie, H. Bauwe, Wasteful, essential, evolutionary stepping stone? The multiple personalities of the photorespiratory pathway. The Plant Journal 102, 666–677 (2020).\n",
      "X.-G. Zhu, S. P. Long, D. R. Ort, Improving Photosynthetic Efficiency for Greater Yield. Annu Rev Plant Biol 61, 235–261 (2010).\n",
      "H. Bauwe, M. Hagemann, A. R. Fernie, Photorespiration: players, partners and origin. Trends Plant Sci 15, 330–336 (2010).\n",
      "A. Florian, et al., Analysis of Short-Term Metabolic Alterations in Arabidopsis Following Changes in the Prevailing Environmental Conditions. Mol Plant 7, 893–911 (2014).\n",
      "T. D. Sharkey, Estimating the rate of photorespiration in leaves. Physiol Plant 73, 147–152 (1988).\n",
      "F. A. Busch, Current methods for estimating the rate of photorespiration in leaves. Plant Biol 15, 648–655 (2013).\n",
      "M. Szecowka, et al., Metabolic Fluxes in an Illuminated Arabidopsis Rosette. Plant Cell 25, 694–714 (2013).\n",
      "L. J. Sweetlove, et al., Mitochondrial uncoupling protein is required for efficient photosynthesis. Proceedings of the National Academy of Sciences 103, 19587–19592 (2006).\n",
      "C. Abadie, G. Tcherkez, 13C Isotope Labelling to Follow the Flux of Photorespiratory Intermediates. Plants 10, 427 (2021).\n",
      "A. Nunes-Nesi, et al., Enhanced Photosynthetic Performance and Growth as a Consequence of Decreasing Mitochondrial Malate Dehydrogenase Activity in Transgenic Tomato Plants. Plant Physiol 137, 611–622 (2005).\n",
      "M. R. Antoniewicz, A guide to 13C metabolic flux analysis for the cancer biologist. Exp Mol Med 50, 1–13 (2018).\n",
      "F. Ma, L. J. Jazmin, J. D. Young, D. K. Allen, Isotopically nonstationary 13 C flux analysis of changes in Arabidopsis thaliana leaf metabolism due to high light acclimation. Proceedings of the National Academy of Sciences 111, 16967–16972 (2014).\n",
      "X. Fu, L. M. Gregory, S. E. Weise, B. J. Walker, Integrated flux and pool size analysis in plant central metabolism reveals unique roles of glycine and serine during photorespiration. Nat Plants 9, 169–178 (2022).\n",
      "A. Arnold, Z. Nikoloski, A quantitative comparison of Calvin–Benson cycle models. Trends Plant Sci 16, 676–683 (2011).\n",
      "X.-G. Zhu, Y. Wang, D. R. Ort, S. P. Long, e -photosynthesis: a comprehensive dynamic mechanistic model of C3 photosynthesis: from light capture to sucrose synthesis. Plant Cell Environ 36, 1711–1727 (2013).\n",
      "J. S. Hernandez, T. Nägele, The trade-off function of photorespiration in a changing environment. In Silico Plants 5 (2023).\n",
      "H. Tong, A. Küken, Z. Razaghi-Moghadam, Z. Nikoloski, Characterization of effects of genetic variants via genome-scale metabolic modelling. Cellular and Molecular Life Sciences 78, 5123–5138 (2021).\n",
      "C. G. de Oliveira Dal’Molin, L.-E. Quek, R. W. Palfreyman, S. M. Brumbley, L. K. Nielsen, AraGEM, a Genome-Scale Reconstruction of the Primary Metabolic Network in Arabidopsis  . Plant Physiol 152, 579–589 (2010).\n",
      "J. D. Orth, I. Thiele, B. Ø. Palsson, What is flux balance analysis? Nat Biotechnol 28, 245–248 (2010).\n",
      "G. Basler, A. Küken, A. R. Fernie, Z. Nikoloski, Photorespiratory Bypasses Lead to Increased Growth in Arabidopsis thaliana: Are Predictions Consistent with Experimental Evidence? Front Bioeng Biotechnol 4 (2016).\n",
      "S. Shameer, K. Baghalian, C. Y. M. Cheung, R. G. Ratcliffe, L. J. Sweetlove, Computational analysis of the productivity potential of CAM. Nat Plants 4, 165–171 (2018).\n",
      "N. Töpfer, et al., Integration of Genome-Scale Modeling and Transcript Profiling Reveals Metabolic Pathways Underlying Light and Temperature Acclimation in Arabidopsis. Plant Cell 25, 1197–1211 (2013).\n",
      "M. Sajitz-Hermstein, N. Töpfer, S. Kleessen, A. R. Fernie, Z. Nikoloski, iReMet-flux: constraint-based approach for integrating relative metabolite levels into a stoichiometric metabolic models. Bioinformatics 32, i755–i762 (2016).\n",
      "M. Bulut, S. Alseekh, A. R. Fernie, Natural variation of respiration-related traits in plants. Plant Physiol (2022) https:/doi.org/10.1093/plphys/kiac593.\n",
      "N. J. Tomeo, D. M. Rosenthal, Photorespiration differs among Arabidopsis thaliana ecotypes and is correlated with photosynthesis. J Exp Bot 69, 5191–5204 (2018).\n",
      "J. Luo, Metabolite-based genome-wide association studies in plants. Curr Opin Plant Biol 24, 31–38 (2015).\n",
      "N. Schauer, et al., Mode of Inheritance of Primary Metabolic Traits in Tomato  . Plant Cell 20, 509–523 (2008).\n",
      "P. K. Pandey, et al., Plasticity in metabolism underpins local responses to nitrogen in Arabidopsis thaliana populations. Plant Direct 3 (2019).\n",
      "G. T. Duarte, et al., Plasticity of rosette size in response to nitrogen availability is controlled by an RCC1‐family protein. Plant Cell Environ 44, 3398–3411 (2021).\n",
      "H. Tschoep, et al., Adjustment of growth and central metabolism to a mild but sustained nitrogen-limitation in Arabidopsis. Plant Cell Environ 32, 300–318 (2009).\n",
      "R. Sulpice, et al., Impact of the Carbon and Nitrogen Supply on Relationships and Connectivity between Metabolism and Biomass in a Broad Panel of Arabidopsis Accessions. Plant Physiol 162, 347–363 (2013).\n",
      "E. Urbanczyk-Wochniak, A. R. Fernie, Metabolic profiling reveals altered nitrogen nutrient regimes have diverse effects on the metabolism of hydroponically-grown tomato (Solanum lycopersicum) plants. J Exp Bot 56, 309–321 (2005).\n",
      "S. Ruffel, et al., Systemic Signaling of the Plant Nitrogen Status Triggers Specific Transcriptome Responses Depending on the Nitrogen Source in Medicago truncatula    . Plant Physiol 146, 2020–2035 (2008).\n",
      "J. Lisec, N. Schauer, J. Kopka, L. Willmitzer, A. R. Fernie, Gas chromatography mass spectrometry–based metabolite profiling in plants. Nat Protoc 1, 387–396 (2006).\n",
      "S. Alseekh, et al., Mass spectrometry-based metabolomics: a guide for annotation, quantification and best reporting practices. Nat Methods 18, 747–756 (2021).\n",
      "S. Kleessen, et al., Structured patterns in geographic variability of metabolic phenotypes in Arabidopsis thaliana. Nat Commun 3, 1319 (2012).\n",
      "H. Tong, A. Küken, Z. Nikoloski, Integrating molecular markers into metabolic models improves genomic selection for Arabidopsis growth. Nat Commun 11, 2410 (2020).\n",
      "C. S. Henry, L. J. Broadbelt, V. Hatzimanikatis, Thermodynamics-Based Metabolic Flux Analysis. Biophys J 92, 1792–1805 (2007).\n",
      "V. S. Martínez, L.-E. Quek, L. K. Nielsen, Network Thermodynamic Curation of Human and Yeast Genome-Scale Metabolic Models. Biophys J 107, 493–503 (2014).\n",
      "P. Salvy, et al., pyTFA and matTFA: a Python package and a Matlab toolbox for Thermodynamics-based Flux Analysis. Bioinformatics 35, 167–169 (2019).\n",
      "B. Du, et al., Temperature-Dependent Estimation of Gibbs Energies Using an Updated Group-Contribution Method. Biophys J 114, 2691–2702 (2018).\n",
      "I. Domenzain, et al., Reconstruction of a catalogue of genome\n"
     ]
    }
   ],
   "source": [
    "refs = []\n",
    "for line in reftext.splitlines():\n",
    "    if line:\n",
    "        ref = line.split('\\t')[1]\n",
    "        print(ref)\n",
    "        refs.append(ref)"
   ]
  },
  {
   "cell_type": "code",
   "execution_count": 15,
   "id": "fd5ee232",
   "metadata": {},
   "outputs": [
    {
     "data": {
      "text/plain": [
       "42"
      ]
     },
     "execution_count": 15,
     "metadata": {},
     "output_type": "execute_result"
    }
   ],
   "source": [
    "len(refs)"
   ]
  },
  {
   "cell_type": "code",
   "execution_count": 17,
   "id": "0a369b94",
   "metadata": {},
   "outputs": [
    {
     "data": {
      "text/plain": [
       "42"
      ]
     },
     "execution_count": 17,
     "metadata": {},
     "output_type": "execute_result"
    }
   ],
   "source": [
    "len(set(refs))"
   ]
  },
  {
   "cell_type": "code",
   "execution_count": 24,
   "id": "e226db6a",
   "metadata": {},
   "outputs": [],
   "source": [
    "def has_duplicates(ref_text, debug=False):\n",
    "    ref_list = []\n",
    "    for line in ref_text.splitlines():\n",
    "        if line:\n",
    "            ref = line.split('\\t')[1]\n",
    "            ref_list.append(ref)\n",
    "    ref_set = set(ref_list)\n",
    "    return len(ref_list) != len(ref_set), ref_list, ref_set"
   ]
  },
  {
   "cell_type": "code",
   "execution_count": 25,
   "id": "6fb43382",
   "metadata": {},
   "outputs": [],
   "source": [
    "foo = \"\"\"\n",
    "1. \tL. Gent, B. G. Forde, How do plants sense their nitrogen status? J Exp Bot 68, 2531–2539 (2017).\n",
    "2. \tM. E. Dusenge, A. G. Duarte, D. A. Way, Plant carbon metabolism and climate change: elevated CO2 and temperature impacts on photosynthesis, photorespiration and respiration. New Phytologist 221, 32–49 (2019).\n",
    "3. \tR. C. Meyer, et al., The metabolic signature related to high plant growth rate in Arabidopsis thaliana. Proceedings of the National Academy of Sciences 104, 4759–4764 (2007).\n",
    "4. \tR. Sulpice, et al., Starch as a major integrator in the regulation of plant growth. Proceedings of the National Academy of Sciences 106, 10348–10353 (2009).\n",
    "5. \tS. Kleessen, et al., Metabolic efficiency underpins performance trade-offs in growth of Arabidopsis thaliana. Nat Commun 5, 3537 (2014).\n",
    "6. \tK. J. van Wijk, Challenges and Prospects of Plant Proteomics. Plant Physiol 126, 501–508 (2001).\n",
    "7. \tS. Alseekh, A. R. Fernie, Metabolomics 20 years on: what have we learned and what hurdles remain? The Plant Journal 94, 933–942 (2018).\n",
    "8. \tR. Sulpice, et al., Impact of the Carbon and Nitrogen Supply on Relationships and Connectivity between Metabolism and Biomass in a Broad Panel of Arabidopsis Accessions    . Plant Physiol 162, 347–363 (2013).\n",
    "9. \tM. Westhues, et al., Omics-based hybrid prediction in maize. Theoretical and Applied Genetics 130, 1927–1939 (2017).\n",
    "10. \tH. Tong, A. Küken, Z. Razaghi-Moghadam, Z. Nikoloski, Characterization of effects of genetic variants via genome-scale metabolic modelling. Cellular and Molecular Life Sciences 78, 5123–5138 (2021).\n",
    "11. \tS. Wu, S. Alseekh, Y. Brotman, A. R. Fernie, “Metabolomic Analysis of Natural Variation in Arabidopsis” in (2021), pp. 393–411.\n",
    "12. \tP. K. Pandey, et al., Plasticity in metabolism underpins local responses to nitrogen in Arabidopsis thaliana populations. Plant Direct 3 (2019).\n",
    "13. \tG. T. Duarte, et al., Plasticity of rosette size in response to nitrogen availability is controlled by an RCC1‐family protein. Plant Cell Environ 44, 3398–3411 (2021).\n",
    "14. \tR. A. E. Laitinen, Z. Nikoloski, Genetic basis of plasticity in plants. J Exp Bot 70, 739–745 (2019).\n",
    "15. \tA. Arnold, Z. Nikoloski, Bottom-up Metabolic Reconstruction of Arabidopsis and Its Application to Determining the Metabolic Costs of Enzyme Production. Plant Physiol 165, 1380–1391 (2014).\n",
    "16. \tI. Thiele, B. Ø. Palsson, A protocol for generating a high-quality genome-scale metabolic reconstruction. Nat Protoc 5, 93–121 (2010).\n",
    "17. \tE. J. O’Brien, J. M. Monk, B. O. Palsson, Using Genome-scale Models to Predict Biological Capabilities. Cell 161, 971–987 (2015).\n",
    "18. \tS. Robaina-Estévez, D. M. Daloso, Y. Zhang, A. R. Fernie, Z. Nikoloski, Resolving the central metabolism of Arabidopsis guard cells. Sci Rep 7, 8307 (2017).\n",
    "19. \tS. M. Correa, et al., Model‐assisted identification of metabolic engineering strategies for Jatropha curcas lipid pathways. The Plant Journal 104, 76–95 (2020).\n",
    "20. \tZ. Nikoloski, R. Perez-Storey, L. J. Sweetlove, Inference and prediction of metabolic network fluxes. Plant Physiol, pp.01082.2015-p.01082.2015 (2015).\n",
    "21. \tP. Wendering, Z. Nikoloski, Toward mechanistic modelling and rational engineering of plant respiration. Plant Physiol (2023) https:/doi.org/10.1093/plphys/kiad054.\n",
    "22. \tM. A. de Moura Ferreira, W. B. da Silveira, Z. Nikoloski, Protein constraints in genome-scale metabolic models: data integration, parameter estimation, and prediction of metabolic phenotypes (2022) https:/doi.org/10.22541/au.166082043.36599845/v2.\n",
    "23. \tR. Adadi, B. Volkmer, R. Milo, M. Heinemann, T. Shlomi, Prediction of Microbial Growth Rate versus Biomass Yield by a Metabolic Network with Kinetic Parameters. PLoS Comput Biol 8, e1002575–e1002575 (2012).\n",
    "24. \tI. Domenzain, et al., Reconstruction of a catalogue of genome-scale metabolic models with enzymatic constraints using GECKO 2.0. Nat Commun 13, 3766 (2022).\n",
    "25. \tD. Davidi, et al., Global characterization of in vivo enzyme catalytic rates and their correspondence to in vitro k cat measurements. Proceedings of the National Academy of Sciences 113, 3401–3406 (2016).\n",
    "26. \tR. Xu, Z. Razaghi-Moghadam, Z. Nikoloski, Maximization of non-idle enzymes improves the coverage of the estimated maximal in vivo enzyme catalytic rates in Escherichia coli. Bioinformatics 37, 3848–3855 (2021).\n",
    "27. \tA. Küken, K. Gennermann, Z. Nikoloski, Characterization of maximal enzyme catalytic rates in central metabolism of Arabidopsis thaliana. The Plant Journal 103, 2168–2177 (2020).\n",
    "28. \tP. Wendering, Z. Nikoloski, Genome-Scale Modeling Specifies the Metabolic Capabilities of Rhizophagus irregularis. mSystems 7 (2022).\n",
    "29. \tS. Arrhenius, Über die Reaktionsgeschwindigkeit bei der Inversion von Rohrzucker durch Säuren. Zeitschrift für Physikalische Chemie 4U, 226–248 (1889).\n",
    "30. \tA. Jarzab, et al., Meltome atlas—thermal proteome stability across the tree of life. Nat Methods 17, 495–503 (2020).\n",
    "31. \tC. S. Henry, L. J. Broadbelt, V. Hatzimanikatis, Thermodynamics-Based Metabolic Flux Analysis. Biophys J 92, 1792–1805 (2007).\n",
    "32. \tV. S. Martínez, L.-E. Quek, L. K. Nielsen, Network Thermodynamic Curation of Human and Yeast Genome-Scale Metabolic Models. Biophys J 107, 493–503 (2014).\n",
    "33. \tM. E. Beber, et al., eQuilibrator 3.0: a database solution for thermodynamic constant estimation. Nucleic Acids Res 50, D603–D609 (2022).\n",
    "34. \tA. Akbari, J. T. Yurkovich, D. C. Zielinski, B. O. Palsson, The quantitative metabolome is shaped by abiotic constraints. Nat Commun 12, 3178 (2021).\n",
    "35. \tN. Töpfer, F. Scossa, A. Fernie, Z. Nikoloski, Variability of Metabolite Levels Is Linked to Differential Metabolic Pathways in Arabidopsis’s Responses to Abiotic Stresses. PLoS Comput Biol 10, e1003656 (2014).\n",
    "36. \tH. Tong, A. Küken, Z. Nikoloski, Integrating molecular markers into metabolic models improves genomic selection for Arabidopsis growth. Nat Commun 11, 2410 (2020).\n",
    "37. \tF. Li, Y. Chen, M. Anton, J. Nielsen, GotEnzymes: an extensive database of enzyme parameter predictions. Nucleic Acids Res 51, D583–D586 (2023).\n",
    "38. \tA. Arnold, M. Sajitz-Hermstein, Z. Nikoloski, Effects of Varying Nitrogen Sources on Amino Acid Synthesis Costs in Arabidopsis thaliana under Different Light and Carbon-Source Conditions. PLoS One 10, e0116536 (2015).\n",
    "39. \tZ. Chen, et al., iFeatureOmega: an integrative platform for engineering, visualization and analysis of features from molecular sequences, structural and ligand data sets. Nucleic Acids Res 50, W434–W447 (2022).\n",
    "40. \tJ. K. Hobbs, et al., Change in heat capacity for enzyme catalysis determines temperature dependence of enzyme catalyzed rates. ACS Chem Biol 8, 2388–2393 (2013).\n",
    "41. \tC. S. Henry, L. J. Broadbelt, V. Hatzimanikatis, Thermodynamics-Based Metabolic Flux Analysis. Biophys J 92, 1792–1805 (2007).\n",
    "42. \tV. S. Martínez, L.-E. Quek, L. K. Nielsen, Network Thermodynamic Curation of Human and Yeast Genome-Scale Metabolic Models. Biophys J 107, 493–503 (2014).\n",
    "43. \tP. Salvy, et al., pyTFA and matTFA: a Python package and a Matlab toolbox for Thermodynamics-based Flux Analysis. Bioinformatics 35, 167–169 (2018).\n",
    "44. \tC. M. Fusari, et al., Genome-Wide Association Mapping Reveals That Specific and Pleiotropic Regulatory Mechanisms Fine-Tune Central Metabolism and Growth in Arabidopsis. Plant Cell 29, 2349–2373 (2017).\n",
    "45. \tE.-T. Pyl, et al., Metabolism and Growth in Arabidopsis Depend on the Daytime Temperature but Are Temperature-Compensated against Cool Nights. Plant Cell 24, 2443–2469 (2012).\n",
    "46. \tM. T. Alam, et al., The self-inhibitory nature of metabolic networks and its alleviation through compartmentalization. Nat Commun 8, 16018 (2017).\n",
    "47. \tP. Wendering, M. Arend, Z. Razaghi-Moghadamkashani, Z. Nikoloski, Data integration across conditions improves turnover number estimates and metabolic predictions. bioRxiv [Preprint], 2022.04.01.486742 (2022).\n",
    "46. \tC. M. Fusari, et al., Genome-Wide Association Mapping Reveals That Specific and Pleiotropic Regulatory Mechanisms Fine-Tune Central Metabolism and Growth in Arabidopsis. Plant Cell 29, 2349–2373 (2017).\n",
    "47. \tE.-T. Pyl, et al., Metabolism and Growth in Arabidopsis Depend on the Daytime Temperature but Are Temperature-Compensated against Cool Nights. Plant Cell 24, 2443–2469 (2012).\n",
    "48. \tM. T. Alam, et al., The self-inhibitory nature of metabolic networks and its alleviation through compartmentalization. Nat Commun 8, 16018 (2017).\n",
    "49. \tP. Wendering, M. Arend, Z. Razaghi-Moghadamkashani, Z. Nikoloski, Data integration across conditions improves turnover number estimates and metabolic predictions. bioRxiv [Preprint], 2022.04.01.486742 (2022).\n",
    "\"\"\""
   ]
  },
  {
   "cell_type": "code",
   "execution_count": 27,
   "id": "5d2c6c4e",
   "metadata": {},
   "outputs": [],
   "source": [
    "truth, ref_list, ref_set = has_duplicates(foo)"
   ]
  },
  {
   "cell_type": "code",
   "execution_count": 28,
   "id": "026ac02e",
   "metadata": {},
   "outputs": [
    {
     "data": {
      "text/plain": [
       "(51, 45)"
      ]
     },
     "execution_count": 28,
     "metadata": {},
     "output_type": "execute_result"
    }
   ],
   "source": [
    "len(ref_list), len(ref_set)"
   ]
  },
  {
   "cell_type": "code",
   "execution_count": 32,
   "id": "cb2028ff",
   "metadata": {},
   "outputs": [
    {
     "name": "stdout",
     "output_type": "stream",
     "text": [
      "count: 2 - V. S. Martínez, L.-E. Quek, L. K. Nielsen, Network Thermodynamic Curation of Human and Yeast Genome-Scale Metabolic Models. Biophys J 107, 493–503 (2014).\n",
      "\n",
      "count: 2 - C. M. Fusari, et al., Genome-Wide Association Mapping Reveals That Specific and Pleiotropic Regulatory Mechanisms Fine-Tune Central Metabolism and Growth in Arabidopsis. Plant Cell 29, 2349–2373 (2017).\n",
      "\n",
      "count: 2 - P. Wendering, M. Arend, Z. Razaghi-Moghadamkashani, Z. Nikoloski, Data integration across conditions improves turnover number estimates and metabolic predictions. bioRxiv [Preprint], 2022.04.01.486742 (2022).\n",
      "\n",
      "count: 2 - M. T. Alam, et al., The self-inhibitory nature of metabolic networks and its alleviation through compartmentalization. Nat Commun 8, 16018 (2017).\n",
      "\n",
      "count: 2 - E.-T. Pyl, et al., Metabolism and Growth in Arabidopsis Depend on the Daytime Temperature but Are Temperature-Compensated against Cool Nights. Plant Cell 24, 2443–2469 (2012).\n",
      "\n",
      "count: 2 - C. S. Henry, L. J. Broadbelt, V. Hatzimanikatis, Thermodynamics-Based Metabolic Flux Analysis. Biophys J 92, 1792–1805 (2007).\n",
      "\n"
     ]
    }
   ],
   "source": [
    "for set_elem in ref_set:\n",
    "    count = 0\n",
    "    for list_elem in ref_list:\n",
    "        if list_elem == set_elem:\n",
    "            count += 1\n",
    "    if count > 1:\n",
    "        print(f\"count: {count} - {set_elem}\\n\")"
   ]
  },
  {
   "cell_type": "code",
   "execution_count": null,
   "id": "f905513b",
   "metadata": {},
   "outputs": [],
   "source": []
  }
 ],
 "metadata": {
  "kernelspec": {
   "display_name": "Python 3 (ipykernel)",
   "language": "python",
   "name": "python3"
  },
  "language_info": {
   "codemirror_mode": {
    "name": "ipython",
    "version": 3
   },
   "file_extension": ".py",
   "mimetype": "text/x-python",
   "name": "python",
   "nbconvert_exporter": "python",
   "pygments_lexer": "ipython3",
   "version": "3.11.2"
  }
 },
 "nbformat": 4,
 "nbformat_minor": 5
}
