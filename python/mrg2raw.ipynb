{
 "cells": [
  {
   "cell_type": "code",
   "execution_count": 2,
   "metadata": {},
   "outputs": [],
   "source": [
    "import glob\n",
    "import os\n",
    "import re\n",
    "import sys\n",
    "\n",
    "import nltk\n",
    "import discoursegraphs as dg"
   ]
  },
  {
   "cell_type": "code",
   "execution_count": 4,
   "metadata": {},
   "outputs": [],
   "source": [
    "raw_filepaths = sorted([f for f in dg.find_files('/home/arne/repos/nishida-nakayama/nlp/resources/corpora/treebank/raw')])\n",
    "mrg_filepaths = sorted([f for f in dg.find_files('/home/arne/corpora/pennTreebank/parsed/mrg/wsj', '*.mrg')])"
   ]
  },
  {
   "cell_type": "code",
   "execution_count": 5,
   "metadata": {},
   "outputs": [
    {
     "name": "stderr",
     "output_type": "stream",
     "text": [
      "Can't extract ID from filename: wsj.all.mrg"
     ]
    }
   ],
   "source": [
    "def filepath2id(filepath):\n",
    "    basename = os.path.basename(filepath)\n",
    "    match = re.search('\\d+', basename)\n",
    "    if match:\n",
    "        return match.group()\n",
    "    sys.stderr.write(\"Can't extract ID from filename: {}\".format(basename))\n",
    "\n",
    "id2mrg = {}\n",
    "for mf in mrg_filepaths:\n",
    "    id2mrg[filepath2id(mf)] = mf"
   ]
  },
  {
   "cell_type": "code",
   "execution_count": 7,
   "metadata": {},
   "outputs": [],
   "source": [
    "def mrg2trees(mrg_filepath):\n",
    "    mrg_path, mrg_filename = os.path.split(mrg_filepath)\n",
    "    parsed_doc = nltk.corpus.BracketParseCorpusReader(mrg_path, [mrg_filename])\n",
    "    return [s for s in parsed_doc.parsed_sents()]"
   ]
  },
  {
   "cell_type": "code",
   "execution_count": 6,
   "metadata": {},
   "outputs": [],
   "source": [
    "def get_parent_treepos(treepos):\n",
    "    \"\"\"Given a treeposition, return the treeposition of its parent.\"\"\"\n",
    "    if treepos == ():  # this is the root node\n",
    "        return None\n",
    "    return treepos[:-1]\n",
    "\n",
    "def tree2string_notrace(tree):\n",
    "    mrg_tokens = tree.leaves()\n",
    "    raw_tokens = []\n",
    "    for i, tok in enumerate(mrg_tokens):\n",
    "        leaf_treepos = tree.leaf_treeposition(i)\n",
    "        parent_treepos = get_parent_treepos(leaf_treepos)\n",
    "        if parent_treepos:\n",
    "            parent_node = tree[parent_treepos]\n",
    "            if get_nodelabel(parent_node) == '-NONE-':\n",
    "                continue\n",
    "\n",
    "        raw_tok = PTB_BRACKET_UNESCAPE.get(tok, tok)\n",
    "        raw_tokens.append(raw_tok)\n",
    "    return u' '.join(raw_tokens)"
   ]
  },
  {
   "cell_type": "code",
   "execution_count": 8,
   "metadata": {},
   "outputs": [],
   "source": [
    "# ([u'!', u'`', u'#', u'%', u'$', u\"'\", u'&', u'*', u'-', u',', u'.', u'@', u';', u':', u'=', u'?'],)\n",
    "\n",
    "\"\"\" # remove space before/after\n",
    "! before\n",
    "` after\n",
    "#\n",
    "% before\n",
    "$ after\n",
    "' only handle 's\n",
    "&\n",
    "*\n",
    "-\n",
    ", before\n",
    ". before\n",
    "@\n",
    "; before\n",
    ": before\n",
    "=\n",
    "? before\n",
    "\"\"\"\n",
    "\n",
    "def untokenize(sent_str):\n",
    "    # remove space before chars .!?\n",
    "    re.sub(' (\\,|:|\\.|!|\\?)', r'\\1', sent_str)"
   ]
  },
  {
   "cell_type": "code",
   "execution_count": 11,
   "metadata": {},
   "outputs": [
    {
     "data": {
      "text/plain": [
       "'a! a? a. a, a; a: a%'"
      ]
     },
     "execution_count": 11,
     "metadata": {},
     "output_type": "execute_result"
    }
   ],
   "source": [
    "re.sub(' (\\,|;|:|\\.|!|\\?|%)', r'\\1', 'a ! a ? a . a , a ; a : a %')"
   ]
  },
  {
   "cell_type": "code",
   "execution_count": 17,
   "metadata": {},
   "outputs": [
    {
     "data": {
      "text/plain": [
       "'`hallo, $12'"
      ]
     },
     "execution_count": 17,
     "metadata": {},
     "output_type": "execute_result"
    }
   ],
   "source": [
    "re.sub('(`|\\$) ', r'\\1', '` hallo, $ 12')"
   ]
  },
  {
   "cell_type": "code",
   "execution_count": null,
   "metadata": {},
   "outputs": [],
   "source": []
  }
 ],
 "metadata": {
  "kernelspec": {
   "display_name": "Python 2",
   "language": "python",
   "name": "python2"
  },
  "language_info": {
   "codemirror_mode": {
    "name": "ipython",
    "version": 2
   },
   "file_extension": ".py",
   "mimetype": "text/x-python",
   "name": "python",
   "nbconvert_exporter": "python",
   "pygments_lexer": "ipython2",
   "version": "2.7.17"
  }
 },
 "nbformat": 4,
 "nbformat_minor": 2
}
