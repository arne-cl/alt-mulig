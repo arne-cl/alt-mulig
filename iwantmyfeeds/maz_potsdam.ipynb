{
 "cells": [
  {
   "cell_type": "code",
   "execution_count": 13,
   "id": "70e5b0b3",
   "metadata": {},
   "outputs": [],
   "source": [
    "import requests\n",
    "from lxml import etree\n",
    "from urllib.request import urlopen"
   ]
  },
  {
   "cell_type": "code",
   "execution_count": 14,
   "id": "fac61840",
   "metadata": {},
   "outputs": [],
   "source": [
    "BASE_URL = 'https://www.maz-online.de/lokales/potsdam/'"
   ]
  },
  {
   "cell_type": "code",
   "execution_count": 16,
   "id": "501e46c2",
   "metadata": {},
   "outputs": [],
   "source": [
    "html_parser = etree.HTMLParser()\n",
    "# lxml can't handle SSL directly,\n",
    "# cf. https://stackoverflow.com/questions/7882673/what-is-the-deal-about-https-when-using-lxml\n",
    "tree = etree.parse(urlopen(BASE_URL), parser=html_parser)"
   ]
  },
  {
   "cell_type": "code",
   "execution_count": 25,
   "id": "05f782c8",
   "metadata": {},
   "outputs": [
    {
     "name": "stdout",
     "output_type": "stream",
     "text": [
      "{'class': 'Headlinestyled__Headline-sc-1ytohq4-0 fOlBVJ'}\n",
      "None\n",
      "{'class': 'Headlinestyled__Headline-sc-1ytohq4-0 fClApR'}\n",
      "None\n",
      "{'class': 'Headlinestyled__Headline-sc-1ytohq4-0 fClApR'}\n",
      "Einwohner erwischen Dieb im Keller\n",
      "{'class': 'Headlinestyled__Headline-sc-1ytohq4-0 fClApR'}\n",
      "Museen, Märkte, Wasserwerfer: Das sind die Veranstaltungstipps für dieses Wochenende in Potsdam\n",
      "{'class': 'Headlinestyled__Headline-sc-1ytohq4-0 fClApR'}\n",
      "SC Potsdam signalisiert Interesse an umgebauter Tropenhalle im Volkspark\n",
      "{'class': 'Headlinestyled__Headline-sc-1ytohq4-0 jCVmKy'}\n",
      "None\n",
      "{'class': 'Headlinestyled__Headline-sc-1ytohq4-0 fClApR'}\n",
      "Feuer auf Balkon ausgebrochen: Haus im Stadtteil Am Stern teilweise evakuiert\n",
      "{'class': 'Headlinestyled__Headline-sc-1ytohq4-0 fClApR'}\n",
      "Brand in Küche eines Mehrfamilienhaus im Milanhorst im Schlaatz\n",
      "{'class': 'Headlinestyled__Headline-sc-1ytohq4-0 fClApR'}\n",
      "Radfahrer kollidiert mit E-Scooter\n",
      "{'class': 'Headlinestyled__Headline-sc-1ytohq4-0 fClApR'}\n",
      "Betrunkene greift Frauen in der Einkaufsstraße an\n",
      "{'class': 'Headlinestyled__Headline-sc-1ytohq4-0 jCVmKy'}\n",
      "Wertsteigerung bei Wohnimmobilien in Potsdam bis 2035 deutschlandweit am höchsten\n",
      "{'class': 'Headlinestyled__Headline-sc-1ytohq4-0 fClApR'}\n",
      "None\n",
      "{'class': 'Headlinestyled__Headline-sc-1ytohq4-0 fClApR'}\n",
      "None\n",
      "{'class': 'Headlinestyled__Headline-sc-1ytohq4-0 fClApR'}\n",
      "None\n",
      "{'class': 'Headlinestyled__Headline-sc-1ytohq4-0 fClApR'}\n",
      "None\n",
      "{'class': 'Headlinestyled__Headline-sc-1ytohq4-0 fClApR'}\n",
      "None\n",
      "{'class': 'Headlinestyled__Headline-sc-1ytohq4-0 fClApR'}\n",
      "Potsdamer Andreas Dresen doppelt für den Deutschen Filmpreis nominiert\n",
      "{'class': 'Headlinestyled__Headline-sc-1ytohq4-0 fClApR'}\n",
      "None\n",
      "{'class': 'Headlinestyled__Headline-sc-1ytohq4-0 fClApR'}\n",
      "None\n",
      "{'class': 'Headlinestyled__Headline-sc-1ytohq4-0 fClApR'}\n",
      "Modernisierung: Edeka im Stern-Center muss für vier Monate schließen\n",
      "{'class': 'Headlinestyled__Headline-sc-1ytohq4-0 fClApR'}\n",
      "None\n",
      "{'class': 'Headlinestyled__Headline-sc-1ytohq4-0 fClApR'}\n",
      "None\n",
      "{'class': 'Headlinestyled__Headline-sc-1ytohq4-0 fClApR'}\n",
      "Corona-Update kompakt: Die aktuellen Corona-Zahlen für Potsdam\n",
      "{'class': 'Headlinestyled__Headline-sc-1ytohq4-0 fClApR'}\n",
      "Potsdam-Ukraine-Newsblog: Aktuelle Infos, Spendenaufrufe und Hilfsaktionen auf einen Blick\n",
      "{'class': 'Headlinestyled__Headline-sc-1ytohq4-0 fClApR'}\n",
      "None\n",
      "{'class': 'Headlinestyled__Headline-sc-1ytohq4-0 fClApR'}\n",
      "None\n",
      "{'class': 'Headlinestyled__Headline-sc-1ytohq4-0 fClApR'}\n",
      "None\n",
      "{'class': 'Headlinestyled__Headline-sc-1ytohq4-0 fClApR'}\n",
      "None\n",
      "{'class': 'Headlinestyled__Headline-sc-1ytohq4-0 fClApR'}\n",
      "None\n",
      "{'class': 'Headlinestyled__Headline-sc-1ytohq4-0 fClApR'}\n",
      "None\n"
     ]
    }
   ],
   "source": [
    "for elem in tree.iter('h2'):\n",
    "    print(elem.attrib)\n",
    "    print(elem.text)"
   ]
  },
  {
   "cell_type": "code",
   "execution_count": 35,
   "id": "a16dd0ec",
   "metadata": {},
   "outputs": [
    {
     "name": "stdout",
     "output_type": "stream",
     "text": [
      "{'href': '/lokales/potsdam/potsdam-corona-update-kompakt-neuinfektionen-und-inzidenz-von-heute-oder-3-mai-KVYVWF2PPKTKGLME5QIOZYYE64.html', 'class': 'Linkstyled__Link-amotau-0 gikehw'}\n",
      "None\n",
      "{'href': '/lokales/potsdam/live-webcam-so-veraendert-sich-potsdams-mitte-JY6H7MZKYMNFWICK6XK63IINSQ.html', 'class': 'Linkstyled__Link-amotau-0 gikehw'}\n",
      "None\n",
      "{'href': '/lokales/potsdam/potsdamer-mietendeckel-14-500-unterschriften-fuer-niedrige-mieten-gesammelt-AJRTDKMELHOHSBKBYNL4KH6ISU.html', 'class': 'Linkstyled__Link-amotau-0 ContentTeaserstyled__Link-qm705w-9 faWznA'}\n",
      "None\n",
      "{'href': '/lokales/potsdam/potsdam-einwohner-erwischen-dieb-im-keller-JVTGY7H2LWIXXRCR6PHV5IYIBM.html', 'class': 'Linkstyled__Link-amotau-0 ContentTeaserstyled__Link-qm705w-9 faWznA'}\n",
      "None\n",
      "{'href': '/lokales/potsdam/das-sind-die-veranstaltungstipps-fuer-dieses-wochenende-13-bis-15-mai-in-potsdam-WEG5RTYAB3GOH52ETKDOLZGX3E.html', 'class': 'Linkstyled__Link-amotau-0 ContentTeaserstyled__Link-qm705w-9 faWznA'}\n",
      "None\n",
      "{'href': '/lokales/potsdam/biospaehre-potsdam-sport-statt-tropenwelt-sc-potsdam-hat-interesse-an-halle-ILMOO5BQYPPLDUZO3SCD6QASWY.html', 'class': 'Linkstyled__Link-amotau-0 ContentTeaserstyled__Link-qm705w-9 faWznA'}\n",
      "None\n",
      "{'href': '/lokales/potsdam/amok-alarm-an-der-da-vinci-schule-im-bornstedter-feld-in-potsdam-JZIU66675KVJLCBDLEIDO75CXA.html', 'class': 'Linkstyled__Link-amotau-0 ContentTeaserstyled__Link-qm705w-9 faWznA'}\n",
      "None\n",
      "{'href': '/lokales/potsdam/potsdam-feuer-auf-balkon-in-mehrfamilienhaus-im-stadtteil-am-stern-oder-10-mai-2022-4NTFQP2RQO7JRU46REAWPSRAG4.html', 'class': 'Linkstyled__Link-amotau-0 ContentTeaserstyled__Link-qm705w-9 faWznA'}\n",
      "None\n",
      "{'href': '/lokales/potsdam/feuerwehreinsatz-in-potsdam-im-schlaatz-personen-aus-wohnung-gerettet-oder-10-mai-2022-FO5VDNXA2P5Y5MJBWSSNEDL5PA.html', 'class': 'Linkstyled__Link-amotau-0 ContentTeaserstyled__Link-qm705w-9 faWznA'}\n",
      "None\n",
      "{'href': '/lokales/potsdam/potsdam-radfahrer-kollidiert-mit-e-scooter-und-wird-leicht-verletzt-YLGVORXRKALRJJH7JSYG2YSZG4.html', 'class': 'Linkstyled__Link-amotau-0 ContentTeaserstyled__Link-qm705w-9 faWznA'}\n",
      "None\n",
      "{'href': '/lokales/potsdam/randaliererin-greift-frauen-in-der-potsdamer-haupteinkaufsstrasse-an-CCGOW3XQZDATD3FVUHVDHZYORU.html', 'class': 'Linkstyled__Link-amotau-0 ContentTeaserstyled__Link-qm705w-9 faWznA'}\n",
      "None\n",
      "{'href': '/lokales/potsdam/potsdam-wertsteigerung-bei-wohnimmobilien-bis-2035-deutschlandweit-am-hoechsten-K2DPUVVXQHZJNVICIB3KTT3WDU.html', 'class': 'Linkstyled__Link-amotau-0 ContentTeaserstyled__Link-qm705w-9 faWznA'}\n",
      "None\n",
      "{'href': '/lokales/potsdam/potsdamer-wohnungsbau-koordinierungsstelle-clearingstelle-fuer-investoren-FAF4MU3YBPDLADBVH776IRJLMM.html', 'class': 'Linkstyled__Link-amotau-0 ContentTeaserstyled__Link-qm705w-9 faWznA'}\n",
      "None\n",
      "{'href': '/lokales/potsdam/immobilien-in-potsdam-experten-erwarten-ende-der-preis-dynamik-aber-noch-keine-sinkenden-kaufpreise-VQ4LMUZRH7FBAPDXF3EAFYARXU.html', 'class': 'Linkstyled__Link-amotau-0 ContentTeaserstyled__Link-qm705w-9 faWznA'}\n",
      "None\n",
      "{'href': '/lokales/potsdam/potsdamer-wohnungsnot-keine-erhebung-zu-ferienwohnungen-und-airbnb-F6J77PTVU76PHJEQPRTJTHLTVQ.html', 'class': 'Linkstyled__Link-amotau-0 ContentTeaserstyled__Link-qm705w-9 faWznA'}\n",
      "None\n",
      "{'href': '/lokales/potsdam/potsdam-wohnungen-stehen-leer-spekulation-in-babelsberg-trotz-zweckentfremdungssatzung-WTY6PG7FCHVNU5E45RV7DUAWE4.html', 'class': 'Linkstyled__Link-amotau-0 ContentTeaserstyled__Link-qm705w-9 faWznA'}\n",
      "None\n",
      "{'href': '/lokales/potsdam/potsdamer-regisseur-andreas-dresen-doppelt-fuer-deutschen-filmpreis-nominiert-WFLA2GJCUQY4N6E244BE626O5A.html', 'class': 'Linkstyled__Link-amotau-0 ContentTeaserstyled__Link-qm705w-9 faWznA'}\n",
      "None\n",
      "{'href': '/lokales/potsdam/potsdam-neue-fakten-zum-verfahren-gegen-baubeigeordneten-UUSMMAOBW25KRQIS25YVSK6MGE.html', 'class': 'Linkstyled__Link-amotau-0 ContentTeaserstyled__Link-qm705w-9 faWznA'}\n",
      "None\n",
      "{'href': '/lokales/potsdam/potsdamer-biosphaere-so-viel-wuerden-die-einzelnen-sanierungsvarianten-kosten-JT344N446LNZVQBWPO7UBBT2TY.html', 'class': 'Linkstyled__Link-amotau-0 ContentTeaserstyled__Link-qm705w-9 faWznA'}\n",
      "None\n",
      "{'href': '/lokales/potsdam/potsdam-edeka-filiale-im-stern-center-schliesst-fuer-4-monate-neueroeffnung-im-september-7KR54TPBI5EQYTERRSEDUNAF3Q.html', 'class': 'Linkstyled__Link-amotau-0 ContentTeaserstyled__Link-qm705w-9 faWznA'}\n",
      "None\n",
      "{'href': '/lokales/potsdam/potsdam-neues-gymnasium-bornstedt-kann-bedarf-nicht-decken-gymnasialplaetze-bleiben-mangelware-B2VATXLDNFRNPDRSNNVU5WG2BE.html', 'class': 'Linkstyled__Link-amotau-0 ContentTeaserstyled__Link-qm705w-9 faWznA'}\n",
      "None\n",
      "{'href': '/lokales/potsdam/potsdam-corona-update-kompakt-neuinfektionen-und-inzidenz-von-heute-oder-12-mai-KVYVWF2PPKTKGLME5QIOZYYE64.html', 'class': 'Linkstyled__Link-amotau-0 ContentTeaserstyled__Link-qm705w-9 faWznA'}\n",
      "None\n",
      "{'href': '/lokales/potsdam/potsdam-ukraine-ticker-infos-spenden-hilfe-fuer-fluechtlinge-und-news-T3HXIHAS4LLHXTVM6I2JBCVAOU.html', 'class': 'Linkstyled__Link-amotau-0 ContentTeaserstyled__Link-qm705w-9 faWznA'}\n",
      "None\n",
      "{'href': '/lokales/potsdam/reaktionen-der-kommunalpolitik-auf-baugenehmigung-fuer-das-potsdamer-kreativquartier-7U4BF4XN6LITEYJ7GE7PXQX3FY.html', 'class': 'Linkstyled__Link-amotau-0 ContentTeaserstyled__Link-qm705w-9 faWznA'}\n",
      "None\n",
      "{'href': '/lokales/potsdam/potsdam-molotowcocktails-geworfen-psychiater-haelt-beschuldigten-fuer-ungefaehrlich-OP3ONWMOM37N3TZ6UJVBMSVHVI.html', 'class': 'Linkstyled__Link-amotau-0 ContentTeaserstyled__Link-qm705w-9 faWznA'}\n",
      "None\n",
      "{'href': '/lokales/potsdam/viele-potsdamer-ukraine-gefluechtete-kehren-in-die-heimat-zurueck-U7D2KFGKQWJUVTIUDXMSRIN2TY.html', 'class': 'Linkstyled__Link-amotau-0 ContentTeaserstyled__Link-qm705w-9 faWznA'}\n",
      "None\n",
      "{'href': '/lokales/potsdam/raetsel-um-potsdamer-griebnitzsee-gemaelde-des-kaiserlichen-marine-malers-IZZNPTGWXAPE2EM4QBGEYDVURY.html', 'class': 'Linkstyled__Link-amotau-0 ContentTeaserstyled__Link-qm705w-9 faWznA'}\n",
      "None\n",
      "{'href': '/lokales/potsdam/potsdam-oberlandesgericht-bewilligt-enteignungen-fuer-uferweg-in-gross-glienicke-SXVDIP2IQ7TZCLFJZQ3MYA5NIM.html', 'class': 'Linkstyled__Link-amotau-0 ContentTeaserstyled__Link-qm705w-9 faWznA'}\n",
      "None\n"
     ]
    }
   ],
   "source": [
    "for elem in tree.iter('a'):\n",
    "    a_class = elem.attrib.get('class')\n",
    "    if a_class and a_class.startswith('Linkstyled__Link'):\n",
    "        a_href = elem.attrib.get('href')\n",
    "        if a_href and a_href.startswith('/lokales/potsdam/'):\n",
    "            print(elem.attrib)\n",
    "            print(elem.text)"
   ]
  },
  {
   "cell_type": "code",
   "execution_count": null,
   "id": "9b1ddc68",
   "metadata": {},
   "outputs": [],
   "source": [
    "for i, td in enumerate(tree.xpath(\"//td[@style='color: white; text-align:left; padding:2px; width:880px; overflow:hidden;']\")):\n",
    "    a1, a2 = td.getchildren()\n",
    "    episode_page = os.path.join(base_url, a1.attrib['href'])\n",
    "    episode_id = get_episode_id(episode_page)\n",
    "    episode_date = a1.xpath('(./font/font)[2]')[0].text.strip()\n",
    "    episode_description = a2.text\n",
    "    episode_videos = get_episode_videos(episode_id)\n",
    "    episode_playlist = os.path.join(playlist_base_url, \"{}.xml\".format(episode_id))\n",
    "    yield Episode(num=episode_id,\n",
    "                  page=episode_page, date=episode_date,\n",
    "                  description=episode_description,\n",
    "                  videos=episode_videos,\n",
    "                  playlist=episode_playlist)"
   ]
  }
 ],
 "metadata": {
  "kernelspec": {
   "display_name": "Python 3 (ipykernel)",
   "language": "python",
   "name": "python3"
  },
  "language_info": {
   "codemirror_mode": {
    "name": "ipython",
    "version": 3
   },
   "file_extension": ".py",
   "mimetype": "text/x-python",
   "name": "python",
   "nbconvert_exporter": "python",
   "pygments_lexer": "ipython3",
   "version": "3.8.10"
  }
 },
 "nbformat": 4,
 "nbformat_minor": 5
}
