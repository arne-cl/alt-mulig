{
 "cells": [
  {
   "cell_type": "code",
   "execution_count": 100,
   "id": "exciting-injury",
   "metadata": {},
   "outputs": [],
   "source": [
    "import logging\n",
    "import feedgen\n",
    "from feedgen.feed import FeedGenerator\n",
    "\n",
    "from requests_html import HTMLSession\n",
    "\n",
    "from IPython.display import display, Image"
   ]
  },
  {
   "cell_type": "code",
   "execution_count": 5,
   "id": "jewish-matrix",
   "metadata": {},
   "outputs": [],
   "source": [
    "BASE_URL = 'https://www.maz-online.de/Lokales/Potsdam-Mittelmark/Werder-Havel'"
   ]
  },
  {
   "cell_type": "code",
   "execution_count": 6,
   "id": "central-medicare",
   "metadata": {},
   "outputs": [],
   "source": [
    "sess = HTMLSession()\n",
    "r = sess.get(BASE_URL)"
   ]
  },
  {
   "cell_type": "code",
   "execution_count": 106,
   "id": "familiar-metallic",
   "metadata": {},
   "outputs": [],
   "source": [
    "def get_maz_articles(session, url):\n",
    "    r = session.get(url)\n",
    "    articles = []\n",
    "    for pub_type in ('articles4', 'teaser3'):\n",
    "        for article in r.html.find(f'div.pdb-{pub_type}-teaser'):\n",
    "            try:\n",
    "                link_elem = article.find(f'a.pdb-{pub_type}-teaser-breadcrumb-headline-title-link', first=True)\n",
    "                link_abs_url = requests_html.urljoin(BASE_URL, link_elem.attrs['href'])\n",
    "\n",
    "                pub_date_elem = article.find(f'span.pdb-{pub_type}-teaser-release-publicationdate', first=True)\n",
    "                pub_date = ''\n",
    "                if pub_date_elem:\n",
    "                    pub_date = pub_date_elem.text\n",
    "\n",
    "                headline = article.find(f'a.pdb-{pub_type}-teaser-breadcrumb-headline-title-link', first=True).text\n",
    "                img = article.find('img', first=True)\n",
    "                intro = article.find('p', first=True).text\n",
    "\n",
    "                if pub_date:  # articles w/out a publication date are spam/listicles\n",
    "                    article = {\n",
    "                        'url': link_abs_url,\n",
    "                        'pub_date': pub_date,\n",
    "                        'headline': headline,\n",
    "                        'intro': intro,\n",
    "                        'image_url': img.attrs['src'],\n",
    "                        'alt_text': img.attrs['alt']}\n",
    "                    articles.append(article)\n",
    "            except Exception as ex:\n",
    "                logging.exception('Caught exception when parsing MAZ/Werder page.')\n",
    "    return articles"
   ]
  },
  {
   "cell_type": "code",
   "execution_count": 107,
   "id": "dominant-milan",
   "metadata": {},
   "outputs": [],
   "source": [
    "articles = get_maz_articles(sess, BASE_URL)"
   ]
  },
  {
   "cell_type": "code",
   "execution_count": 136,
   "id": "bored-insertion",
   "metadata": {},
   "outputs": [],
   "source": [
    "def create_feed(articles, output_filepath=None):\n",
    "    feed = FeedGenerator()\n",
    "#     feed.load_extension('podcast', atom=True)\n",
    "    feed.title(u\"MAZ: Werder/Havel\")\n",
    "    feed.id(BASE_URL)\n",
    "    feed.link(href='https://www.maz-online.de/', rel='self')\n",
    "    feed.description(u\"Inoffizieller RSS-Feed für MAZ Werder/Havel\")\n",
    "    feed.language('de')\n",
    "    \n",
    "    for article in articles:\n",
    "        entry = feed.add_entry()\n",
    "        entry.link(href=article['url'], rel='alternate')\n",
    "        entry.title(article['headline'])\n",
    "        entry.content(f\"\"\"<img src=\"{article['image_url']}\" align=\"left\" hspace=\"10\"> {article[\"pub_date\"]} {article[\"intro\"]}\"\"\")\n",
    "        entry.guid()\n",
    "        \n",
    "        \n",
    "    if output_filepath:\n",
    "        feed.rss_file(output_filepath)\n",
    "    else:\n",
    "        return feed.rss_str(pretty=True)"
   ]
  },
  {
   "cell_type": "code",
   "execution_count": 137,
   "id": "helpful-rolling",
   "metadata": {},
   "outputs": [],
   "source": [
    "create_feed(articles, output_filepath='/tmp/maz.xml')"
   ]
  },
  {
   "cell_type": "code",
   "execution_count": 101,
   "id": "pending-tragedy",
   "metadata": {},
   "outputs": [],
   "source": [
    "f = FeedGenerator()"
   ]
  },
  {
   "cell_type": "code",
   "execution_count": 103,
   "id": "becoming-spell",
   "metadata": {},
   "outputs": [],
   "source": [
    "fe = f.add_entry()"
   ]
  },
  {
   "cell_type": "code",
   "execution_count": 104,
   "id": "bibliographic-vermont",
   "metadata": {},
   "outputs": [],
   "source": [
    "# hspace=\"50\" vspace=\"50\""
   ]
  },
  {
   "cell_type": "code",
   "execution_count": null,
   "id": "contrary-shipping",
   "metadata": {},
   "outputs": [],
   "source": []
  }
 ],
 "metadata": {
  "kernelspec": {
   "display_name": "Python 3",
   "language": "python",
   "name": "python3"
  },
  "language_info": {
   "codemirror_mode": {
    "name": "ipython",
    "version": 3
   },
   "file_extension": ".py",
   "mimetype": "text/x-python",
   "name": "python",
   "nbconvert_exporter": "python",
   "pygments_lexer": "ipython3",
   "version": "3.8.0"
  }
 },
 "nbformat": 4,
 "nbformat_minor": 5
}
