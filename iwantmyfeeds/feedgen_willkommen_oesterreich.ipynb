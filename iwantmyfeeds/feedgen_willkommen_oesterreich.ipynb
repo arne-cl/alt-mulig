{
 "cells": [
  {
   "cell_type": "markdown",
   "metadata": {
    "deletable": true,
    "editable": true
   },
   "source": [
    "# Willkommen Österreich"
   ]
  },
  {
   "cell_type": "code",
   "execution_count": 1,
   "metadata": {
    "collapsed": false,
    "deletable": true,
    "editable": true
   },
   "outputs": [],
   "source": [
    "import collections\n",
    "import os\n",
    "import re\n",
    "\n",
    "from feedgen.feed import FeedGenerator\n",
    "from lxml import etree\n",
    "\n",
    "BASE_URL = \"http://willkommen-oesterreich.tv/\"\n",
    "EPISODES_SCRAPING_URL = os.path.join(BASE_URL, \"pl.php\")\n",
    "PLAYLIST_BASE_URL = os.path.join(BASE_URL, 'playlists')\n",
    "\n",
    "Episode = collections.namedtuple('Episode', 'num page date description videos playlist')"
   ]
  },
  {
   "cell_type": "code",
   "execution_count": 2,
   "metadata": {
    "collapsed": false,
    "deletable": true,
    "editable": true
   },
   "outputs": [],
   "source": [
    "def get_episode_videos(episode_id, playlist_base_url=PLAYLIST_BASE_URL):\n",
    "    tree = etree.parse(os.path.join(playlist_base_url, \"{}.xml\".format(episode_id)))\n",
    "    for episode_part in tree.iter(\"{http://search.yahoo.com/mrss/}content\"):\n",
    "        yield episode_part.attrib['url']"
   ]
  },
  {
   "cell_type": "code",
   "execution_count": 3,
   "metadata": {
    "collapsed": false,
    "deletable": true,
    "editable": true
   },
   "outputs": [],
   "source": [
    "def get_episode_id(episode_url):\n",
    "    return int(re.search('pl\\.php\\?plid=(\\d+)#', episode_url).groups()[0])\n",
    "\n",
    "def get_episodes(episodes_scraping_url=EPISODES_SCRAPING_URL,\n",
    "                 base_url=BASE_URL,\n",
    "                 playlist_base_url=PLAYLIST_BASE_URL):\n",
    "    html_parser = etree.HTMLParser()\n",
    "    tree = etree.parse(episodes_scraping_url, parser=html_parser)\n",
    "\n",
    "    for i, td in enumerate(tree.xpath(\"//td[@style='color: white; text-align:left; padding:2px; width:880px; overflow:hidden;']\")):\n",
    "        a1, a2 = td.getchildren()\n",
    "        episode_page = os.path.join(base_url, a1.attrib['href'])\n",
    "        episode_id = get_episode_id(episode_page)\n",
    "        episode_date = a1.xpath('(./font/font)[2]')[0].text.strip()\n",
    "        episode_description = a2.text\n",
    "        episode_videos = get_episode_videos(episode_id)\n",
    "        episode_playlist = os.path.join(playlist_base_url, \"{}.xml\".format(episode_id))\n",
    "        yield Episode(num=episode_id,\n",
    "                      page=episode_page, date=episode_date,\n",
    "                      description=episode_description,\n",
    "                      videos=episode_videos,\n",
    "                      playlist=episode_playlist)"
   ]
  },
  {
   "cell_type": "code",
   "execution_count": 4,
   "metadata": {
    "collapsed": true,
    "deletable": true,
    "editable": true
   },
   "outputs": [],
   "source": [
    "def create_feed(episodes, output_filepath=None):\n",
    "    woe_feed = FeedGenerator()\n",
    "    woe_feed.load_extension('podcast', atom=True)\n",
    "    woe_feed.title(u\"Willkommen Österreich\")\n",
    "    woe_feed.id(EPISODES_SCRAPING_URL)\n",
    "    woe_feed.link(href=BASE_URL, rel='self')\n",
    "    woe_feed.description(u\"Inoffizieller RSS-Feed für 'Willkommen Österreich'-Episoden\")\n",
    "    woe_feed.language('de')\n",
    "    \n",
    "    for episode in episodes:\n",
    "        for i, video in enumerate(episode.videos, 1):\n",
    "            episode_entry = woe_feed.add_entry(order='append')\n",
    "            episode_entry.id(episode.page)\n",
    "            episode_entry.link(href=episode.page, rel='alternate')\n",
    "            episode_entry.title(u\"Folge {0}, Teil {1} - {2}: {3}\".format(episode.num, i, episode.date, episode.description))\n",
    "            episode_entry.enclosure(url=video, length=0, type='mp4')\n",
    "    \n",
    "    if output_filepath:\n",
    "        woe_feed.atom_file(output_filepath)\n",
    "    else:\n",
    "        print(woe_feed.atom_str(pretty=True))"
   ]
  },
  {
   "cell_type": "code",
   "execution_count": 5,
   "metadata": {
    "collapsed": false,
    "deletable": true,
    "editable": true
   },
   "outputs": [
    {
     "data": {
      "text/plain": [
       "'de'"
      ]
     },
     "execution_count": 5,
     "metadata": {},
     "output_type": "execute_result"
    }
   ],
   "source": [
    "episodes = get_episodes()\n",
    "import itertools\n",
    "\n",
    "last_five_episodes = itertools.islice(episodes, 5)\n",
    "\n",
    "woe_feed = FeedGenerator()\n",
    "woe_feed.load_extension('podcast', atom=True)\n",
    "woe_feed.title(u\"Willkommen Österreich\")\n",
    "woe_feed.id(EPISODES_SCRAPING_URL)\n",
    "woe_feed.link(href=BASE_URL, rel='self')\n",
    "woe_feed.description(u\"Inoffizieller RSS-Feed für 'Willkommen Österreich'-Episoden\")\n",
    "woe_feed.language('de')"
   ]
  },
  {
   "cell_type": "code",
   "execution_count": 6,
   "metadata": {
    "collapsed": false,
    "deletable": true,
    "editable": true
   },
   "outputs": [],
   "source": [
    "# for episode in last_five_episodes:\n",
    "#     episode_entry = woe_feed.add_entry()\n",
    "#     episode_entry.id(episode.page)\n",
    "#     episode_entry.link(href=episode.page, rel='alternate')\n",
    "#     episode_entry.title(u\"Folge {0} - {1}: {2}\".format(episode.num, episode.date, episode.description))\n",
    "#     for video in episode.videos:\n",
    "#         episode_entry.enclosure(url=video, length=0, type='mp4')"
   ]
  },
  {
   "cell_type": "code",
   "execution_count": 7,
   "metadata": {
    "collapsed": false,
    "deletable": true,
    "editable": true
   },
   "outputs": [
    {
     "name": "stdout",
     "output_type": "stream",
     "text": [
      "<?xml version='1.0' encoding='UTF-8'?>\n",
      "<feed xmlns:itunes=\"http://www.itunes.com/dtds/podcast-1.0.dtd\" xmlns=\"http://www.w3.org/2005/Atom\" xml:lang=\"de\">\n",
      "  <id>http://willkommen-oesterreich.tv/pl.php</id>\n",
      "  <title>Willkommen Österreich</title>\n",
      "  <updated>2017-10-27T11:00:48.941538+00:00</updated>\n",
      "  <link href=\"http://willkommen-oesterreich.tv/\" rel=\"self\"/>\n",
      "  <generator uri=\"http://lkiesow.github.io/python-feedgen\" version=\"0.6.1\">python-feedgen</generator>\n",
      "  <subtitle>Inoffizieller RSS-Feed für 'Willkommen Österreich'-Episoden</subtitle>\n",
      "  <entry>\n",
      "    <id>http://willkommen-oesterreich.tv/pl.php?plid=370#F370</id>\n",
      "    <title>Folge 370, Teil 1 - 24.10.2017: Daniel Kehlmann &amp; Gerald Hörhan</title>\n",
      "    <updated>2017-10-27T11:00:49.494368+00:00</updated>\n",
      "    <link href=\"http://willkommen-oesterreich.tv/pl.php?plid=370#F370\" rel=\"alternate\"/>\n",
      "    <link href=\"http://video.willkommen-oesterreich.at.dedi3264.your-server.de/Folge370/F370P1.mp4\" rel=\"enclosure\" type=\"mp4\"/>\n",
      "  </entry>\n",
      "  <entry>\n",
      "    <id>http://willkommen-oesterreich.tv/pl.php?plid=370#F370</id>\n",
      "    <title>Folge 370, Teil 2 - 24.10.2017: Daniel Kehlmann &amp; Gerald Hörhan</title>\n",
      "    <updated>2017-10-27T11:00:49.494635+00:00</updated>\n",
      "    <link href=\"http://willkommen-oesterreich.tv/pl.php?plid=370#F370\" rel=\"alternate\"/>\n",
      "    <link href=\"http://video.willkommen-oesterreich.at.dedi3264.your-server.de/Folge370/F370P2.mp4\" rel=\"enclosure\" type=\"mp4\"/>\n",
      "  </entry>\n",
      "  <entry>\n",
      "    <id>http://willkommen-oesterreich.tv/pl.php?plid=370#F370</id>\n",
      "    <title>Folge 370, Teil 3 - 24.10.2017: Daniel Kehlmann &amp; Gerald Hörhan</title>\n",
      "    <updated>2017-10-27T11:00:49.494771+00:00</updated>\n",
      "    <link href=\"http://willkommen-oesterreich.tv/pl.php?plid=370#F370\" rel=\"alternate\"/>\n",
      "    <link href=\"http://video.willkommen-oesterreich.at.dedi3264.your-server.de/Folge370/F370P3.mp4\" rel=\"enclosure\" type=\"mp4\"/>\n",
      "  </entry>\n",
      "  <entry>\n",
      "    <id>http://willkommen-oesterreich.tv/pl.php?plid=369#F369</id>\n",
      "    <title>Folge 369, Teil 1 - 17.10.2017: Verena Altenberger &amp; Arik und Timna Brauer</title>\n",
      "    <updated>2017-10-27T11:00:49.579499+00:00</updated>\n",
      "    <link href=\"http://willkommen-oesterreich.tv/pl.php?plid=369#F369\" rel=\"alternate\"/>\n",
      "    <link href=\"http://video.willkommen-oesterreich.at.dedi3264.your-server.de/Folge369/F369P1.mp4\" rel=\"enclosure\" type=\"mp4\"/>\n",
      "  </entry>\n",
      "  <entry>\n",
      "    <id>http://willkommen-oesterreich.tv/pl.php?plid=369#F369</id>\n",
      "    <title>Folge 369, Teil 2 - 17.10.2017: Verena Altenberger &amp; Arik und Timna Brauer</title>\n",
      "    <updated>2017-10-27T11:00:49.579629+00:00</updated>\n",
      "    <link href=\"http://willkommen-oesterreich.tv/pl.php?plid=369#F369\" rel=\"alternate\"/>\n",
      "    <link href=\"http://video.willkommen-oesterreich.at.dedi3264.your-server.de/Folge369/F369P2.mp4\" rel=\"enclosure\" type=\"mp4\"/>\n",
      "  </entry>\n",
      "  <entry>\n",
      "    <id>http://willkommen-oesterreich.tv/pl.php?plid=369#F369</id>\n",
      "    <title>Folge 369, Teil 3 - 17.10.2017: Verena Altenberger &amp; Arik und Timna Brauer</title>\n",
      "    <updated>2017-10-27T11:00:49.579692+00:00</updated>\n",
      "    <link href=\"http://willkommen-oesterreich.tv/pl.php?plid=369#F369\" rel=\"alternate\"/>\n",
      "    <link href=\"http://video.willkommen-oesterreich.at.dedi3264.your-server.de/Folge369/F369P3.mp4\" rel=\"enclosure\" type=\"mp4\"/>\n",
      "  </entry>\n",
      "  <entry>\n",
      "    <id>http://willkommen-oesterreich.tv/pl.php?plid=368#F368</id>\n",
      "    <title>Folge 368, Teil 1 - 10.10.2017: Gernot Kulis &amp; Marco Wanda</title>\n",
      "    <updated>2017-10-27T11:00:49.658383+00:00</updated>\n",
      "    <link href=\"http://willkommen-oesterreich.tv/pl.php?plid=368#F368\" rel=\"alternate\"/>\n",
      "    <link href=\"http://video.willkommen-oesterreich.at.dedi3264.your-server.de/Folge368/F368P1.mp4\" rel=\"enclosure\" type=\"mp4\"/>\n",
      "  </entry>\n",
      "  <entry>\n",
      "    <id>http://willkommen-oesterreich.tv/pl.php?plid=368#F368</id>\n",
      "    <title>Folge 368, Teil 2 - 10.10.2017: Gernot Kulis &amp; Marco Wanda</title>\n",
      "    <updated>2017-10-27T11:00:49.658522+00:00</updated>\n",
      "    <link href=\"http://willkommen-oesterreich.tv/pl.php?plid=368#F368\" rel=\"alternate\"/>\n",
      "    <link href=\"http://video.willkommen-oesterreich.at.dedi3264.your-server.de/Folge368/F368P2.mp4\" rel=\"enclosure\" type=\"mp4\"/>\n",
      "  </entry>\n",
      "  <entry>\n",
      "    <id>http://willkommen-oesterreich.tv/pl.php?plid=367#F367</id>\n",
      "    <title>Folge 367, Teil 1 - 03.10.2017: Carolin Kebekus &amp;  Ernst Strouhal und Christoph Winder</title>\n",
      "    <updated>2017-10-27T11:00:49.762649+00:00</updated>\n",
      "    <link href=\"http://willkommen-oesterreich.tv/pl.php?plid=367#F367\" rel=\"alternate\"/>\n",
      "    <link href=\"http://video.willkommen-oesterreich.at.dedi3264.your-server.de/Folge367/F367P1.mp4\" rel=\"enclosure\" type=\"mp4\"/>\n",
      "  </entry>\n",
      "  <entry>\n",
      "    <id>http://willkommen-oesterreich.tv/pl.php?plid=367#F367</id>\n",
      "    <title>Folge 367, Teil 2 - 03.10.2017: Carolin Kebekus &amp;  Ernst Strouhal und Christoph Winder</title>\n",
      "    <updated>2017-10-27T11:00:49.762848+00:00</updated>\n",
      "    <link href=\"http://willkommen-oesterreich.tv/pl.php?plid=367#F367\" rel=\"alternate\"/>\n",
      "    <link href=\"http://video.willkommen-oesterreich.at.dedi3264.your-server.de/Folge367/F367P2.mp4\" rel=\"enclosure\" type=\"mp4\"/>\n",
      "  </entry>\n",
      "  <entry>\n",
      "    <id>http://willkommen-oesterreich.tv/pl.php?plid=367#F367</id>\n",
      "    <title>Folge 367, Teil 3 - 03.10.2017: Carolin Kebekus &amp;  Ernst Strouhal und Christoph Winder</title>\n",
      "    <updated>2017-10-27T11:00:49.762956+00:00</updated>\n",
      "    <link href=\"http://willkommen-oesterreich.tv/pl.php?plid=367#F367\" rel=\"alternate\"/>\n",
      "    <link href=\"http://video.willkommen-oesterreich.at.dedi3264.your-server.de/Folge367/F367P3.mp4\" rel=\"enclosure\" type=\"mp4\"/>\n",
      "  </entry>\n",
      "  <entry>\n",
      "    <id>http://willkommen-oesterreich.tv/pl.php?plid=366#F366</id>\n",
      "    <title>Folge 366, Teil 1 - 26.09.2017: Lukas Resetarits &amp; Alfred Dorfer</title>\n",
      "    <updated>2017-10-27T11:00:49.846794+00:00</updated>\n",
      "    <link href=\"http://willkommen-oesterreich.tv/pl.php?plid=366#F366\" rel=\"alternate\"/>\n",
      "    <link href=\"http://video.willkommen-oesterreich.at.dedi3264.your-server.de/Folge366/F366P1.mp4\" rel=\"enclosure\" type=\"mp4\"/>\n",
      "  </entry>\n",
      "  <entry>\n",
      "    <id>http://willkommen-oesterreich.tv/pl.php?plid=366#F366</id>\n",
      "    <title>Folge 366, Teil 2 - 26.09.2017: Lukas Resetarits &amp; Alfred Dorfer</title>\n",
      "    <updated>2017-10-27T11:00:49.846945+00:00</updated>\n",
      "    <link href=\"http://willkommen-oesterreich.tv/pl.php?plid=366#F366\" rel=\"alternate\"/>\n",
      "    <link href=\"http://video.willkommen-oesterreich.at.dedi3264.your-server.de/Folge366/F366P2.mp4\" rel=\"enclosure\" type=\"mp4\"/>\n",
      "  </entry>\n",
      "  <entry>\n",
      "    <id>http://willkommen-oesterreich.tv/pl.php?plid=366#F366</id>\n",
      "    <title>Folge 366, Teil 3 - 26.09.2017: Lukas Resetarits &amp; Alfred Dorfer</title>\n",
      "    <updated>2017-10-27T11:00:49.847152+00:00</updated>\n",
      "    <link href=\"http://willkommen-oesterreich.tv/pl.php?plid=366#F366\" rel=\"alternate\"/>\n",
      "    <link href=\"http://video.willkommen-oesterreich.at.dedi3264.your-server.de/Folge366/F366P3.mp4\" rel=\"enclosure\" type=\"mp4\"/>\n",
      "  </entry>\n",
      "</feed>\n",
      "\n"
     ]
    }
   ],
   "source": [
    "create_feed(last_five_episodes)"
   ]
  },
  {
   "cell_type": "code",
   "execution_count": null,
   "metadata": {
    "collapsed": true,
    "deletable": true,
    "editable": true
   },
   "outputs": [],
   "source": []
  }
 ],
 "metadata": {
  "kernelspec": {
   "display_name": "Python 2",
   "language": "python",
   "name": "python2"
  },
  "language_info": {
   "codemirror_mode": {
    "name": "ipython",
    "version": 2
   },
   "file_extension": ".py",
   "mimetype": "text/x-python",
   "name": "python",
   "nbconvert_exporter": "python",
   "pygments_lexer": "ipython2",
   "version": "2.7.12"
  }
 },
 "nbformat": 4,
 "nbformat_minor": 2
}
