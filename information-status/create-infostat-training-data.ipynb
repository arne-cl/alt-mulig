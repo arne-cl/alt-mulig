{
 "cells": [
  {
   "cell_type": "markdown",
   "metadata": {},
   "source": [
    "# TODO: create infostat training data\n",
    "\n",
    "## OntoNotes: Corpus & Annotation Scheme\n",
    "\n",
    "* test corpus: **WSJ section of OntoNotes**\n",
    "* annotation scheme:\n",
    "  - *APPOS*: linking attributive/appositive NPs\n",
    "  - *IDENT*: (other) coreference links\n",
    "* extracted all NPs with *IDENT* relation\n",
    "  * marked them as anaphoric (*AN*), if they had an antecedent,  \n",
    "    i.e. an expression to its left referring to the same ID\n",
    "  * otherwise marked as non-anaphoric (*NON*)\n"
   ]
  },
  {
   "cell_type": "code",
   "execution_count": 8,
   "metadata": {
    "collapsed": false
   },
   "outputs": [],
   "source": [
    "import cPickle as pickle\n",
    "from itertools import chain, izip\n",
    "import os\n",
    "import re\n",
    "\n",
    "import discoursegraphs as dg\n",
    "import discourseinfostat as di"
   ]
  },
  {
   "cell_type": "code",
   "execution_count": 2,
   "metadata": {
    "collapsed": true
   },
   "outputs": [],
   "source": [
    "import numpy as np\n",
    "from sklearn.feature_extraction import DictVectorizer\n",
    "from sklearn.cross_validation import train_test_split\n",
    "\n",
    "from sklearn.svm import LinearSVC\n",
    "\n",
    "vec = DictVectorizer()"
   ]
  },
  {
   "cell_type": "code",
   "execution_count": 3,
   "metadata": {
    "collapsed": true
   },
   "outputs": [],
   "source": [
    "# from sklearn import svm\n",
    "# clf = svm.SVC(gamma=0.001, C=100.)"
   ]
  },
  {
   "cell_type": "code",
   "execution_count": 37,
   "metadata": {
    "collapsed": true
   },
   "outputs": [],
   "source": [
    "def pickles2list(pickle_filepaths):\n",
    "    for pickle_filepath in pickle_filepaths:\n",
    "        with open(pickle_filepath) as pickle_file:\n",
    "            yield pickle.load(pickle_file)\n",
    "\n",
    "def corpus_stats2sklearn_input(corpus_stats):\n",
    "    \"\"\"\n",
    "    Parameters\n",
    "    ----------\n",
    "    corpus_stats : list(tuple(str, str))\n",
    "    list of (features pickle path, labels pickle path) tuples\n",
    "    \"\"\"\n",
    "    feat_files, label_files = zip(*corpus_stats)\n",
    "    samples = pickles2list(feat_files)\n",
    "    labels = pickles2list(label_files)\n",
    "    return chain(*samples), chain(*labels)"
   ]
  },
  {
   "cell_type": "code",
   "execution_count": 5,
   "metadata": {
    "collapsed": false
   },
   "outputs": [
    {
     "name": "stdout",
     "output_type": "stream",
     "text": [
      "CPU times: user 56.2 s, sys: 812 ms, total: 57.1 s\n",
      "Wall time: 57.2 s\n"
     ]
    }
   ],
   "source": [
    "%%time\n",
    "corpus = dg.read_exportxml(di.infostat.TUEBADZ8_FILE)\n",
    "infostat = di.Infostat(corpus)"
   ]
  },
  {
   "cell_type": "code",
   "execution_count": 40,
   "metadata": {
    "collapsed": true
   },
   "outputs": [],
   "source": [
    "# infostat._reset_corpus_iterator()"
   ]
  },
  {
   "cell_type": "code",
   "execution_count": 39,
   "metadata": {
    "collapsed": false
   },
   "outputs": [
    {
     "name": "stdout",
     "output_type": "stream",
     "text": [
      "CPU times: user 6 µs, sys: 1 µs, total: 7 µs\n",
      "Wall time: 11 µs\n"
     ]
    }
   ],
   "source": [
    "%%time\n",
    "corpus_stats = infostat.corpus_stats()"
   ]
  },
  {
   "cell_type": "code",
   "execution_count": 41,
   "metadata": {
    "collapsed": false
   },
   "outputs": [
    {
     "name": "stdout",
     "output_type": "stream",
     "text": [
      "Document 'text_922' has maximum recursion depth exceeded\n",
      "Document 'text_2877' has maximum recursion depth exceeded\n",
      "Document 'text_3003' has maximum recursion depth exceeded\n",
      "Document 'text_3175' has maximum recursion depth exceeded\n",
      "CPU times: user 12min 10s, sys: 6.22 s, total: 12min 16s\n",
      "Wall time: 12min 17s\n"
     ]
    }
   ],
   "source": [
    "%%time\n",
    "samples, y = corpus_stats2sklearn_input(corpus_stats)"
   ]
  },
  {
   "cell_type": "code",
   "execution_count": 42,
   "metadata": {
    "collapsed": false
   },
   "outputs": [
    {
     "name": "stdout",
     "output_type": "stream",
     "text": [
      "CPU times: user 23.3 s, sys: 1.16 s, total: 24.4 s\n",
      "Wall time: 26.2 s\n"
     ]
    }
   ],
   "source": [
    "%%time\n",
    "X = vec.fit_transform(samples)"
   ]
  },
  {
   "cell_type": "code",
   "execution_count": 43,
   "metadata": {
    "collapsed": false
   },
   "outputs": [],
   "source": [
    "y_bool_array = np.array(list(y), dtype=bool)"
   ]
  },
  {
   "cell_type": "code",
   "execution_count": 44,
   "metadata": {
    "collapsed": true
   },
   "outputs": [],
   "source": [
    "X_train, X_test, y_train, y_test = train_test_split(X, y_bool_array, test_size=0.1, random_state=23)"
   ]
  },
  {
   "cell_type": "markdown",
   "metadata": {},
   "source": [
    "# Training a linear SVC w/out hyperparam tuning, no linguistic features"
   ]
  },
  {
   "cell_type": "code",
   "execution_count": 45,
   "metadata": {
    "collapsed": true
   },
   "outputs": [],
   "source": [
    "clf = LinearSVC()"
   ]
  },
  {
   "cell_type": "code",
   "execution_count": 46,
   "metadata": {
    "collapsed": false
   },
   "outputs": [
    {
     "name": "stdout",
     "output_type": "stream",
     "text": [
      "CPU times: user 4min 13s, sys: 9.08 ms, total: 4min 13s\n",
      "Wall time: 4min 13s\n"
     ]
    },
    {
     "data": {
      "text/plain": [
       "LinearSVC(C=1.0, class_weight=None, dual=True, fit_intercept=True,\n",
       "     intercept_scaling=1, loss='squared_hinge', max_iter=1000,\n",
       "     multi_class='ovr', penalty='l2', random_state=None, tol=0.0001,\n",
       "     verbose=0)"
      ]
     },
     "execution_count": 46,
     "metadata": {},
     "output_type": "execute_result"
    }
   ],
   "source": [
    "%%time\n",
    "clf.fit(X_train, y_train)"
   ]
  },
  {
   "cell_type": "code",
   "execution_count": 47,
   "metadata": {
    "collapsed": false
   },
   "outputs": [],
   "source": [
    "# clf.predict(X_test)"
   ]
  },
  {
   "cell_type": "code",
   "execution_count": 48,
   "metadata": {
    "collapsed": false
   },
   "outputs": [
    {
     "data": {
      "text/plain": [
       "0.83496788585054416"
      ]
     },
     "execution_count": 48,
     "metadata": {},
     "output_type": "execute_result"
    }
   ],
   "source": [
    "clf.score(X_test, y_test)"
   ]
  },
  {
   "cell_type": "code",
   "execution_count": 49,
   "metadata": {
    "collapsed": true
   },
   "outputs": [],
   "source": [
    "from sklearn.externals import joblib"
   ]
  },
  {
   "cell_type": "code",
   "execution_count": 52,
   "metadata": {
    "collapsed": false
   },
   "outputs": [
    {
     "data": {
      "text/plain": [
       "['/home/arne/repos/discourseinfostat/results/linear_svc_clf.pkl',\n",
       " '/home/arne/repos/discourseinfostat/results/linear_svc_clf.pkl_01.npy',\n",
       " '/home/arne/repos/discourseinfostat/results/linear_svc_clf.pkl_02.npy',\n",
       " '/home/arne/repos/discourseinfostat/results/linear_svc_clf.pkl_03.npy']"
      ]
     },
     "execution_count": 52,
     "metadata": {},
     "output_type": "execute_result"
    }
   ],
   "source": [
    "classifier_path = os.path.expanduser('~/repos/discourseinfostat/results')\n",
    "\n",
    "joblib.dump(clf, os.path.join(classifier_path, 'linear_svc_clf.pkl'))"
   ]
  },
  {
   "cell_type": "code",
   "execution_count": 53,
   "metadata": {
    "collapsed": false
   },
   "outputs": [
    {
     "data": {
      "text/plain": [
       "['/home/arne/repos/discourseinfostat/results/X_train.pkl',\n",
       " '/home/arne/repos/discourseinfostat/results/X_train.pkl_01.npy',\n",
       " '/home/arne/repos/discourseinfostat/results/X_train.pkl_02.npy',\n",
       " '/home/arne/repos/discourseinfostat/results/X_train.pkl_03.npy']"
      ]
     },
     "execution_count": 53,
     "metadata": {},
     "output_type": "execute_result"
    }
   ],
   "source": [
    "joblib.dump(X_train, os.path.join(classifier_path, 'X_train.pkl'))"
   ]
  },
  {
   "cell_type": "code",
   "execution_count": 54,
   "metadata": {
    "collapsed": false
   },
   "outputs": [
    {
     "data": {
      "text/plain": [
       "['/home/arne/repos/discourseinfostat/results/X_test.pkl',\n",
       " '/home/arne/repos/discourseinfostat/results/X_test.pkl_01.npy',\n",
       " '/home/arne/repos/discourseinfostat/results/X_test.pkl_02.npy',\n",
       " '/home/arne/repos/discourseinfostat/results/X_test.pkl_03.npy']"
      ]
     },
     "execution_count": 54,
     "metadata": {},
     "output_type": "execute_result"
    }
   ],
   "source": [
    "joblib.dump(X_test, os.path.join(classifier_path, 'X_test.pkl'))"
   ]
  },
  {
   "cell_type": "code",
   "execution_count": 55,
   "metadata": {
    "collapsed": false
   },
   "outputs": [
    {
     "data": {
      "text/plain": [
       "['/home/arne/repos/discourseinfostat/results/y_train.pkl',\n",
       " '/home/arne/repos/discourseinfostat/results/y_train.pkl_01.npy']"
      ]
     },
     "execution_count": 55,
     "metadata": {},
     "output_type": "execute_result"
    }
   ],
   "source": [
    "joblib.dump(y_train, os.path.join(classifier_path, 'y_train.pkl'))"
   ]
  },
  {
   "cell_type": "code",
   "execution_count": 56,
   "metadata": {
    "collapsed": false
   },
   "outputs": [
    {
     "data": {
      "text/plain": [
       "['/home/arne/repos/discourseinfostat/results/y_test.pkl',\n",
       " '/home/arne/repos/discourseinfostat/results/y_test.pkl_01.npy']"
      ]
     },
     "execution_count": 56,
     "metadata": {},
     "output_type": "execute_result"
    }
   ],
   "source": [
    "joblib.dump(y_test, os.path.join(classifier_path, 'y_test.pkl'))"
   ]
  },
  {
   "cell_type": "code",
   "execution_count": 58,
   "metadata": {
    "collapsed": false
   },
   "outputs": [
    {
     "data": {
      "text/plain": [
       "['/home/arne/repos/discourseinfostat/results/X.pkl',\n",
       " '/home/arne/repos/discourseinfostat/results/X.pkl_01.npy',\n",
       " '/home/arne/repos/discourseinfostat/results/X.pkl_02.npy',\n",
       " '/home/arne/repos/discourseinfostat/results/X.pkl_03.npy']"
      ]
     },
     "execution_count": 58,
     "metadata": {},
     "output_type": "execute_result"
    }
   ],
   "source": [
    "joblib.dump(X, os.path.join(classifier_path, 'X.pkl'))"
   ]
  },
  {
   "cell_type": "code",
   "execution_count": 59,
   "metadata": {
    "collapsed": false
   },
   "outputs": [
    {
     "data": {
      "text/plain": [
       "['/home/arne/repos/discourseinfostat/results/y.pkl']"
      ]
     },
     "execution_count": 59,
     "metadata": {},
     "output_type": "execute_result"
    }
   ],
   "source": [
    "joblib.dump(y, os.path.join(classifier_path, 'y.pkl'))"
   ]
  },
  {
   "cell_type": "code",
   "execution_count": null,
   "metadata": {
    "collapsed": true
   },
   "outputs": [],
   "source": []
  }
 ],
 "metadata": {
  "kernelspec": {
   "display_name": "Python 2",
   "language": "python",
   "name": "python2"
  },
  "language_info": {
   "codemirror_mode": {
    "name": "ipython",
    "version": 2
   },
   "file_extension": ".py",
   "mimetype": "text/x-python",
   "name": "python",
   "nbconvert_exporter": "python",
   "pygments_lexer": "ipython2",
   "version": "2.7.6"
  }
 },
 "nbformat": 4,
 "nbformat_minor": 0
}
