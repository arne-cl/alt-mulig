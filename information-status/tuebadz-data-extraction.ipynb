{
 "cells": [
  {
   "cell_type": "markdown",
   "metadata": {},
   "source": [
    "# Notes on extracting data from Tüba-D/Z\n",
    "\n",
    "## Issue 1: coreference edges vs. coreferential edges\n",
    "\n",
    "## Issue 2: extract all NPs (i.e. cat=NX or cat=N*?)"
   ]
  },
  {
   "cell_type": "code",
   "execution_count": 1,
   "metadata": {
    "collapsed": false
   },
   "outputs": [],
   "source": [
    "import os\n",
    "\n",
    "import discoursegraphs as dg\n",
    "import discourseinfostat as di"
   ]
  },
  {
   "cell_type": "code",
   "execution_count": 2,
   "metadata": {
    "collapsed": false
   },
   "outputs": [],
   "source": [
    "TUEBADZ8_FILE = dg.corpora.TUEBADZ_PATH"
   ]
  },
  {
   "cell_type": "code",
   "execution_count": 3,
   "metadata": {
    "collapsed": false
   },
   "outputs": [],
   "source": [
    "corpus = dg.read_exportxml(TUEBADZ8_FILE, debug=False)"
   ]
  },
  {
   "cell_type": "code",
   "execution_count": 4,
   "metadata": {
    "collapsed": true
   },
   "outputs": [],
   "source": [
    "doc = corpus.next()"
   ]
  },
  {
   "cell_type": "code",
   "execution_count": 5,
   "metadata": {
    "collapsed": false
   },
   "outputs": [],
   "source": [
    "debug_corpus = dg.read_exportxml(TUEBADZ8_FILE, debug=True)\n",
    "debug_doc = debug_corpus.next()\n",
    "edg = dg.readwrite.exportxml.ExportXMLDocumentGraph(debug_doc)"
   ]
  },
  {
   "cell_type": "code",
   "execution_count": 6,
   "metadata": {
    "collapsed": false
   },
   "outputs": [],
   "source": [
    "# %matplotlib inline\n",
    "# %load_ext gvmagic"
   ]
  },
  {
   "cell_type": "code",
   "execution_count": 7,
   "metadata": {
    "collapsed": false
   },
   "outputs": [],
   "source": [
    "# %dotstr dg.print_dot(doc)"
   ]
  },
  {
   "cell_type": "code",
   "execution_count": 8,
   "metadata": {
    "collapsed": false
   },
   "outputs": [],
   "source": [
    "# for i, doc in enumerate(corpus):\n",
    "#     try:\n",
    "#         dg.print_dot(doc)\n",
    "# #         print i, \"sucess\"\n",
    "#     except:\n",
    "#         print i, \"failed\""
   ]
  },
  {
   "cell_type": "code",
   "execution_count": 9,
   "metadata": {
    "collapsed": false
   },
   "outputs": [],
   "source": [
    "# dg.info(doc)"
   ]
  },
  {
   "cell_type": "code",
   "execution_count": 10,
   "metadata": {
    "collapsed": false
   },
   "outputs": [
    {
     "name": "stdout",
     "output_type": "stream",
     "text": [
      "0 Veruntreute 11\n",
      "{'layers': set(['exportxml', 'exportxml:token']), 'exportxml:offset': 11, 'form': 'Veruntreute', 'parent': 's1_500', 'morph': '3sit', 'pos': 'VVFIN', 'label': 'Veruntreute', 'lemma': 'veruntreuen', 'func': 'HD', 'exportxml:onset': 0, 'deprel': 'ROOT', 'exportxml:token': 'Veruntreute'}\n",
      "12 die 15\n",
      "{'layers': set(['exportxml', 'exportxml:token']), 'exportxml:offset': 15, 'form': 'die', 'parent': 's1_502', 'morph': 'nsf', 'pos': 'ART', 'label': 'die', 'lemma': 'die', 'dephead': 's1_3', 'func': '-', 'exportxml:onset': 12, 'deprel': 'DET', 'exportxml:token': 'die'}\n",
      "16 AWO 19\n",
      "{'layers': set(['exportxml', 'exportxml:token']), 'exportxml:offset': 19, 'parent': 's1_502', 'form': 'AWO', 'morph': 'nsf', 'pos': 'NN', 'label': 'AWO', 'lemma': 'AWO', 'dephead': 's1_1', 'func': 'HD', 'exportxml:onset': 16, 'deprel': 'SUBJ', 'exportxml:token': 'AWO'}\n",
      "20 Spendengeld 31\n",
      "{'layers': set(['exportxml', 'exportxml:token']), 'exportxml:offset': 31, 'form': 'Spendengeld', 'parent': 's1_503', 'morph': 'asn', 'pos': 'NN', 'label': 'Spendengeld', 'lemma': 'Spendengeld', 'dephead': 's1_1', 'func': 'HD', 'exportxml:onset': 20, 'deprel': 'OBJA', 'exportxml:token': 'Spendengeld'}\n",
      "32 ? 33\n",
      "{'layers': set(['exportxml', 'exportxml:token']), 'lemma': '?', 'form': '?', 'func': '--', 'exportxml:onset': 32, 'exportxml:token': '?', 'exportxml:offset': 33, 'pos': '$.', 'deprel': 'ROOT', 'label': '?'}\n"
     ]
    }
   ],
   "source": [
    "import itertools\n",
    "\n",
    "onset = 0\n",
    "offset = 0\n",
    "\n",
    "for token_id, token_str in itertools.islice(doc.get_tokens(), 5):\n",
    "    offset = onset + len(token_str)\n",
    "    print onset, token_str, offset\n",
    "    doc.node[token_id]['{}:{}'.format(doc.ns, 'onset')] = onset\n",
    "    doc.node[token_id]['{}:{}'.format(doc.ns, 'offset')] = offset\n",
    "    print doc.node[token_id]\n",
    "    onset = offset + 1"
   ]
  },
  {
   "cell_type": "code",
   "execution_count": 11,
   "metadata": {
    "collapsed": false
   },
   "outputs": [
    {
     "name": "stdout",
     "output_type": "stream",
     "text": [
      "Veruntreute die AWO Spendengeld ? Staatsanwaltschaft muß AWO-Konten prüfen / Flossen 165.000 Mark Sammelgelder für Flutopfer in ein Altenheim in Danzig ? Landesvorsitzende Ute Wedemeier : Ein Buchungsfehler Im Januar hat die Arbeiterwohlfahrt Bremen ihren langjährigen Geschäftsführer Hans Taake fristlos entlassen , nun wird auch der Vorstand der Wohlfahrtsorganisation in den Fall hineingezogen . In einer anonymen Anzeige werden der Bremer Staatsanwaltschaft Details über dubiose finanzielle Transaktionen mitgeteilt . Verantwortlich , so das Schreiben einer Mitarbeiterin der AWO , sei die Landesvorsitzende Uter Wedemeier , die sich jetzt als \" Sauberfrau \" gebe , \" wo doch alle wissen , wie eng sie mit Taake zusammenhing \" . Vorwurf Nummer 1 : 165.000 Mark aus der bundesweiten Geldsammlung für die Flutopfer in Südpolen seien über das Konto des Bremer Landesverbandes der AWO an die Caritas in Danzig geflossen , \" damit dort ein Altenheim gebaut wird \" . Das Altenheim sei \" ein Prestigeobjekt von ihr und anderen \" . In der Tat sitzt Ute Wedemeier im Kuratorium für das Altenheim , eine derartige Umleitung von Geldern habe es aber nicht gegeben , sagt sie . \" Wenn da was gebucht worden ist , dann ist das nicht in Ordnung \" - höchstens einen Buchungsfehler kann sie sich vorstellen . Volker Tegeler , stellvertretender Geschäftsführer des Landesverbandes , sagt : \" Es gibt so eine Buchung . \" In einer internen Kontrolle nach der Kündigung von Taake sei dies aufgefallen , zur Aufklärung solle ein externer Wirtschaftsprüfer beauftragt werden . Verantwortlich für die Finanzen des Landesverbandes sei aber \" durchgehend Herr Taake \" gewesen , sagt Tegeler . Aufgefallen bei der internen Prüfung ist auch Vorwurf Nummer 2 : Die AWO hat sich für Seniorenreisen nach Mallorca von Hapaq Lloyd Provisionen zahlen lassen . Die seien auf ein Konto des Landesverbandes der AWO geflossen , weil sie dort vor einer Finanzamtsprüfung sicherer gewesen seien . Tegeler bestätigt den Vorgang der Provisionszahlungen , meint allerdings , es müsse ein \" Buchungsfehler \" gewesen sein . Die ehrenamtliche Landesvorsitzende Wedemeier weiß von diesem Vorgang nichts , \" ich kontrolliere solche Sachen doch nicht , das machen die hauptamtlichen Geschäftsführer . \" Kontrolliert werden die Geschäftsführer von den gewählten Revisoren des AWO-Landesverbandes , das sind Detlev Griesche und Karin Freudenthal . Freuden-thal wollte gestern nichts dazu sagen , ob bei ihren Prüfungen ihr etwas aufgefallen sei . Da der Landesverband als Dachverband ohne hauptamtliches Personal nur einen \" ganz kleinen Haushalt \" hat ( Wedemeier ) , hätten Summen von Hapaq Lloyd oder 165.000 Mark schon auffallen müssen . Vorwurf Nummer 3 : Die Landesvorsitzende Ute Wedemeier hatte auf AWO-Kosten ein Handy . \" Hier werden Beiträge von kleinen Leuten veraast , die von ehrenamtlichen Kassierern fünf Mark weise gesammelt werden \" , schreibt die anonyme AWO-Mitarbeiterin an die Staatsanwaltschaft . Obwohl Frau Wedemeier \" vor allem Privatgespräche über das Handy \" führe , würde alles von der AWO bezahlt . Ute Wedemeier hält es für \" selbstverständlich \" , daß sie als ehrenamtliche Vorsitzende ein dienstliches Handy hat . Insbesondere wegen ihrer Aktivitäten in Riga und Danzig müsse sie erreichbar sein und auch telefonieren können . Wieviel da monatlich fällig wird , weiß sie aber nicht - \" die Rechnung geht direkt an die AWO \" . Hintergrund der gegenseitigen Vorwürfe in der Arbeiterwohlfahrt sind offenbar scharfe Konkurrenzen zwischen Bremern und Bremerhavenern . Als es in dieser Woche um die Neubesetzung des ehrenamtlichen Geschäftsführer-Postens im Landesverbandes ging , da sind diese Differenzen wieder aufgebrochen . Lothar Koring , Bremerhavener AWO-Vorsitzender , wollte seinen Bremerhavener Geschäftsführer Volker Tegeler auch im Landesverband zum Geschäftsführer machen . Koring selbst hatte früher auch gegen Ute Wedemeier für den Landesvorsitz kandidiert . Gegen Tegeler sprach allerdings , daß noch ein staatsanwaltschaftliches Ermittlungsverfahren gegen ihn läuft . Und Koring war früher einmal in schiefes Licht geraten , weil er bei einer Prüfgesellschaft im Vorstand war , die die AWO , wo er Kreisvorsitzender ist , prüfte . Seine Position bei der Prüfgesellschaft mußte er damals niederlegen , den AWO-Posten nicht . K. W.\n"
     ]
    }
   ],
   "source": [
    "print dg.get_text(doc)"
   ]
  },
  {
   "cell_type": "markdown",
   "metadata": {},
   "source": [
    "# TODO: difference between `exportxml:coreference` and `exportxml:coreferential`?\n",
    "\n",
    "The corpus metadata only has `coreferential`.  \n",
    "I introduced `coreference` myself; this layer will be added  \n",
    "to all `<relation>` with a `target` attribute, as well as all\n",
    "`<splitRelation>`s.\n",
    "\n",
    "```xml\n",
    "<edge name=\"relation\" parent=\"word|node\">\n",
    "  <enum-attr name=\"type\">\n",
    "   <val name=\"anaphoric\" description=\"Anaphorisches Pronomen\"/>\n",
    "   <val name=\"cataphoric\" description=\"Kataphorisches Pronomen\"/>\n",
    "   <val name=\"coreferential\" description=\"Diskurs-altes nicht-Pronomen\"/>\n",
    "  </enum-attr>\n",
    "  <node-ref name=\"target\"/>\n",
    "</edge>\n",
    "```"
   ]
  },
  {
   "cell_type": "code",
   "execution_count": 12,
   "metadata": {
    "collapsed": false
   },
   "outputs": [
    {
     "data": {
      "text/plain": [
       "17"
      ]
     },
     "execution_count": 12,
     "metadata": {},
     "output_type": "execute_result"
    }
   ],
   "source": [
    "len(dg.get_pointing_chains(doc, layer='exportxml:coreference'))"
   ]
  },
  {
   "cell_type": "code",
   "execution_count": 13,
   "metadata": {
    "collapsed": false
   },
   "outputs": [
    {
     "data": {
      "text/plain": [
       "20"
      ]
     },
     "execution_count": 13,
     "metadata": {},
     "output_type": "execute_result"
    }
   ],
   "source": [
    "len(dg.get_pointing_chains(doc, layer='exportxml:coreferential'))"
   ]
  },
  {
   "cell_type": "code",
   "execution_count": 14,
   "metadata": {
    "collapsed": false
   },
   "outputs": [],
   "source": [
    "coreference_set = set(tuple(coref_list)\n",
    "                      for coref_list in dg.get_pointing_chains(doc, layer='exportxml:coreference'))"
   ]
  },
  {
   "cell_type": "code",
   "execution_count": 15,
   "metadata": {
    "collapsed": true
   },
   "outputs": [],
   "source": [
    "coreferential_set = set(tuple(coref_list)\n",
    "                      for coref_list in dg.get_pointing_chains(doc, layer='exportxml:coreferential'))"
   ]
  },
  {
   "cell_type": "code",
   "execution_count": 16,
   "metadata": {
    "collapsed": false
   },
   "outputs": [],
   "source": [
    "not_in_coreference_set = coreferential_set.difference(coreference_set)"
   ]
  },
  {
   "cell_type": "code",
   "execution_count": 17,
   "metadata": {
    "collapsed": false
   },
   "outputs": [],
   "source": [
    "not_in_coreferential_set = coreference_set.difference(coreferential_set)"
   ]
  },
  {
   "cell_type": "code",
   "execution_count": 18,
   "metadata": {
    "collapsed": false
   },
   "outputs": [
    {
     "name": "stdout",
     "output_type": "stream",
     "text": [
      "Ute Wedemeier -> Frau Wedemeier -> Die Landesvorsitzende Ute Wedemeier -> Wedemeier -> ich\n",
      "\n",
      "der Prüfgesellschaft -> die\n",
      "\n",
      "Landesverband -> Landesverbandes -> der Landesverband als Dachverband ohne hauptamtliches Personal -> des AWO-Landesverbandes -> des Landesverbandes der AWO -> des Landesverbandes -> des Landesverbandes -> des Bremer Landesverbandes der AWO -> ihren\n",
      "\n",
      "Freuden-thal -> Karin Freudenthal\n",
      "\n",
      "die Arbeiterwohlfahrt Bremen -> die AWO\n",
      "\n",
      "Ute Wedemeier -> ihr\n",
      "\n",
      "die AWO -> der Arbeiterwohlfahrt -> die AWO -> der AWO -> der AWO -> sich\n",
      "\n",
      "Detlev Griesche und Karin Freudenthal -> den gewählten Revisoren des AWO-Landesverbandes\n",
      "\n",
      "Koring -> Koring selbst -> seinen\n",
      "\n",
      "Die AWO -> der AWO -> der AWO -> der Wohlfahrtsorganisation -> ihren\n",
      "\n",
      "die Landesvorsitzende Uter Wedemeier -> Landesvorsitzende Ute Wedemeier\n",
      "\n",
      "Tegeler -> seinen Bremerhavener Geschäftsführer Volker Tegeler -> Tegeler -> Tegeler -> Volker Tegeler , stellvertretender Geschäftsführer des Landesverbandes\n",
      "\n",
      "Ute Wedemeier -> sie\n",
      "\n"
     ]
    }
   ],
   "source": [
    "for coref_chain in not_in_coreference_set:\n",
    "    print ' -> '.join(dg.get_text(doc, token) for token in coref_chain)\n",
    "    print"
   ]
  },
  {
   "cell_type": "code",
   "execution_count": 19,
   "metadata": {
    "collapsed": false
   },
   "outputs": [
    {
     "name": "stdout",
     "output_type": "stream",
     "text": [
      "ihn -> Tegeler -> seinen Bremerhavener Geschäftsführer Volker Tegeler -> Tegeler -> Tegeler -> Volker Tegeler , stellvertretender Geschäftsführer des Landesverbandes\n",
      "\n",
      "die AWO -> der Arbeiterwohlfahrt -> die AWO -> der AWO -> der AWO -> sich -> Die AWO -> der AWO -> der AWO -> der Wohlfahrtsorganisation -> ihren -> die Arbeiterwohlfahrt Bremen -> die AWO\n",
      "\n",
      "Landesverband -> Landesverbandes -> der Landesverband als Dachverband ohne hauptamtliches Personal -> des AWO-Landesverbandes -> des Landesverbandes der AWO -> des Landesverbandes -> des Landesverbandes -> des Bremer Landesverbandes der AWO -> ihren -> die Arbeiterwohlfahrt Bremen -> die AWO\n",
      "\n",
      "Ute Wedemeier -> sie -> sie -> ihrer -> sie -> Ute Wedemeier -> Frau Wedemeier -> Die Landesvorsitzende Ute Wedemeier -> Wedemeier -> ich -> Die ehrenamtliche Landesvorsitzende Wedemeier -> sie -> sie -> Ute Wedemeier -> ihr -> sie -> die -> die Landesvorsitzende Uter Wedemeier -> Landesvorsitzende Ute Wedemeier\n",
      "\n",
      "er -> Seine -> er -> er -> Koring -> Koring selbst -> seinen -> Lothar Koring , Bremerhavener AWO-Vorsitzender\n",
      "\n",
      "die -> Beiträge von kleinen Leuten\n",
      "\n",
      "ihren -> Detlev Griesche und Karin Freudenthal -> den gewählten Revisoren des AWO-Landesverbandes\n",
      "\n",
      "der Prüfgesellschaft -> die -> einer Prüfgesellschaft\n",
      "\n",
      "sie -> Die -> Provisionen\n",
      "\n",
      "ihr -> Freuden-thal -> Karin Freudenthal\n",
      "\n"
     ]
    }
   ],
   "source": [
    "for coref_chain in not_in_coreferential_set:\n",
    "    print ' -> '.join(dg.get_text(doc, token) for token in coref_chain)\n",
    "    print"
   ]
  },
  {
   "cell_type": "markdown",
   "metadata": {},
   "source": [
    "# FAIL: both sets overlap and the chains in `coreference` often seem to subsume the ones from `coreferential`\n",
    "\n",
    "This is how relations are specified in Tueba:\n",
    "\n",
    "```xml\n",
    "<edge name=\"relation\" parent=\"word|node\">\n",
    "  <enum-attr name=\"type\">\n",
    "   <val name=\"anaphoric\" description=\"Anaphorisches Pronomen\"/>\n",
    "   <val name=\"cataphoric\" description=\"Kataphorisches Pronomen\"/>\n",
    "   <val name=\"coreferential\" description=\"Diskurs-altes nicht-Pronomen\"/>\n",
    "  </enum-attr>\n",
    "  <node-ref name=\"target\"/>\n",
    "</edge>\n",
    "```\n",
    "\n",
    "## TODO: find out where in the code `coreferential` edges are constructed"
   ]
  },
  {
   "cell_type": "markdown",
   "metadata": {},
   "source": [
    "\n",
    "The parent node of a ``<relation>`` element will have a ``{'relation' : 'coreferential'}`` attribute,  \n",
    "as well as an ``exportxml:coreferential`` layer.\n",
    "\n",
    "```python\n",
    "self.node[parent_node_id].update({'relation': reltype})\n",
    "self.add_layer(parent_node_id, self.ns+':'+reltype)\n",
    "```"
   ]
  },
  {
   "cell_type": "markdown",
   "metadata": {},
   "source": [
    "for each ``<relation>`` with a ``target`` attribute,  \n",
    "``add_relation()`` adds an edge with both its reltype  \n",
    "as well as ``exportxml:coreference`` as layers.\n",
    "\n",
    "```python\n",
    "# reltype: anaphoric, cataphoric, coreferential\n",
    "self.add_edge(parent_node_id, target_id,\n",
    "              layers={self.ns, self.ns+':'+reltype,\n",
    "                      self.ns+':coreference'},\n",
    "              label=reltype,\n",
    "              edge_type=dg.EdgeTypes.pointing_relation)\n",
    "```"
   ]
  },
  {
   "cell_type": "markdown",
   "metadata": {},
   "source": [
    "# Conclusion:\n",
    "\n",
    "## stick with exportxml:coreference\n",
    "## use exportxml:coreferential/anaphoric/cataphoric only for subclassification / error analysis"
   ]
  },
  {
   "cell_type": "markdown",
   "metadata": {},
   "source": [
    "# TODO: generic way to extract NPs from corpora with dg?\n",
    "\n",
    "- NPs have the node label `NX` in Tüba/DZ"
   ]
  },
  {
   "cell_type": "code",
   "execution_count": null,
   "metadata": {
    "collapsed": true
   },
   "outputs": [],
   "source": []
  }
 ],
 "metadata": {
  "kernelspec": {
   "display_name": "Python 2",
   "language": "python",
   "name": "python2"
  },
  "language_info": {
   "codemirror_mode": {
    "name": "ipython",
    "version": 2
   },
   "file_extension": ".py",
   "mimetype": "text/x-python",
   "name": "python",
   "nbconvert_exporter": "python",
   "pygments_lexer": "ipython2",
   "version": "2.7.6"
  }
 },
 "nbformat": 4,
 "nbformat_minor": 0
}
