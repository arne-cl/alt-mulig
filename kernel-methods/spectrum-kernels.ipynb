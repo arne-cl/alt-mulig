{
 "cells": [
  {
   "cell_type": "code",
   "execution_count": 27,
   "metadata": {
    "collapsed": false,
    "deletable": true,
    "editable": true
   },
   "outputs": [],
   "source": [
    "def k_suffix_kernel(k, s, t):\n",
    "    \"\"\"\n",
    "    calculates k-suffix kernel of input strings s and t::\n",
    "    \n",
    "        K_{k}^{S}(s,t)=\n",
    "        \\begin{cases}\n",
    "        1 \\text{ if } s=s_{1}u, t=t_{1}u, \\text{ for } u \\in \\Sigma^{k} & \\\\\n",
    "        0 \\textrm{ otherwise}\n",
    "        \\end{cases}\n",
    "        \n",
    "        (Shawe-Taylor and Cristianini 2004, p.349)\n",
    "    \n",
    "    Parameters\n",
    "    ----------\n",
    "    k : int\n",
    "        suffix length\n",
    "    s : str\n",
    "        input string 1\n",
    "    t : str\n",
    "        input string 2\n",
    "    \n",
    "    Returns\n",
    "    -------\n",
    "    product : int\n",
    "        returns 1, iff the strings s and t have the same suffix (of length k).\n",
    "        otherwise, returns 0.\n",
    "    \"\"\"\n",
    "    assert min(len(s), len(t)) >= k, \\\n",
    "        \"strings must be at least as long as the given suffix length k\"\n",
    "    s_suffix = s[-k:] # suffix of length k\n",
    "    t_suffix = t[-k:]\n",
    "    return 1 if s_suffix == t_suffix else 0    "
   ]
  },
  {
   "cell_type": "code",
   "execution_count": 28,
   "metadata": {
    "collapsed": false,
    "deletable": true,
    "editable": true
   },
   "outputs": [
    {
     "data": {
      "text/plain": [
       "1"
      ]
     },
     "execution_count": 28,
     "metadata": {},
     "output_type": "execute_result"
    }
   ],
   "source": [
    "k_suffix_kernel(3, 'cat', 'cat')"
   ]
  },
  {
   "cell_type": "code",
   "execution_count": 29,
   "metadata": {
    "collapsed": false,
    "deletable": true,
    "editable": true
   },
   "outputs": [],
   "source": [
    "def p_spectrum_kernel(p, s, t):\n",
    "    \"\"\"\n",
    "    calculates the inner product of the p-spectra of\n",
    "    the strings s and t.\n",
    "    \n",
    "    The p-spectrum of a sequence is defined as the\n",
    "    histogram of frequencies of all its (contiguous)\n",
    "    substrings of length p::\n",
    "    \n",
    "        \\sum\\limits^{|s|-p+1}_{i=1} \\sum\\limits^{|t|-p+1}_{j=1} K^{S}_{p}(s(i:i+p), t(j:j+p))\n",
    "    \n",
    "        (Shawe-Taylor and Cristianini 2004, p.349)\n",
    "    \n",
    "    Paramters\n",
    "    ---------\n",
    "    p : int\n",
    "        length of contiguous substrings to be found\n",
    "    s : str\n",
    "        input string 1\n",
    "    t : str\n",
    "        input string 2       \n",
    "    \"\"\"\n",
    "    result = 0\n",
    "    for i in xrange(len(s)-p+1):\n",
    "        for j in xrange(len(s)-p+1):\n",
    "            result += k_suffix_kernel(p, s[i:i+p], t[j:j+p])\n",
    "    return result"
   ]
  },
  {
   "cell_type": "code",
   "execution_count": 30,
   "metadata": {
    "collapsed": false,
    "deletable": true,
    "editable": true
   },
   "outputs": [
    {
     "data": {
      "text/plain": [
       "2"
      ]
     },
     "execution_count": 30,
     "metadata": {},
     "output_type": "execute_result"
    }
   ],
   "source": [
    "p_spectrum_kernel(2, 'cat', 'cat')"
   ]
  },
  {
   "cell_type": "code",
   "execution_count": 31,
   "metadata": {
    "collapsed": false,
    "deletable": true,
    "editable": true
   },
   "outputs": [
    {
     "data": {
      "text/plain": [
       "2"
      ]
     },
     "execution_count": 31,
     "metadata": {},
     "output_type": "execute_result"
    }
   ],
   "source": [
    "p_spectrum_kernel(3, 'statistics', 'computation')"
   ]
  },
  {
   "cell_type": "code",
   "execution_count": 32,
   "metadata": {
    "collapsed": false,
    "deletable": true,
    "editable": true
   },
   "outputs": [
    {
     "data": {
      "text/plain": [
       "3"
      ]
     },
     "execution_count": 32,
     "metadata": {},
     "output_type": "execute_result"
    }
   ],
   "source": [
    "p_spectrum_kernel(1, 'cat', 'cat')"
   ]
  },
  {
   "cell_type": "code",
   "execution_count": 33,
   "metadata": {
    "collapsed": false,
    "deletable": true,
    "editable": true
   },
   "outputs": [
    {
     "data": {
      "text/plain": [
       "2"
      ]
     },
     "execution_count": 33,
     "metadata": {},
     "output_type": "execute_result"
    }
   ],
   "source": [
    "p_spectrum_kernel(2, 'cat', 'cat')"
   ]
  },
  {
   "cell_type": "code",
   "execution_count": 34,
   "metadata": {
    "collapsed": false,
    "deletable": true,
    "editable": true
   },
   "outputs": [
    {
     "data": {
      "text/plain": [
       "1"
      ]
     },
     "execution_count": 34,
     "metadata": {},
     "output_type": "execute_result"
    }
   ],
   "source": [
    "p_spectrum_kernel(3, 'cat', 'cat')"
   ]
  },
  {
   "cell_type": "code",
   "execution_count": 35,
   "metadata": {
    "collapsed": false,
    "deletable": true,
    "editable": true
   },
   "outputs": [
    {
     "data": {
      "text/plain": [
       "0"
      ]
     },
     "execution_count": 35,
     "metadata": {},
     "output_type": "execute_result"
    }
   ],
   "source": [
    "p_spectrum_kernel(4, 'cat', 'cat')"
   ]
  },
  {
   "cell_type": "markdown",
   "metadata": {
    "deletable": true,
    "editable": true
   },
   "source": [
    "function [result] = blended_spectrum_bf(s,t,p)\n",
    "%BLENDED_SPECTRUM_BF\n",
    "%        -Finds the contiguous subsequence match count between strings s and t\n",
    "%         by using a brute-force approach, for all substrings of length <= p.\n",
    "%        -This program does not take into account gap penalties.\n",
    "%         *(There is also a dynamic programming implementation of this algorithm.\n",
    "%           Type help blended_spectrum for info.)\n",
    "%\n",
    "%         K[p](s,t) = [Summation of h from 1 to p]\n",
    "%                     [Summation of i from 1 to |s|-p+1]\n",
    "%                     [Summation of j from 1 to |t|-p+1]\n",
    "%                         delta(s(i:i+p+1),t(j:j+p+1)),\n",
    "%\n",
    "%            (where delta is the identity function, which returns\n",
    "%             1 if the arguments are equal, and 0 otherwise.)\n",
    "%\n",
    "%        -Example: blended_spectrum_bf('abccc','abc', 2) returns a value of 7.\n",
    "%            (Note that blended_spectrum_bf('abccc','abc',2)=blended_spectrum_bf('abc','abccc',2) since K(s,t,p) = K(t,s,p) ).\n",
    "%        -Example: blended_spectrum_bf('a','a', 1) returns a value of 1.\n",
    "%        -Example: blended_spectrum_bf('a','a', 2) returns a value of 4.\n",
    "%        -Example: blended_spectrum_bf('a','b', 1) returns a value of 0.\n",
    "%        -Example: blended_spectrum_bf('ab','ab', 1) returns a value of 2.\n",
    "\n",
    "\n",
    "%------------------------------------------------------------------------------------------\n",
    "\n",
    "%Obtain lengths of strings\n",
    "[num_rows_s, n] = size(s);\n",
    "[num_rows_t, m] = size(t);\n",
    "\n",
    "%Initialize result variable\n",
    "result = 0;\n",
    "\n",
    "%Error checking statements:\n",
    "  %Make sure input vectors are horizontal.\n",
    "  if (num_rows_s ~= 1 | num_rows_t ~= 1)  \n",
    "     error('Error: s and t must be horizontal vectors.');\n",
    "  end;\n",
    "  \n",
    "  %If p is less than zero or not a number, program should quit due to faulty variable input.\n",
    "  if p <= 0 | ischar(p)\n",
    "      error('Error: p needs to be a number greater than 0.');\n",
    "  end;\n",
    "%End of error checking\n",
    "\n",
    "%Implement the algorithm with double 'for' loops.\n",
    "for h=1:p\n",
    "  for i=1:(n-h+1)\n",
    "      for j=1:(m-h+1)      \n",
    "          result = result + strcmpi( s(i:(i+h-1)), t(j:(j+h-1)) );\n",
    "      end;\n",
    "  end;\n",
    "end;\n"
   ]
  },
  {
   "cell_type": "code",
   "execution_count": 36,
   "metadata": {
    "collapsed": false,
    "deletable": true,
    "editable": true
   },
   "outputs": [],
   "source": [
    "from functools32 import lru_cache\n",
    "\n",
    "def bruteforce_blended_spectrum_kernel(s, t, p):\n",
    "    \"\"\"\n",
    "    returns the number of contiguous subsequences/substrings\n",
    "    between strings s and t for all substrings of length <= p.\n",
    "    \n",
    "    Note: this (bruteforce) version does not consider\n",
    "    gap penalties (i.e. there's no lambda decay).\n",
    "    \n",
    "    Examples\n",
    "    --------\n",
    "    >>> bruteforce_blended_spectrum_kernel('a', 'a', 1)\n",
    "    1\n",
    "    >>> bruteforce_blended_spectrum_kernel('a', 'b', 1)\n",
    "    0\n",
    "    >>> bruteforce_blended_spectrum_kernel('ab', 'ab', 1)\n",
    "    2\n",
    "    >>> bruteforce_blended_spectrum_kernel('abccc', 'abc', 2)\n",
    "    7\n",
    "    \"\"\"\n",
    "    def delta(s, t):\n",
    "        \"\"\"identity function.\"\"\"\n",
    "        return 1 if s == t else 0\n",
    "    \n",
    "    result = 0\n",
    "    for h in xrange(p):\n",
    "        for i in xrange(len(s)-h):\n",
    "            for j in xrange(len(t)-h):\n",
    "                result += delta(s[i:i+h+1], t[j:j+h+1])\n",
    "    return result"
   ]
  },
  {
   "cell_type": "code",
   "execution_count": 37,
   "metadata": {
    "collapsed": false,
    "deletable": true,
    "editable": true
   },
   "outputs": [],
   "source": [
    "s = \"\"\"\n",
    "In mathematics, computer science, economics, and bioinformatics,\n",
    "dynamic programming is a method for solving complex problems\n",
    "by breaking them down into simpler subproblems.\"\"\"\n",
    "\n",
    "t = \"\"\"\n",
    "It is applicable to problems exhibiting the properties of\n",
    "overlapping subproblems[1] and optimal substructure\n",
    "(described below).\"\"\"\n"
   ]
  },
  {
   "cell_type": "code",
   "execution_count": 67,
   "metadata": {
    "collapsed": false,
    "deletable": true,
    "editable": true
   },
   "outputs": [],
   "source": [
    "from functools32 import lru_cache\n",
    "\n",
    "@lru_cache\n",
    "def p_suffix_kernel(s, t, p, lambda_weight):\n",
    "    \"\"\"\n",
    "    evalutates the similarity of of the suffixes of the given\n",
    "    input strings s and t.\n",
    "    \"\"\"\n",
    "#     print \"p_suffix_kernel({}, {}, {})\".format(s, t, p)\n",
    "    if p == 0:\n",
    "        return 0\n",
    "    # if s and t share a suffix of length p\n",
    "    if s[-p:] == t[-p:]:\n",
    "        # evaluate p-suffix kernel recursively on the remaining front portin of the strings\n",
    "        # (i.e. the 'head' in Prolog terminology or 'car' in Lisp)\n",
    "        return lambda_weight**2 * (1 + p_suffix_kernel(s[:-p], t[:-p], p-1, lambda_weight))\n",
    "    else:\n",
    "        return 0"
   ]
  },
  {
   "cell_type": "code",
   "execution_count": 39,
   "metadata": {
    "collapsed": false,
    "deletable": true,
    "editable": true
   },
   "outputs": [
    {
     "name": "stdout",
     "output_type": "stream",
     "text": [
      "p_suffix_kernel(verscheuchen, verseuchen, 3)\n",
      "p_suffix_kernel(verscheuc, verseuc, 2)\n",
      "p_suffix_kernel(versche, verse, 1)\n",
      "p_suffix_kernel(versch, vers, 0)\n"
     ]
    },
    {
     "data": {
      "text/plain": [
       "3"
      ]
     },
     "execution_count": 39,
     "metadata": {},
     "output_type": "execute_result"
    }
   ],
   "source": [
    "p_suffix_kernel('verscheuchen', 'verseuchen', 3, 1)"
   ]
  },
  {
   "cell_type": "code",
   "execution_count": 62,
   "metadata": {
    "collapsed": false,
    "deletable": true,
    "editable": true
   },
   "outputs": [],
   "source": [
    "def blended_spectrum_kernel(s, t, p, lambda_weight=1):\n",
    "    \"\"\"\n",
    "    blended version of the p-spectrum kernel,\n",
    "    \n",
    "    which considers all spectra in the range\n",
    "    1 <= d <= p and weights them according to lamda_weigth^d.\n",
    "    The calculation works just like the p-spectrum kernel,\n",
    "    but uses the p-suffix instead of the k-suffix kernel::\n",
    "    \n",
    "        \\tilde{K_{p}} =\n",
    "            \\sum\\limits^{|s|-p+1}_{i=1}\n",
    "            \\sum\\limits^{|t|-p+1}_{j=1}\n",
    "                \\tilde{K}^{S}_{p}(s(i:i+p), t(j:j+p))\n",
    "    \n",
    "        (Shawe-Taylor and Cristianini 2004, p.350f)\n",
    "    \n",
    "    Paramters\n",
    "    ---------\n",
    "    s : str\n",
    "        input string 1\n",
    "    t : str\n",
    "        input string 2       \n",
    "    p : int\n",
    "        length of contiguous substrings to be found\n",
    "    lambda_weight : int\n",
    "       weight common suffixes according to their length\n",
    "    \"\"\"\n",
    "    result = 0\n",
    "    for i in xrange(len(s)-p+1):\n",
    "        for j in xrange(len(s)-p+1):\n",
    "            result += p_suffix_kernel(s[i:i+p], t[j:j+p], p, lambda_weight)\n",
    "    return result"
   ]
  },
  {
   "cell_type": "code",
   "execution_count": 44,
   "metadata": {
    "collapsed": false,
    "deletable": true,
    "editable": true
   },
   "outputs": [
    {
     "name": "stdout",
     "output_type": "stream",
     "text": [
      "1\n",
      "0\n",
      "2\n",
      "7\n"
     ]
    }
   ],
   "source": [
    "    print bruteforce_blended_spectrum_kernel('a', 'a', 1)\n",
    "    print bruteforce_blended_spectrum_kernel('a', 'b', 1)\n",
    "    print bruteforce_blended_spectrum_kernel('ab', 'ab', 1)\n",
    "    print bruteforce_blended_spectrum_kernel('abccc', 'abc', 2)"
   ]
  },
  {
   "cell_type": "code",
   "execution_count": 69,
   "metadata": {
    "collapsed": false,
    "deletable": true,
    "editable": true
   },
   "outputs": [
    {
     "ename": "TypeError",
     "evalue": "unsupported operand type(s) for +=: 'int' and 'function'",
     "output_type": "error",
     "traceback": [
      "\u001b[1;31m---------------------------------------------------------------------------\u001b[0m\n\u001b[1;31mTypeError\u001b[0m                                 Traceback (most recent call last)",
      "\u001b[1;32m<ipython-input-69-40d50f38a027>\u001b[0m in \u001b[0;36m<module>\u001b[1;34m()\u001b[0m\n\u001b[1;32m----> 1\u001b[1;33m \u001b[0mblended_spectrum_kernel\u001b[0m\u001b[1;33m(\u001b[0m\u001b[0ms\u001b[0m\u001b[1;33m,\u001b[0m \u001b[0mt\u001b[0m\u001b[1;33m,\u001b[0m \u001b[1;36m2\u001b[0m\u001b[1;33m)\u001b[0m\u001b[1;33m\u001b[0m\u001b[0m\n\u001b[0m",
      "\u001b[1;32m<ipython-input-62-8b54a6830e04>\u001b[0m in \u001b[0;36mblended_spectrum_kernel\u001b[1;34m(s, t, p, lambda_weight)\u001b[0m\n\u001b[0;32m     29\u001b[0m     \u001b[1;32mfor\u001b[0m \u001b[0mi\u001b[0m \u001b[1;32min\u001b[0m \u001b[0mxrange\u001b[0m\u001b[1;33m(\u001b[0m\u001b[0mlen\u001b[0m\u001b[1;33m(\u001b[0m\u001b[0ms\u001b[0m\u001b[1;33m)\u001b[0m\u001b[1;33m-\u001b[0m\u001b[0mp\u001b[0m\u001b[1;33m+\u001b[0m\u001b[1;36m1\u001b[0m\u001b[1;33m)\u001b[0m\u001b[1;33m:\u001b[0m\u001b[1;33m\u001b[0m\u001b[0m\n\u001b[0;32m     30\u001b[0m         \u001b[1;32mfor\u001b[0m \u001b[0mj\u001b[0m \u001b[1;32min\u001b[0m \u001b[0mxrange\u001b[0m\u001b[1;33m(\u001b[0m\u001b[0mlen\u001b[0m\u001b[1;33m(\u001b[0m\u001b[0ms\u001b[0m\u001b[1;33m)\u001b[0m\u001b[1;33m-\u001b[0m\u001b[0mp\u001b[0m\u001b[1;33m+\u001b[0m\u001b[1;36m1\u001b[0m\u001b[1;33m)\u001b[0m\u001b[1;33m:\u001b[0m\u001b[1;33m\u001b[0m\u001b[0m\n\u001b[1;32m---> 31\u001b[1;33m             \u001b[0mresult\u001b[0m \u001b[1;33m+=\u001b[0m \u001b[0mp_suffix_kernel\u001b[0m\u001b[1;33m(\u001b[0m\u001b[0ms\u001b[0m\u001b[1;33m[\u001b[0m\u001b[0mi\u001b[0m\u001b[1;33m:\u001b[0m\u001b[0mi\u001b[0m\u001b[1;33m+\u001b[0m\u001b[0mp\u001b[0m\u001b[1;33m]\u001b[0m\u001b[1;33m,\u001b[0m \u001b[0mt\u001b[0m\u001b[1;33m[\u001b[0m\u001b[0mj\u001b[0m\u001b[1;33m:\u001b[0m\u001b[0mj\u001b[0m\u001b[1;33m+\u001b[0m\u001b[0mp\u001b[0m\u001b[1;33m]\u001b[0m\u001b[1;33m,\u001b[0m \u001b[0mp\u001b[0m\u001b[1;33m,\u001b[0m \u001b[0mlambda_weight\u001b[0m\u001b[1;33m)\u001b[0m\u001b[1;33m\u001b[0m\u001b[0m\n\u001b[0m\u001b[0;32m     32\u001b[0m     \u001b[1;32mreturn\u001b[0m \u001b[0mresult\u001b[0m\u001b[1;33m\u001b[0m\u001b[0m\n",
      "\u001b[1;31mTypeError\u001b[0m: unsupported operand type(s) for +=: 'int' and 'function'"
     ]
    }
   ],
   "source": [
    "blended_spectrum_kernel(s, t, 2)"
   ]
  }
 ],
 "metadata": {
  "kernelspec": {
   "display_name": "Python 2",
   "language": "python",
   "name": "python2"
  },
  "language_info": {
   "codemirror_mode": {
    "name": "ipython",
    "version": 2
   },
   "file_extension": ".py",
   "mimetype": "text/x-python",
   "name": "python",
   "nbconvert_exporter": "python",
   "pygments_lexer": "ipython2",
   "version": "2.7.12"
  }
 },
 "nbformat": 4,
 "nbformat_minor": 0
}
