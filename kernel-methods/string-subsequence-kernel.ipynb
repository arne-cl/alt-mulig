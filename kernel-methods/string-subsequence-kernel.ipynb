{
 "cells": [
  {
   "cell_type": "markdown",
   "metadata": {
    "deletable": true,
    "editable": true
   },
   "source": [
    "# String subsequence kernel\n",
    "\n",
    "- Source: http://metaoptimize.com/qa/questions/4262/string-kernel-implementation\n",
    "- Author: Rok Mocnik\n"
   ]
  },
  {
   "cell_type": "code",
   "execution_count": 2,
   "metadata": {
    "collapsed": false,
    "deletable": true,
    "editable": true
   },
   "outputs": [],
   "source": [
    "def SSK(lamb, p):\n",
    "        \"\"\"Return subsequence kernel\"\"\"\n",
    "        cache = {} # added to make code work // AN\n",
    "        def SSKernel(xi,xj,lamb,p):\n",
    "            \"\"\"\n",
    "            It's not commented but, xi and xj are strings,\n",
    "            lamb and p are parameters described in the paper.\n",
    "            \n",
    "            It also caches already seen pairs of xi and xj.\n",
    "            \"\"\"\n",
    "            mykey = (xi, xj) if xi>xj else (xj, xi)\n",
    "            if not mykey in cache:\n",
    "                dps = []\n",
    "                for i in xrange(len(xi)):\n",
    "                    dps.append([lamb**2 if xi[i] == xj[j] else 0 for j in xrange(len(xj))])\n",
    "                dp = []\n",
    "                for i in xrange(len(xi)+1):\n",
    "                    dp.append([0]*(len(xj)+1))\n",
    "                k = [0]*(p+1)\n",
    "                for l in xrange(2, p + 1):\n",
    "                    for i in xrange(len(xi)):\n",
    "                        for j in xrange(len(xj)):\n",
    "                            dp[i+1][j+1] = dps[i][j] + lamb * dp[i][j+1] + lamb * dp[i+1][j] - lamb**2 * dp[i][j]\n",
    "                            if xi[i] == xj[j]:\n",
    "                                dps[i][j] = lamb**2 * dp[i][j]\n",
    "                                k[l] = k[l] + dps[i][j]\n",
    "                cache[mykey] = k[p]\n",
    "            return cache[mykey]\n",
    "        return lambda xi, xj: SSKernel(xi,xj,lamb,p)/(SSKernel(xi,xi,lamb,p) * SSKernel(xj,xj,lamb,p))**0.5"
   ]
  },
  {
   "cell_type": "code",
   "execution_count": 80,
   "metadata": {
    "collapsed": false,
    "deletable": true,
    "editable": true
   },
   "outputs": [],
   "source": [
    "def SSKernel(xi,xj,lamb,p, cache=None):\n",
    "    \"\"\"\n",
    "    decay factor λ ∈ (0, 1)\n",
    "    \n",
    "    It's not commented but, xi and xj are strings,\n",
    "    lamb and p are parameters described in the paper.\n",
    "\n",
    "    It also caches already seen pairs of xi and xj.\n",
    "    \"\"\"\n",
    "    if not cache:\n",
    "        cache = {}\n",
    "    mykey = (xi, xj) if xi>xj else (xj, xi)\n",
    "    if not mykey in cache:\n",
    "        dps = []\n",
    "        for i in xrange(len(xi)):\n",
    "            dps_line = [lamb**2 if xi[i] == xj[j] else 0 for j in xrange(len(xj))]\n",
    "            dps.append(dps_line)\n",
    "        dp = []\n",
    "        for i in xrange(len(xi)+1):\n",
    "            dp.append([0]*(len(xj)+1))\n",
    "        k = [0]*(p+1)\n",
    "        for l in xrange(2, p + 1):\n",
    "            for i in xrange(len(xi)):\n",
    "                for j in xrange(len(xj)):\n",
    "                    dp[i+1][j+1] = dps[i][j] + lamb * dp[i][j+1] + lamb * dp[i+1][j] - lamb**2 * dp[i][j]\n",
    "                    if xi[i] == xj[j]:\n",
    "                        dps[i][j] = lamb**2 * dp[i][j]\n",
    "                        k[l] = k[l] + dps[i][j]\n",
    "        cache[mykey] = k[p]\n",
    "    return cache[mykey], dp, dps"
   ]
  },
  {
   "cell_type": "code",
   "execution_count": 5,
   "metadata": {
    "collapsed": false,
    "deletable": true,
    "editable": true
   },
   "outputs": [],
   "source": [
    "kant1, kant2 = \"science is organized knowledge\", \"wisdom is organized life\""
   ]
  },
  {
   "cell_type": "code",
   "execution_count": 87,
   "metadata": {
    "collapsed": false,
    "deletable": true,
    "editable": true
   },
   "outputs": [],
   "source": [
    "def assk(s, t, lamb, p, cache=None):\n",
    "    \"\"\"\n",
    "    decay factor λ ∈ (0, 1)\n",
    "    \n",
    "    It's not commented but, s and t are strings,\n",
    "    lamb and p are parameters described in the paper.\n",
    "\n",
    "    It also caches already seen pairs of s and xj.\n",
    "    \"\"\"\n",
    "    if not cache:\n",
    "        cache = {}\n",
    "    mykey = (s, t) if s>t else (t, s)\n",
    "\n",
    "    if not mykey in cache:\n",
    "        dps = numpy.zeros( (len(s), len(t)) )\n",
    "        for i, s_i in enumerate(s):\n",
    "            for j, t_j in enumerate(t):\n",
    "                if s_i == t_j:\n",
    "                    dps[i][j] = lamb**2\n",
    "\n",
    "        dp = numpy.zeros( (len(s)+1, len(t)+1) )\n",
    "        k = numpy.zeros(p+1)\n",
    "\n",
    "        for l in xrange(2, p+1):\n",
    "            for i, s_i in enumerate(s):\n",
    "                for j, t_j in enumerate(t):\n",
    "                    dp[i+1][j+1] = dps[i][j] + lamb * dp[i][j+1] + lamb * dp[i+1][j] - lamb**2 * dp[i][j]\n",
    "                    if s_i == t_j:\n",
    "                        dps[i][j] = lamb**2 * dp[i][j]\n",
    "                        k[l] = k[l] + dps[i][j]\n",
    "        \n",
    "        cache[mykey] = k[p]                 \n",
    "    return cache[mykey], dp, dps"
   ]
  },
  {
   "cell_type": "code",
   "execution_count": 84,
   "metadata": {
    "collapsed": false,
    "deletable": true,
    "editable": true
   },
   "outputs": [],
   "source": [
    "from repoze.lru import lru_cache\n",
    "\n",
    "# @lru_cache(500)\n",
    "def all_subsequences_kernel(s, t, tab=0, calltype='first'):\n",
    "    \"\"\"\n",
    "    Shawe-Taylor and Cristianini (2004, p. 353f)\n",
    "    \"\"\"\n",
    "    print '{}{} - ask({}, {})'.format('\\t'*tab, calltype, s, t)\n",
    "    \n",
    "    # if s or t are empty strings\n",
    "    if not s or not t:\n",
    "        print \"{}return: 1 ({})\".format('\\t'*tab, calltype)\n",
    "        return 1  # each string contains the empty string by definition\n",
    "    else:\n",
    "        s_head, s_tail = s[:-1], s[-1]\n",
    "        print '{}head: {}, tail: {}'.format('\\t'*tab, s_head, s_tail)\n",
    "        result = 0\n",
    "        for k, tk in enumerate(t):\n",
    "            print '{}k: {}, t[k]: {}'.format('\\t'*(tab+1), k, tk)\n",
    "            if t[k] == s_tail:\n",
    "                result += all_subsequences_kernel(s_head, t[:k], tab+1, calltype='recursive')\n",
    "    return_val = all_subsequences_kernel(s_head, t, tab, calltype='last') + result\n",
    "    print \"{}return: {} ({})\".format('\\t'*tab, return_val, calltype)\n",
    "    return return_val"
   ]
  },
  {
   "cell_type": "code",
   "execution_count": 87,
   "metadata": {
    "collapsed": false,
    "deletable": true,
    "editable": true
   },
   "outputs": [
    {
     "name": "stdout",
     "output_type": "stream",
     "text": [
      "first - ask(gatt, cat)\n",
      "head: gat, tail: t\n",
      "\tk: 0, t[k]: c\n",
      "\tk: 1, t[k]: a\n",
      "\tk: 2, t[k]: t\n",
      "\trecursive - ask(gat, ca)\n",
      "\thead: ga, tail: t\n",
      "\t\tk: 0, t[k]: c\n",
      "\t\tk: 1, t[k]: a\n",
      "\tlast - ask(ga, ca)\n",
      "\thead: g, tail: a\n",
      "\t\tk: 0, t[k]: c\n",
      "\t\tk: 1, t[k]: a\n",
      "\t\trecursive - ask(g, c)\n",
      "\t\thead: , tail: g\n",
      "\t\t\tk: 0, t[k]: c\n",
      "\t\tlast - ask(, c)\n",
      "\t\treturn: 1 (last)\n",
      "\t\treturn: 1 (recursive)\n",
      "\tlast - ask(g, ca)\n",
      "\thead: , tail: g\n",
      "\t\tk: 0, t[k]: c\n",
      "\t\tk: 1, t[k]: a\n",
      "\tlast - ask(, ca)\n",
      "\treturn: 1 (last)\n",
      "\treturn: 1 (last)\n",
      "\treturn: 2 (last)\n",
      "\treturn: 2 (recursive)\n",
      "last - ask(gat, cat)\n",
      "head: ga, tail: t\n",
      "\tk: 0, t[k]: c\n",
      "\tk: 1, t[k]: a\n",
      "\tk: 2, t[k]: t\n",
      "\trecursive - ask(ga, ca)\n",
      "\thead: g, tail: a\n",
      "\t\tk: 0, t[k]: c\n",
      "\t\tk: 1, t[k]: a\n",
      "\t\trecursive - ask(g, c)\n",
      "\t\thead: , tail: g\n",
      "\t\t\tk: 0, t[k]: c\n",
      "\t\tlast - ask(, c)\n",
      "\t\treturn: 1 (last)\n",
      "\t\treturn: 1 (recursive)\n",
      "\tlast - ask(g, ca)\n",
      "\thead: , tail: g\n",
      "\t\tk: 0, t[k]: c\n",
      "\t\tk: 1, t[k]: a\n",
      "\tlast - ask(, ca)\n",
      "\treturn: 1 (last)\n",
      "\treturn: 1 (last)\n",
      "\treturn: 2 (recursive)\n",
      "last - ask(ga, cat)\n",
      "head: g, tail: a\n",
      "\tk: 0, t[k]: c\n",
      "\tk: 1, t[k]: a\n",
      "\trecursive - ask(g, c)\n",
      "\thead: , tail: g\n",
      "\t\tk: 0, t[k]: c\n",
      "\tlast - ask(, c)\n",
      "\treturn: 1 (last)\n",
      "\treturn: 1 (recursive)\n",
      "\tk: 2, t[k]: t\n",
      "last - ask(g, cat)\n",
      "head: , tail: g\n",
      "\tk: 0, t[k]: c\n",
      "\tk: 1, t[k]: a\n",
      "\tk: 2, t[k]: t\n",
      "last - ask(, cat)\n",
      "return: 1 (last)\n",
      "return: 1 (last)\n",
      "return: 2 (last)\n",
      "return: 4 (last)\n",
      "return: 6 (first)\n"
     ]
    },
    {
     "data": {
      "text/plain": [
       "6"
      ]
     },
     "execution_count": 87,
     "metadata": {},
     "output_type": "execute_result"
    }
   ],
   "source": [
    "all_subsequences_kernel('gatt', 'cat')"
   ]
  },
  {
   "cell_type": "code",
   "execution_count": 30,
   "metadata": {
    "collapsed": false,
    "deletable": true,
    "editable": true
   },
   "outputs": [
    {
     "name": "stdout",
     "output_type": "stream",
     "text": [
      "1 a\n",
      "\t\n",
      "2 b\n",
      "\ta\n",
      "3 c\n",
      "\tab\n",
      "4 d\n",
      "\tabc\n",
      "5 e\n",
      "\tabcd\n"
     ]
    }
   ],
   "source": [
    "t = 'abcde'\n",
    "for k, t_i in enumerate(t, 1):\n",
    "    print k, t_i\n",
    "    print \"\\t\", t[:k-1]"
   ]
  },
  {
   "cell_type": "code",
   "execution_count": 32,
   "metadata": {
    "collapsed": false,
    "deletable": true,
    "editable": true
   },
   "outputs": [
    {
     "name": "stdout",
     "output_type": "stream",
     "text": [
      "0 a\n",
      "\t\n",
      "1 b\n",
      "\ta\n",
      "2 c\n",
      "\tab\n",
      "3 d\n",
      "\tabc\n",
      "4 e\n",
      "\tabcd\n"
     ]
    }
   ],
   "source": [
    "t = 'abcde'\n",
    "for k, t_i in enumerate(t):\n",
    "    print k, t_i\n",
    "    print \"\\t\", t[:k]"
   ]
  }
 ],
 "metadata": {
  "kernelspec": {
   "display_name": "Python 2",
   "language": "python",
   "name": "python2"
  },
  "language_info": {
   "codemirror_mode": {
    "name": "ipython",
    "version": 2
   },
   "file_extension": ".py",
   "mimetype": "text/x-python",
   "name": "python",
   "nbconvert_exporter": "python",
   "pygments_lexer": "ipython2",
   "version": "2.7.12"
  }
 },
 "nbformat": 4,
 "nbformat_minor": 0
}
